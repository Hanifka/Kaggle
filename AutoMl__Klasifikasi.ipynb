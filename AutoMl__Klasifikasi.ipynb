{
  "cells": [
    {
      "cell_type": "markdown",
      "metadata": {
        "id": "view-in-github",
        "colab_type": "text"
      },
      "source": [
        "<a href=\"https://colab.research.google.com/github/Hanifka/Kaggle/blob/main/AutoMl__Klasifikasi.ipynb\" target=\"_parent\"><img src=\"https://colab.research.google.com/assets/colab-badge.svg\" alt=\"Open In Colab\"/></a>"
      ]
    },
    {
      "cell_type": "code",
      "execution_count": 286,
      "metadata": {
        "id": "BePNeRIISvzo",
        "colab": {
          "base_uri": "https://localhost:8080/"
        },
        "outputId": "dda271e0-3dc1-442d-9895-99176c90addd"
      },
      "outputs": [
        {
          "output_type": "stream",
          "name": "stdout",
          "text": [
            "Drive already mounted at /content/drive/; to attempt to forcibly remount, call drive.mount(\"/content/drive/\", force_remount=True).\n"
          ]
        }
      ],
      "source": [
        "import pandas as pd\n",
        "import seaborn as sns\n",
        "import matplotlib.pyplot as plt\n",
        "import numpy as np\n",
        "from google.colab import drive\n",
        "drive.mount('/content/drive/')"
      ]
    },
    {
      "cell_type": "code",
      "execution_count": 287,
      "metadata": {
        "id": "e3Ga3W-AUdl_"
      },
      "outputs": [],
      "source": [
        "df_siswa = pd.read_csv(\"",sep = ';')\n",
        "df_matkul = pd.read_csv(\"",sep = \";\")\n"
      ]
    },
    {
      "cell_type": "code",
      "source": [
        "#Fungsi Untuk cek perbedaan value\n",
        "def check_val(x,y):\n",
        "  w = 0\n",
        "  for i in np.unique(x.values):#lengkap\n",
        "      if i not in np.unique(y.values):#yang di check\n",
        "        w = w + 1\n",
        "        print(w,':',i)\n",
        "  \n",
        "\n",
        "def null_check(x,y):#null ceker , x nya nama data frame , y nya jumlah row table hasil\n",
        "    total = x.isnull().sum().sort_values(ascending=False)\n",
        "    percent = (x.isnull().sum()/x.isnull().count()).sort_values(ascending=False)\n",
        "    missing_data = pd.concat([total, percent], axis=1, keys=['Total', 'Percent'])\n",
        "    return missing_data.head(y)\n",
        "\n",
        "def boxplot(column):#fungsi cek outlier\n",
        "    sns.boxplot(data=df_finalis,x=df_finalis[f\"{column}\"])\n",
        "    plt.title(f\"Boxplot of  {column}\")\n",
        "    plt.show()"
      ],
      "metadata": {
        "id": "dz9zO4ctKiaJ"
      },
      "execution_count": 288,
      "outputs": []
    },
    {
      "cell_type": "code",
      "execution_count": 289,
      "metadata": {
        "id": "PqgP_DDYaAkV"
      },
      "outputs": [],
      "source": [
        "pd.set_option('max_rows', 99)"
      ]
    },
    {
      "cell_type": "markdown",
      "source": [
        "# Preprocessing df matkul\n"
      ],
      "metadata": {
        "id": "BhmYwn8BJVeh"
      }
    },
    {
      "cell_type": "markdown",
      "source": [
        "\n"
      ],
      "metadata": {
        "id": "88UrloWAujfl"
      }
    },
    {
      "cell_type": "code",
      "source": [
        "df_matkul.info()"
      ],
      "metadata": {
        "id": "9SW0EjwfSM2u",
        "colab": {
          "base_uri": "https://localhost:8080/"
        },
        "outputId": "c0363a05-faa3-4d1a-e61f-edb466e165d2"
      },
      "execution_count": 290,
      "outputs": [
        {
          "output_type": "stream",
          "name": "stdout",
          "text": [
            "<class 'pandas.core.frame.DataFrame'>\n",
            "RangeIndex: 2114 entries, 0 to 2113\n",
            "Data columns (total 6 columns):\n",
            " #   Column      Non-Null Count  Dtype \n",
            "---  ------      --------------  ----- \n",
            " 0   TAHUN       2114 non-null   int64 \n",
            " 1   SEMESTER    2114 non-null   int64 \n",
            " 2   MATAKULIAH  2114 non-null   object\n",
            " 3   PERTANYAAN  2114 non-null   int64 \n",
            " 4   KETERANGAN  2114 non-null   object\n",
            " 5   NILAI       2114 non-null   object\n",
            "dtypes: int64(3), object(3)\n",
            "memory usage: 99.2+ KB\n"
          ]
        }
      ]
    },
    {
      "cell_type": "markdown",
      "source": [
        "Dataset df_matkul terdiri dari 2115 row dan tidak terdapat row yang null hanya \n",
        "ditemukan outlier pada NILAI dan MATAKULIAH. Berikut code dan hasil output :"
      ],
      "metadata": {
        "id": "TU2s120Yul9e"
      }
    },
    {
      "cell_type": "code",
      "source": [
        "null_check(df_matkul,10)"
      ],
      "metadata": {
        "id": "lwLviCpGSLjm",
        "colab": {
          "base_uri": "https://localhost:8080/",
          "height": 237
        },
        "outputId": "da9fd4df-8cfe-43bc-c882-77bbc1c722c9"
      },
      "execution_count": 291,
      "outputs": [
        {
          "output_type": "execute_result",
          "data": {
            "text/plain": [
              "            Total  Percent\n",
              "TAHUN           0      0.0\n",
              "SEMESTER        0      0.0\n",
              "MATAKULIAH      0      0.0\n",
              "PERTANYAAN      0      0.0\n",
              "KETERANGAN      0      0.0\n",
              "NILAI           0      0.0"
            ],
            "text/html": [
              "\n",
              "  <div id=\"df-bb03ed18-cdcc-4139-b5a4-4d4b80b3fba9\">\n",
              "    <div class=\"colab-df-container\">\n",
              "      <div>\n",
              "<style scoped>\n",
              "    .dataframe tbody tr th:only-of-type {\n",
              "        vertical-align: middle;\n",
              "    }\n",
              "\n",
              "    .dataframe tbody tr th {\n",
              "        vertical-align: top;\n",
              "    }\n",
              "\n",
              "    .dataframe thead th {\n",
              "        text-align: right;\n",
              "    }\n",
              "</style>\n",
              "<table border=\"1\" class=\"dataframe\">\n",
              "  <thead>\n",
              "    <tr style=\"text-align: right;\">\n",
              "      <th></th>\n",
              "      <th>Total</th>\n",
              "      <th>Percent</th>\n",
              "    </tr>\n",
              "  </thead>\n",
              "  <tbody>\n",
              "    <tr>\n",
              "      <th>TAHUN</th>\n",
              "      <td>0</td>\n",
              "      <td>0.0</td>\n",
              "    </tr>\n",
              "    <tr>\n",
              "      <th>SEMESTER</th>\n",
              "      <td>0</td>\n",
              "      <td>0.0</td>\n",
              "    </tr>\n",
              "    <tr>\n",
              "      <th>MATAKULIAH</th>\n",
              "      <td>0</td>\n",
              "      <td>0.0</td>\n",
              "    </tr>\n",
              "    <tr>\n",
              "      <th>PERTANYAAN</th>\n",
              "      <td>0</td>\n",
              "      <td>0.0</td>\n",
              "    </tr>\n",
              "    <tr>\n",
              "      <th>KETERANGAN</th>\n",
              "      <td>0</td>\n",
              "      <td>0.0</td>\n",
              "    </tr>\n",
              "    <tr>\n",
              "      <th>NILAI</th>\n",
              "      <td>0</td>\n",
              "      <td>0.0</td>\n",
              "    </tr>\n",
              "  </tbody>\n",
              "</table>\n",
              "</div>\n",
              "      <button class=\"colab-df-convert\" onclick=\"convertToInteractive('df-bb03ed18-cdcc-4139-b5a4-4d4b80b3fba9')\"\n",
              "              title=\"Convert this dataframe to an interactive table.\"\n",
              "              style=\"display:none;\">\n",
              "        \n",
              "  <svg xmlns=\"http://www.w3.org/2000/svg\" height=\"24px\"viewBox=\"0 0 24 24\"\n",
              "       width=\"24px\">\n",
              "    <path d=\"M0 0h24v24H0V0z\" fill=\"none\"/>\n",
              "    <path d=\"M18.56 5.44l.94 2.06.94-2.06 2.06-.94-2.06-.94-.94-2.06-.94 2.06-2.06.94zm-11 1L8.5 8.5l.94-2.06 2.06-.94-2.06-.94L8.5 2.5l-.94 2.06-2.06.94zm10 10l.94 2.06.94-2.06 2.06-.94-2.06-.94-.94-2.06-.94 2.06-2.06.94z\"/><path d=\"M17.41 7.96l-1.37-1.37c-.4-.4-.92-.59-1.43-.59-.52 0-1.04.2-1.43.59L10.3 9.45l-7.72 7.72c-.78.78-.78 2.05 0 2.83L4 21.41c.39.39.9.59 1.41.59.51 0 1.02-.2 1.41-.59l7.78-7.78 2.81-2.81c.8-.78.8-2.07 0-2.86zM5.41 20L4 18.59l7.72-7.72 1.47 1.35L5.41 20z\"/>\n",
              "  </svg>\n",
              "      </button>\n",
              "      \n",
              "  <style>\n",
              "    .colab-df-container {\n",
              "      display:flex;\n",
              "      flex-wrap:wrap;\n",
              "      gap: 12px;\n",
              "    }\n",
              "\n",
              "    .colab-df-convert {\n",
              "      background-color: #E8F0FE;\n",
              "      border: none;\n",
              "      border-radius: 50%;\n",
              "      cursor: pointer;\n",
              "      display: none;\n",
              "      fill: #1967D2;\n",
              "      height: 32px;\n",
              "      padding: 0 0 0 0;\n",
              "      width: 32px;\n",
              "    }\n",
              "\n",
              "    .colab-df-convert:hover {\n",
              "      background-color: #E2EBFA;\n",
              "      box-shadow: 0px 1px 2px rgba(60, 64, 67, 0.3), 0px 1px 3px 1px rgba(60, 64, 67, 0.15);\n",
              "      fill: #174EA6;\n",
              "    }\n",
              "\n",
              "    [theme=dark] .colab-df-convert {\n",
              "      background-color: #3B4455;\n",
              "      fill: #D2E3FC;\n",
              "    }\n",
              "\n",
              "    [theme=dark] .colab-df-convert:hover {\n",
              "      background-color: #434B5C;\n",
              "      box-shadow: 0px 1px 3px 1px rgba(0, 0, 0, 0.15);\n",
              "      filter: drop-shadow(0px 1px 2px rgba(0, 0, 0, 0.3));\n",
              "      fill: #FFFFFF;\n",
              "    }\n",
              "  </style>\n",
              "\n",
              "      <script>\n",
              "        const buttonEl =\n",
              "          document.querySelector('#df-bb03ed18-cdcc-4139-b5a4-4d4b80b3fba9 button.colab-df-convert');\n",
              "        buttonEl.style.display =\n",
              "          google.colab.kernel.accessAllowed ? 'block' : 'none';\n",
              "\n",
              "        async function convertToInteractive(key) {\n",
              "          const element = document.querySelector('#df-bb03ed18-cdcc-4139-b5a4-4d4b80b3fba9');\n",
              "          const dataTable =\n",
              "            await google.colab.kernel.invokeFunction('convertToInteractive',\n",
              "                                                     [key], {});\n",
              "          if (!dataTable) return;\n",
              "\n",
              "          const docLinkHtml = 'Like what you see? Visit the ' +\n",
              "            '<a target=\"_blank\" href=https://colab.research.google.com/notebooks/data_table.ipynb>data table notebook</a>'\n",
              "            + ' to learn more about interactive tables.';\n",
              "          element.innerHTML = '';\n",
              "          dataTable['output_type'] = 'display_data';\n",
              "          await google.colab.output.renderOutput(dataTable, element);\n",
              "          const docLink = document.createElement('div');\n",
              "          docLink.innerHTML = docLinkHtml;\n",
              "          element.appendChild(docLink);\n",
              "        }\n",
              "      </script>\n",
              "    </div>\n",
              "  </div>\n",
              "  "
            ]
          },
          "metadata": {},
          "execution_count": 291
        }
      ]
    },
    {
      "cell_type": "markdown",
      "source": [
        ""
      ],
      "metadata": {
        "id": "u7o8Ut5nsxvj"
      }
    },
    {
      "cell_type": "code",
      "source": [
        "\n",
        "df_matkul[\"NILAI\"] = [float(str(i).replace(\",\", \".\")) for i in df_matkul[\"NILAI\"]]\n",
        "df_matkul[\"KODE_MK\"]=[i[:5] for i in df_matkul[\"MATAKULIAH\"]]\n",
        "df_matkul[\"NAMA_MK\"]=[i[6:] for i in df_matkul[\"MATAKULIAH\"]]\n",
        "df_matkul[\"NAMA_MK\"]=df_matkul[\"NAMA_MK\"].apply(str)\n",
        "df_matkul['SEMESTER'] = df_matkul['SEMESTER'].apply(str)\n",
        "df_matkul.drop('MATAKULIAH', axis=1, inplace=True)\n",
        "\n"
      ],
      "metadata": {
        "id": "xY1ZLVBjL5Tq"
      },
      "execution_count": 292,
      "outputs": []
    },
    {
      "cell_type": "code",
      "source": [
        "df_matkul.info()"
      ],
      "metadata": {
        "id": "X0f3Mh_qkECo",
        "colab": {
          "base_uri": "https://localhost:8080/"
        },
        "outputId": "78a848ed-fd3c-48c6-c53f-e57c6494d631"
      },
      "execution_count": 293,
      "outputs": [
        {
          "output_type": "stream",
          "name": "stdout",
          "text": [
            "<class 'pandas.core.frame.DataFrame'>\n",
            "RangeIndex: 2114 entries, 0 to 2113\n",
            "Data columns (total 7 columns):\n",
            " #   Column      Non-Null Count  Dtype  \n",
            "---  ------      --------------  -----  \n",
            " 0   TAHUN       2114 non-null   int64  \n",
            " 1   SEMESTER    2114 non-null   object \n",
            " 2   PERTANYAAN  2114 non-null   int64  \n",
            " 3   KETERANGAN  2114 non-null   object \n",
            " 4   NILAI       2114 non-null   float64\n",
            " 5   KODE_MK     2114 non-null   object \n",
            " 6   NAMA_MK     2114 non-null   object \n",
            "dtypes: float64(1), int64(2), object(4)\n",
            "memory usage: 115.7+ KB\n"
          ]
        }
      ]
    },
    {
      "cell_type": "code",
      "source": [
        "df_eval = df_matkul.groupby(\n",
        "     ['SEMESTER','NAMA_MK']\n",
        " ).agg(\n",
        "    \n",
        "     sem_score = ('NILAI','mean'),\n",
        "      \n",
        " ).reset_index()\n",
        "\n"
      ],
      "metadata": {
        "id": "2Ekb2w-EJYt9"
      },
      "execution_count": 294,
      "outputs": []
    },
    {
      "cell_type": "code",
      "source": [
        ""
      ],
      "metadata": {
        "id": "rYznkpx7pam8"
      },
      "execution_count": 294,
      "outputs": []
    },
    {
      "cell_type": "code",
      "source": [
        ""
      ],
      "metadata": {
        "id": "zA2QiPu_NgZZ"
      },
      "execution_count": 294,
      "outputs": []
    },
    {
      "cell_type": "markdown",
      "source": [
        "# Preprocessing DF siswa\n"
      ],
      "metadata": {
        "id": "I13iwORtJPw1"
      }
    },
    {
      "cell_type": "code",
      "execution_count": 295,
      "metadata": {
        "id": "qEeha8kU9yBj",
        "colab": {
          "base_uri": "https://localhost:8080/"
        },
        "outputId": "0817f2eb-adcb-402a-d1e6-c5757231334f"
      },
      "outputs": [
        {
          "output_type": "stream",
          "name": "stdout",
          "text": [
            "<class 'pandas.core.frame.DataFrame'>\n",
            "RangeIndex: 30870 entries, 0 to 30869\n",
            "Data columns (total 8 columns):\n",
            " #   Column    Non-Null Count  Dtype  \n",
            "---  ------    --------------  -----  \n",
            " 0   NIM       30870 non-null  int64  \n",
            " 1   ANGKATAN  30870 non-null  int64  \n",
            " 2   SEMESTER  30870 non-null  int64  \n",
            " 3   KODE_MK   30870 non-null  object \n",
            " 4   NAMA_MK   30847 non-null  object \n",
            " 5   SKS       30870 non-null  int64  \n",
            " 6   NILAI     30858 non-null  float64\n",
            " 7   GRADE     30318 non-null  object \n",
            "dtypes: float64(1), int64(4), object(3)\n",
            "memory usage: 1.9+ MB\n"
          ]
        }
      ],
      "source": [
        "df_siswa.info()"
      ]
    },
    {
      "cell_type": "markdown",
      "metadata": {
        "id": "L3QSVyYbII-N"
      },
      "source": [
        "Bisa dipastikan nilai Null berarti siswa melakukan pelanggaran akademik karena semua ber grade F maka bisa di drop"
      ]
    },
    {
      "cell_type": "markdown",
      "source": [
        "Dataset yang terdiri dari 30870 row terdapat beberapa row yang null seperti \n",
        "GRADE, NAMA_MK,NILAI dan outlier pada SEMESTER dan MATAKULIAH. \n",
        "Berikut hasil output dari null checker dan contoh outlier pada data SEMESTER"
      ],
      "metadata": {
        "id": "6Jki7i1huzDx"
      }
    },
    {
      "cell_type": "code",
      "source": [
        "null_check(df_siswa,10)"
      ],
      "metadata": {
        "id": "9Llq0yOgTvdS",
        "colab": {
          "base_uri": "https://localhost:8080/",
          "height": 300
        },
        "outputId": "4ec15d90-bd80-4496-e63a-db2206e9d308"
      },
      "execution_count": 296,
      "outputs": [
        {
          "output_type": "execute_result",
          "data": {
            "text/plain": [
              "          Total   Percent\n",
              "GRADE       552  0.017881\n",
              "NAMA_MK      23  0.000745\n",
              "NILAI        12  0.000389\n",
              "NIM           0  0.000000\n",
              "ANGKATAN      0  0.000000\n",
              "SEMESTER      0  0.000000\n",
              "KODE_MK       0  0.000000\n",
              "SKS           0  0.000000"
            ],
            "text/html": [
              "\n",
              "  <div id=\"df-a01a1843-e8f5-4a42-bc89-b7563bf62708\">\n",
              "    <div class=\"colab-df-container\">\n",
              "      <div>\n",
              "<style scoped>\n",
              "    .dataframe tbody tr th:only-of-type {\n",
              "        vertical-align: middle;\n",
              "    }\n",
              "\n",
              "    .dataframe tbody tr th {\n",
              "        vertical-align: top;\n",
              "    }\n",
              "\n",
              "    .dataframe thead th {\n",
              "        text-align: right;\n",
              "    }\n",
              "</style>\n",
              "<table border=\"1\" class=\"dataframe\">\n",
              "  <thead>\n",
              "    <tr style=\"text-align: right;\">\n",
              "      <th></th>\n",
              "      <th>Total</th>\n",
              "      <th>Percent</th>\n",
              "    </tr>\n",
              "  </thead>\n",
              "  <tbody>\n",
              "    <tr>\n",
              "      <th>GRADE</th>\n",
              "      <td>552</td>\n",
              "      <td>0.017881</td>\n",
              "    </tr>\n",
              "    <tr>\n",
              "      <th>NAMA_MK</th>\n",
              "      <td>23</td>\n",
              "      <td>0.000745</td>\n",
              "    </tr>\n",
              "    <tr>\n",
              "      <th>NILAI</th>\n",
              "      <td>12</td>\n",
              "      <td>0.000389</td>\n",
              "    </tr>\n",
              "    <tr>\n",
              "      <th>NIM</th>\n",
              "      <td>0</td>\n",
              "      <td>0.000000</td>\n",
              "    </tr>\n",
              "    <tr>\n",
              "      <th>ANGKATAN</th>\n",
              "      <td>0</td>\n",
              "      <td>0.000000</td>\n",
              "    </tr>\n",
              "    <tr>\n",
              "      <th>SEMESTER</th>\n",
              "      <td>0</td>\n",
              "      <td>0.000000</td>\n",
              "    </tr>\n",
              "    <tr>\n",
              "      <th>KODE_MK</th>\n",
              "      <td>0</td>\n",
              "      <td>0.000000</td>\n",
              "    </tr>\n",
              "    <tr>\n",
              "      <th>SKS</th>\n",
              "      <td>0</td>\n",
              "      <td>0.000000</td>\n",
              "    </tr>\n",
              "  </tbody>\n",
              "</table>\n",
              "</div>\n",
              "      <button class=\"colab-df-convert\" onclick=\"convertToInteractive('df-a01a1843-e8f5-4a42-bc89-b7563bf62708')\"\n",
              "              title=\"Convert this dataframe to an interactive table.\"\n",
              "              style=\"display:none;\">\n",
              "        \n",
              "  <svg xmlns=\"http://www.w3.org/2000/svg\" height=\"24px\"viewBox=\"0 0 24 24\"\n",
              "       width=\"24px\">\n",
              "    <path d=\"M0 0h24v24H0V0z\" fill=\"none\"/>\n",
              "    <path d=\"M18.56 5.44l.94 2.06.94-2.06 2.06-.94-2.06-.94-.94-2.06-.94 2.06-2.06.94zm-11 1L8.5 8.5l.94-2.06 2.06-.94-2.06-.94L8.5 2.5l-.94 2.06-2.06.94zm10 10l.94 2.06.94-2.06 2.06-.94-2.06-.94-.94-2.06-.94 2.06-2.06.94z\"/><path d=\"M17.41 7.96l-1.37-1.37c-.4-.4-.92-.59-1.43-.59-.52 0-1.04.2-1.43.59L10.3 9.45l-7.72 7.72c-.78.78-.78 2.05 0 2.83L4 21.41c.39.39.9.59 1.41.59.51 0 1.02-.2 1.41-.59l7.78-7.78 2.81-2.81c.8-.78.8-2.07 0-2.86zM5.41 20L4 18.59l7.72-7.72 1.47 1.35L5.41 20z\"/>\n",
              "  </svg>\n",
              "      </button>\n",
              "      \n",
              "  <style>\n",
              "    .colab-df-container {\n",
              "      display:flex;\n",
              "      flex-wrap:wrap;\n",
              "      gap: 12px;\n",
              "    }\n",
              "\n",
              "    .colab-df-convert {\n",
              "      background-color: #E8F0FE;\n",
              "      border: none;\n",
              "      border-radius: 50%;\n",
              "      cursor: pointer;\n",
              "      display: none;\n",
              "      fill: #1967D2;\n",
              "      height: 32px;\n",
              "      padding: 0 0 0 0;\n",
              "      width: 32px;\n",
              "    }\n",
              "\n",
              "    .colab-df-convert:hover {\n",
              "      background-color: #E2EBFA;\n",
              "      box-shadow: 0px 1px 2px rgba(60, 64, 67, 0.3), 0px 1px 3px 1px rgba(60, 64, 67, 0.15);\n",
              "      fill: #174EA6;\n",
              "    }\n",
              "\n",
              "    [theme=dark] .colab-df-convert {\n",
              "      background-color: #3B4455;\n",
              "      fill: #D2E3FC;\n",
              "    }\n",
              "\n",
              "    [theme=dark] .colab-df-convert:hover {\n",
              "      background-color: #434B5C;\n",
              "      box-shadow: 0px 1px 3px 1px rgba(0, 0, 0, 0.15);\n",
              "      filter: drop-shadow(0px 1px 2px rgba(0, 0, 0, 0.3));\n",
              "      fill: #FFFFFF;\n",
              "    }\n",
              "  </style>\n",
              "\n",
              "      <script>\n",
              "        const buttonEl =\n",
              "          document.querySelector('#df-a01a1843-e8f5-4a42-bc89-b7563bf62708 button.colab-df-convert');\n",
              "        buttonEl.style.display =\n",
              "          google.colab.kernel.accessAllowed ? 'block' : 'none';\n",
              "\n",
              "        async function convertToInteractive(key) {\n",
              "          const element = document.querySelector('#df-a01a1843-e8f5-4a42-bc89-b7563bf62708');\n",
              "          const dataTable =\n",
              "            await google.colab.kernel.invokeFunction('convertToInteractive',\n",
              "                                                     [key], {});\n",
              "          if (!dataTable) return;\n",
              "\n",
              "          const docLinkHtml = 'Like what you see? Visit the ' +\n",
              "            '<a target=\"_blank\" href=https://colab.research.google.com/notebooks/data_table.ipynb>data table notebook</a>'\n",
              "            + ' to learn more about interactive tables.';\n",
              "          element.innerHTML = '';\n",
              "          dataTable['output_type'] = 'display_data';\n",
              "          await google.colab.output.renderOutput(dataTable, element);\n",
              "          const docLink = document.createElement('div');\n",
              "          docLink.innerHTML = docLinkHtml;\n",
              "          element.appendChild(docLink);\n",
              "        }\n",
              "      </script>\n",
              "    </div>\n",
              "  </div>\n",
              "  "
            ]
          },
          "metadata": {},
          "execution_count": 296
        }
      ]
    },
    {
      "cell_type": "markdown",
      "source": [
        "Pada kolom SEMESTER harus dirubah “22” menjadi 21 dengan menggunakan kode berikut :\n"
      ],
      "metadata": {
        "id": "XbSaG4SSu6EW"
      }
    },
    {
      "cell_type": "code",
      "source": [
        "#Merubah Semester Menjadi String agar bisa di manipulasi\n",
        "df_siswa[\"SEMESTER\"]=df_siswa['SEMESTER'].apply(str)\n",
        "#Untuk menambahkan spasi sebagai pembeda dengan 22 yang ada ditengah ,contoh : 1221, 22 nya terletak ditengah dan itu bukan termasuk outlier\n",
        "df_siswa[\"SEMESTER\"]=df_siswa[\"SEMESTER\"].str.ljust(5, \" \")\n",
        "#disini sudah saya ganti '22 ' menjadi '21 ' \n",
        "df_siswa[\"SEMESTER\"] = [str(str(i).replace(\"22 \", \"21 \")) for i in df_siswa[\"SEMESTER\"]]\n",
        "#Untuk Menghilangkan spasi yang ada di SEMESTER\n",
        "df_siswa[\"SEMESTER\"] = df_siswa[\"SEMESTER\"].str.rstrip()\n",
        "\n",
        "\n"
      ],
      "metadata": {
        "id": "X3KsPCQBgzBG"
      },
      "execution_count": 297,
      "outputs": []
    },
    {
      "cell_type": "code",
      "source": [
        "\n",
        "df_siswa['NAMA_MK'] = df_siswa['NAMA_MK'].astype(str)"
      ],
      "metadata": {
        "id": "FR7uD1C9q_JJ"
      },
      "execution_count": 298,
      "outputs": []
    },
    {
      "cell_type": "code",
      "execution_count": 300,
      "metadata": {
        "id": "LV5KprxiSd6V"
      },
      "outputs": [],
      "source": [
        "#Mengganti Null menjadi 0\n",
        "df_siswa[\"NILAI\"].fillna(\"0\", inplace = True)\n",
        "\n",
        "\n",
        "# null pada data nama mk itu banyak yang ber kode SI863\n",
        "\n",
        "df_siswa['NAMA_MK'] = np.where((df_siswa.KODE_MK == 'SI863'),\"Tugas Akhir\",df_siswa.NAMA_MK)\n"
      ]
    },
    {
      "cell_type": "code",
      "source": [
        "null_check(df_siswa,10)"
      ],
      "metadata": {
        "id": "-0itnApAwYmg",
        "colab": {
          "base_uri": "https://localhost:8080/",
          "height": 300
        },
        "outputId": "2051eca2-215e-447c-9175-53745369826f"
      },
      "execution_count": 301,
      "outputs": [
        {
          "output_type": "execute_result",
          "data": {
            "text/plain": [
              "          Total   Percent\n",
              "GRADE       552  0.017881\n",
              "NIM           0  0.000000\n",
              "ANGKATAN      0  0.000000\n",
              "SEMESTER      0  0.000000\n",
              "KODE_MK       0  0.000000\n",
              "NAMA_MK       0  0.000000\n",
              "SKS           0  0.000000\n",
              "NILAI         0  0.000000"
            ],
            "text/html": [
              "\n",
              "  <div id=\"df-017a3517-dc0d-4e6e-87e2-bb48a270b21b\">\n",
              "    <div class=\"colab-df-container\">\n",
              "      <div>\n",
              "<style scoped>\n",
              "    .dataframe tbody tr th:only-of-type {\n",
              "        vertical-align: middle;\n",
              "    }\n",
              "\n",
              "    .dataframe tbody tr th {\n",
              "        vertical-align: top;\n",
              "    }\n",
              "\n",
              "    .dataframe thead th {\n",
              "        text-align: right;\n",
              "    }\n",
              "</style>\n",
              "<table border=\"1\" class=\"dataframe\">\n",
              "  <thead>\n",
              "    <tr style=\"text-align: right;\">\n",
              "      <th></th>\n",
              "      <th>Total</th>\n",
              "      <th>Percent</th>\n",
              "    </tr>\n",
              "  </thead>\n",
              "  <tbody>\n",
              "    <tr>\n",
              "      <th>GRADE</th>\n",
              "      <td>552</td>\n",
              "      <td>0.017881</td>\n",
              "    </tr>\n",
              "    <tr>\n",
              "      <th>NIM</th>\n",
              "      <td>0</td>\n",
              "      <td>0.000000</td>\n",
              "    </tr>\n",
              "    <tr>\n",
              "      <th>ANGKATAN</th>\n",
              "      <td>0</td>\n",
              "      <td>0.000000</td>\n",
              "    </tr>\n",
              "    <tr>\n",
              "      <th>SEMESTER</th>\n",
              "      <td>0</td>\n",
              "      <td>0.000000</td>\n",
              "    </tr>\n",
              "    <tr>\n",
              "      <th>KODE_MK</th>\n",
              "      <td>0</td>\n",
              "      <td>0.000000</td>\n",
              "    </tr>\n",
              "    <tr>\n",
              "      <th>NAMA_MK</th>\n",
              "      <td>0</td>\n",
              "      <td>0.000000</td>\n",
              "    </tr>\n",
              "    <tr>\n",
              "      <th>SKS</th>\n",
              "      <td>0</td>\n",
              "      <td>0.000000</td>\n",
              "    </tr>\n",
              "    <tr>\n",
              "      <th>NILAI</th>\n",
              "      <td>0</td>\n",
              "      <td>0.000000</td>\n",
              "    </tr>\n",
              "  </tbody>\n",
              "</table>\n",
              "</div>\n",
              "      <button class=\"colab-df-convert\" onclick=\"convertToInteractive('df-017a3517-dc0d-4e6e-87e2-bb48a270b21b')\"\n",
              "              title=\"Convert this dataframe to an interactive table.\"\n",
              "              style=\"display:none;\">\n",
              "        \n",
              "  <svg xmlns=\"http://www.w3.org/2000/svg\" height=\"24px\"viewBox=\"0 0 24 24\"\n",
              "       width=\"24px\">\n",
              "    <path d=\"M0 0h24v24H0V0z\" fill=\"none\"/>\n",
              "    <path d=\"M18.56 5.44l.94 2.06.94-2.06 2.06-.94-2.06-.94-.94-2.06-.94 2.06-2.06.94zm-11 1L8.5 8.5l.94-2.06 2.06-.94-2.06-.94L8.5 2.5l-.94 2.06-2.06.94zm10 10l.94 2.06.94-2.06 2.06-.94-2.06-.94-.94-2.06-.94 2.06-2.06.94z\"/><path d=\"M17.41 7.96l-1.37-1.37c-.4-.4-.92-.59-1.43-.59-.52 0-1.04.2-1.43.59L10.3 9.45l-7.72 7.72c-.78.78-.78 2.05 0 2.83L4 21.41c.39.39.9.59 1.41.59.51 0 1.02-.2 1.41-.59l7.78-7.78 2.81-2.81c.8-.78.8-2.07 0-2.86zM5.41 20L4 18.59l7.72-7.72 1.47 1.35L5.41 20z\"/>\n",
              "  </svg>\n",
              "      </button>\n",
              "      \n",
              "  <style>\n",
              "    .colab-df-container {\n",
              "      display:flex;\n",
              "      flex-wrap:wrap;\n",
              "      gap: 12px;\n",
              "    }\n",
              "\n",
              "    .colab-df-convert {\n",
              "      background-color: #E8F0FE;\n",
              "      border: none;\n",
              "      border-radius: 50%;\n",
              "      cursor: pointer;\n",
              "      display: none;\n",
              "      fill: #1967D2;\n",
              "      height: 32px;\n",
              "      padding: 0 0 0 0;\n",
              "      width: 32px;\n",
              "    }\n",
              "\n",
              "    .colab-df-convert:hover {\n",
              "      background-color: #E2EBFA;\n",
              "      box-shadow: 0px 1px 2px rgba(60, 64, 67, 0.3), 0px 1px 3px 1px rgba(60, 64, 67, 0.15);\n",
              "      fill: #174EA6;\n",
              "    }\n",
              "\n",
              "    [theme=dark] .colab-df-convert {\n",
              "      background-color: #3B4455;\n",
              "      fill: #D2E3FC;\n",
              "    }\n",
              "\n",
              "    [theme=dark] .colab-df-convert:hover {\n",
              "      background-color: #434B5C;\n",
              "      box-shadow: 0px 1px 3px 1px rgba(0, 0, 0, 0.15);\n",
              "      filter: drop-shadow(0px 1px 2px rgba(0, 0, 0, 0.3));\n",
              "      fill: #FFFFFF;\n",
              "    }\n",
              "  </style>\n",
              "\n",
              "      <script>\n",
              "        const buttonEl =\n",
              "          document.querySelector('#df-017a3517-dc0d-4e6e-87e2-bb48a270b21b button.colab-df-convert');\n",
              "        buttonEl.style.display =\n",
              "          google.colab.kernel.accessAllowed ? 'block' : 'none';\n",
              "\n",
              "        async function convertToInteractive(key) {\n",
              "          const element = document.querySelector('#df-017a3517-dc0d-4e6e-87e2-bb48a270b21b');\n",
              "          const dataTable =\n",
              "            await google.colab.kernel.invokeFunction('convertToInteractive',\n",
              "                                                     [key], {});\n",
              "          if (!dataTable) return;\n",
              "\n",
              "          const docLinkHtml = 'Like what you see? Visit the ' +\n",
              "            '<a target=\"_blank\" href=https://colab.research.google.com/notebooks/data_table.ipynb>data table notebook</a>'\n",
              "            + ' to learn more about interactive tables.';\n",
              "          element.innerHTML = '';\n",
              "          dataTable['output_type'] = 'display_data';\n",
              "          await google.colab.output.renderOutput(dataTable, element);\n",
              "          const docLink = document.createElement('div');\n",
              "          docLink.innerHTML = docLinkHtml;\n",
              "          element.appendChild(docLink);\n",
              "        }\n",
              "      </script>\n",
              "    </div>\n",
              "  </div>\n",
              "  "
            ]
          },
          "metadata": {},
          "execution_count": 301
        }
      ]
    },
    {
      "cell_type": "markdown",
      "source": [
        "Kolom NAMA_MK beberapa masih termerge dengan kode nya,oleh karena itu berikut ada \n",
        "code dan penjelasan untuk memisahkan datanya:"
      ],
      "metadata": {
        "id": "mPjxtWyqvQ1y"
      }
    },
    {
      "cell_type": "code",
      "source": [
        "\n",
        "#List untuk menyimpan key yang harus diganti\n",
        "key= []\n",
        "\n",
        "#List untuk menyimpan value yang sudah ditransformasi\n",
        "val = []\n",
        "\n",
        "#Looping pada semua nilai di nama_mk\n",
        "for i in np.unique(df_siswa.NAMA_MK):\n",
        "  # disini saya pasang logic jika di index 3 = int, maka key nya saya simpan dan saya simpan juga nilai yang tertransformasi\n",
        "   if i[3:4] in ['0','1','2','3','4','5','6','7','8','9']:\n",
        "     key.append(i)\n",
        "     val.append(i[6:])\n",
        "\n",
        "     \n",
        "# menzip list saya agar bisa jadi dictionary\n",
        "zip_iterator = zip(key, val)\n",
        "\n",
        "# membuat dictionary\n",
        "a_dictionary = dict(zip_iterator)\n",
        "# Transformasi data menggunakan dictionary\n",
        "df_siswa = df_siswa.replace({\"NAMA_MK\": a_dictionary})\n"
      ],
      "metadata": {
        "id": "JuAy0Ag__K-u"
      },
      "execution_count": 302,
      "outputs": []
    },
    {
      "cell_type": "code",
      "source": [
        "# df_siswa.loc[df_siswa[\"NAMA_MK\"] == \"nan\"]"
      ],
      "metadata": {
        "id": "BXeTcLS4St5g"
      },
      "execution_count": 303,
      "outputs": []
    },
    {
      "cell_type": "code",
      "source": [
        "df_matkul[\"NAMA_MK\"]=df_matkul['NAMA_MK'].apply(str)"
      ],
      "metadata": {
        "id": "9sp5QldA0lnd"
      },
      "execution_count": 304,
      "outputs": []
    },
    {
      "cell_type": "code",
      "source": [
        "df_siswa.drop('KODE_MK', axis=1, inplace=True)\n",
        "\n",
        "df_forsks = df_siswa.copy()"
      ],
      "metadata": {
        "id": "0IcYBVFnVSmt"
      },
      "execution_count": 305,
      "outputs": []
    },
    {
      "cell_type": "markdown",
      "source": [
        "Pada kolom SKS dilakukan transformasi data yaitu merubah nilai pada SKS yang \n",
        "bergrade D,E dan F menjadi 0 karena syarat lulus dikatakan tidak boleh memiliki grade \n",
        "tersebut.berikut code nya\n"
      ],
      "metadata": {
        "id": "eJVfzd-MvKlH"
      }
    },
    {
      "cell_type": "code",
      "source": [
        "#saya berikan sks 0 kepada grade D,E dan F karena syarat lulus tidak boleh ada grade bernilai tersebut.\n",
        "df_siswa['SKS'] = np.where((df_siswa.GRADE == 'D'),0,df_siswa.SKS)\n",
        "df_siswa['SKS'] = np.where((df_siswa.GRADE == 'E'),0,df_siswa.SKS)\n",
        "df_siswa['SKS'] = np.where((df_siswa.GRADE == 'F'),0,df_siswa.SKS)\n"
      ],
      "metadata": {
        "id": "8BCd0BVGgahM"
      },
      "execution_count": 306,
      "outputs": []
    },
    {
      "cell_type": "code",
      "execution_count": 307,
      "metadata": {
        "id": "832fSQsPad2j"
      },
      "outputs": [],
      "source": [
        "df_siswa['NILAI'] = df_siswa['NILAI'].astype(float)\n",
        "df_siswa['BOBOT'] = df_siswa['NILAI']\n",
        "df_siswa['GRADE']  = pd.cut(df_siswa.NILAI,[0,44.99,54.99,59.99,64.99,69.99,74.99,79.99,84.99,100],labels=[\"E\",\"D\",\"C\",\"C+\",\"B-\",\"B\",\"B+\",\"A-\",\"A\"])\n",
        "df_siswa['BOBOT']  = pd.cut(df_siswa.NILAI,[0,44.99,54.99,59.99,64.99,69.99,74.99,79.99,84.99,100],labels=[0,1.0,2.0,2.3,2.7,3.0,3.3,3.7,4])\n",
        "\n"
      ]
    },
    {
      "cell_type": "markdown",
      "source": [
        "karena disini nilai nan dikarena kan nilai yang 0 maka saya bisa mengisi grade dengan f dan bobot dengan 0"
      ],
      "metadata": {
        "id": "Kn7ZB037jTiK"
      }
    },
    {
      "cell_type": "code",
      "source": [
        "#Terjadi eror jika tidak saya ganti menjadi string terlebih dahulu\n",
        "df_siswa['GRADE'] = df_siswa['GRADE'].astype(str)\n",
        "df_siswa[\"GRADE\"].fillna('F', inplace = True)\n",
        "df_siswa[\"BOBOT\"].fillna(0, inplace = True)\n",
        "\n",
        "df_siswa['GRADE'] = pd.Categorical(df_siswa['GRADE'])"
      ],
      "metadata": {
        "id": "_gONwk3OjJCB"
      },
      "execution_count": 308,
      "outputs": []
    },
    {
      "cell_type": "code",
      "source": [
        "null_check(df_siswa,10)"
      ],
      "metadata": {
        "id": "K96hDZ2mw8iw",
        "colab": {
          "base_uri": "https://localhost:8080/",
          "height": 300
        },
        "outputId": "371f76d5-44a2-436c-a0c9-59b5eed32cd4"
      },
      "execution_count": 310,
      "outputs": [
        {
          "output_type": "execute_result",
          "data": {
            "text/plain": [
              "          Total  Percent\n",
              "NIM           0      0.0\n",
              "ANGKATAN      0      0.0\n",
              "SEMESTER      0      0.0\n",
              "NAMA_MK       0      0.0\n",
              "SKS           0      0.0\n",
              "NILAI         0      0.0\n",
              "GRADE         0      0.0\n",
              "BOBOT         0      0.0"
            ],
            "text/html": [
              "\n",
              "  <div id=\"df-1d2e1c30-b37f-4734-b54d-7a91ac52cc6e\">\n",
              "    <div class=\"colab-df-container\">\n",
              "      <div>\n",
              "<style scoped>\n",
              "    .dataframe tbody tr th:only-of-type {\n",
              "        vertical-align: middle;\n",
              "    }\n",
              "\n",
              "    .dataframe tbody tr th {\n",
              "        vertical-align: top;\n",
              "    }\n",
              "\n",
              "    .dataframe thead th {\n",
              "        text-align: right;\n",
              "    }\n",
              "</style>\n",
              "<table border=\"1\" class=\"dataframe\">\n",
              "  <thead>\n",
              "    <tr style=\"text-align: right;\">\n",
              "      <th></th>\n",
              "      <th>Total</th>\n",
              "      <th>Percent</th>\n",
              "    </tr>\n",
              "  </thead>\n",
              "  <tbody>\n",
              "    <tr>\n",
              "      <th>NIM</th>\n",
              "      <td>0</td>\n",
              "      <td>0.0</td>\n",
              "    </tr>\n",
              "    <tr>\n",
              "      <th>ANGKATAN</th>\n",
              "      <td>0</td>\n",
              "      <td>0.0</td>\n",
              "    </tr>\n",
              "    <tr>\n",
              "      <th>SEMESTER</th>\n",
              "      <td>0</td>\n",
              "      <td>0.0</td>\n",
              "    </tr>\n",
              "    <tr>\n",
              "      <th>NAMA_MK</th>\n",
              "      <td>0</td>\n",
              "      <td>0.0</td>\n",
              "    </tr>\n",
              "    <tr>\n",
              "      <th>SKS</th>\n",
              "      <td>0</td>\n",
              "      <td>0.0</td>\n",
              "    </tr>\n",
              "    <tr>\n",
              "      <th>NILAI</th>\n",
              "      <td>0</td>\n",
              "      <td>0.0</td>\n",
              "    </tr>\n",
              "    <tr>\n",
              "      <th>GRADE</th>\n",
              "      <td>0</td>\n",
              "      <td>0.0</td>\n",
              "    </tr>\n",
              "    <tr>\n",
              "      <th>BOBOT</th>\n",
              "      <td>0</td>\n",
              "      <td>0.0</td>\n",
              "    </tr>\n",
              "  </tbody>\n",
              "</table>\n",
              "</div>\n",
              "      <button class=\"colab-df-convert\" onclick=\"convertToInteractive('df-1d2e1c30-b37f-4734-b54d-7a91ac52cc6e')\"\n",
              "              title=\"Convert this dataframe to an interactive table.\"\n",
              "              style=\"display:none;\">\n",
              "        \n",
              "  <svg xmlns=\"http://www.w3.org/2000/svg\" height=\"24px\"viewBox=\"0 0 24 24\"\n",
              "       width=\"24px\">\n",
              "    <path d=\"M0 0h24v24H0V0z\" fill=\"none\"/>\n",
              "    <path d=\"M18.56 5.44l.94 2.06.94-2.06 2.06-.94-2.06-.94-.94-2.06-.94 2.06-2.06.94zm-11 1L8.5 8.5l.94-2.06 2.06-.94-2.06-.94L8.5 2.5l-.94 2.06-2.06.94zm10 10l.94 2.06.94-2.06 2.06-.94-2.06-.94-.94-2.06-.94 2.06-2.06.94z\"/><path d=\"M17.41 7.96l-1.37-1.37c-.4-.4-.92-.59-1.43-.59-.52 0-1.04.2-1.43.59L10.3 9.45l-7.72 7.72c-.78.78-.78 2.05 0 2.83L4 21.41c.39.39.9.59 1.41.59.51 0 1.02-.2 1.41-.59l7.78-7.78 2.81-2.81c.8-.78.8-2.07 0-2.86zM5.41 20L4 18.59l7.72-7.72 1.47 1.35L5.41 20z\"/>\n",
              "  </svg>\n",
              "      </button>\n",
              "      \n",
              "  <style>\n",
              "    .colab-df-container {\n",
              "      display:flex;\n",
              "      flex-wrap:wrap;\n",
              "      gap: 12px;\n",
              "    }\n",
              "\n",
              "    .colab-df-convert {\n",
              "      background-color: #E8F0FE;\n",
              "      border: none;\n",
              "      border-radius: 50%;\n",
              "      cursor: pointer;\n",
              "      display: none;\n",
              "      fill: #1967D2;\n",
              "      height: 32px;\n",
              "      padding: 0 0 0 0;\n",
              "      width: 32px;\n",
              "    }\n",
              "\n",
              "    .colab-df-convert:hover {\n",
              "      background-color: #E2EBFA;\n",
              "      box-shadow: 0px 1px 2px rgba(60, 64, 67, 0.3), 0px 1px 3px 1px rgba(60, 64, 67, 0.15);\n",
              "      fill: #174EA6;\n",
              "    }\n",
              "\n",
              "    [theme=dark] .colab-df-convert {\n",
              "      background-color: #3B4455;\n",
              "      fill: #D2E3FC;\n",
              "    }\n",
              "\n",
              "    [theme=dark] .colab-df-convert:hover {\n",
              "      background-color: #434B5C;\n",
              "      box-shadow: 0px 1px 3px 1px rgba(0, 0, 0, 0.15);\n",
              "      filter: drop-shadow(0px 1px 2px rgba(0, 0, 0, 0.3));\n",
              "      fill: #FFFFFF;\n",
              "    }\n",
              "  </style>\n",
              "\n",
              "      <script>\n",
              "        const buttonEl =\n",
              "          document.querySelector('#df-1d2e1c30-b37f-4734-b54d-7a91ac52cc6e button.colab-df-convert');\n",
              "        buttonEl.style.display =\n",
              "          google.colab.kernel.accessAllowed ? 'block' : 'none';\n",
              "\n",
              "        async function convertToInteractive(key) {\n",
              "          const element = document.querySelector('#df-1d2e1c30-b37f-4734-b54d-7a91ac52cc6e');\n",
              "          const dataTable =\n",
              "            await google.colab.kernel.invokeFunction('convertToInteractive',\n",
              "                                                     [key], {});\n",
              "          if (!dataTable) return;\n",
              "\n",
              "          const docLinkHtml = 'Like what you see? Visit the ' +\n",
              "            '<a target=\"_blank\" href=https://colab.research.google.com/notebooks/data_table.ipynb>data table notebook</a>'\n",
              "            + ' to learn more about interactive tables.';\n",
              "          element.innerHTML = '';\n",
              "          dataTable['output_type'] = 'display_data';\n",
              "          await google.colab.output.renderOutput(dataTable, element);\n",
              "          const docLink = document.createElement('div');\n",
              "          docLink.innerHTML = docLinkHtml;\n",
              "          element.appendChild(docLink);\n",
              "        }\n",
              "      </script>\n",
              "    </div>\n",
              "  </div>\n",
              "  "
            ]
          },
          "metadata": {},
          "execution_count": 310
        }
      ]
    },
    {
      "cell_type": "code",
      "source": [
        "df_siswa.info()"
      ],
      "metadata": {
        "id": "4Cl0iGxQ2mbM",
        "colab": {
          "base_uri": "https://localhost:8080/"
        },
        "outputId": "4fd256ad-1f26-448d-c935-7b7d2094b6de"
      },
      "execution_count": 311,
      "outputs": [
        {
          "output_type": "stream",
          "name": "stdout",
          "text": [
            "<class 'pandas.core.frame.DataFrame'>\n",
            "RangeIndex: 30870 entries, 0 to 30869\n",
            "Data columns (total 8 columns):\n",
            " #   Column    Non-Null Count  Dtype   \n",
            "---  ------    --------------  -----   \n",
            " 0   NIM       30870 non-null  int64   \n",
            " 1   ANGKATAN  30870 non-null  int64   \n",
            " 2   SEMESTER  30870 non-null  object  \n",
            " 3   NAMA_MK   30870 non-null  object  \n",
            " 4   SKS       30870 non-null  int64   \n",
            " 5   NILAI     30870 non-null  float64 \n",
            " 6   GRADE     30870 non-null  category\n",
            " 7   BOBOT     30870 non-null  category\n",
            "dtypes: category(2), float64(1), int64(3), object(2)\n",
            "memory usage: 1.5+ MB\n"
          ]
        }
      ]
    },
    {
      "cell_type": "code",
      "source": [
        "df_siswa['NILAI'] = df_siswa['NILAI'].astype(float)"
      ],
      "metadata": {
        "id": "frB71akZ3MM0"
      },
      "execution_count": 312,
      "outputs": []
    },
    {
      "cell_type": "markdown",
      "source": [
        "Dari kolom SEMESTER dibuatlah kolom Tahun_Ajar ,karena dari kolom tersebut \n",
        "mengandung tahun kapan semester itu digelar, berikut kode nya :"
      ],
      "metadata": {
        "id": "kulzUwLbvfjH"
      }
    },
    {
      "cell_type": "code",
      "source": [
        "df_siswa.SEMESTER = df_siswa.SEMESTER.apply(pd.to_numeric)\n",
        "df_siswa['Tahun_Ajar'] = df_siswa['SEMESTER']\n",
        "\n",
        "df_siswa['Tahun_Ajar'] = pd.cut(df_siswa['SEMESTER'],[0,1023,1123,1223,1323,1423,1523,1623,1723,1823,1923],labels = ['2010', '2011','2012','2013','2014', '2015', '2016', '2017', '2018', '2019'],ordered=False)"
      ],
      "metadata": {
        "id": "9_tHtrowOIeU"
      },
      "execution_count": 313,
      "outputs": []
    },
    {
      "cell_type": "code",
      "source": [
        "df_forsks = df_forsks.drop_duplicates(subset=['NIM','SEMESTER','NAMA_MK'], keep='first')\n",
        "df_siswa = df_siswa.drop_duplicates(subset=['NIM','SEMESTER','NAMA_MK'], keep='first')"
      ],
      "metadata": {
        "id": "W11HRK3Tmkk1"
      },
      "execution_count": 314,
      "outputs": []
    },
    {
      "cell_type": "markdown",
      "source": [
        "#Bagian Grouping"
      ],
      "metadata": {
        "id": "Ru6rWB1Xm9Wf"
      }
    },
    {
      "cell_type": "markdown",
      "metadata": {
        "id": "6uTJa9tTRNdF"
      },
      "source": [
        "Untuk mengetahui apakah nim tersebut lulus kita harus membuat kolom yang memenuhi \n",
        "informasi syarat lulus dibawah:\n",
        "\n",
        "\n",
        "*   IPK di atas 2.5,4. Nilai IPK adalah total nilai IPS dibagi dengan total semester.\n",
        "*   144 SKS.\n",
        "*   Tidak ada grade D, E, dan F pada setiap mata kuliah.\n",
        "\n",
        "Sebelum mendapatkan kolom IPS kita harus mendapatkan jumlah dari mengalikan BOBOT \n",
        "dengan SKS,tapi sks yang digunakan adalah sks dari dataset lain karena sks di df_siswa sudah \n",
        "dimanipulasi untuk menyaring grade D,E, dan Fberikut code nya :\n",
        "\n",
        "\n",
        "\n"
      ]
    },
    {
      "cell_type": "code",
      "source": [
        "df_siswa.Tahun_Ajar= df_siswa.Tahun_Ajar.astype('int')"
      ],
      "metadata": {
        "id": "gCJg9HMidABg",
        "colab": {
          "base_uri": "https://localhost:8080/"
        },
        "outputId": "6903b117-f1ba-4ee9-9aa0-b244d51f943d"
      },
      "execution_count": 315,
      "outputs": [
        {
          "output_type": "stream",
          "name": "stderr",
          "text": [
            "/usr/local/lib/python3.7/dist-packages/pandas/core/generic.py:5516: SettingWithCopyWarning: \n",
            "A value is trying to be set on a copy of a slice from a DataFrame.\n",
            "Try using .loc[row_indexer,col_indexer] = value instead\n",
            "\n",
            "See the caveats in the documentation: https://pandas.pydata.org/pandas-docs/stable/user_guide/indexing.html#returning-a-view-versus-a-copy\n",
            "  self[name] = value\n"
          ]
        }
      ]
    },
    {
      "cell_type": "code",
      "source": [
        "df_skssem = df_forsks.groupby(\n",
        "     ['NIM','ANGKATAN','SEMESTER']\n",
        " ).agg(\n",
        "      \n",
        "      SKS = ('SKS','sum'),\n",
        "\n",
        ").reset_index()\n"
      ],
      "metadata": {
        "id": "VBGtiiqALeSq"
      },
      "execution_count": 316,
      "outputs": []
    },
    {
      "cell_type": "code",
      "source": [
        "df_skssum = df_skssem.groupby(\n",
        "     ['NIM','ANGKATAN']\n",
        " ).agg(\n",
        "      \n",
        "      SKS = ('SKS','sum'),\n",
        "      SKSmean = ('SKS','mean'),\n",
        "      \n",
        ").reset_index()     "
      ],
      "metadata": {
        "id": "HT5R9QGdLyL6"
      },
      "execution_count": 317,
      "outputs": []
    },
    {
      "cell_type": "code",
      "execution_count": 318,
      "metadata": {
        "id": "70OyY8VybvTX"
      },
      "outputs": [],
      "source": [
        "#Pengali bobot dan sks\n",
        "\n",
        "df_siswa.BOBOT = df_siswa.BOBOT.apply(pd.to_numeric)\n",
        "df_siswa.BOBOT = df_siswa.BOBOT.astype('int')\n",
        "df_siswa['BOBOTXSKS'] = df_siswa.BOBOT * df_forsks.SKS"
      ]
    },
    {
      "cell_type": "markdown",
      "source": [
        "Dari sini dibuat dataset baru bernama df_final dengan mengroping data kolom \n",
        "NIM,ANGKATAN,dan SEMESTER dengan jumlah bobot kali sks per semester,jumlah sks per \n",
        "semester, mean nilai per semester , mean bobot per semester dan kapan tahun ajar sebuah\n",
        "semester , lalu dilakukan proses perkalian antara hasil sks kali bobot persemester dengan SKS\n",
        "persemester yang belum di manipulasi berikut codenya :\n"
      ],
      "metadata": {
        "id": "yJhPs_FTv8qN"
      }
    },
    {
      "cell_type": "code",
      "execution_count": 319,
      "metadata": {
        "id": "bAuAH1PEsjml"
      },
      "outputs": [],
      "source": [
        "df_final = df_siswa.groupby(\n",
        "     ['NIM','ANGKATAN','SEMESTER']\n",
        " ).agg(\n",
        "      sumsksbobot = ('BOBOTXSKS','sum'),\n",
        "      SKS = ('SKS','sum'),\n",
        "      \n",
        "      NILAI = ('NILAI','mean'),\n",
        "      BOBOT = ('BOBOT','mean'),\n",
        "      TAHUN = ('Tahun_Ajar',np.max),\n",
        "      \n",
        "    \n",
        "     \n",
        "     \n",
        "      \n",
        " ).reset_index()\n",
        "\n",
        "df_final[\"IPS\"] = df_final.sumsksbobot / df_skssem.SKS"
      ]
    },
    {
      "cell_type": "markdown",
      "source": [
        "Setelah sudah mendapatkan nilai IPS,dibutuhkan total nilai IPS dan dibagi jumlah semester \n",
        "agar menjadi nilai IPK, untuk mendapatkan total IPS dilakukan gruping data NIM dan \n",
        "ANGKATAN dengan total IPS selama kuliah, nilai rataan IPS, jumlah semester,jumlah \n",
        "SKS,rataan sks per semester, rataan nilai selama kuliah, rataan bobot selama kuliah, dan berapa \n",
        "tahun mahasiswa tersebut sudah berkuliah setelah itu meansks nya juga direplace dari tabel sks \n",
        "nya belum dimanipulasi ,berikut code nya :\n"
      ],
      "metadata": {
        "id": "IPchmS2zwBq-"
      }
    },
    {
      "cell_type": "code",
      "source": [
        "df_finalis = df_final.groupby(\n",
        "     ['NIM','ANGKATAN']\n",
        " ).agg(\n",
        "      # sumsksbobot = ('BOBOTXSKS','sum'),\n",
        "      IPS = ('IPS','sum'),\n",
        "      IPSmean = ('IPS','mean'),\n",
        "      SEMESTER = ('SEMESTER','nunique'),\n",
        "      SKS = ('SKS','sum'),\n",
        "      SKSmean = ('SKS','mean'),\n",
        "      meNILAI = ('NILAI','mean'),\n",
        "      meBOBOT = ('BOBOT','mean'),\n",
        "      TAHUN = ('TAHUN','nunique'),\n",
        "       \n",
        " ).reset_index()\n",
        "\n",
        "df_finalis[\"IPK\"] = df_finalis.IPS / df_finalis.SEMESTER"
      ],
      "metadata": {
        "id": "oza4YqLZTVTt"
      },
      "execution_count": 320,
      "outputs": []
    },
    {
      "cell_type": "code",
      "source": [
        "\n",
        "df_finalis.SKSmean.replace(df_skssum.SKSmean, inplace=True)"
      ],
      "metadata": {
        "id": "IFBpv4sZQ7bV"
      },
      "execution_count": 322,
      "outputs": []
    },
    {
      "cell_type": "code",
      "source": [
        "check_val(df_siswa.NIM,df_finalis.NIM)"
      ],
      "metadata": {
        "id": "Uv3NvdCC2-dO"
      },
      "execution_count": 323,
      "outputs": []
    },
    {
      "cell_type": "code",
      "source": [
        "\n",
        "# df_finalis[\"durasi\"] = df_finalis.TAHUN - df_finalis.ANGKATAN\n",
        "\n",
        "df_finalis.drop('IPS', axis=1, inplace=True)\n",
        "\n",
        "\n",
        "\n",
        "df_finalis[\"lulusTEPAT\"] = (df_finalis.IPK > 2.5) & (df_finalis.SKS >= 144) & (df_finalis.TAHUN <= 4)\n",
        "df_finalis[\"lulus\"] = (df_finalis.IPK > 2.5) & (df_finalis.SKS >= 144)\n",
        "df_finalis['lulusTEPAT'] = (df_finalis['lulusTEPAT'] == True).astype(int)\n",
        "df_finalis['lulus'] = (df_finalis['lulus'] == True).astype(int)\n"
      ],
      "metadata": {
        "id": "_v7Mnxecn4Km"
      },
      "execution_count": 324,
      "outputs": []
    },
    {
      "cell_type": "code",
      "source": [
        "\n",
        "\n",
        "# df_finalis.drop('SKS', axis=1, inplace=True)\n",
        "\n",
        "# df_finalis.drop('TAHUN', axis=1, inplace=True)\n",
        "\n",
        "\n",
        "# df_finalis.drop('IPS', axis=1, inplace=True)"
      ],
      "metadata": {
        "id": "n06ht6-3G6r_"
      },
      "execution_count": 325,
      "outputs": []
    },
    {
      "cell_type": "markdown",
      "source": [
        "Disini terlihat banyak yang false, agar tidak terjadi Imbalanced data set saya akan drop nim yang memang belum waktunya untuk lulus"
      ],
      "metadata": {
        "id": "du7NInWONYtV"
      }
    },
    {
      "cell_type": "code",
      "source": [
        " df_finalis['lulusTEPAT'].value_counts(normalize=True)"
      ],
      "metadata": {
        "id": "yKqhXYxylVYz",
        "colab": {
          "base_uri": "https://localhost:8080/"
        },
        "outputId": "0de96a76-1902-4e58-aeb6-4724ee034d51"
      },
      "execution_count": 326,
      "outputs": [
        {
          "output_type": "execute_result",
          "data": {
            "text/plain": [
              "0    0.781818\n",
              "1    0.218182\n",
              "Name: lulusTEPAT, dtype: float64"
            ]
          },
          "metadata": {},
          "execution_count": 326
        }
      ]
    },
    {
      "cell_type": "code",
      "source": [
        "df_finalis =  df_finalis.set_index('NIM')"
      ],
      "metadata": {
        "id": "K9dT9Xxk_uZT"
      },
      "execution_count": 327,
      "outputs": []
    },
    {
      "cell_type": "code",
      "source": [
        "df_finalis.SKSmean.replace(df_skssum.SKSmean, inplace=True)"
      ],
      "metadata": {
        "id": "NIO1pDQ92hZI"
      },
      "execution_count": 328,
      "outputs": []
    },
    {
      "cell_type": "code",
      "source": [
        "df_siswaall = df_finalis.copy()"
      ],
      "metadata": {
        "id": "rZOhaq-YmgQC"
      },
      "execution_count": 329,
      "outputs": []
    },
    {
      "cell_type": "code",
      "source": [
        ""
      ],
      "metadata": {
        "id": "aXKuDRYfgWBt"
      },
      "execution_count": 329,
      "outputs": []
    },
    {
      "cell_type": "code",
      "source": [
        "df_finalis.loc[(df_finalis['ANGKATAN'] == 2016) & (df_finalis.lulus == 1)]\n",
        "# df_siswa['SKS'] = np.where((df_siswa.GRADE == 'D'),0,df_siswa.SKS)"
      ],
      "metadata": {
        "id": "l4dIPZoaXugW",
        "colab": {
          "base_uri": "https://localhost:8080/",
          "height": 81
        },
        "outputId": "56e3c521-a9de-4acb-e4bc-68b4bed7c927"
      },
      "execution_count": 330,
      "outputs": [
        {
          "output_type": "execute_result",
          "data": {
            "text/plain": [
              "Empty DataFrame\n",
              "Columns: [ANGKATAN, IPSmean, SEMESTER, SKS, SKSmean, meNILAI, meBOBOT, TAHUN, IPK, lulusTEPAT, lulus]\n",
              "Index: []"
            ],
            "text/html": [
              "\n",
              "  <div id=\"df-8fe09b8d-109f-4dbf-9f03-c2ea86490c4f\">\n",
              "    <div class=\"colab-df-container\">\n",
              "      <div>\n",
              "<style scoped>\n",
              "    .dataframe tbody tr th:only-of-type {\n",
              "        vertical-align: middle;\n",
              "    }\n",
              "\n",
              "    .dataframe tbody tr th {\n",
              "        vertical-align: top;\n",
              "    }\n",
              "\n",
              "    .dataframe thead th {\n",
              "        text-align: right;\n",
              "    }\n",
              "</style>\n",
              "<table border=\"1\" class=\"dataframe\">\n",
              "  <thead>\n",
              "    <tr style=\"text-align: right;\">\n",
              "      <th></th>\n",
              "      <th>ANGKATAN</th>\n",
              "      <th>IPSmean</th>\n",
              "      <th>SEMESTER</th>\n",
              "      <th>SKS</th>\n",
              "      <th>SKSmean</th>\n",
              "      <th>meNILAI</th>\n",
              "      <th>meBOBOT</th>\n",
              "      <th>TAHUN</th>\n",
              "      <th>IPK</th>\n",
              "      <th>lulusTEPAT</th>\n",
              "      <th>lulus</th>\n",
              "    </tr>\n",
              "    <tr>\n",
              "      <th>NIM</th>\n",
              "      <th></th>\n",
              "      <th></th>\n",
              "      <th></th>\n",
              "      <th></th>\n",
              "      <th></th>\n",
              "      <th></th>\n",
              "      <th></th>\n",
              "      <th></th>\n",
              "      <th></th>\n",
              "      <th></th>\n",
              "      <th></th>\n",
              "    </tr>\n",
              "  </thead>\n",
              "  <tbody>\n",
              "  </tbody>\n",
              "</table>\n",
              "</div>\n",
              "      <button class=\"colab-df-convert\" onclick=\"convertToInteractive('df-8fe09b8d-109f-4dbf-9f03-c2ea86490c4f')\"\n",
              "              title=\"Convert this dataframe to an interactive table.\"\n",
              "              style=\"display:none;\">\n",
              "        \n",
              "  <svg xmlns=\"http://www.w3.org/2000/svg\" height=\"24px\"viewBox=\"0 0 24 24\"\n",
              "       width=\"24px\">\n",
              "    <path d=\"M0 0h24v24H0V0z\" fill=\"none\"/>\n",
              "    <path d=\"M18.56 5.44l.94 2.06.94-2.06 2.06-.94-2.06-.94-.94-2.06-.94 2.06-2.06.94zm-11 1L8.5 8.5l.94-2.06 2.06-.94-2.06-.94L8.5 2.5l-.94 2.06-2.06.94zm10 10l.94 2.06.94-2.06 2.06-.94-2.06-.94-.94-2.06-.94 2.06-2.06.94z\"/><path d=\"M17.41 7.96l-1.37-1.37c-.4-.4-.92-.59-1.43-.59-.52 0-1.04.2-1.43.59L10.3 9.45l-7.72 7.72c-.78.78-.78 2.05 0 2.83L4 21.41c.39.39.9.59 1.41.59.51 0 1.02-.2 1.41-.59l7.78-7.78 2.81-2.81c.8-.78.8-2.07 0-2.86zM5.41 20L4 18.59l7.72-7.72 1.47 1.35L5.41 20z\"/>\n",
              "  </svg>\n",
              "      </button>\n",
              "      \n",
              "  <style>\n",
              "    .colab-df-container {\n",
              "      display:flex;\n",
              "      flex-wrap:wrap;\n",
              "      gap: 12px;\n",
              "    }\n",
              "\n",
              "    .colab-df-convert {\n",
              "      background-color: #E8F0FE;\n",
              "      border: none;\n",
              "      border-radius: 50%;\n",
              "      cursor: pointer;\n",
              "      display: none;\n",
              "      fill: #1967D2;\n",
              "      height: 32px;\n",
              "      padding: 0 0 0 0;\n",
              "      width: 32px;\n",
              "    }\n",
              "\n",
              "    .colab-df-convert:hover {\n",
              "      background-color: #E2EBFA;\n",
              "      box-shadow: 0px 1px 2px rgba(60, 64, 67, 0.3), 0px 1px 3px 1px rgba(60, 64, 67, 0.15);\n",
              "      fill: #174EA6;\n",
              "    }\n",
              "\n",
              "    [theme=dark] .colab-df-convert {\n",
              "      background-color: #3B4455;\n",
              "      fill: #D2E3FC;\n",
              "    }\n",
              "\n",
              "    [theme=dark] .colab-df-convert:hover {\n",
              "      background-color: #434B5C;\n",
              "      box-shadow: 0px 1px 3px 1px rgba(0, 0, 0, 0.15);\n",
              "      filter: drop-shadow(0px 1px 2px rgba(0, 0, 0, 0.3));\n",
              "      fill: #FFFFFF;\n",
              "    }\n",
              "  </style>\n",
              "\n",
              "      <script>\n",
              "        const buttonEl =\n",
              "          document.querySelector('#df-8fe09b8d-109f-4dbf-9f03-c2ea86490c4f button.colab-df-convert');\n",
              "        buttonEl.style.display =\n",
              "          google.colab.kernel.accessAllowed ? 'block' : 'none';\n",
              "\n",
              "        async function convertToInteractive(key) {\n",
              "          const element = document.querySelector('#df-8fe09b8d-109f-4dbf-9f03-c2ea86490c4f');\n",
              "          const dataTable =\n",
              "            await google.colab.kernel.invokeFunction('convertToInteractive',\n",
              "                                                     [key], {});\n",
              "          if (!dataTable) return;\n",
              "\n",
              "          const docLinkHtml = 'Like what you see? Visit the ' +\n",
              "            '<a target=\"_blank\" href=https://colab.research.google.com/notebooks/data_table.ipynb>data table notebook</a>'\n",
              "            + ' to learn more about interactive tables.';\n",
              "          element.innerHTML = '';\n",
              "          dataTable['output_type'] = 'display_data';\n",
              "          await google.colab.output.renderOutput(dataTable, element);\n",
              "          const docLink = document.createElement('div');\n",
              "          docLink.innerHTML = docLinkHtml;\n",
              "          element.appendChild(docLink);\n",
              "        }\n",
              "      </script>\n",
              "    </div>\n",
              "  </div>\n",
              "  "
            ]
          },
          "metadata": {},
          "execution_count": 330
        }
      ]
    },
    {
      "cell_type": "code",
      "source": [
        ""
      ],
      "metadata": {
        "id": "PIAQ1gRNADll"
      },
      "execution_count": 330,
      "outputs": []
    },
    {
      "cell_type": "markdown",
      "source": [
        "Sekarang data sudah tidak terlalu imbalanced"
      ],
      "metadata": {
        "id": "1adAbpvBRPyx"
      }
    },
    {
      "cell_type": "code",
      "source": [
        "predtarg = df_finalis.loc[df_finalis['ANGKATAN'] >= 2016]\n",
        "\n",
        "df_finalis.drop(df_finalis.index[df_finalis['ANGKATAN'] >= 2016], inplace=True)\n"
      ],
      "metadata": {
        "id": "M6FxiejTQrS9"
      },
      "execution_count": 331,
      "outputs": []
    },
    {
      "cell_type": "code",
      "source": [
        " df_finalis['lulusTEPAT'].value_counts(normalize=True)"
      ],
      "metadata": {
        "id": "Jw4kFjP6RNpB",
        "colab": {
          "base_uri": "https://localhost:8080/"
        },
        "outputId": "01264454-9022-474e-ff55-43a8394c4d9c"
      },
      "execution_count": 332,
      "outputs": [
        {
          "output_type": "execute_result",
          "data": {
            "text/plain": [
              "0    0.612903\n",
              "1    0.387097\n",
              "Name: lulusTEPAT, dtype: float64"
            ]
          },
          "metadata": {},
          "execution_count": 332
        }
      ]
    },
    {
      "cell_type": "code",
      "source": [
        " df_finalis.ANGKATAN =  df_finalis.ANGKATAN.astype('string')"
      ],
      "metadata": {
        "id": "B2H901k4Yolt"
      },
      "execution_count": 333,
      "outputs": []
    },
    {
      "cell_type": "markdown",
      "source": [
        "# Exploratory Data Analysis(EDA)"
      ],
      "metadata": {
        "id": "LgkLZ9Tqg3lk"
      }
    },
    {
      "cell_type": "code",
      "source": [
        "tepatlulus = df_finalis.loc[df_finalis['lulusTEPAT'] == 1]\n",
        "xtepat = df_finalis.loc[df_finalis['lulusTEPAT'] == 0]"
      ],
      "metadata": {
        "id": "2MzOKdEDhVY-"
      },
      "execution_count": 334,
      "outputs": []
    },
    {
      "cell_type": "code",
      "source": [
        "y = df_finalis.lulusTEPAT\n"
      ],
      "metadata": {
        "id": "oWD1CGBGg3ll"
      },
      "execution_count": 335,
      "outputs": []
    },
    {
      "cell_type": "code",
      "source": [
        "\n",
        "trypredmin = (df_finalis['IPSmean'] >= 2.772795) & (df_finalis.meNILAI >= 70.845486) & (df_finalis.meBOBOT >= 2.783503 ) & (df_finalis.SKSmean >= 4.000000)\n",
        "trypredmin25 = (df_finalis['IPSmean'] >= 3.114442) & (df_finalis.meNILAI >= 77.970351) & (df_finalis.meBOBOT >= 3.121838) & (df_finalis.SKSmean >= 13.881250).astype(int)\n",
        "trypredmin50 = (df_finalis['IPSmean'] >= 3.317819) & (df_finalis.meNILAI >= 81.350149) & (df_finalis.meBOBOT >= 3.325149) & (df_finalis.SKSmean >= 15.7778).astype(int)\n"
      ],
      "metadata": {
        "id": "yUYGl8Gog3ll"
      },
      "execution_count": 336,
      "outputs": []
    },
    {
      "cell_type": "code",
      "source": [
        ""
      ],
      "metadata": {
        "id": "zuipLW-LjqUC"
      },
      "execution_count": 336,
      "outputs": []
    },
    {
      "cell_type": "markdown",
      "source": [
        "Dari sini model saya tebukti masih memiliki score terbaik"
      ],
      "metadata": {
        "id": "t0V4RVWeg3lm"
      }
    },
    {
      "cell_type": "code",
      "source": [
        "# y_pred\n",
        "\n",
        "from sklearn.metrics import accuracy_score\n",
        "\n",
        "\n",
        "# accuracy_score(y, y_pred)\n",
        "   \n"
      ],
      "metadata": {
        "id": "6MTI4AWfg3lm"
      },
      "execution_count": 337,
      "outputs": []
    },
    {
      "cell_type": "code",
      "source": [
        "accuracy_score(y,trypredmin.astype(int))"
      ],
      "metadata": {
        "id": "5AwdUxJMg3lm",
        "colab": {
          "base_uri": "https://localhost:8080/"
        },
        "outputId": "4c2d6efb-b45d-442a-f1dd-9214dc859a53"
      },
      "execution_count": 338,
      "outputs": [
        {
          "output_type": "execute_result",
          "data": {
            "text/plain": [
              "0.6682027649769585"
            ]
          },
          "metadata": {},
          "execution_count": 338
        }
      ]
    },
    {
      "cell_type": "code",
      "source": [
        "accuracy_score(y,trypredmin25.astype(int))"
      ],
      "metadata": {
        "id": "4o-YEaWgg3lm",
        "colab": {
          "base_uri": "https://localhost:8080/"
        },
        "outputId": "614db686-9ee8-4f4e-a743-244b5ea2c27d"
      },
      "execution_count": 339,
      "outputs": [
        {
          "output_type": "execute_result",
          "data": {
            "text/plain": [
              "0.8133640552995391"
            ]
          },
          "metadata": {},
          "execution_count": 339
        }
      ]
    },
    {
      "cell_type": "code",
      "source": [
        "accuracy_score(y,trypredmin50.astype(int))"
      ],
      "metadata": {
        "id": "CHZSLZtAg3lm",
        "colab": {
          "base_uri": "https://localhost:8080/"
        },
        "outputId": "d8ccfbe5-d90e-431e-d9e0-072241619570"
      },
      "execution_count": 340,
      "outputs": [
        {
          "output_type": "execute_result",
          "data": {
            "text/plain": [
              "0.7557603686635944"
            ]
          },
          "metadata": {},
          "execution_count": 340
        }
      ]
    },
    {
      "cell_type": "code",
      "source": [
        "ax = sns.heatmap(df_finalis.corr(), annot=True)"
      ],
      "metadata": {
        "id": "jA89pOecZJFS",
        "colab": {
          "base_uri": "https://localhost:8080/",
          "height": 313
        },
        "outputId": "e6ae3f26-c425-4d45-a890-1487e3385bf1"
      },
      "execution_count": 341,
      "outputs": [
        {
          "output_type": "display_data",
          "data": {
            "text/plain": [
              "<Figure size 432x288 with 2 Axes>"
            ],
            "image/png": "iVBORw0KGgoAAAANSUhEUgAAAZEAAAEoCAYAAACZ5MzqAAAABHNCSVQICAgIfAhkiAAAAAlwSFlzAAALEgAACxIB0t1+/AAAADh0RVh0U29mdHdhcmUAbWF0cGxvdGxpYiB2ZXJzaW9uMy4yLjIsIGh0dHA6Ly9tYXRwbG90bGliLm9yZy+WH4yJAAAgAElEQVR4nOydeVxVRfvAv8MmIAICsiMCruCKinsqbmi5Z5lmbm1aVlr2lvW2aGVpZr1vmWWLZptr6mu5lLvmgiIqpqLihiCLbAKX5d47vz/OFbhy0cvipfyd7+dzPp97zjwzz5lz5p7nzDNz5hFSSlRUVFRUVKqCVW2fgIqKiorKPxfViKioqKioVBnViKioqKioVBnViKioqKioVBnViKioqKioVBnViKioqKioVBnViKioqKjcAwghvhFCpAoh4ipIF0KI/wghzgkhjgshwmtCr2pEVFRUVO4NlgJRt0kfCDQxbE8Cn9eEUtWIqKioqNwDSCl3Axm3ERkKfCcVDgCuQgif6upVjYiKiorK/w/8gCtl9hMNx6qFTXULuNcoTk+wyDow97WZbAk1AGxfNNBiuqjrbBE1NmE9LaIHANs6FlPVv+1TFtO1NfYLi+gpXvGRRfQAoNdbThfgOG2RqE7+yjxv7BqEPIXihrrJl1LKL6ujvyZQjYiKiopKbaHXmS1qMBjVMRpXgYAy+/6GY9VCdWepqKio1BZSb/5WfTYAjxlmaXUGsqWUydUtVO2JqKioqNQWNeh+E0L8BPQCPIQQicCbgC2AlHIx8BswCDgH5AMTa0KvakRUVFRUaglZMz0MQ1nykTukS+CZGlNoQDUiKioqKrWFTlvbZ1BtasyICCFypZROQohGwCngDGAH7AamGsQ+BiIBCRQAD0kpL9TUOVia19/7iN37DuFW35V13y+udnnTZ0+ja2QnCjQFzJn+AfFxZyuUnfftO/g29OXRPpMAmDxjPEPH3E9mRjYAi9//iv3bD5rMu+9MIvPWH0Av9QyPaMak3m2M0udvOED0ecVVWlCsJSO3gL2zx5Wk5xYUMWLBGnqHBfLqsK63rdO+kxeZt3oner2e4d1aMql/hLGu1TuJjk806Com44aGvR8qzWXhL7vZE3cBKaFz84a8PKoXQlQ8GWbvwRje//QrdDo9I+/vx+NjRxqlJ11L5d/z/ktGVg4u9Zx4/7XpeHt6ALBg8VJ2HziCXi/p0qENr057/La6bkdNt4tps6fSKTKCAk0hH0yfz9m4cxXKvvPNbHwbejOprzKJp+f99zFhxjgaNmnIlAemEX88vsrnUZP12ncxnfm7z6CXkmFhfkzqEFROZmv8NRYfTEAIaOpRj7lRrTiTdoN3d5wir0iLtRBM7hjEgKbet9d16Trz98QrukJ9mdS+UXldZ1NYfCgBIQRN3Z2YO6ClomvnafKKdYquDo0Y0MSrWvUuRyUG1v+u3K2eyHkpZVshhA2wHRgG1AF8gdZSSr0Qwh/Iu0v6LcKwQf0YM3IIs+Z8WO2yukR2IiDIj1HdHyUsvAUvz53O44OnmpTtObAHmryCcsd/XrKaH79YeVs9Or2eub/8yeInovByqcvY/26gZ2hDQrzql8jMHNK55PdP+05y+up1ozI+23KE8KDb/3FLdK3czuJpI/ByrcfYeT/Ss1UIIT7upboe7FWqa+dRTl9JAyA2IYnYhCRWvaYYr4kfreTw2UQ6Ng3AFDqdjnc++YIlH76NdwN3Hn56Jr27RRDSqFT+w8+XMqR/b4ZGRXIw5jgfL1nO+69N52jcaY7GnWbt1x8D8Ni0WUTHxhHRrtUd62iKmmwXnSIj8Avy49HuE2gR3oLpc59j6uDnTMr2GNidgnyN0bELZy7yxhNvM+ODF6p9LjVVL51e8v7O03w+PBwvJ3vGrjhIz6AGhLg7lchcysrjm8MXWTqqI872tmTkFwFgb2PFnP5hBLrWJTW3gLE/H6RroDv16thWrGvXGT4f2g4vpzqMXRlNzyAPQtzK6srnmyMXWTqywy26rJnTL4xAV0dScwsZu/IQXRu6VairStSgO6u2uKuzs6SUWuBPoDHgAyRLgxNQSpkopcwEpRcjhJgvhDgphPhDCBEhhNgphEgQQgwxyFgbZKIN6748ZTjuJITYJoSIEUKcEEIMNRxvJIQ4JYRYYih3qxDCoSbr16FtK1yc69VIWfcN6Mam1VsBOBlzCieXurh7upWTc3C055EnR/HtJ8urpCfuShoBHs74uztja2PNgDbB7Dx5uUL5TbEJRLUNKdn/KzGdjFwNXZre+RuluIvXCGjgir+Hq6KrfTN2Hj9fsa7DZ4jq0AwAARQV6yjW6inS6tDqdLg7O1aY98TpszT08yHA1xtbW1sGRnZn+z7jntj5S1eICFcMQ0S7VuzYd0jRJaCoqIhirZaiYi3FWi3ubq53rF9F1GS76Na/C1tX/wHAqZhT1HV2ws1Eu7B3tGfUEyNZ/skPRscvn7vMlYTEGjmXmqpXXEo2Aa6O+Ls4YmttxYAm3uxMSDOS+SXuKg+19sfZXnlguznaARBYvy6BrnUB8HSyp76jHRmaotvoyiHAxQF/FweDLi92JqQb6zp5lYdamdLlSKCro0FXHeo72JGhKa52/Y3Q683f/qbcVSMihHAE+gAngJXAYCFErBBigRCiXRnRusB2KWUYcAN4B+gHDAdmG2Qmo0xJ6wh0BJ4QQgShuMWGSynDgd7AAlHqh2gCfGYoNwsw9m/8jWjg7UFKUmrJflpyOg28PcrJPfnyJH76YiUFmvI9kQcnDmf571/x2oKXqefiVC4dIDU7H2+XuiX7Xi6OpOaY7hAmZd4gKeMGEY2VlRH0esmCjQeZcX8ns+qUmpWLd/3Sh46XqxOpWbmmdV3PIel6NhHNlJ5Dm2BfOjYNoO+sL+n36pd0adGIYG93k3kBUtMy8G5Qer28GriTmma8AkSzkEb8sfsAAH/sOUBevoas7BzahjWnY9tW9B4xkd4jJ9Itoh0hgaZ7PJbGw9uD1DLtIj05HQ8T7WLSzAms/HI1BZpCS55elUjNLcTLqfQDTi+nOqTlGZ/3pax8LmflM2HVIR5bcYh9F9NvLYa4a9lodZIAl4pfLlLzCvCqZ2+ertWHeWxVNPsuXb+1GOJSstHq9QS41Oh7KFLqzd7+rtwtIxIihIgF9gG/Sik3SSkTgWbAq4Ae2CaE6GOQLwI2G36fAHZJKYsNvxsZjvdHmeMcCxwE3FGMhADeE0IcB/5A+Yz/puPygpQy1vD7SJmy/pE0CQvBL9CXXZv3lktb+90GHuw6lsf6P0F66nWee8O0K6wybIlNoG+rIKytlGaycv8pujcPwMu17h1yVkHXkTP0bde0RNfl1CwSrmWw9Z3H2fruE0THXyHmXPXeqF+aMpHDx07y4OPTOXzsJF4e7lhZWXE5MZmEy4lsW/U121d9zaGYExw5frImqmURQkJD8A30Ze/mfbV9KjWGTi+5nJXPkhEdmBvVijnb/+JGYWkvIC2vkNe3xvFW31Csqjh2ZaQrW8OS4eHMHdCSOTtOldf1+1+81af6uspxD/RE7uqYyK0HpZSFwCZgkxAiBWWsZBtQbJh+BoqBKTTI6w3jKqAYi2lSyi1lyxRCTAAaAO2llMVCiIvAzVePsq8cOsDka4QQ4kkMywksWvAOjz9225lyNcbI8cMYMvZ+AE7FnsbL17MkrYGPB2nXjN++WrYPo3nrZqw98BPWNtbUd3fls1ULeWbUdDLTM0vk1v+wkQ+XzTWp09PFkWvZpT2PlOx8PJ1NG4XNxxKMBs6PXUrl6MVrrNx/Ck1hMcU6PY52tjw/qKNpXa5OXMu8UaorKxdPV9M9pM1HzvDqw5El+9uPnaN1kDeO9oproVtoI45dSCa8sb9pXQ3cuJZWer1S0q7j2cDY7ePp4cYnc14BID9fwx+79uNcz4nVv/5Om9CmODoqzaN7p3COnTxD+9ZhJnXdbYaNH8L9YwYBcPrYGTx9PQHFqHn4eJB+S7sIa9+CZq2b8tP+5VjbWOPq7srCVR8yfdRLlj51s/B0qkNKbulfMyW3kAZ165STaeXtgq21FX4uDgS61uVyVj5hXi7kFmp5bsNRnunSmNY+t3c7eta1J+VGaa/dtC57Wnk5K7qcHQh0deRyloYwL1tyi7Q8t/EYz3QOprW3Sw3U/hZ0NeweqwUs9sW6ECJcCOFr+G0FtAYuVaKILcAUIYStoYymQoi6gAuQajAgvYHAyp6blPJLKWUHKWUHSxkQgDXL1jG+/xOM7/8Eu7fsY+CD/QEIC29BXk4e11ON3TG/fLeBIe1HMaLzIzw1bBqXExJ5ZtR0AKPxk14De5BwxvSktzD/BlxOz+Fqxg2KtTq2HEugZ2jDcnIXUrPI0RTRJrDUsM0d04vNs0az6dWHmf5ABA+0b1yhAQEIC/TmcmomV9OzFV1HztCzVXB5XdcyyMkvpE1Q6YKiPm71OHI2Ea1OT7FOx5GziQR7lx8LuEnLZk24nJhMYnIKxcXFbNq+l95djWeCZWbloDe80S35cQ3DBykdYR/PBhyOPYlWq6NYq+XwsTiCA00bK0uwbtkGnhjwNE8MeJp9m/fR/8G+ALQIb0HejTwybmkXG5ZvZFSH0TzSZRzThk8nMSHxb2tAAMK8nLmclc/VbA3FOj1bzl6jV3ADI5newZ4cTlRejDI1RVzKysPP2YFinZ4Xfz3GA8196GfGTKkwr3pczs7nas5NXSn0CjJ2B/YObsDhq2V15Zfq+u04DzTzpl/jGp6VdRPLfrF+V7DkdyKewBIhxM3XgEPAp5XI/xWKOyrGMOaRhtKT+QH4nxDiBHAYOF1jZ3wHZr75PtFHj5OVlUOfYY8ydfI4Rg4eUKWy/tx2gK6RnVi173sKNYW8M+ODkrRlW5cwvv8Tt83/zOtP0TS0MVJKkhOv8cG/TC96Z2NtxStDuzDlq83o9ZKhHZvS2Ls+i7YcIdTfg15hig3eHJtAVJvgKk9zLdH1UCRTPlur6OoSRmNfDxZt/JPQhl70aq0M2G8+coao9k2NdPVt14RDZ64w6t3lCAFdQxvRs1VIRaqwsbFm1vNP8NTMt9HpdQwf2JfGQQ359JsfCWvWmN7dIoiOjePjJcsRQtC+dSivv6Asdti/ZxcOHT3O8EnPIwR0jwin1y0GqDLUZLs4sP0QnSI78f3eZRQWFPLBjNKZUUu2LOaJAU/fNn/3qG48N+cZXNxcmLvsHc6fPM/Lj75apXOpqXrZWFnxr17NmLo+RmkXYb6EuDux6MA5Qj2d6RXsSddAd/Zfvs6I5X9ibSV4oXtTXB3s+PV0MjFJmWQVFLHhVBIAs/u1pFkD0wP+NlZW/Ou+ZkxdfxS9hKGhPoqug+cVXUEN6NrQTdH1w36sheCFro1xdbDl1zPJxCRlkVVQzIbTypT32X1CK9RVJf7GbipzEaVeJBVQV/GtNuoqvtVCXcW3mvzDVvEtjPvd7OdNnZb9anhApmZQv1hXUVFRqS3ugZ6IakRUVFRUagmp/+cPrKtGREVFRaW2UHsiKioqKipV5m8868pcVCOioqKiUluoCzCqqKioqFQZtSdy72Gpqbe7j31tET0AX7R7w2K6XkjZYRE97Tx+tIgeABthbTFdO3fMsZguS7V1rbTc27abdc0vyXM7tkyrZgH3wJiIGmNdRUVFpbbQac3fzEAIESWEOCOEOCeEeMVEekMhxA4hxFHDauiDqlsF1YioqKio1BY1uACjEMIa+AwYCIQCjwghQm8Rex1YKaVsB4wGFlW3Cqo7S0VFRaWWkDXr6osAzkkpEwCEED8DQ4G/yqoEbi4r4QIkVVepakRUVFRUaotKjImUXW3cwJdSyi/L7PsBV8rsJwK3Bv95C9gqhJiGEsepb2VO1xSqEVFRUVGpLSoxO8tgML68o+DteQRYKqVcIIToAiwXQrSU1Yh6pRoRFRUVldqiZmdnXQXKhuT0Nxwry2QgCkBKuV8IYQ94AKlUEbONiBDiNWAMSnAnPfAU8AFK7HSNQeyclPJBIcRbwJtAEynlOUP+F4CFQEcp5WFD8KgbhvIAdkspnxNCdAY+AeoYthUocUeeN8iFAmcM+TajLP0+H+OLNQbIB04ZZO1QlomfbIiYWCmmz55G18hOFGgKmDP9A+LjzlYoO+/bd/Bt6MujfSYBMHnGeIaOuZ/MjGwAFr//Ffu3H6wwf0W8/t5H7N53CLf6rqz7fnGl8wP0eHscgZFt0WoK2TbjS9LiLpaTadCqEX0/egprezsubY9lz5tKLPcBi57FNViJ91HH2ZHCnHxWRL1Wks/J150x2z/g8ux5fLSw4tVhF340m4FRkeRrNEyePJ2jsXFG6U5Oddm545eSfX8/H374cS0vvvSmWXV8cc5zdIvsTIGmkLenz+XMifgKZRcsnYtfQx9GR04A4L3FbxEYovwHnZydyM3JZWy/iqfBWqJd7D1ygg+W/IReLxnRrweTRxlPpklKTeeNT74lMycXF6e6vPfi43h7uHE64TLvLFpOXn4BVtZWPPHQ/UT1uPPy9pZs65a8V1PefpqIyI4UaApZMGMB5+LOl5N5d/kc3DzdsLa2Ju5QHJ++vgi9Xk9wiyCmzZ2GQ117Uq6k8sFz88jPza9QV6Uwc9aVmUQDTQxhw6+iDJyPuUXmMkrI8qVCiBYoAfzSqAZmGRFDt+cBIFxKWSiE8EB5MAOMlVIeNpHtBEol3jHsj+JmeLZSekspbw2evAx4SEp5zDDboJmU8i/gW8O5XCybzxDZcIWU8tlbzrkRhgiLhnJ+Bx5CiT9iNl0iOxEQ5Meo7o8SFt6Cl+dO5/HBpkPP9hzYA01e+djnPy9ZzY9frKyM2nIMG9SPMSOHMGvOh3cWNkFg7za4BnnzfY8X8WoXQs/3JrB6yFvl5Hq9N5HtL39FytHzDP5uJg17tebyzuNsmVoa+qXbv8dQlGP8J+r+xlgu7zh223MYGBVJk8ZBNA/tTqeIcD77dC5duw82ksnNzaNDx/4l+wcPbGLdut/MqmPXyM40DPJnRLcxtAwP5ZW5M5j4gOl4G70H3kd+nnEdZj39VsnvF954htwbpuPBg2XahU6n573FP/DlnBfxcq/PIzPm0KtTW0Ia+pbILPhmJYMjuzK0TzcOHjvFf5at4b0Xn8C+jh3vznicQF8vUq9nMnr6HLq2a4mzU8XxyC3Z1i15rzr27ohfkC8Te0ymebvmTHvvWZ4fMr2c3LtT5pYYh39/8Ro9HujBrg27eGH+Cyx55ytOHDhB/4f78+DTI/nuw+V3rKNZ1ODHhlJKrRDiWZQAftbAN1LKk0KI2cBhKeUG4EWUuE7TUQbZJ8hqxgMxd4qvD5BuCG+LlDJdSnmnUf11KDMDEEKEANnArQbDFJ5AskGPzmBAqoVUpkAcQhl4qhT3DejGptVbATgZcwonl7pGUQRv4uBozyNPjuLbT2qocd1Ch7atcHGuejCcoP7tOb1Gic2ecvQ8dZzr4uhpHFrU0dMVOycHUo4qb2mn1+wleECHcmU1fqAT8ev3l5Y9oD05V9LIiL+152zM4MEDWP7DagAOHorBxdUFb2/PCuWbNAnGs4EHe/aa13PrOaA7v65WoifHxfxFPRcn3D3dy8k5ODow5qmH+Obj7yosq++Q3mxZt63CdEu0i7izCTT08cTfuwG2tjZE3RfBjoNHjWQSLifTqXULACJaN2fHwVgAGvl5E+irROPzdK+Pm0s9MnNucDss2dYtea+69O/MH2uU9NNHT1PX2Qk3z/rl5G4aEGsba2xsbcHwbPUP8uPEgRMAHN0dQ/eB3c2spRnUcIx1KeVvUsqmUsoQKeW7hmNvGAwIUsq/pJTdpJRtpJRtpZRbq1sFc43IViBACBEvhFgkhCgbEegHIUSsYZtf5ngOcEUI0RKlR7LCRLk7yuS9+WqwEDgjhPhFCPGUwWd3Jx4uU06sEMIolrqhjE4o7q9K0cDbg5SkUndhWnI6Dbw9ysk9+fIkfvpiJQWa8m9nD04czvLfv+K1BS9Tz8V0jPG7jZN3fXKTrpfs5yZn4ORdv7xMcsZtZXw7NUOTnk32xRQAbB3r0H7KA0QvXHvHc/Dz9SbxSum7x9XEZPx8vSuUf/ihIaxateGO5d7k1nuVmpSGp4l79fTLk/lh8QoKNIXl0gDadWrD9bQMrlxINFvX3WgXKdez8PIofYh7udcn9XqWkUzToAD+2H8EgG37Y8jTFJCVY/xWfiI+gWKtjgBv4xC0tVGninTdzXvl4e1OWlLp+2t6cjruJnQBvPv9O6w4+hOavHz2/Kq8dF2Kv0SXAV0A6PFADxr4ms5bJWrYiNQGZhkRKWUu0B5lelkasMLgRgLFndXWsM28JevPKAZkGPAL5eldJu9Cg67ZQAcUwzUG8x78K8qU01ZKeXOMJkQIEQukAMlSyuOmMgshnhRCHBZCHE7Jq/y06SZhIfgF+rJr895yaWu/28CDXcfyWP8nSE+9znNvmHYP/FNoMrSLUS8kYsYIYr/aTHG+6T95dXjooaH8vGJdjZbZNKwx/o382Ll5T4Uy/Yf1Yett3mzNxRLt4sVJozgSF89Dz7/F4bgzeLrXx8qq9G+dlpHFrI++YvbzE42OVxVLtnVL3qubvPbo6zzSYSy2dra07dYGgI9eWsjgxx7g01//g0NdB7TFNTiO8f8pxrrBJbQT2GmIZz7ejGwbUQa9D0spc8yN1y2lPA98LoRYAqQJIdyllNfvlM8EN8dEPIB9QoghN7t1t+grmTrXxa+3HDl+GEPG3g/AqdjTePmWulwa+HiQds3YK9eyfRjNWzdj7YGfsLaxpr67K5+tWsgzo6aTmZ5ZIrf+h418uGxuFapRNazsnbGyr8fDm98l9VgCTr6l7gInHzdyr2Uayedey8TJx61CGWFtRUhUR1YM+nfJMa92jQkZFEHXWaOp4+xIY11vCgoKWfT5UgCmPD2eyZPHAnD4cCz+AaX+fD9/H64mXTN57q1bh2JjY0PM0RO3reOoCcMZNvYBAP665V55+jYg9ZZ71ap9GC1aN2P9wRVYW1vj5lGfxas/4ekHlXkb1tbW9B50H49FlY9pb+l24eXuSkp6ac8w5Xomnu7GLkhP9/osnPUMAPmaAv74M6Zk3CM3X8Mzb3/CtHEjaNPcdHx6S9bJkvdq8PgHGPhIFADxx+KNeg8ePh5cv1axZ724sJj9Ww/QpX9nYvYc5cr5RGaNVSaR+AX50anPnScomE3NDqzXCuYOrDcD9FLKm1M12qLMmGp5u3xSynwhxL+AiqddlNd1P/CbYbCnCcosrKzb57o9Usp0wzoyrwJ39I+sWbaONcuUN+CufTrz4IRh/L5+O2HhLcjLyeN6aoaR/C/fbeCX75Rivf29+HDZXJ4ZpXjn3D3dSuR7DexBwpkL1alKpdAX5KAvyGFF1BsERral9YR+nF2/H692IRTdyCc/1fiy5qdmUZSrwatdCClHz9N8ZHeOf1vqMg3o0ZLM80nkXSut/9qRpQsGRkwfweqUuBIDAvD54mV8vngZAIMG9mHqlAmsWLGeThHh5GTncO2a6ZmFox8eygozeiGrlv7CqqVKJ7dbn848NHEEW9dto2V4KLk5eVxPNX73WPPdetZ8tx4AH39vFn73fslDCSCiR3sunbtManL5CSuWbhdhTYK4lJRC4rU0vNzrs3n3Id5/6UkjmczsG7jUq4uVlRVfrfqN4X0Vf31xsZYX3v2UwZFd6d+t/LhWbdTJkvfqf8s28r9lGxW5yI4MmTCYnet30bxdc/Jv5JGRavwCZe9oj6OTAxmpmVhZWxHRpyNxB5V5QC7uLmRfz0YIwZjnRrPxe/MmepjF39hNZS7m9kScgP8KIVwBLXAOxbW1GmVM5Kb7KF1KafQFpJTy59uUu0MIcXOK73Ep5WPAOGChECLfoGusvPPaAA8LIcqOdk2l/Of864C3hBA9pJQV949v4c9tB+ga2YlV+76nUFPIOzM+KElbtnUJ4/uXfwsqyzOvP0XT0MZIKUlOvMYH//rIXNVGzHzzfaKPHicrK4c+wx5l6uRxjBw8wOz8l7bHEhjZhnF7F6DVFLHtxdJvlh7e/G7JdN1dry2lz0dPYmNvx6Udx7hUZsZVkyGdjVxZleW3TduIiorkzKl95Gs0PP74jJK0w9FbjWZlPThyMIOHjqtU+fu2HaBbny788udPFGgKmT299E34h9+/vu0U0Jv0H9qHLev+uKOcJdqFjbU1s54ey5Q3F6LT6xnWtzuNA/347Pt1hDZpRO9ObYmOO8N/lq1BCEF4WFNem6L0+rbsjSbm5Fmyb+SxYds+AOa8MInmwQ1rtU43seS9OrQ9mo6RHfl27zcUagpY8OLCkrRFmz9latSz2Dva89Y3b2FrZ4uVleDYn8fZ+P2vAPQe2ovB45Ue1L5Nf7J1RbXHokv5G7upzEVUc3bXPUcXv94WuSDqUvDVo52HaffM3eBeXQq+V+9/31moBrinl4K/ssk8H30FaFa/Y/bzxuHB16ul626hfrGuoqKiUlv8P3JnqaioqKjUNPeAJ0g1IioqKiq1hfb/yewsFRUVFZW7wD0wsK4aERUVFZXaQh0TUVFRUVGpMuqYyL3H9kUDLaLHktNunzo622K6Jv++zDKKamAJD7Oxd7izTA3xY++qLfNfFSzV1jVLf7WIHgBr10pHeqhd1J6IioqKikqVUY2IioqKikpVkTrLfYh5t1CNiIqKikptcQ/0RCzoWFZRUVFRMaKGl4IXQkQJIc4IIc4ZFp01JfOQEOIvIcRJIcSP1a2C2hNRUVFRqS30NTc7yxAG/DOgH5AIRAshNpSNDiuEaIKymnk3KWWmEKLi0KJmohoRFRUVldqiZt1ZEcA5KWUCgBDiZ5QQ5WVDjD8BfCalzASQUpqOxVAJ/lFGRAjxGkq0Qx2gB54CPgBeklIeFkIEoUREfBbYAywBWgMCJSZJlCFKo9nsO5PIvPUH0Es9wyOaMal3G6P0+RsOEH0+GYCCYi0ZuQXsnV26hHluQREjFqyhd1ggrw7rWq78Hm+PIzCyLVpNIdtmfEla3MVyMg1aNaLvR09hbW/Hpe2x7HlTiW09YNGzuAb7AFDH2ZHCnPySJX8F+U4AACAASURBVN0BnHzdGbP9A6zIQ6/JNrvOr7/3Ebv3HcKtvivrvq+5Kaf7ziYzb3MMer1keHgwk3qEGqXP3xxD9AWlTRcU68jIK2DvqyOrqCuJeb8dQS8lw8NDmHRfmLGuTUeIvpBirGvWKPPLv8vtotPscfgb2sXe6V9y3US7cG/ViB4LlXaRuD2Wg28o7aLdzAdp2D8cKSUF6Tnsmf4FmpQs7Fwc6b7gSeoFeqIrLEZk7kLeKA3OdLfrVBbbdhE4Tp4GVlYU/vErBWuNvSp1BgyhzsDhoNchCzTkLfoQfeIlsLam7jMvYx3cFGFtTeGOLRSs/eG2umxadsR+zFSwsqJ49yYKfzMdncKmfQ/qPvsmuW9PRXcxHuugZjhMuBm1W1Cw/ju0Mftuq6vS1OzAuh9wpcx+IkpY8LI0BRBC7AOsgbeklJUOG16Wf4wREUJ0AR4AwqWUhYZohXZl0v1RQum+KKXcIoR4FUiRUrYypDcDKjWJXKfXM/eXP1n8RBReLnUZ+98N9AxtSIhXadzxmUM6l/z+ad9JTl81Dqzz2ZYjhAeZjiMe2LsNrkHefN/jRbzahdDzvQmsHvJWOble701k+8tfkXL0PIO/m0nDXq25vPM4W6Z+WiLT7d9jKMrJN8rX/Y2xXN5xjKDejStTbYYN6seYkUOYNefDSuW7HTq9nrm/HWbxuN54OTswdsnv9GzmR4inS4nMzKjwkt8/HYzndHKmqaLM07XxMIvHRyq6vthCz+b+xroGti/VdeBMpXTd7XbhH9kG5yBv1nR/kQbhIXSZO4GNg98qJ9dl7kT2vfwVaTHn6bd8Jn69W3N1x3HiPv+Vo/NXA9BiUn/aTh/O/le+pfW0oWScvMT2xz/GJcSHoWuepejPFRapkxFWVjg++QI33noR/fU0nOd9QdGhfYqRMFC4+w8KtyjBr2w7dsVx4jPkznkZu669wcaWnBcmgl0dXP67jKI929CnmY6QibDCftw08j78FzIjDac3PqM49k/0SZeN5ewdqNNvONrzp0oO6a5eJPftqaDXI1zccJr9BTdi99ds76ESZQkhnkSJ43STLw1RWSuDDUqwv16AP7BbCNFKSlnlwH//pIF1H5SgV4WgRCuUUiaVSdsKvFYm/K0PcPVmZinlmZt5zSXuShoBHs74uztja2PNgDbB7Dx5uUL5TbEJRLUtjXPxV2I6GbkaujT1Mykf1L89p9cosapTjp6njnNdHD2Nw586erpi5+RAytHzAJxes5fgAeUj1TV+oJNRwKigAe3JuZJGRvzVcrJ3okPbVrg416t0vtsRdzWDALd6+Ls5KdeyZUN2nqn43DaduERUq8Cq6Uq8ToCbU6muVoHsPJ1YY7rudrtoOKA951Yr7SIt5jx2LnVxuKVdOHi6YlvPgbQYpV2cW72XwCilXRTnakrkbBzrlHwV7drUj+R9imcj+3wywtEZ6jhapE5lsWnSAn3yVfQpyaDVUrR3O3YR3Y2FNKUvRKJOmY89pUTYO4CVNaJOHdBqkZq8CnVZBzdDn5qETEsGnZbiQzuxbdetnJz98AkU/rYCiotKDxYVlj7kbe3gbnxcrpdmb1LKL6WUHcpstxqQq0BAmX1/yjwDDSQCG6SUxVLKCyhRZ5tUpwr/JCOyFQgQQsQLIRYJIXqWSVsGfCqlXF3m2DfAv4QQ+4UQ7xgGlCpFanY+3i6lQW68XBxJzTHdYJMyb5CUcYOIxop7Sa+XLNh4kBn339qbLMXJuz65SaVvc7nJGTh51y8vk5xxWxnfTs3QpGeTfVFxz9g61qH9lAeIXrjWzJrefVJzNHg7O5bsezk7kJqjMSmblJVHUlYeEUFVG/NLvaExvm/OjqTe0ksz0pWZS0Swl/nl3+V24ehdn7wy7SIvOQPHW+65o3d98su0i/xbZML/NYqHoj8hZHhXYuavASDjr8sEDlIMjUfbYISDC8K+nkXqVBbh5oEuvdQVr7+ehpW7Rzm5OgOH4fL5jziMf5r8rz4BoGj/TmSBBtdv1uL65UoK1q1A5t6oWFd9D2RGGV0ZaYj67kYyVoGNsXLzRHv8YLn81sHNcXrnK+rNWYLmu49rfkpuzc7OigaaCCGChBB2wGjKhwNfh9ILweDNaQokVKcK/xgjYhjLaI/SnUsDVgghJhiS/wAeFUI4lpGPBYKB+YAbykyFFqbKFkI8KYQ4LIQ4/PWW8g3JHLbEJtC3VRDWhuU4Vu4/RffmAXi53v1Ia02GdjHqhUTMGEHsV5spzq9Ux+tvw5a4y/QNDSi5lndV14lL9A1reNd01Va7iPlgFSs7Ps/5X/6kxcR+AJz49H/YOddlyNZ3aTGpPzI7pUprN1mqToWb1pE9ZQya777AYdRjgNKLQa8na/IIsp4ejf3Qh7Dy8qm6EiFwGD0Fzc+mx/50CafJff1xcmc/Q537HwEb26rrMkUleiJ3QkqpRRkP3gKcAlZKKU8KIWYLIYYYxLYA14UQfwE7gJlSyuumSzSPf8yYCIAh1vpOYKcQ4gQw3pA0DyU2+yohxFDDxbxpeNYCa4UQemAQysW9tdwvgS8BNOvnldwtTxdHrmWXvo2lZOfj6Wz6j7L5WILRYOKxS6kcvXiNlftPoSksplinx9HOlhnPPIlNYGse3lxA6rEEnHxL34qcfNzIvWbsm8+9lomTj1uFMsLaipCojqwYVBrq1KtdY0IGRdB11mjqODti5WAPUqIvyDF57pbA09mBa2V6Ayk5GjydTa9JtTnuEq8OKu+yM1tXPQfj+5aTj2eZXpCRrhOXePWByum6m+1iyNYC0mMTqFumXdT1cSP/lnaRfy0TxzLtwtGEDEDC2j/pt/wlYhespThXw94ZpR6Q4LOfIfOz7lqdnh/U0WR+mZGOtUdpL9PKvQH66+kmZQGK9m7D8SllgNvuvr4UHz0EOh0yOwvt6ThsQppTlJJsWldmOsKtjC63BsjMMs9Me0es/Brh9MoCAISLG47PzSb/P2+guxhfIqZPvgyFGqz9g4yOVxdZwz0bKeVvwG+3HHujzG8JzDBsNcI/xogYBsb1UsqzhkNtgUtAS8P+C8CPwNeGHkpX4C/DXGg7IBTFAJlNmH8DLqfncDXjBp7Ojmw5lsB7j/QqJ3chNYscTRFtAksb69wxpXLrD8fzV2I6zw/qiO7CUXQXjrLi2eMERral9YR+nF2/H692IRTdyCc/1Xh8Kz81i6JcDV7tQkg5ep7mI7tz/NutJekBPVqSeT6JvGulro21I0vjdEdMH0H7p3rWqgEBCPN14/L1G1zNzMWzngNb4i7z3sgu5eQupOUo1zLA3UQpZuryc+dyRhldJy7x3qjys4UupGWTU1BEm4DyrpTbln8X28WGqcfx79OWFhP6cWH9fhqEh1CUk4/mlnahSc2i+IaGBuEhpMWcp/GD3TllaBfOQV7kGGaeNRwQTrZhRpWdsyNaTSH6Yh1Nx/RCf/0KaIvuWp0qQnv2NFY+/lh5eqPPSMeueyR5C41jy1v5+KFPVtz5tu27oE9WxrT0aSnYtgqnaNdWqGOPTdNQCv63qkJdugtnsPb0Q3h4IzPTsY3oRf4X75W5kHnceK50BmDdfy2gYMUX6C7GK3kyUpWBdXdPrLwD0KdXMIBfVdRlTyyKE/BfIYQroAXOobi2VoNiYYUQ44GNKD2TE8DnQgiB4rb7FVhTGYU21la8MrQLU77ajF4vGdqxKY2967NoyxFC/T3oFaYMxm6OTSCqTTCKKvO5tD2WwMg2jNu7AK2miG0vlr4lPrz53ZLpurteW0qfj57Ext6OSzuOcWnHsRK5JkM6G7myaoKZb75P9NHjZGXl0GfYo0ydPI6RgwdUq0wbayteGdSeKct3oZd6hrYLprGnC4u2nyDU141ezZUB2c1xl4hqGVjpa1lO1/0dmPLdDuW+hQfT2NOVRduOE+rnRq/m/oquE1XTdbfbReK2WPwj2zBy3wJ0miL2lOk9DNn6Lhv6K+1i/6yl9Fj4JNb2dlzdcYzE7Uq7aP/qw7iE+CD1ktyr6ex/5VsAXJr40uPjp0BC1plEik9ss1idjNDryF/yMfXe/FCZ4rvtN3RXLuLwyCS0505THP0n9oNGYNO6Pei0yNxc8v4zF4CCTetwmvYKzp8sRQhB4fZN6C7dxqWv16P54b/UffF9ZYrvns3oky5RZ9h4dBfj0cZW/N+xadKSOvePBp0WpESz/D/I3Bp+GavBjw1rCyHvgfXsa5Ky7qy7ydfPHreEGsCyS8Fr1aXgq8XPUy3XLkYvam0RPZZdCr6GxyzugMu3f1TDmkLeW4+Y/byp+9ZP1dJ1t/gn9URUVFRU7i3ugZ6IakRUVFRUags1xrqKioqKSpVReyIqKioqKlVFatXZWSoqKioqVUXtiaioqKioVBl1TOQepK6zRdS8kLLDInoAJltq2i1g02/8nYVqAG1MtVavrhwWnE4888Yhi+kaXbf7nYVqAPseTS2iB0Bq/mFL/ag9ERUVFRWVqiJVI6KioqKiUmXUgXUVFRUVlSqj9kRUVFRUVKqMakRUVFRUVKrKvbB2YbWMiBDiNWAMoAP0wFPAB8BLUsrDQogglIiEzwJ7gCVAa0AAWUCUIebH35Z9Jy8yb/VO9Ho9w7u1ZFL/CKP0+at3Eh2vLFNdUFxMxg0Nez+cCsDCX3azJ+4CUkLn5g15eVSvSq1+uvCj2QyMiiRfo2Hy5OkcjY0zSndyqsvOHb+U7Pv7+fDDj2t58aU3za/f2WTmbY5Br5cMDw9mUo9Q4/ptjiH6Qqqhfjoy8grY++pIU0VVmtff+4jd+w7hVt+Vdd+bDgpUGfb9dZF5a3YpdekSxqT+xsuRz1+zi+izhntVpCUjN5+986YQHX+F+Wt3l8hdTMnk/QkDiWwTQkVYsl28N+91+vbviSZfw7Qpr3D82F/lZGxtbfngwzfo1iMCvV7y7uyP2LhhK1Oemcij40eh1Wq5np7Jc8+8SuKVJBNaaq+tWzUKw67XaLCyQntiD9ro8jPvrJt2wLbLYJCgT79C0W9fmVU2gHVwK+z6PwrCCm3sLor3bzRKt2ndHbvI0ehzlXgs2sN/oI3dhVVgC+z6jSk9T3cfCn9ZhC4+xmzdd+T/c09ECNEFeAAIl1IWGkIt2pVJ9wc2Ay9KKbcIIV4FUqSUrQzpzYDiap39XUan1zN35XYWTxuBl2s9xs77kZ6tQgjxKY11MfPBXiW/f9p5lNNX0gCITUgiNiGJVa+NA2DiRys5fDaRjk0DMIeBUZE0aRxE89DudIoI57NP59K1+2AjmdzcPDp07F+yf/DAJtat++3Wom5fv98Os3hcb7ycHRi75Hd6NvMjxNOltH5R4aX1OxjP6eTygY+qyrBB/Rgzcgiz5nxY7bJ0ej1zV+1k8TPD8XJ1Yuz8n+nZKtj4Xo0sjaj8065YTicq96pj0wBWvjIWgOy8AgbPXkqXFg1vr8tC7aJv/54EhzQiom0/2ndsw/yFbzMgclQ5uRkzp5CWfp1O4QMQQlC/vhKT/cTxv+jbcwQaTQETJz/CW7Nf5vGJL9RqnYwQArvIMRSuWYi8kYn92NfQnT+GzCgNMiVcPbGNGEjBzx9AYT441LtzuWXLj3qMgh/nIXMysJ/0NtqzMch0Y0OqPXWQoi3LjY7pL52i4CtDsDf7ujhOnY8uwfhFrtrcA0akOhPgfYB0KWUhgJQyXUqZVCZtK/CalHJDmWMlQeOllGcMxqeREOK0EGKpIX76D0KIvkKIfUKIs0KICAAhRF0hxDdCiENCiKNCiKGG442EEHuEEDGGravheC8hxE4hxGpD+T+ISgZBiLt4jYAGrvh7uGJrY82A9s3Yefx8hfKbDp8hqkMzQOlqFRXrKNbqKdLq0Op0uFcQXc8UgwcPYPkPSsj4g4dicHF1wdu74pjjTZoE49nAgz17zQ/vG3c1gwC3evi7OSn1a9mQnWeuVii/6cQloloFml3+nejQthUuzpV4INyGuEspBHi44O/hYrhXTdl5ouI4E5uOxBPVvvz3C7/HnqVbaCMc7CpeUtyS7WLgoD6s/EnpbR6JPoaLSz28vBqUkxvz6Eg+WfAFoLhIMjIUY793z0E0mgIADkfH4uNnOpZ8bbV1K+8gZFYaMjsd9Dq0p6OxDmlrJGPTqgfFsTsUAwKgqTimernyfUPQZ6Qis9JAr0P31wFsmobfOeMt2LToiO788ZIgXjWF1OrN3sxBCBElhDgjhDgnhHjlNnIjhRBSCFH1EKIGquPO2gq8IYSIR4lxvkJKucuQtgx4XUq5uoz8N8BWIcSDwDZgWZkohY2BUcAklGDzY4DuwBBgFjAMeA3YLqWcZAhMdUgI8QeQCvSTUhYIIZoAPwE3L0w7IAxIAvYB3YC95lYwNSsX7/qlDzkvVydOXDQd2Szpeg5J17OJaKa8fbUJ9qVj0wD6zvoSpOThnm0J9jY/Wp+fr7eR2+FqYjJ+vt5cu5ZqUv7hh4awatUGk2kVkZqjwbvMn93L2YETiRkmZZOy8kjKyiMiqGJDVptU6l5lGO6ViTflLUfiGRfZruZ0VbNd+Ph6cTWxtOykqyn4+HqRkpJWcszZRTmXV19/gW7dI7hw4TKvvDSbtDTj0NljHxvFtt93Y4raauvCyRV5o7TNydxMrHyCjGXqe2EF2Dz8LyWw1P4N6C+eNK/8evWRN0qvg8zJwMqvvJvSunlHHAKaoc+4RtHvPxqdE4BNaGeKD96FD1xr8IN1IYQ18BnQD0gEooUQG6SUf90iVw94HjD/jfM2VLknYhjLaI8SXTANWGEISwuKUXlUCOFYRj4WCAbmA24oFWxhSL4gpTwhpdQDJ4FthljAJ4BGBpn+wCtCiFiUMLf2QEPAFlhiiLm+CiUM7k0OSSkTDeXGlimrxtly5Ax92zXF2vB18+XULBKuZbD1ncfZ+u4TRMdfIeZc4t1Sz0MPDeXnFevuWvlb4i7TNzSgpH7/ZLYciadv2ybl6pKWnce55Ot0aVFzvS1LtAsbaxv8/H04dDCGyPuGc/hQLG+/a/wSOurhIbRt15JPPzF/LKEiLN3WhZU1or4Xhas+pOjXJdj1ewzq1FygMO3ZWDSfzkDz1evoLpykzpAnjfU7uWDVwB9dwoka03kTqZdmb2YQAZyTUiZIKYuAn4GhJuTmoIxdF9REHar1RJBS6qSUO6WUb6IMnt8ccZ2H0qNYJYSwKSOfK6VcK6WcCnwPDDIklV2rQF9mX09pb0kAI6WUbQ1bQynlKWA6kAK0QemB2JUpq2y5OiroeQkhnhRCHBZCHP761z0lxz1dnbiWWdp1TsnKxdPVyeS12HyktHsPsP3YOVoHeeNob4ejvR3dQhtx7EKyybw3mfL0eA5Hb+Vw9FaSr6XgH+Bbkubn78PVJNNvhq1bh2JjY0PM0co1ck9nB67l5Jfsp+Ro8HQ2/ee8Gbb270ql7lWMaVfW1qPx9G4dgq21dc3pqkK7mPTEWHbsXc+OvetJuZaGn793SZqvnxfJSSlG8hkZmeTl5bNxgxJjff26TbRuU/oudV+vrkx/aQqPPvw0RUWmhyEt3dZvInOzEPXcSvaFU33kDeN48vobmejOx4Jeh8xJR2amYOVq2i1XrvwbmYh6pb0i4eyGvHHLuJ4mVwmBC2hjd2Ll3cgo2bpFJ7TxR0B/Fz4M1Euzt7LPKcP25C2l+QFXyuwnGo6VIIQIBwKklDUWbrLKRkQI0czgPrpJW+BSmf0XgBzga6HQTQhR35DXDqXHUFb+TmwBpt0c1xBC3PQ5uADJht7GOOD2TwATSCm/lFJ2kFJ2mHx/j5LjYYHeXE7N5Gp6NsVaHVuOnKFnq+By+S9cyyAnv5A2QT4lx3zc6nHkbCJanZ5inY4jZxMJ9nYrl7csny9eRoeO/enQsT8bNmxh3NgHAegUEU5Odk6FrqzRDw9lRRV6IWG+bly+foOrmblK/eIu07OZXzm5C2k55GiKaBNgvjvO0oQ19OJyWlaZexV/m3tVYHSvbrL5SDwDTRiXcrrucrv4ZskP9O4+lN7dh/Lbr3/w0CPDAWjfsQ05OblGrqybbN28g+49OgFwX88unDl9DoBWrVuw4JPZPDr6adLTTbsqLVGnitBfu4hw9UQ4e4CVNTbNO6JLOGYkozt/FGt/g9Gyd0LU90KfXf4amCw/KQErNy+Ei1K+dWhntPFHjWSEU+lEEuum4eivGw+624R1RnvygFn6Ko3e/K3sc8qwfVkZVUIIK+Aj4MWarEJ1xkScgP8axie0wDkU19ZqACmlFEKMBzai9ExOAJ8bjIAV8CuwBjD39XYO8DFw3HAxLqDMDlsErBFCPIYyGyyvGnUywsbailceimTKZ2vR6yVDu4TR2NeDRRv/JLShF71aK77VzUfOENW+qdGUxr7tmnDozBVGvbscIaBraCN6tqp4yuit/LZpG1FRkZw5tY98jYbHH59RknY4eqvRrKwHRw5m8NBxVavfoPZMWb4LvdQztF0wjT1dWLT9BKG+bvRqrhiUm72QSs5LuCMz33yf6KPHycrKoc+wR5k6eRwjBw+oUlk21la8MqoXUxatQy8lQzuH0tjHnUW/7lfuleGBuDkmnqjwpuXqcvV6Dtcyb9C+sb95uizULn7fspO+/XsSfewPNPkanpv6aknajr3r6d1d8Va8/cZ8Pv9yPu+8P4vr6ZlMm6q4s96a8y/q1nXk62X/UeqZmMSjo6fUap2MkHqKdvxInZEvgBBo4/Yhrydh23UI+muX0CUcQ3/xJDIwDPvxb4PUU7x7NRSY+TeXeoq2fIf9Iy+DlUB7bDcy/Sq2941An3wB3dmj2HToj03Tdki9HjS5FP5vSUl24eKBcHZDf+m0efoqSQ2vnXUVKDvQ50+ZyUxAPaAlsNNw/7yBDUKIIVLKw1VVKu6Fj11qEs0fiy1yQeoNmmMJNQDcWPa4xXSpq/hWj4ARH1lM15W1M+4sVAPI40csogcsv4pv3de+q9abVcbwnmY/b9x+2XVbXYahg3igD4rxiAbGSClNzkIQQuzE8E2f2Sdsgn/+KKmKiorKP5VKuLPuhJRSizI2vQU4BayUUp4UQswWQgy5G6cP6rInKioqKrVGTcekklL+Bvx2y7E3KpDtVRM6VSOioqKiUlv88wMbqkZERUVFpba4B6LjqkZERUVFpbaQ2to+g+qjGhEVFRWVWkLtidyD2IT1vLNQDdDO40eL6AEsOkXVUlNvbcKjLKIHgGLLTRttUW+VxXRZqq0Xx1ZrBuk9jWpEVFRUVFSqjqzZD3hrA9WIqKioqNQSak9ERUVFRaXKSL3aE1FRUVFRqSJ6nWpEVFRUVFSqiOrOUlFRUVGpMqo7q4YRQvQCdgBDpJT/MxzbCHwopdxZdtVJIcRFoIOUMt1EOS8A7wNeUsrsMmW/JKV8oDLntPdgDO9/+hU6nZ6R9/fj8bEjjdKTrqXy73n/JSMrB5d6Trz/2nS8PT0AWLB4KbsPHEGvl3Tp0IZXpz1+2+XUX5zzHN0iO1OgKeTt6XM5cyK+QtkFS+fi19CH0ZETAHhv8VsEhiirQDs5O5Gbk8vYfpPvWL99Z5OY99sR9FIyPDyESfeFGaXP33SE6AtKEKSCYh0ZeQXsnTXqjuWWlP/XReat2YVeLxneJYxJ/Tsal79mF9FnlSh4BUVaMnLz2TtvCtHxV5i/tjSU68WUTN6fMJDINuYvp1+W19/7iN37DuFW35V13y+uUhllsWS7eH72M3SO7EShppD3ps8jPu5shbJzv52Db0MfxvdRVm6ePHMCPfp3Qy/1ZKZn8d70eVxPuW4yryXrZNUoDLvIR0BYoT2xB+2hTUbp1mFdses5CpmrBJAqProD3QklYJztfSOxDm6tHN+/Ed2Z6Ar1AFgHt8Ku/6OKrthdFO/faJRu07o7dpGj0Rt0aQ//gTZ2F1aBLbDrN6b0nN19KPxlEbr4mNvqqwz3wiLqfysjYiARJZ76/6pRxiMoyyCPAL6taiE6nY53PvmCJR++jXcDdx5+eia9u0UQ0qh0yf4PP1/KkP69GRoVycGY43y8ZDnvvzado3GnORp3mrVffwzAY9NmER0bR0S7ViZ1dY3sTMMgf0Z0G0PL8FBemTuDiQ88bVK298D7yM/LNzo26+m3Sn6/8MYz5N7IvXP99HrmbjzM4vGReDk7MPaLLfRs7k+IZ2mQnpkD25f8/unAGU4nZ5oqquLyV+1k8TPD8XJ1Yuz8n+nZKpgQn9LgVjNHln6r8NOuWE4nKsGGOjYNYOUrYwHIzitg8OyldGnR0GzdtzJsUD/GjBzCrDkfVrmMm1iyXXSOjMA/yJ9Huj9GaHgLXpz7PE8Nftak7H0Du6PJ0xgd++nzlXw9fykAIycNZ8L0cSx45eNarRNCYNd3LIWrPkLeyMT+0dfRnY9FXjeOhqg9E03xNuPvqayCW2HlGUjBsrfBxoY6D89Ed+EEFFUQ6VUI7KIeo+DHecicDOwnvY32bAwy3TjwlPbUQYq2LDc6pr90ioKv/q3s2NfFcep8dAlxpvVUkXuhJ1LjX6EJIRoJIU4LIZYKIeKFED8IIfoKIfYJIc4KISKEEHWFEN8IIQ4JIY4KIcrGAT4GZAsh+lVRfwhKwKzXUYxJlTlx+iwN/XwI8PXG1taWgZHd2b7POLb9+UtXiAhX/iwR7VqxY98hw3lAUVERxVotRcVairVa3N1cK9TVc0B3fl29BYC4mL+o5+KEu2f5SIIOjg6Meeohvvn4uwrL6jukN1vWbbtj/eISrxPg5oS/mxO2NtYMaBXIztMVx8bedOISUa3MD5EbdymFAA8X/D1clPLbN2XniYSKyz9iOmzt77Fn6RbaCAc7W7N130qHtq1wca5X5fxlsWS76D6gG5tXK2Fv/4o5hZOLE+6e5aMGOjja8/CTD/LdJz8YHc/PzTeSqejV15J1svIOQmamIrPTQa9De/oQ1iFtK5Q3yuvuQ19mXAAAIABJREFUiy4xXhlMKC5CpiViHdSyYnnfEPQZqcisNNDr0P11AJum4WbpKotNi47ozh8HbVGl894OvU6Yvf1duVufMjcGFgDNDdsYoDvwEjALpaexXUoZAfQG5gsh6pbJ/y6KEagKo1EC1O8BmgkhzAvGbILUtAy8G3iU7Hs1cCc1zTjEaLOQRvyxWwmd+ceeA+Tla8jKzqFtWHM6tm1F7xET6T1yIt0i2hESGEBFNPD2ICWpNPxtalIant4e5eSefnkyPyxeQUEFwXfadWrD9bQMrlyo2BiU6Lihwdul9LJ7OTuSmpNvUjYpK4+kzFwigs2/nKlZuXjXL31we7k6kZpluoeUlJFD0vVsIpqWv0ZbzAxbayks3S5Sk0pDwaYlp+Fhol08/vJEfv5iFQWa8m/kT/xrEqujf6Lf8D4lvZLarJOoV98ozrnMzUTUq19OzqZJOPbj38JuyNMl6frUK4rRsLEDByesApobxWg3ravUfSdzMkzqsm7+f+ydeVyU1f7434cBRURA9kVBXBPcAkXFHRVcyt3MMFPT3DLTssW63VLLLK28LVqWabaqZfptUXO7KrnvuKBJiiirgAgM28z5/fEMy8CMsjV4/T1vX/Ny5pzPOZ/nMGeez3O2z6cT9SYvou6Ip03WZx3wz4TIlXpR4de9yj9lRP6WUp4xxD0/C+yUSgjFM0ATIBx4SQhxEtgD2ALFcxVSyr0AQojuVdA9FvjeoPtHoOIT+FXg+ekTOXrqLKMmz+HoqbN4uLpgZWVFXHwCsXHx7NzwBbs2fMHh42c4dtpkgLEK0zKwOY2a+LBn6z6zMuHD+rK9AqOQyrLtzFX6Bfqi+YdcqGw7dpF+HVqUqz/lVjZ/Jdyka+uKj4DuBSzZL5oHNsPbz5t9W6NM5q9asppRncbyx6adjJg4rMp6LNkm3eVTaFe9RO7a19FfOUedgZMA0F89hy72DLaPvUTdwU+hv3EZ9NXb4lR46STaj+ai/fxVdH+fpe6Qp4zyhb0jVm6N0MWeqZYeU0gpKvy6V/mn1kRKPybrS33WG3TqgJFSypjShcqMGopGIxX2cymEaAu0AP4wLOrVQYnF/tFdyj2FEh+eT955ncnjHgHA3c2ZxJSSdfuklJu4uxk/pbi7OrN8oRLPOidHy47/HsChgT0bf/2D9gEtsbOrB0D3zkGcOhtDcLuShevRE4YzLFJZ5z938gIe3u4l9Xq7kZxovGegbXAgrdu1YvOhH9BoNDi7NmTlxuVMGzUbAI1GQ59BPRk/YEqF/l7uDeqReKskVnVSZg7uDnYmZbeeucrLD3WsUL3F9TvZk5h+u6T+jCzcnexN13/8Ii+P7l0uffuJi/Rp1wwbjaZSuv9J/ul+MfyJoTwcOQiACydjcPd2K85z83IjtUy/aBMcwAPtWrL+4DdorDU0dHHiPxuW8czo54zktv+0k3fXvcXqZWst3qbSyNvGIw9hbzwyAYxiqBee2YdNr1Elnw/9SuGhXwGoM3gK+vQkk3pKdJVMCwsH5/K6tCWj48KTe6gTNsYoW9O6M4UXj4FeZ1ZPVanpLb5CiAHAckADfC6lfLtM/lxgMsp9NQWYJKW8Wh2dtRUedxswSxju9EKIB8sKSCm3Aw2BdpWodyzwupSyieHlDXgLIe74GCul/ExK2VFK2bHIgAC0adWCuPgE4hOSKCgo4Pdd++kTGmJUNj0jE73hSWjVtz8yfFBfALzc3Th68iyFhToKCgs5eiqapn6NjMpuWLOJyP5PEtn/SfZs3cfgURGK3qAAsjKzuZlsvIvmx682MyhoBEM7j2HKsKeJi71WbEAAQnoEc/WvOJITUqgIgT4uxKXd5np6FgWFOraduUqvB3zKyf2dcovM3HzaNy4/jXLH+n09iEvJ4HrqLaX+Yxfp1bZp+foT08jMyaW9v1e5vK332FQW/PP9YtPazUwKn8qk8Kns2xbFgFHhAAQEtTb0C+Nppp+/+j+GB4/hkS6RzBw2m2ux8cUGpJF/yffZIyKUuMvXaqVNpdEnXkE09EA4uoKVBusHQtBdPmUsVL9kc4emWQf0RYvuQoCtMgUrXBth5dYI/RXzox79jVisnEt0aQK6UHjxhJGMsC+lq2UQ+pvGi+7Wgf/MVBaAXooKv+6GEEIDfAwMBAKAsUKIgDJiJ1B2tbYDNgLvVLcNtbU7ayHwAXBaCGGFMlowtfX2TWDzHeo5LYQosuXrgWHAoDIym1DWSQ5RSaytNcyfPYWp895Ap9cxfGA/mvv78tHqbwls1Zw+3UI4cjKaD1atQwhBcLsAXn12KgDhvbpy+MRphk+ajRDQPSSI3mV+lKWJ2nmQbn27sunP78jV5rFgzuLivG/++KJC23XDh/Zl2887Kt4+jRUvDe7I9K92o9dLhgY1pbm7E5/sPE2AjzO9H1BuBFvPXGVAG787btk0W//o3kz/5Gf0UjK0SwDNvVz45NcDBPh60NtgULYev8iAoJbl6r9+M5PE9NsENzd/Q6oo8/79NkdOnCYjI5O+w8Yx48nHGflwRJXqsmS/OLDzEF3COvN91Dpytbksnvtucd7q7Z8yKXzqHa916suT8W3WGKmXJF5PYqmJnVmWbhNST/7Ob6k78lmwsqLwTBTy5g1sug1Fn3gF3eVT2AT1RdOsPej1yNxs8rcaNllaabAd+6JSTZ6WvF8/v/PjvNSTv+0rbMe+AFaCwlN7kanXsek5An3C3+guncC6YzjWLR9E6vWgzSLv/1YVFxeOrggHZ/RXL9zx71xVaniaKgT4S0oZCyCE+B4YCpwr0Sd3l5I/CIyrrlIh74eNyjVIQcJ5i/xBQoPv/OOvSfa+39diumjodneZGuB+dQUf1tH09t1/gl1H7zjLW2MUfLPMInoAZF7N7p66G/Vf+apaVuB8i0EVvt+0vvTbHXUJIUYBA6SUkw2fHwc6SylNdiohxEdAopRyUSUuuRz34jkRFRUVlf8vqMyuq9JrtwY+k1J+VhW9QohxQEeg2kFlVCOioqKiUktUZK2jCIPBuJPRuA6U3lvdyJBmhBCiH8oxi15SymoPs1UjoqKiolJL1PCayBGghRDCH8V4PIpyRq8YwyamT1GmvZLLV1F5VCOioqKiUkvU5JK0lLJQCPE0yu5XDbBaSnlWCLEAOCql3AK8i+LRY4NhI0uclHJIdfSqRkRFRUWllqjMdFZFkFL+BvxWJu21Uu/71ahCVCOioqKiUmvo72F3JhVFNSJlsalrETXWwoInsG3rWU7XP+QWpRwW3HZrqT4BYC0seP7XUu2qZ2sZPYCoW8diumqCmh6J1AaqEVFRUVGpJe5ln1gVRTUiKioqKrWEOhJRUVFRUaky94O/ENWIqKioqNQSOn1t+cCtOVQjoqKiolJL1LAn+FpBNSIqKioqtYREXROpMEKI3ihu3f9GiWOSDDxWdPTe4FxsrkE8E5grpdxvyNsDeAFaoC7wfpHjMSFEIxQf+gGGen8B5qGE3V1iqK85ihsALXBaSjm+Jtr06lvvsTfqMM4Nnfj565XVrm/OglmEhnUmV5vLwjlLuBh9yazsO18uwtvXm3F9lYhvT859gqGPDSY97RYAK9/+nAO7THu/j4qJ553NB9FLPcNDWjGpT3uj/He3HOTIZSV+Q25BIWlZuexf8HhxflZuPiOW/UifQD9eHhZ6xzZFnb3COxv3oNfrGd6tDZPCjV2Ev7txD0cuxht0FZB2W8v+pTMAeH/TXvZF/42U0OUBX14Y3fuO7uj3HzrO2x99jk6nZ+Tg/kyOHGmUfyMxmX+98yFpGZk4NrDn7Vfm4OmuxEhZtnINew8eQ6+XdO3YnpdnTa606/siarpfzFowg85hIeRq81gy510uRf9lVnbR6gV4+3oyqZ/ip2/qq1MI7deFgoJCbly9wZK5S8nOzDZb/k7UZLuirqTy7t4Y9FIyLNCHSR39y8lsv5jIykOxCAEtXRuweEBbYlJu8+bu82TnF6IRgic7+RPR0vPOuq7e5N19FxVdAd5MCm5SXtelJFYejkUIQUsXexZHtFF07blAdoFO0dWxCREtqhxt2yT6+2BRxNIjkX1SyocAhBCLgZnAv4UQDwFTge5SylQhRBDwsxAiREqZaCgbKaU8KoRwBi4LIdYABcBPwAop5VBDUJbPgDellPNQjv8XGaHnpZRHa7Ixwwb157GRQ5i/cGm16+oa1pnG/j6M7j6OwKDWvLB4DpMfnmFSttfAHmizy8fS/n7VRr79dP0d9ej0ehZv+pOVUwbg4VifyA+30CvAl2YeJZHm5g3pUvz+u6izXLhuHBzr423HCPK/8w+3WNf6XaycNQIPpwZEvvMtvdo2o5lXSaS5eaN6l+jac4IL15SAWidjb3Ay9gYbXlGM18T31nP0UjydTMRgB9DpdCxa/imrlr6Bp5sLY6bNo0+3EJo1KZFfumINQ8L7MHRAGIeOn+aDVet4+5U5nIi+wInoC/z0hRJrY/ys+Rw5GU3Ig23v2kZT1GS/6BwWgo+/D+O6T6B1UGvmLH6GGQ8/Y1K2x8Du5OZojdKO7T3OqsVfoNfpeWr+ZCKfHstnb31epWupqXbp9JK391xgxfAgPOxtifzhEL383WjmUhL18mpGNquPXmHN6E442NqQlqO4eLe1tmJheCB+TvVJzsol8vtDhPq50KCujXld/41hxdAH8bCvS+T6I/Tyd6WZc2ldOaw+doU1IzuW0aVhYf9A/JzsSM7KI3L9YUJ9nc3qqgr6+2AkUqlVHSFEEyHEBSHEGiHERSHEN0KIfkKIKCHEJSFEiBCivhBitRDisBDihBBiqIl6BNAAKIpT+SIwT0qZCiClPA6sRTEyZbEHslFC7IYBuVLKLw3ldMAcYJIQwnSc1xqkY4e2ODo0qJG6ekZ04/eN2wE4e/w89o71cXF3LidXz86WsU+N5svl66qkJ/paCo1dHWjk4oCNtYaI9k3ZczbOrPzvJ2MZ0KFZ8edz8amkZWnp2rJ8BMRyuq4k0tjNiUauToqu4FbsOX3ZvK6jMQzo2AoAAeQX6Cgo1JNfqKNQp8PFTOhegDMXLuHr40Vjb09sbGwYGNadXVHGI7HLV68REqQYhpAH27I76rCiS0B+fj4FhYXkFxRSUFiIi7PTXdtnjprsF93Cu7J9oxJo7Pzx89R3sMfZRL+wtbNl9JSRrFv+jVH60b3H0OuUmfdzx8/j5lW56JSlqal2RSfdorGTHY0c7bDRWBHRwpM9scbRODdFX+eRdo1wsFVu2M52yiFCv4b18XNSIhu629vS0K4OaVrzMUSikzJp7FiPRo71DLo82BNrHF5409nrPNLWlC47/JzsDLrq0rBeHdK0BdVuf2kkosKve5WqbA1oDiwDHjC8HgO6A88D81FcDO+SUoagTCm9K4SobyjbQwhxEogD+gGrDemBwLEyeo4a0ov4RghxGogBFhoMRrlyUspMQ/3Nq9C2WsPN05WkGyVONVMSUnHzLP+Df+qFSXz36XpyteVHIqMmDmfdH5/zyrIXaOBoOpZ58q0cPB3rF3/2cLQj2cz0xo3029xIu01IcyVsrV4vWfbLIeYO7lyhNiVnZOHZsOSm4+FkT3JGlknZGzczuXHzFiGtlJFD+6bedGrZmH7zP6P/y5/RtXUTmnq6mCwLkJyShqdbyd/Lw82F5BTjMLKtmjVhx14lzOmOfQfJztGScSuTDoEP0KlDW/qMmEifkRPpFvIgzfxMj3gsjaunK8ml+kVqQiquJvrFpHkTWP/ZRnK15k/yDxwTwaHdR/6R66wMyVl5eNiXnJb3sK9LSrbxdV/NyCEuI4cJGw4z/ofDRF1JLVsN0Ym3KNRJGjuaf7hIzs7Fo0HJifk76tp4lPEbjhB19WbZaohOukWhXk9jx5r1/qBDVPh1r1IVI/K3lPKMlFIPnAV2SiU84hmgCRAOvGQwFnsAW8DXUHaflLKDlLIx8CWVi+8baYgL7As8f7e46ZVBCPGUEOKoEOLo5199V1PV1jgtApvh4+fNf7fuL5f301dbGBUayfjwKaQm3+SZ10xPhVWGbSdj6dfWH43Blcn6A+fp/kBjPJzq36VkFXQdi6Hfgy2LdcUlZxCbmMb2RZPZ/uYUjly8xvG/4qul4/npEzl66iyjJs/h6KmzeLi6YGVlRVx8ArFx8ezc8AW7NnzB4eNnOHbafNzue41mAc3w9vNm/9YoszKRsx5Dp9Ox46edFryyqqPTS+Iyclg1oiOLB7Rl4a5z3M4rGQWkZOfx6vZoXu8XgFUV166MdN3Ssmp4EIsj2rBw9/nyuv44x+t9q6+rLPpKvO5VqrImUtqM60t91hvq0wEjpZQxpQsJIcquSG0BfjS8PwcEA7tK5QejGCkjpJQpQojjQGdDuVFl9DigGBrzq4/l6ywO9lKQGmuxpa6RTwxjSORgAM6fvICHt3txnpuXKymJxk9fbYIDeaBdK346+B0aaw0NXZz4eMP7zBw9h/TU9GK5zd/8wtK1izGFu6MdibdKRh5Jt3JwdzBtFLaeijVaOD91NZkTVxJZf+A82rwCCnR67OrYMHtQJ9O6nOxJTL9doisjC3cn0yOkrcdieHlMWPHnXaf+op2/J3a2ytRCt4AmnPo7gSAz8dbd3ZxJTCn5eyWl3MTdzXjax93VmeULXwIgJ0fLjv8ewKGBPRt//YP2AS2xs1OeMrt3DuLU2RiC2wVSGwx7YgiDHxsEwIVTMbh7u1P0U3D1ciW1TL8IDG5Nq3Yt+e7AOjTWGpxcnHh/w1LmjH4egIjR4XTt15nnxrxg0XaYw92+LklZJbeRpKw83OrXLSfT1tMRG40VPo718HOqT1xGDoEejmTlFfLMlhPM7Nqcdl53nnZ0r29L0u2SUbtpXba09XBQdDnUw8/JjrgMLYEeNmTlF/LML6eY2aUp7Twda6D1xtzLxqGi/BMnXbYBswzrHkVBUEzRHSiaIH8HWCKEcDGU6QBMAD4pW8iw1vGgoexOwE4IMd6Qp0GZalsjpcypqQb9U/y49meeCJ/CE+FT2LstioGjwgEIDGpNdmY2N5ONp2M2fbWFIcGjGdFlLFOHzSIuNp6Zo+cAGK2f9B7Yg9iYv03qDGzkRlxqJtfTblNQqGPbqVh6BfiWk/s7OYNMbT7t/UoM2+LHerN1/qP8/vIY5jwUwkPBzc0aEIBAP0/iktO5nnpL0XUshl5tm5bXlZhGZk4e7f29itO8nBtw7FI8hTo9BTodxy7F09Sz/FpAEW1atSAuPoH4hCQKCgr4fdd++oQa7wRLz8hEr1d+tqu+/ZHhg5TY817ubhw9eZbCQh0FhYUcPRVNUz/TxsoS/Lx2C1MipjElYhpRW6MIH6V4724d1Jrs29mklekXW9b9wuiOjzK26+PMGj6H+Nj4YgPSqXdHHp3+CK9MfI28XAs6rbwDgR4OxGXkcP2WlgKdnm2XEund1M1Ipk9Td47GKw9G6dp8rmZk4+NQjwKdnud+PcVDD3jRvwI7pQI9GhB3K4frmUW6kujtbzwd2KepG0evl9aVU6Lrt9M81MqT/s1rdldWEffDmsg/sTtrIfABcFoIYYWypfchQ17RmogAbgGTAaSUW4QQPsCfQggJ3AbGSSkTStX7jRCiaIvvGinlMQAhxHDgEyHEv1CM4m8oazP/OPP+/TZHTpwmIyOTvsPGMePJxxn5cESV6vpz50FCwzqzIepr8rR5LJq7pDhv7fZVPBE+5Y7lZ746lZYBzZFSkhCfyJIX3zMpZ62x4qWhXZn++Vb0esnQTi1p7tmQT7YdI6CRK70DlVnCrSdjGdC+aZW3uRbreiSM6R//pOjqGkhzb1c++eVPAnw96N1OWbDfeiyGAcEtjXT1e7AFh2OuMfrNdQgBoQFN6NW2mTlVWFtrmD97ClPnvYFOr2P4wH409/flo9XfEtiqOX26hXDkZDQfrFqHEILgdgG8+uxUAMJ7deXwidMMnzQbIaB7SBC9yxigylCT/eLgrsN0DuvM1/vXkpebx5K5JTujVm1byZSIaXcsP3vR09jUsWHpd0p/Onf8PO+/vLxK11JT7bK2suLF3q2Ysfm40i8CvWnmYs8nB/8iwN2B3k3dCfVz4UDcTUas+xONleDZ7i1xqleHXy8kcPxGOhm5+Ww5fwOABf3b0MrN9IK/tZUVL/ZsxYzNJ9BLGBrgpeg6dFnR5e9GqK+zouubA2iE4NnQ5jjVs+HXmASO38ggI7eALReUW9GCvgFmdVWF+8ATPELWZGit+wBLTWf1bP+kJdQAsOuTgRbTRX0Hi6ixDuxlET2ARV3Bh3eYajFd209+ahE9BT+YfqD5R9BbdoLIbtYn1TIDmz0fq/D9Zmjit/ekyfnfd9yioqKi8j+KrhKviiCEGCCEiBFC/CWEeMlEfl0hxA+G/ENCiCbVbYNqRFRUVFRqCb0QFX7dDcOa8MfAQBQPHmOFEAFlxJ4E0qWUzYH3KfHqUWVUI6KioqJSS8hKvCpACPCXlDJWSpkPfA+UPew9FOUgN8BGoK+ozsInqhFRUVFRqTUqc06k9Hk2w+upMtX5ANdKfY43pJmUkVIWomxwMn+KtwKoXnxVVFRUaonK7M4qfZ7tXkI1IioqKiq1RA27M7kOlPbX08iQZkomXghhDTgC5f28VALViJTBUlss9+xeaBE9AN/2qb478ooy7/Zhi+hp3WCDRfQAWAvLzfpaatstWK6vZ+vNO0isaXysLbPFvIhNs6pXvobPiRwBWggh/FGMxaMovg1LswV4AjiA4u1jl6zmOQ/ViKioqKjUEjV5qkVKWSiEeBrFa4gGWC2lPCuEWAAclVJuAb4A1gkh/gLSUAxNtVCNiIqKikotUdMnm6WUv6F47Sid9lqp97nA6JrUqRoRFRUVlVrifnB7ohoRFRUVlVrifvDiqxoRFRUVlVpCp45EVFRUVFSqijoSqQSGWCFFYdU8UXyKFQVWDkfZkjZLSrmyVJkrQMei2OtCiN7A81LKh4QQrwNZUsqlpuQNLuXfk1I+Z8h7HrCXUr5e2WuftWAGncNCyNXmsWTOu1yKNh/vatHqBXj7ejKpn3KYtNfgnkyY+zi+LXyZ/tAsLp6+aLLc/mNnWLLqO/R6yYj+PXhy9CCj/BvJqby2/EvSM7NwtK/PW89NxtPVmQuxcSz6ZB3ZOblYaayY8shgBvQw7ca884LHaRTWgUJtHvvnfMbN6CvlZFzaNqHH+1PR2NYhftdJDr2mxHJ/cN4ofMODkFKSm5rJvjmfok3KoI6jHd2XPUUDP3d0eQV8Me0ZLpy/ZFTnW++8Sr/wXmhztMya/hKnT50rp9fGxoYlS1+jW48Q9HrJmwve45ct25k+cyLjnhhNYWEhN1PTeWbmy8Rfu2H27z97wUy6hHUmT5vHW3Pe4WL0JbOyi79ciLevF0/0nQzAk/Mm0CO8G3qpJz01g7fmvMPNJPNb6KvTL6a+OoXQfl0oKCjkxtUbLJm7lGwzYYrvxKtvvcfeqMM4N3Ti56+rv5XbEn29iOcWPkNoWGdytXksmLOYmDPmv6ula97Cx9eLsWETi9MemTSCUROGodfpidp5kA8XmW//k288RXCfYPK0eXz43HJioy+Xk/nXV6/T0N0ZjbWG84fP8tmrK9Hr9YyZM5b+YyPIvHkLgK/f+Yrju8tG864a94MRsdgGeCnlTUNo3A7ASuD9Up9HAgeBsTWoMg8YIYQoH5C6EnQOC8HH34dx3Sew7MUPmLP4GbOyPQZ2JzdHa5T2d8wVXpvyBqcPnTFbTqfT89bKb1jx+hx+/nghv+89xOU44xvlstXreTgslB8/fIOpjz7Mf9YqQSFt69bhzbmT2fTJQla8/izvrPqezKzy8bgahbXHwd+TH7s/x58vfkHXxRNMXkvXxROJeuFzfuz+HA7+nvj0aQdA9Ipf2dx/PlvCX+HajhN0mDMcgHazhpJ29iqb+89n3+yVvLXkVaP6+oX3ommzJoR06M/c2f/i3fffMKl37rzppKTepHNQBKGdBvLnfiUW+JnT5+jXawS9Qofwf5u38voC89H5uoSF0Mi/EWO7j+edF9/jucWzzcr2HNgdbbbxd/XdivVM6D+FSeFT+XPHQSbMedxs+er2i2N7jzOx7xQm959KfOx1Ip+uWtcfNqg/K99bVKWyZbFEXy8iNKwzjf0bMbJbJItfWMqLi+eale09sEe57yo49EF6RnQjst+TPNpnAl+v+N5s+aA+wXg38WZGz6mseOljpr453aTc0hlLmDvgGWb3m4mDsyOhg7sV5/3f55uZO3A2cwfOrjEDAjXuO6tWuFd8Z40FngN8hBA1FVKuEMVFwJzqVNItvCvbN+4A4Pzx89R3sMfZvXyEPVs7W0ZPGcm65d8Ypcf9Fce12DvHBo++FIuvlzuNPN2wsbFmQM8Qdh86YSQTG5dA53atAQhp9wC7D50EoImPJ37eStQ1d5eGODs2ID3zNmXxjQjmr41KbPaU45ep41ifeu7GoUXruTth06AeKceVp7S/Nu7Hb0BHAAqySn7E1nZ1wXA+yamlDwlRysji1uUEGvv54OZW4opn4KC+rP9uEwDHjpzC0bEBHh7GUewAHhs3kuXLlIN2UkrS0pRIc/v3HUKrVcKbHj1yEi8f8xHmukd0Y+vG7YASfMne0d4o4mNxO+1sGfPUKL4q813llDK+9exsi9toiur2i6N7j6HX6Yuv1c2ras86HTu0xdGhZoIkWaKvF9Ezoju/bdwGQPTxczQw+13V47Gpj7D6g6+M0keOH8raj76lIF+JhZ5+M8OsrpDwLuz+UYm8ffFEDPUd6tPQvWE5Oa2hj2usNVjXsUZa4NatFxV/3avUuhERQjQGvKSUh4H1wJgyIruFECcNERE/r2T1HwORQogqB0d29XQl+UZy8efUhFRcPcv/4CfNm8D6zzaSq618CNKkmxl4uJb8gDxcGpJc5kfR0r8xOw4oT0A7DxxstB6yAAAgAElEQVQnW5tLRmaWkcyZi7EUFOpo7Fn+Jm3n2ZDsGyVTM9kJadh5Niwnk5NQEno1p4xM0IujeeTIcpoND+X4u8pIKO1cHH6DFEPj2qEpjRt74+3jWVzGy9uD6/GJxZ9vXE/Cy9vYEDg4KjfBl199ll17N/HF2uVGhqiIyPGj2fnH3nLpRbh5upJ8I6X4c0pCisnvavILE/n+0w3kanPL5U15cRIbj3xH/+F9+eLdNWZ11WS/GDgmgkO7j5jNtxSW6OtFuHu6klRKV/KNFNxN9NtpL0zi25Xry+nybdaIDp3bsfqXFaz8cTmt2z9gVpeLpws3E0ri0t9MvImzp2mfg6+te4M1J75Gm6XlwK9/FqcPemIw72/7D0+/+wz1HetXuJ13ozIOGO9Vat2IoBiN9Yb331N+SqtPqWmvyaXSzT0mFKdLKTOBrwDz43KMvWPeyK7Yk1RpmgU0w9vPm/1boypdtqI8N2k0x6Iv8sjs1zkaHYO7S0OsrEq+vpS0DOa/9zkLZk80Sq9Jji/ZwPpOs7m86U9aT+wPwJmP/o86DvUZsv1NWk8K58zp8+h0levy1hprfBp5cfjQccJ6Dufo4ZO88aZxPJ3RY4bQ4cE2fLS8ss8RxjQPVL6rfWa+q1VLVjOq01j+2LSTEROHVUtXRfpF5KzH0Ol07Phpp1mZewlL9PUiWgQ2x6eJD3u27iuXp9FocHRyYNJD0/nPwhUs/vT1GtG54PF/M6njeGzq2NC2mzKVu3Xd70zv8RRzB8wmPTmdia/WXFTSmg5KVRvcC7uzxgKeQohIw2dvIUQLKaX5VTaFm4BXmbQGQNlx7QfAceBLcxWV9o7Zp1F/OeyJIQx+TFnYvnAqBndvd+AsAK5erqQmphqVDwxuTat2LfnuwDo01hqcXJx4f8NS5ox+/i5NUPBwcSIptWQEkHQzHXcX46kmd5eGvD9/JgA52lx2/HkcB3s7ALJytMx8YzmzHh9B+wdK4pBbOXqhcfRgyPY3ST0ZS33vkqev+l7O5CSmG+nISUzHzqtkRGRnQgYg9qc/6b/ueU4u+4mCLC3755Y4Fu3759v06NWFD1e8DcDJ42fwaVQyMvH28SDhRpJRfWlp6WRn5/DLFmUqavPPvxM5flRxfs/eocx5fjpDBkaSb5i+KGL4E0N5ONLwXZ2Mwd275GnWzcut3HfVJjiAB9q1ZP3Bb9BYa2jo4sR/NizjmdHPGclt/2kn7657i9XL1han1XS/iBgdTtd+nXlujPl1nn8aS/b1UROGMSzyIQDOnYzBw9u9OM/d243kxBQj+XbBgbRu14qfD32PRqPB2bUhKzZ+wPRRz5KckMLu3/Ya6rqAXq/HydkRMpVnyIHjB9F/rBL//a/Tl3ApNV3o4ulCWqL5DRMFeQUc/uMgIf07c2rfSW6lltxStn+3jVe/fM1s2cpyL09TVZRaHYkIIVqi7JjykVI2kVI2ARZTsQX2vcAQIUQDQ10jgFNSSiOjLaVMQxnpVPjx4ee1W5gSMY0pEdOI2hpF+Kh+ALQOak327WzSktOM5Les+4XRHR9lbNfHmTV8DvGx8RU2IACBLfy5eiOJ+MQUCgoK2br3ML1DOhjJpN+6jd4QP/rzDb8xvF93AAoKCnn2zY94OCyU8G4djcrobyVQEHeSLeGvELftGM1HKWXcgpqRn5mDNtnY3mqTMyi4rcUtSDFEzUd1J26bMoXm4F8yBeUbEcStywkA1HGww8pGA0DLx3pz4M+jrPjoS/p0H0qf7kP57dcdPDJWWYQP7tSezMwskpKMbxYA27fupnuPzgD07NWVmAvKrqC27VqzbPkCxj06jdTUtHLlNq3dzKTwqUwKn8q+bVEMGBUOQEBQa7Iys7lZ5rv6+av/Y3jwGB7pEsnMYbO5FhtfbEAa+ZeEXugREUrc5WvGZWuwX3Tq3ZFHpz/CKxNfIy+36tNC1cWSfX3jmp8Z138y4/pP5r9b9zFolHKTbxMUYPK7+vGrzQwOGsmwzo/y1LBZxMVeY/qoZwH479b9BHd7EADfpo2wqWNDRtqt4rK/f/Vb8UL4oW0H6TMyDICWD7Yi53YO6cnGD0e2drbF6yRWGiuCwzoRf1mZlSi9ftIloitXY65WqL0V4X6YzqrtkchYYFOZtB+BH4AFdyoopTwthPgI2G/YzpuM8XRXaZYBT1flAg/uOkznsM58vX8tebl5LJlbvKOYVdtWMiVi2h3Ldx/QjWcWzsTR2ZHFaxdx+exlXhj3spGMtUbD/GmRTP/3++j0eob1605zPx8+/vpnAlo0oU/nDhyJjuE/a39ECEFQYEtema4M3LbtP8Lxs5e4dTubLTuVKYaFz07igaa+Rjrid56kUVh7RkYtQ6fNZ1+p0cOQ7W+yJfwVAA7MX0OP959CY1uH67tPEb/rFADBL4/BsZkXUi/Jup7KgZeUgZ1jC296fDAVJGTExDN+mvHOlz+27aFfeC+OnNqBNkfLMzNK2r57/2b6dFcCr73x2rus+OxdFr09n5up6cyaoUxnvb7wRerXt+OLtf8B4Hr8DcY9anp3zYGdh+gS1pnvo9aRq81l8dx3i/NWb/+USeF39lo79eXJ+DZrjNRLEq8nsfSlD8zKVrdfzF70NDZ1bFj6nRKd9Nzx87z/8vI7ljHFvH+/zZETp8nIyKTvsHHMePJxRj4cUel6wDJ9vYionQcJ7duFn/78llxtHgvnvF2c9/UfnzOuv7mfssKW73/jX++9yHe7vqSgoJA3Zr9lVvbYrqME9+nIin2fKVt8ny/5O7/3+3LmDpxNXTtbXv7iX9jUscbKyoozf55m29e/AzB+/kT8A/yRUpIcn8zKlz++47VVhnt511VFEdX0Anzf0adRf4v8Qbbu+rcl1AD3qyv4xncXqiFUV/DV4752BR/3f9WakHrTL7LC95tXrn5zT05+1fZIREVFReX/W+7lBfOKohoRFRUVlVriXl7rqCiqEVFRUVGpJdTdWSoqKioqVUaPrPCrOgghnIUQfwghLhn+L3dkXwjRQQhxQAhxVghxWghR9uC3SVQjoqKiolJLWNB31kvATillCxRHuC+ZkMkBxkspA4EBwAdCCCcTckaoRkRFRUWllrDgOZGhQNHJ2bVAOXcMUsqLRYe8pZQ3UI5NlPdFUwZ1TaQMltpi2bN9zblOuBu7PhloMV2P1u9uET3Wgb0sogcAm7oWU2Wpbbdgub5e8MN7FtEDgP5/a6laZ7mTIh5SygTD+0TAvCdTQAgRAtQByvvML4NqRFRUVFRqicqYPCHEU8BTpZI+M7hsKsrfgRKrqSyvlP4gpZSGA9rm9HgB64AnpJR3vUTViKioqKjUEpVZMC/t489Mfj9zeUKIJCGEl5QywWAkks3IOQC/Aq9IKQ9W5LrUNREVFRWVWsKCC+tbgCcM758ANpcVEELUQXFD9ZWUcmNFK1aNiIqKikotYcGF9beB/kKIS0A/w2eEEB2FEEXxFR4BegITimI4CSE6mK6uBHU6S0VFRaWWsNTCupTyJtDXRPpRDI5rpZRfA19Xtu7/WSMihMiSUtoLIZoA54EYlN0Ee4EZgC/wi5SyjUF+CjAN6CelLB8kowq8+tZ77I06jHNDJ37+uvpODucsmEVoWGdytbksnLOEi9HmQ6q88+UivH29Gdd3EgBPzn2CoY8NJt3gDnvl259zYNchk2WjYuJ5Z/NB9FLP8JBWTOrT3ij/3S0HOWJw9Z5bUEhaVi77F5TEG8/KzWfEsh/pE+jHy8NC79imqLNXeGfjHvR6PcO7tWFSeIixro17OHIx3qCrgLTbWvYvnQHA+5v2si/6b6SELg/48sLo3ghh/ojv/kPHefujz9Hp9Iwc3J/JkSON8m8kJvOvdz4kLSMTxwb2vP3KHDzdlTgTy1auYe/BY+j1kq4d2/PyrMl31HUnarpfzFowg85hIeRq81gy510uRf9lVnbR6gV4+3oyqZ+y/tprcE8mzH0c3xa+TH9oFhdPX6zyddRku6KupPLu3hj0UjIs0IdJHf3LyWy/mMjKQ7EIAS1dG7B4QFtiUm7z5u7zZOcXohGCJzv5E9HS1FpyKV1Xb/LuvouKrgBvJgU3Ka/rUhIrD8cihKCliz2LI9oouvZcILtAp+jq2ISIFnfc1FRpqnuI8F7gf9aIlOGylLKDEMIa2IWyB/p4UaYQ4nFgFhBWUwYEYNig/jw2cgjzFy69u/Bd6BrWmcb+PozuPo7AoNa8sHgOkx+eYVK218AeaLPLh3b9ftVGvv10vYkSJej0ehZv+pOVUwbg4VifyA+30CvAl2YeJQdY5w3pUvz+u6izXLhuHMDn423HCPK/8w+3WNf6XaycNQIPpwZEvvMtvdo2o5lXSXCseaN6l+jac4IL15RYIydjb3Ay9gYbXlGM18T31nP0UjydWpr23qvT6Vi0/FNWLX0DTzcXxkybR59uITRrUiK/dMUahoT3YeiAMA4dP80Hq9bx9itzOBF9gRPRF/jpC8X1+/hZ8zlyMpqQB9vetY2mqMl+0TksBB9/H8Z1n0DroNbMWfwMMx42Haizx8Du5OZojdL+jrnCa1PeYO6SZ6t9LTXVLp1e8vaeC6wYHoSHvS2RPxyil78bzVzsi2WuZmSz+ugV1ozuhIOtDWk5iidgW2srFoYH4udUn+SsXCK/P0SonwsN6tqY1/XfGFYMfRAP+7pErj9CL39XmjmX1pXD6mNXWDOyYxldGhb2D8TPyY7krDwi1x8m1NfZrK6q8L9vQu6zNREpZSHwJ9C8KE0I8QjK6cxwKWWqubJVoWOHtjg6NKiRunpGdOP3jUpkv7PHz2PvWB8Xd+dycvXsbBn71Gi+XL6uSnqir6XQ2NWBRi4O2FhriGjflD1n48zK/34ylgEdSqIlnotPJS1LS9eWPmbLFOu6kkhjNycauTopuoJbsee0+W3nvx+NYUDHVgAIIL9AR0GhnvxCHYU6HS4OdmbLnrlwCV8fLxp7e2JjY8PAsO7sijIeiV2+eo2QIMUwhDzYlt1Ritt6ISA/P5+CwkLyCwopKCzExfmuB3XNUpP9olt4V7Zv3AHA+ePnqe9gj7OJfmFrZ8voKSNZt/wbo/S4v+K4Flv5kM+mqKl2RSfdorGTHY0c7bDRWBHRwpM9scaByjZFX+eRdo1wsFVu2M52dQDwa1gfPyclxrm7vS0N7eqQpjXvaj46KZPGjvVo5FjPoMuDPbHGt4FNZ6/zSFtTuuzwc7Iz6KpLw3p1SNMaR9asLpZye/JPcl8ZESGEHcq83xlDkh/wEYoBSay1C6sAbp6uJN0o2XWXkpCKm6drObmnXpjEd5+uJ1dbfiQyauJw1v3xOa8se4EGjvbl8gGSb+Xg6Vi/+LOHox3JmdkmZW+k3+ZG2m1CmitRiPV6ybJfDjF3cOcKtSk5IwvPhiU3HQ8ne5IzskzrupnJjZu3CGmljBzaN/WmU8vG9Jv/Gf1f/oyurZvQ1NPFZFmA5JQ0PN1K/l4ebi4kpxhHymvVrAk79iq7FnfsO0h2jpaMW5l0CHyATh3a0mfERPqMnEi3kAdp5me5eCV3wtXTleRS/SI1IRVXE/1i0rwJrP9sI7na2ouSWFGSs/LwsC85wOlhX5eUbOPrvpqRQ1xGDhM2HGb8D4eJulL++S868RaFOkljR/MPF8nZuXg0sK2Yro1HGb/hCFFXy4fOjU66RaFeT2PHehVuZ0W4HyIb3i9GpJkQ4iQQBfwqpfzdkJ4CxKHsOvifp0VgM3z8vPnv1v3l8n76agujQiMZHz6F1OSbPPOa6amwyrDtZCz92vqjsVK6yfoD5+n+QGM8nOrfpWQVdB2Lod+DLYt1xSVnEJuYxvZFk9n+5hSOXLzG8b+q90T9/PSJHD11llGT53D01Fk8XF2wsrIiLj6B2Lh4dm74gl0bvuDw8TMcO322JpplEZoFNMPbz5v9W6Nq+1JqDJ1eEpeRw6oRHVk8oC0Ld53jdl7JKCAlO49Xt0fzer8ArKq4dmWk65aWVcODWBzRhoW7z5fX9cc5Xu9bfV1lkZX4d69yX62JmEjPAQYB+4QQyVLKb0zIGJ0E/WTZIiaPr0iI9+oz8olhDIkcDMD5kxfw8HYvznPzciUl0fjpq01wIA+0a8VPB79DY62hoYsTH294n5mj55CeWrLUs/mbX1i6drFJne6OdiTeKhl5JN3Kwd3BtFHYeirWaOH81NVkTlxJZP2B82jzCijQ6bGrY8PsQZ1M63KyJzH9domujCzcnUyPkLYei+HlMWHFn3ed+ot2/p7Y2SpTC90CmnDq7wSCmjcyrcvNmcSUkr9XUspN3N2Mp33cXZ1ZvlDxO5eTo2XHfw/g0MCejb/+QfuAltjZKU+Z3TsHcepsDMHtAk3q+qcZ9sQQBj82CIALp2Jw93YHFKPm6uVKapl+ERjcmlbtWvLdgXVorDU4uTjx/oalFY59bmnc7euSlFUyGkjKysOtft1yMm09HbHRWOHjWA8/p/rEZeQQ6OFIVl4hz2w5wcyuzWnndedpR/f6tiTdLhm1m9ZlS1sPB0WXQz38nOyIy9AS6GFDVn4hz/xyipldmtLO07EGWm+MBd2e/GPcLyMRs0gpk1E8Ur4lhDAZfFpK+ZmUsqOUsqOlDAjAj2t/5onwKTwRPoW926IYOCocgMCg1mRnZnMz2Xg6ZtNXWxgSPJoRXcYyddgs4mLjmTl6DoDR+knvgT2IjfnbpM7ARm7EpWZyPe02BYU6tp2KpVeAbzm5v5MzyNTm096vxLAtfqw3W+c/yu8vj2HOQyE8FNzcrAEBCPTzJC45neuptxRdx2Lo1bZpeV2JaWTm5NHe36s4zcu5AccuxVOo01Og03HsUjxNPcuvBRTRplUL4uITiE9IoqCggN937adPqPFOsPSMTPQG30qrvv2R4YOUHY9e7m4cPXmWwkIdBYWFHD0VTVM/08bKEvy8dgtTIqYxJWIaUVujCB+lHERuHdSa7NvZpJXpF1vW/cLojo8ytuvjzBo+h/jY+HvWgAAEejgQl5HD9VtaCnR6tl1KpHdTYz9/fZq6czReeTBK1+ZzNSMbH4d6FOj0PPfrKR56wIv+FdgpFejRgLhbOVzPLNKVRG9/4+nAPk3dOHq9tK6cEl2/neahVp70b16zu7KKuB+ms+6XkcgdkVL+LYQYAvwmhBgupayRQODz/v02R06cJiMjk77DxjHjyccZ+bBJO3VX/tx5kNCwzmyI+po8bR6L5i4pzlu7fRVPhE+5Y/mZr06lZUBzpJQkxCey5EXTTu+sNVa8NLQr0z/fil4vGdqpJc09G/LJtmMENHKld6AfAFtPxjKgfdMqb3Mt1vVIGNM//knR1TWQ5t6ufPLLnwT4etC7nbJgv/VYDAOCWxrp6vdgCw7HXGP0m+sQAkIDmtCrbTNzqrC21jB/9hSmznsDnV7H8IH9aO7vy0ervyWwVXP6dAvhyMloPli1DiEEwe0CePVZxdlheK+uHD5xmuGTZiMEdA8JoncZA1QZarJfHNx1mM5hnfl6/1rycvNYMrdkZ9SqbSuZEjHtjuW7D+jGMwtn4ujsyOK1i7h89jIvjHu5StdSU+2ytrLixd6tmLH5uNIvAr1p5mLPJwf/IsDdgd5N3Qn1c+FA3E1GrPsTjZXg2e4tcapXh18vJHD8RjoZuflsOX8DgAX929DKzfSCv7WVFS/2bMWMzSfQSxga4KXoOnRZ0eXvRqivs6LrmwNohODZ0OY41bPh15gEjt/IICO3gC0XlC3vC/oGmNVVFfTyf38kIuR90IiapCA11iJ/kPvViy/1HSyiRvXiW31UL77Vx27WJ9VaJBnnN6LC95uvr/50T8ZB/P9iJKKioqJyL3Ivb92tKKoRUVFRUakl7uVdVxVFNSIqKioqtUShakRUVFRUVKqKOhJRUVFRUaky9/LW3YqiGhEVFRWVWuJ+2B2rGpEyWGo7YqHUWUQPgHbNrxbTZdujpUX0FJw8ahE9ANSzvbtMDZGtN+9MsKaxVF+3GTPXInoA9InmHXzei6i7s1RUVFRUqozq9kRFRUVFpcpYyhW8EMJZCPGHEOKS4f+Gd5B1EELECyE+qkjdqhFRUVFRqSWklBV+VZOXgJ1SyhbATsNncyxEiRBbIVQjoqKiolJLWNAB41BgreH9WpTor+UQQgQDHsD2ilasGhEVFRWVWqIy8USEEE8JIY6Wej1VCVUeUsoEw/tEFENhhBDCClgGVMoFtLqwrqKiolJLVGatQ0r5GfCZuXwhxA7A00TWK2XqkUIIU4pnAL9JKeMr4737rkZECJElpTQdSahEZg/wvJSywvsuDbE9ivydNweuA1rgNLAa2AyUDorxvJRyhxBChxL+1ho4DzwhpcwRQlgDCcAXUsqXhBCvAKMNZdtSEjJ3tZTyPxW9zqgrqby7Nwa9lAwL9GFSR/9yMtsvJrLyUCxCQEvXBiwe0JaYlNu8ufs82fmFaITgyU7+RLQ09f2W8NzCZ+gW1oVcbR5vzFlMzJmLZmWXrVmMj68Xj4ZNAOCtla/j10wJ6WrvYE9WZhaR/U17CrZ5MAS7J2eBlRV5O34l96dvjfLrRgyh7sDhoNchc7Vkf7IUffxV0GioP/MFNE1bIjQa8nZvI/cnk3G+TGLVJJA6vR8FKysKz+yj8MjWcjKalh2x6fowSNCnXiP/t88rV3/YWBCG+g//bpSvCQylTq/RyCwldkTBid3ozuxT/iY9R6Jp2k5JP/ALupgjd9Rl6X4RGtaZXG0eC+YsJubMJbOyS9e8hY+vF2PDJhanPTJpBKMmDEOv0xO18yAfLlpZ6226E6++9R57ow7j3NCJn782fa2VYf+JcyxZvRG9Xs+IvqE8OSLcKD8hJY1XP1zH7RwtOp2eZ8cNpUdwIAUFhSz49DvOXo7DSljx4qSRdGpTs1vYdbLmjhtKKfuZyxNCJAkhvKSUCUIILyDZhFhXoIcQYgZgD9Qx3P/vtH5SeyMRKeU2YBuUN0JCiN7APinlQyaKaouiGAohvgGmAe8B/YGLwGghxMtSyjeBNw1yWWYiH94RnV7y9p4LrBgehIe9LZE/HKKXvxvNXEps6tWMbFYfvcKa0Z1wsLUhLUfZ529rbcXC8ED8nOqTnJVL5PeHCPVzoUFdG5O6QsO64OvfiBHdHqNNUAAvLZ7LxIdMx4roM7AnOdk5Rmnzp71e/P7Z12aSddt0LHOsrLB76lluv/4c+pspOLzzKfmHoxQjYSBv7w7ytm0BwKZTKHYTZ5K18AXqhPYBaxsyn50Ideri+OFa8vftRJ9SgfD1QlAn7DHyfnwfeTsd28hX0F0+hUxLKBFxcscmZCC53y+BvByoV4m4DUJQp18keRveU+of9yq6yyeRNxOMxApjjlCw09hoWjVti5W7H7lr3wBra+qOmYfu7zOQXz6OPVi6X3SmsX8jRnaLpE1QAC8unsukh6ablO09sAfabK1RWnDog/SM6EZkvycpyC+goYvpSICWbNPdGDaoP4+NHML8hUvvLnwXdDo9b61az2evPY2HixNjX3yX3p3a0qxxSQC0zzZuJTw0iDEDenD5WgIz31zB1uAF/LhDCTf80/uvcPPWbWYs+oTvlszDyqrmVgEs6PZkC/AE8Lbh/83lrkXKyKL3QogJQMe7GRCoxJqIEKK3EOKXUp8/MigqK5dV6v0oIcQaw/vRQohoIcQpIUSFV/7vwj6UUQzAWGA5Skz1rjVReXTSLRo72dHI0Q4bjRURLTzZE5tiJLMp+jqPtGuEg63yg3G2U8K5+jWsj58hFrm7vS0N7eqQpjV/kKxXRHd+3bhN0Xv8HA0c7XFxdyknV8+uHo9NfYTVH3xltq5+Q/qw7eedJvOsW7RGn3AdfVICFBaSv38XdUK6GwtpSwyUqFuvJF1KhG09sNIg6taFwkKkNpuKYOXpj8xIQd5KBb2OwgtH0DQztuvWbXtQcHK3YkAAtLdN1HSH+tOTS9V/uFz9Zsu6eKOLvwhSDwX5yJR4NP5tzMpbsl/0jOjOb+X6RfkIj+b6xcjxQ1n70bcU5Csxw9NvZtR6m+5Gxw5tcXSomcBP0X9dwdfTlUaertjYWDOgexC7j5w2khFCkK1VHhiycrS4OSthcC/HJxLSphUALo4NaFC/Hmcvx9XIdRWhl7LCr2ryNtBfCHEJ6Gf4jBCioxCi4sN9E1hyJPIaECGlvC6EuHNgZIUeQoiTpT6PlFIWH0c1TF8NBLYKIWxR/jBTAScUg/JndS84OSsPD/uSgEQe9nWJTso0krmaodzwJmw4jF4PUzs3pVsT4/Cb0Ym3KNRJGjvamdXl5ulK0o2SEWbyjRTcPV25mXzTSG7aC0/yzcofyNXmla0CgAc7t+dmShrX/o43mS+cXdGllujR30zBumXrcnJ1Bw7DdsgjYG3D7deeBSD/wB5sQrrhtPonRN265Kz+GJlVsRu9sHdC3i4J6yqz0rHyMp4uEQ09sAKsx7wIVlYUHNiC/srZitXfoCHydkmceaX+8qF4rVsEoWnUEn16IgW7f0DeTkeffA2b0CEUHt0ONnWwavwA+jIjmNJYsl+4m+wXbuVCJ097YRLfrlxfrl/4NmtEh87tmP7iZPLz8lm+YAXnT12o1TZZkqS0W3i4lhyJ8HBuyJlLV4xkpo8ZxNQFH/Htb/9Fm5fHqn/PAqCVnw97jp5hYI9gElPTOX/5Gomp6bRt0aTGrs9S4xAp5U2gr4n0o8BkE+lrgDUVqduSu7OigDVCiCmApgLy+6SUHUq9igxIPYNxOYoy6vgCeAjYLaXUAj8Cw4QQFdFRbXR6SVxGDqtGdGTxgLYs3HWO23kFxfkp2Xm8uj2a1/sFYFWNULMALQOb06iJD3u27jMrEz6sL9vNjEIqQ97vP3Nr+mNov/qUeqPHA8ooBr2ejCdHkDHtUWyHPoKVh9ddaqo4wkqDaOhB3oal5P+6ijr9x0PpkVA10X6IRsEAACAASURBVF0+hXbVS+SufR39lXPUGTgJAP3Vc+hiz2D72EvUHfwU+huXqx0hz5L9okVgc3zM9AuNRoOjkwOTHprOfxauYPGnr1dZjyXbZEl+33eUoX26sGPVIj55ZTrz//MVer2eYX27KlNgL7zDO1/+SPtW/mhqcCoLLHfY8J+kMiORQoyNjjmHQtKUjJRymhCiMzAYOCaECDZYx8qiLbu+IYQYC3QXQlwxJLkAYcAfFanQsFXuKYAPH+3NpO6BALjb1yUpq+TJLikrD7f6xqFS3e3r0tbTERuNFT6O9fBzqk9cRg6BHo5k5RXyzJYTzOzanHZe5QdfoycMZ1iksuxz7uQFPLzdS+r1diM5MdVIvm1wIK3btWLzoR/QaDQ4uzZk5cblTBs1G1BuGH0G9WT8APPx2GVaKhrXEj1WLm7ob6aalc/fvxO7qXMAqNOzHwUnDoNOh7yVQeGFaKybPUB+kvmn9mK9WRmIBiXTMMK+IfK28dSK/nY6+sRYZUE/MxWZnoSVkwf6pCt3r/92OqJByROnUn+6sVBuydRb4Zl92PQaVfL50K8UHlJ8jNUZPAV9epJZXf90vxg1YVipfhFjol8YTzO1M/SLnw99X9wvVmz8gOmjniU5IYXdv+011HUBvV6Pk7MjGWm3LNqm2sLD2ZGk1JJ+kJSWjruLo5HMpp0HWPGvmQC0b9WUvPwC0m9n4+LYgBcmjiyWe3z+MvxKfRc1wb1sHCpKZczqVSBACFHXMB1VbmhkIEkI0dqw53h4UaIQopmU8pCU8jUgBWhc5asuhRDCAegB+Eopm0gpmwAzUaa0KoSU8jMpZUcpZcciAwIQ6OFAXEYO129pKdDp2XYpkd5N3YzK9mnqztF4pZOma/O5mpGNj0M9CnR6nvv1FA894EX/FuW2ZAOwYc0mIvs/SWT/J9mzdR+DR0UA0CYogKzM7HJTWT9+tZlBQSMY2nkMU4Y9TVzstWIDAhDSI5irf8WRnGB8kylN4aULWHk1wsrdE6ytqdM9jIIjUUYyVl4+xe9tgruiT1CmxvQpSdi0DVIy6v6/9s47Pqoy+8PPmUkgoUroRZCOKCpSxMIuRcAOiKuCKLZ1BcWu2AvY0XVXRV37gorLzy4qYEFEAQXpilRp0nsLIZk5vz/em2QmmQlkuPcmGd/HTz7OLfN+773cuee+73nPOWmktGhN6I9VHArhDSuRI2ohVWpAIEhKqw6EVsyL2ie0fA7BBmYMmrRKSLXahHfGP5dC7VerjVTNbb8joeXR7VMx/+ERbHpC/pCVCKSZMX2p0YBAzQZFDqN5fV+89+ZHDOxxNQN7XM2UCVM5q9B9ET2U9f7ojzn7xH70OelirukzlNUr1jD4AjMEOWXC97Q7tS0ADZs0ILVcaiED4sc5lRTHNGvEqvWbWbtxC9nZOUz4fjZd2h8XtU+dmhn8OH8xACvWbuBAdjYZVSqRmXWAffuNYZ0+bxHBQCDKIe8GIQ0f8l9p5ZB7Iqq6RkTGAQsxU2/nxNn1TmA8xlDMwkwVAxgpIs0BwYTdz4v99TwK+kQeVtX3YuzXF/hGVSMHgz8GnhSR8gXWF4uUQIBhXVoy5OPZhMNK72Pq0bR6JV6YsYzWtarQpUktTmlUnemrt3L+mGkEA8JNp7XgiPRyfPbbemav286O/Qf4ZNE6AIb3OJaWNWM7DH/4egandj+ZD6eNzZvKmcvbX74Wd7puJD17d2fiR18VvVM4xL5X/kXlB54yU3y//pzQmpWk97+SnGW/kT1zGmlnnU/Kce0glIPu2cPeZ82x7P/iIyoNvZMq/34TESHrmy8IrVpxaBdTwxyY/A7l+90EIuQs/AHduo7UU84jvGEVoRXzCK/8BW10DGmDHgINk/3de1G9h4O2/7XTfiBAzgKn/VN7E96wktDyeaSe2J1g0+MhHEb37+XAhDfMdwNB0voPM81kZZL12avGyR4Hv++LU7p34oNp77A/M4sRNz+et+2tL19lYI9Cw9lRfPLu59z3z2GM/eYNsrNzeOjGR0v8nA7G7Q88zsw589mxYxfd+wxkyFWX0u/cXgm1lRIMcvfVFzJ4xChCYaVPt040a1iXUWPH07pZQ7p2OI7bBvXloRfHMmb8ZERgxPWXIiJs27mba0eMIiBCrYwjePSGQQkdQ1EkQ1EqSYZ89m6yb9T1vlyQvz4y/+A7ucTEk/wbn/YrFTxhH+9bH1PBd3lkwcF3colv72nji04yp4Ivf2yPw/pxta/b+ZBv5Fnrp5ZKR5ONWLdYLJYSIhl8ItaIWCwWSwmRDCNB1ohYLBZLCRFKgirr1ohYLBZLCeFCJHqJY42IxWKxlBDJMDvLGhGLxWIpIWxPJBk5zHQXh0pGsKIvOgDBI7IPvpNLaJycXmUZKV/ON636KVV80/LrXvdz2m2gTlPftNzA9kQsFovFkjC2J2KxWCyWhCnN6UwOFWtELBaLpYSww1kWi8ViSRhNgp6In/VELBaLxRKBX/VERCRDRL4UkaXO/6vF2a+hiEwSkUUi8quIHHWwtq0RsVgslhJCVQ/57zC5E/haVZtjsqjHq50+GhipqkcDHYFNcfbLo9QOZ4nIHlWtdJB9vgVuc0o8esIPq7YycuoSwqr0aV2PK9sdVWifSUs38tJPKxARWlSvxGO9jmXx5t088u1v7M0OERThqvZH0esgtRYGP3QtHbt1YH9mFk/f8jTLFhaeGvnImBFk1MogGAyy8KeFPH/vC4TDYZoc3Zihjw0lvWIaG9ds4okbnmTfnn0xVCDl2A6kDRhiStB+9wVZn78be792nal4/QPseWgIoZVLCDZuSfrlNztbhf0fjyZn9g8xv5tLsEkbyvUcCBIgZ+4UsqePj9Y47jTKdbuY8B5TpyJn1lfkzJ1CoNHRlOsxIG+/QPW6ZH34AqEls0uFlp/3xVUPXUO7ru3IysziuVv/zYoY98V9ox+kWq0MgilBFv30Cy/f+xLhcJiLbu5Pj/692LXV1BB568nRzJ78c4mf0/dzfuWJ198jHA5zfvdTuOr8nlHb12/exr3PjWH3vkxCoTA3DexN53bHkJ2dw/D/jOWX5asJSIBhV/ajw7GJZ46+99F/8t0PP5FR7Qg+euulhNtJFB8TMPYGujif/wt8CwyL3EFEWgMpqvolgKruOZSGS60RKQ2EwsrjUxbzYu+21K5UnkvGzeSvjWvQNCPftq3asY/Xf17Jm/3aUyUtlW37DgCQlhJkRI9jaHREBTbtyeKScT9xSsMMKpdPjanVoWsH6jeuxxWdr6JV21YMffR6bjzv5kL7PTL4sTzjcN9/7qHzOZ2Z8skUbhp5E688/CoLZiyg50U9ueDafox+akxhIQmQdulQ9j41DN22mUr3jyJ77jTC61ZH75eWTvkefclZvij/evyxkj0PDYFwGKmaQaXh/2H33Onx4w1EKHfGZex/50l01zbSrnyInKWz0S3ronbLWfQjByZGH2t41SL2v3qfcywVqTBkJKEVC2Pr+Kzl531xYtd21DuqHkP+8g9atG3JPx4ZzLDetxXa76khT5C5JxOAO166i1POPpXvPzXlcj999WM+fvnD+NfO53MKhcI8+so4Xr7/elN+dthIunRoE1Xw6eX3JtDzlBO56IzOLF+znuseeZEJ7Ybz/lfmpeWDZ+5h687dDHn4BcY+cTuBBMvW9jmrBwP6ncfdI55K6PuHS8inWB2gtqrmliDdAMSy8i2AHSLyAdAY+Aq4U1VDRTVc6oezRKSLiIyPWH5eRC6Psd+eiM8XiMibzue/ichCEZknIt8VR3vhxl0cWTWdBlXTSQ0G6NW8Nt+uiC4l++Evf3BhmwZUSTM/mIwKJjCtUbUKNDqiAmDKilZLL8e2zPhBfyf37MRX75va6L/N+Y2KVSqRUavwsGWuAQmmBElJTQWnm9ugcX0WzDC1KOZ8N5vTzjwtpk6wSUvCm9ahm9dDKIfsn74lte2phfZL63s5WZ//D7IP5K88kJVvMFLLcbCXqEC9poS3bUJ3bIZwiNCvM0hpcWLRX4pBytEdCC2fDzkH4u7jp5af90XHnp2Y/P43ACyZs5iKVSpSLcZ9kWtAgilBUsqlFHvWj5/ntHDZShrWqUGDOjVITU3hjNNOZPLM6Po6IsLezP0A7NmXSc0MU5Vy+doNdDzWVL+sXrUylSum88vyAi9AxaD9CW2oWiWx4lluoMX4T0SuEZFZEX/XRLYlIl85z7qCf72jNM3YWKwbJAVTJfY2oAPQBLj8YOfwZ+iJ3A/0UtU/nLK+h8ymvfupXTm/IFHtSuVZuHFX1D6rdpiH+uXvzSKsyj86NuHURtWj9lm4cSc54TBHVk2Pq1WjTnU2r8v/0W5Zv4XqdWqwbdP2Qvs+8tbDtDy+BbO+ncXUz743x7FkFSf3OpnpE6fT+ZzO1KxXI6aOVKuBbssf5gxv20ywaauofQKNmhHIqEXO/B8pf+aFUduCTVqRfuVtBKrXZt8rjxcZ9SyVq6G780v86q5tBOoXjigOtupA+pEtCW/bwIEv30F3R5d/TWndiewfJ8TV8VvLz/uiep3qbF2ff19s3bCVjDrV2R7jvrh/zEM0P6EFsyf/zPTPpuWtP2vQ2XTp15Xl85fxxsOvsXdn4WqRfp7Txm07qV0j3xDWzqjGgqUro/YZfNFZ/GP487zz+RQys7J45YGhALRsVJ9vZy3gzM7t2LBlO4uWr2HDlu20aX5UXL3STHF8Har6MvByEdtPj7dNRDaKSF1VXS8idYnt61gLzFXVFc53PgI6Aa8VdVylvifiAj8Ab4rI34FgrB0iLfzrP/xarMZDYWX1zkxe6Xsij/U6lhGTF7E7K/8tbPPeLO798lce7N6agLhTmOyegffSv/0lpJZL5YRTjwfgn7c9w7mXncPznz1LesV0crJzEmtchPSLB5P5buzx4dCK39hz79XsGX4d5c/uDymxhywOlZylc8l8/hYyX72X0O+/UP68qJcrpFJVAjUbEFpx+BX//NQqifti+KUPcGX7y0gtl0qbU00d8QljvmBw52u45Ywb2b5pO1fce/Ayy/Hw85y+mDqL3l078dUrD/PCPYO5+9nRhMNh+nQ/2QyB3fEkT77xPse3bEwwwaGs0oBfs7OAT4Dc+r6DMCXECzITOEJEajrL3YCDPhDLQk8kh2hjF69WqcbaR1WvFZGTgLOBn0WknapujfpihIXf99yQvHZqVUxj4+79eftt3JNFzYrlo0RrVUqjTe0qpAYD1K+STqMjKrB6RybH1E5lz4Ecbhg/j+s6NeG4OlULHfC5g87hzP5nALBk3pKo3kONujXYumFLoe/kkp2VzfRJMzi5ZydmT53DmuVrufuSewCo37g+J3XvGPsibd+CZNTKWw5k1ES3R1yOtAoE6h9FpTufBkCqZlDhhuHse/Z+QiuX5O0WXr8asjIJNmgctT5Ka/d2pHL+m6pUyUB3F3iDzsz33eXM/ZZy3S6K2hw8+iRylvwM4SKHZX3V8vq+OPOys+jR39QUXzZ/KdXr5t8X1etUZ9uGrYW+k0t2VjY/fTmDjj1OYt7UuezcsiNv26SxE7n3jftL5JwiqZ1RlY1b8v9tNm7bTq3q0d/58OvpvHjfdQAc37IJWQey2b57L9WrVuaOK/rl7Xfp3U/TqF4tyio+FqV6HBgnIlcBq4ALAUSkPXCtql6tqiERuQ34WkQE+Bl45WANlwUTvgpoLSLlneGo7nH22ygiR4tIAOibu1JEmqrqj6p6P7AZOPJQhY+pXZnVO/fxx65MskNhJi7dSJfG0cNEXZvUZNYf5gexPfMAq3bso36VdLJDYW79fD7ntKxDj2axZ6p8+t/xDDnjeoaccT3TJk7n9H7m1Fq1bcW+3XsLDWWlVUjL85MEggE6du/AmmVrAajq/AhFhAE3XMz4tz6PqRn6fTHBWvWRGnUgmEJqxy5kz8kf+iBzL7tv6Mfu2wey+/aBhJYvyjMgUqMOOG99Ur0WgTpHEt6yIe71C69bQSCjNlK1BgSCBFt3ImfJnKh9pFL+wyPY4kTCW6Md4SnHdCLnlxlxNUpCy+v74ovRn3PLmTdyy5k38uPEGXTt1w2AFm1bsm/3vkJDWWkV0vL8JIFggHbdOrB2ubkvIv0nnXqdzKrFq0rknKK0mjVi1frNrN24hezsHCZ8P5su7Y+L2qdOzQx+nL8YgBVrN3AgO5uMKpXIzDrAvv0myef0eYsIBgJRDvmyRigcPuS/w0FVt6pqd1Vtrqqnq+o2Z/0sVb06Yr8vVfU4VW2jqperanznoEOp74mo6hoRGQcsBH4H5sTZ9U5gPMZQzAJyp5WMFJHmgGDmR887VO2UQIBhf2nJkI/nEFbo3bouTatX4oUfl9O6VhW6NK7JKQ0zmL56K+e/PZ2gCDed0owj0lP5bPF6Zq/bwY792Xzym5kUMbx7a1rWjO3E++mbmXTo1oE3vn+drMz9PH3rM3nbXpjwPEPOuJ60Cmk8+PqDpJZLJRAQ5k2bz/i3PgOga+8unDvoHAB++GIak/43KfZJhcNkvv0cFW993EzxnTqB8LpVlO8ziNDKJeTMnR7/ejQ/lvJnXwyhHFAlc8yz6J5dcfdHwxyYOJq0/ndAQMiZ9x265Q9S/3I+4fW/E1o6h5T2PUlp0RYNhyFzD1mf5r/4SNUaSJUMwqt+i69RAlp+3hc/fzOLdl3b8+LUl80U39v+nbftn1/8m1vOvJHyFdK467X7SC2XQiAQYMG0+Ux86wsALrv7Chq3boyqsmntJl66a1SJn1NKMMjdV1/I4BGjCIWVPt060axhXUaNHU/rZg3p2uE4bhvUl4deHMuY8ZMRgRHXX4qIsG3nbq4dMYqACLUyjuDRGwbF1DhUbn/gcWbOmc+OHbvo3mcgQ666lH7n9jqsNotDMtRYl2So8esmkcNZXtL3yd/9kAFg3On+pYJPaVbPNy2/kCpFhiu5yiUj1/im9fbth9wpPyyCXfsefCeX8DsVfGqNJofl/KlSsckhP2927V3hjvPMZUp9T8RisViSFZsK3mKxWCwJY7P4WiwWiyVhbE/EYrFYLAkTToJU8NaIWCwWSwmRDBObrBGxWCyWEiIZjIid4usCInKNE/VutUqxjtUqW1rJeE7JSFmIWC8LXHPwXaxWKdCxWmVLKxnPKemwRsRisVgsCWONiMVisVgSxhoRd/BzLDUZtZLxnKxW2dHxWyupsI51i8VisSSM7YlYLBaLJWGsEbFYLBZLwlgjYrFYLJaEsRHrZRQROVVVfyjp47AYRORNVb3cB53Y9W0NqqojXNarqqo742xrr6qzXNK5XlWfd6OtBPWrAUeq6vySOoayinWsJ4iIlAf6AUcRYYxVdbiLGkFMLeT6wARVXSgi5wB3A+mq2tYlnQpAtqpmO8stgbOAVar6gRsacXRPofD1G+1i+59C/Fzbqnqei1qzVfVEt9orQufWGKsrAFcD1VXV1QpaIjIT6Kmq2wus7wm8pqquVLby6/oV0PwWOA9z//0MbAJ+UNVb/DyOso7tiSTOx8BOzM2X5ZHGa5ia8D8Bz4rIOqA9cKeqfuSizgTgKmCpiDQDpgNvA+eISAdVvctFLQBEZAzQFJgLhJzVCrhmRICnXGzrYFQQkbaYMsyFUNXZboio6tO5n0WkMnAjcCXwLvB0vO8dBi8Dk0Wkh6pudnQHAI8AZ3ug5ydVVXWXiFwNjFbVB0TE9kSKiTUiidNAVc/wWKM9cJyqhkUkDdgANFXVrS7rVFPVpc7nQcBYVR0qIuUwRtJ1I4I5t9bqYVdYVafEWi8iRwIXAzG3J0h9zEM8lhFRoJtbQiKSAdwCXAL8FzixYE/BLVT1FRHZD3zj9D4uAq4FuqrqSheljhORXTHWizkMreKiVi4pIlIX09u/x4P2/xRYI5I400Skjaou8FDjgKopOKCq+0VkhQcGBKKHfLoBIx3NAyLiVcGDhUAdYL1H7UchIjWBvwH9gXrAhy5LLFNV1wxFPERkJHA+pofQRlX3eK2pqmMcQzIHWA2cpqpbXJZZ4NbwbDEYDkwEvlfVmSLSBFh6kO9YCmB9IgkiIr8CzYDfMcNZuW9Mx7mosQ9YlruIGf5Z5raWiLyF6eX8AdwJNFbVfSJyBDBFVY93Q6eA5mTgBMxQXd5woMt+isqYB+4AoAXwAXCRqjZwSyNCa44fD0HHqGcBOUQbf0/e2EVkgaMjQCNgM7AX9+/BuNdPRFJz/XWW0oftiSTOmT5oHO2DBsDfMWPrR2GcqPuc9a3xzq/woEftRrIJY6Tuxbxtqoj09UhrGIAz7NjMWbdMVfe7KaKqfk/LP8cnnf+LXBARwfSKBzjHUNttQRF5gxgTL1T1Sre1khnbEzlMRKQWkJa7rKqrXWy7lar+5nwur6pZEds6qeoMl3R6qOqXcbY9oarD3NDxGxG5CeP7qAiMBf4HfKmqTTzQSsU4m68EVmHe1I8E3gDucetN2vGHRKLADi99SyLSB2MYF6jqRK90HK1OGMPRB8gArgM+8cLnIyL9IhbTgL7AOlW9wW2tZMYakQQRkfMwjtR6mDfeRsAiVT3GRY28aY8Fp0C6OSVSRJYAN6vqZxHrAsDrQB0vJhA4D4vnML2tckAQ2OuFA9UZ674Y4w9pDjwAfKiqS1zUeAaojLmOu511VTA9uUxVvdElnd/JH17KpTJmltvVLju7EZEXgGOAaUB34FO3Y1EcnUcxPqvVGIP/ITBLVRu7rVXEMQQwPdZT/NJMClTV/iXwB8wDqgNznOWumHnzbmrMifU51vJh6jQGfgP6OstpwHjgHSDVo+s3C/N2OwdjQK4AHvPh3+1YTI9hmcvtLsV5KSuwPggs9eG8zsfEErnd7kIg6HyuAPzs0fFvAr4HLgDKO+tWeH3dChxDS7fviz/Dn017kjjZamZKBUQkoKqTMdNW3UTjfI61nLiI6u/A6cDDInIt8BXmwTdAPXRoquoyzAMqpKpvAF5PmUZVF6rqPZg4H5eb1ljj6yFc/LcqQvwDoJYHTR9wzgE1vrKYcTAuUBd4GDgXWO7EEaWLiGd+WxHZLSK7cv8PfIrj27IcOtaxnjg7RKQSMBV4W0Q2YWatuEkDEXkW88PN/YyzXN8tERHJHRYbhok7+BIYk7teXQqUK8A+Jw5lrog8iZnq6+dLzd+AWNHfifKriFymBSLuRWQgppfnKc696MX1axURgCdAU2fZ1dlZjqGaAExwskGcA6QDf4jI16o6wA2dApqV3W7zz4j1iSSIiFQEMjE/3EuAqsDb6mIch4gMKmq7qv7XJZ3JFB5nz7sx1IP4BxFpBGzE+ENuxly/F5zeieeIyBp1KWWH0159zBTiTEyAJpieaTpmmPAPl3RipeSohknf8byqvuKGToReo6K2q+oql3TSMEGMzYD5wOuqmuP4lfoUNM6HqVWkL9Gjl6akxRqRw8D5gTVX1a+c/FNBdZyqLrX/qKre7VZ7Reh0BNao6npneRAmL9hK4EFV3eaRbjrQUFUXe9R+wZlMeZuAeepNvEg3jCMa4FdV/drl9h8osEqBrcB36m3gq6eIyP+AbEzP/kxgpare5JHW5CI2qxcvTcmMNSIJIiJ/B64BMlS1qYg0B15S1e4uaviV1G82cLqqbhORv2DyMA3FBAMeraoXeKB5LmbmUjlVbSwiJwDD1d1gw1gzmfJQl2f+OOP3IVVVJ7XKSRhH7Vw3dfxERHYT26fjanCjiCxQ1TbO5xTgJz/ufcvhY30iiXMd0BH4EUBVlzoxI24SFJOiOt5D0K0eQjCirYuAl1X1feB9EfHqAfgg5vp9C6Cqc0XE1Ye620aiKJyXiieAPSIyArgdmA20FZHXVfUJl3R8y0zstOeX3yBvAoczjOW5oIhcFmu9m0NnfwasEUmcLDW5pYC8tye3u3WtMOPr8ZL6uRU0FxSRFFXNwcQCXBOxzat7JFtVdxZ4WLh6/Xwe+74Jk5amMrAIaKSqW5xhzpkYA+MGuRkEBHgFkwI+GTg+IgGjYGZm7cLbBIwdIj6nYe792bibSTrpsUYkcaaIyN2Ym70HMAQzRdBNflV/ktKNxZzPFoxjeCqAmLTwMQsSucAvYlKKB52hwBswAW1uUlRqdFcz62Kmwm4HtovIMnUSFKrJQXbALRGNyEwsIns0TqbisoaqBktAc2jkspMr7l2/j6OsY41I4tyJqcGxAPgH8DnwaokeUYKo6iMi8jVmrv6kiHiHAMY34gVDMem3szBGbCLgaiS0qnZ1s72DkC6mnkgAKCf5tUWEiLQ4LpM0Dk0R6aaq3zifGzuxS7nbzlcPi6NFsBcTeGspBtaxXooRkctV9c0C66rhca6kZMGZJBAPVdWpLmoVNePHNYNWYMbZZKALEcOdXs2k8xq/UvwU0Iz0LwUwCUfHqeqdbmslM7YnkiBiytSOwOTMSsGbsduG4iRhdAKwJgDHAzkiMkBVv3JRy1dEpD2mzO9RRJfHdS2VPsa5XRAFjsMkR3RtCMXHXs/PRM84i/TruOkn8xuJ8znWsltEZqjOwZSDXuuRVtJijUji/AuTr2iBh72Ci8gf4skNPKyJqY3xX0x6krLK25iH/ALAk8JXqnpu5LKInIpJC78BD4bpnNl515EfJ/ILMEpVN7ml4eeMM5/xJcVPVKNJ4k8qaawRSZw1wEKPh5UORLTfC3jXSQ+xyMucQj6xWVU/8UNIRLoD92EeRo9qnLT3h6lxKiZh5Zvkz+5pB/wkIpeo6g9ua0ZoN8WkT79YXcwi7TNNROQTTK8j9zPOstvxPL7EvvxZsD6RBBGRDphewhSiK/P900WNGZgpnBuBxUC7XIejiPymqq3c0vIb58HeH/ia6OvnmgNVRM7GOO93Ao+o6vdutR1DawYwWFXnFFh/AvAfVT3JZb16mJ7qAKAN8BjwQVmNWheRvxa13fYaSi9l/W22JHkE2IOZeVPOI42bgPcwQ1jPgP8nHwAAB0JJREFURBiQszAp1MsyV2DiYFLJH85STP4pt/gUWItJC3KHiNwRudHlwLwqBQ2IozFXTJleVxCRazDGtz4wDjND8GNVfcgtjRLiClW9vKQPwlJ8rBFJnHqqeqyXAmoqFxbqbajq55gpxWWZDqra0mMNP6f4iohU0wIV+JzZVG5m130emA4MUNVZjkYyDCe4OaHC4iPWiCTO5yLSU1UneSUgIv/KTUInIjeq6r8jtr1Zxt/cpolIa1X91SuBAoF5niZ7BJ4BJonIbeTPmGqHiVR/xkWd+pjkmE+LSB1MbyTVxfZLigoRsTWFcDm7gMVFrE8kQRznXEXMeH6Os9pVp1xJzJ33CxFZhEkT8jvmGrpan6KAlufJHh2dc4A7iJ6dNVJVXctkUOCeaIDxi/TH3Isfqg9Zn73A+T3NJE6KH7WZdUsttieSID4lpitq7nxZx/MqhhE8iMfJHp12x2PKCntJZGDhWkxql6ed1DH9Pdb2kmXWUJRNrBEpJk4NkR2qutNZ7gr0wdTeGKWqruVJwpTerYYZU8/9nPsQ8T3XkBs4CQmz1SlmJCItgbMwgV5epbbwI9ljDUyMyDbgDeBJ4C/AcuBWda/YVk2JXZgKzEQPi8VXbI314jMOM3SQO33z/4DVmNobL7isVRUToTwLqIIZa//Z+SurpT0nYKLUcxM8TsdEWV8nIo95pBmV7FFEnsP9ZI/vAOUxgaA/YV4qLsD0TNzMqRYEKmH+/Qv+VXJRx28K1TYXkWoiYh3upRzrEykmIjI/d9xeRJ4Cwqp6h4gEgLlejOknEwWKD43AFPW6Tky99Z9zt7msWQETL9LTWTURGKGqWfG/VWyNeap6vJjuzipVbRixba6qnuCSTpn2hR0MEfkWU+o3BfOytAn4QVXj9b4sJYwdzio+kWMi3YC7AFQ17HYhHZ/rYfhF5FtLN2AkgJraLJ6kP8Ek1muNud9TgN6YB5WbBj8ExgPspNSPxM3zSjbfWEGqquouEbkaGK2qD4jI/JI+KEt8rBEpPt+IyDhgPVANyE1fXRdw0x8CZhhrIZD7UIp8gLhdD8Mv5js9uD+AZsAkyKvl4BVvA7dhrqVXhsqvtB2ulV8upaQ4v6ULMb1HSynHGpHicxNmWmVd4DRVzS3rWQf3b/pbMOPqmZhiOR+qall3nv4duBHjF+mpqvuc9a2JzqrqJpvdnGYbh94Rnwueh2vnVVZTvReD4Zjhxu9VdaaINAGWlvAxWYrA+kQSQET6YN6iF6jqRB/0mgAXYx5UqzBJBL2qfe4pItIjXgJEEXlCVQs5WF3Q9DxPVwE9rwMbLZZSg+2JFBMReRHz1jwNGCEiHVXV1Yp8BVHVFSLyMZAOXIqZAVQmjQgwSkRuVtXPclc4kxJex/TmvMCPPF1AdGAj4FlgY7IiIm8QY/q1ql5ZAodjOQSsESk+nYHjVTXkzPqZistlXXMp0ANZgxnSelRVM73Q84lewBciUk5VPxSRNEySyV3AuUV/NWH8yNOVy4P4ENiYxEQGa6YBfYF1JXQslkPAGpHic8Cp6YGq7hO3p2RFswyYD3yMecg2BAbnSrqZdt4vVPV3ETkdmCgitYGBwExVvdlDWc/zdEXgeWBjMqOq70cui8hYwLMU/pbDxxqR4tMqYsqhAE2dZS9yPw0n/wFUlgPJ8oiYtjwMU53xS2BM7nqPpi13AuaKiOd5uigQ2AjcgPuBjX8mmgO1SvogLPGxjvVi4qQ9iUtuOg9LbERkMtE1wiHiTd2L/Enx/s28+LfyI7AxmYmoOijO/zcAdxXsoVhKD9aIlGJEZJyqXuh8jpq5JCKTVLVn/G+XTkSkI7BGVdc7y4Mwqc1XAg+W9SmsItIeY0SOIr+n71Wvx2IpcawRKSbiY31mEZmjqm2dzwVTwedtK0uIyGzgdFXdJiJ/wUwWGIrJPXa0ql5Qogd4mIjIYmIENtoeatEkaXaGPwXWJ1JMfEoBnyeX4LbSTDCit3ER8LIzVPG+iJTVacuR+BHYmIw8XcS2spqd4U+BNSKlm9xqbwEgPeJtTTAxI2WRoIikqGoOJoXHNRHbkuF+fEBEXsWnwMZkQVX9LGVscZFk+NEmM+sxb2iCcTBGps/YUCJHdPiMBaY4SQozMXE2uWnhd5bkgbmEb4GNyYiIXBZrvaqO9vtYLIeG9YmUYpLVCS0inTC5xyap6l5nXQugUlkf+xaRxT4GNiYdTq2XXNIwvdXZZd1XlsxYI1KKSXYndDLipO0Y6VNgY9LjZHd+V1X9LKdsKQZ2OKt0k+xO6GTEz8DGPwN7cTeVvsVlrBEp3SS7EzoZsW/Mh4GIfEr+zMMAJtnpuJI7IsvBsA+i0k2yO6GTDhsPcthETh7JwZQaXltSB2M5ONYnUspJZie0xWIp+1gjYrFYShw/M0FY3MUaEYvFYrEkTKCkD8BisVgsZRdrRCwWi8WSMNaIWCwWiyVhrBGxWCwWS8JYI2KxWCyWhPl/UzHdoHeRsJ4AAAAASUVORK5CYII=\n"
          },
          "metadata": {
            "needs_background": "light"
          }
        }
      ]
    },
    {
      "cell_type": "code",
      "source": [
        "!pip install -U jcopml"
      ],
      "metadata": {
        "id": "oimhtMArg3lp",
        "colab": {
          "base_uri": "https://localhost:8080/"
        },
        "outputId": "583e4197-1115-4392-aeb0-4b853bc92bd1"
      },
      "execution_count": 342,
      "outputs": [
        {
          "output_type": "stream",
          "name": "stdout",
          "text": [
            "Looking in indexes: https://pypi.org/simple, https://us-python.pkg.dev/colab-wheels/public/simple/\n",
            "Requirement already satisfied: jcopml in /usr/local/lib/python3.7/dist-packages (1.1.15)\n",
            "Requirement already satisfied: numpy in /usr/local/lib/python3.7/dist-packages (from jcopml) (1.21.6)\n",
            "Requirement already satisfied: seaborn in /usr/local/lib/python3.7/dist-packages (from jcopml) (0.11.2)\n",
            "Requirement already satisfied: scikit-optimize in /usr/local/lib/python3.7/dist-packages (from jcopml) (0.9.0)\n",
            "Requirement already satisfied: scikit-learn in /usr/local/lib/python3.7/dist-packages (from jcopml) (1.0.2)\n",
            "Requirement already satisfied: matplotlib in /usr/local/lib/python3.7/dist-packages (from jcopml) (3.2.2)\n",
            "Requirement already satisfied: ipywidgets in /usr/local/lib/python3.7/dist-packages (from jcopml) (7.7.0)\n",
            "Requirement already satisfied: statsmodels in /usr/local/lib/python3.7/dist-packages (from jcopml) (0.10.2)\n",
            "Requirement already satisfied: scipy in /usr/local/lib/python3.7/dist-packages (from jcopml) (1.4.1)\n",
            "Requirement already satisfied: pandas in /usr/local/lib/python3.7/dist-packages (from jcopml) (1.3.5)\n",
            "Requirement already satisfied: ipython-genutils~=0.2.0 in /usr/local/lib/python3.7/dist-packages (from ipywidgets->jcopml) (0.2.0)\n",
            "Requirement already satisfied: ipython>=4.0.0 in /usr/local/lib/python3.7/dist-packages (from ipywidgets->jcopml) (5.5.0)\n",
            "Requirement already satisfied: nbformat>=4.2.0 in /usr/local/lib/python3.7/dist-packages (from ipywidgets->jcopml) (5.4.0)\n",
            "Requirement already satisfied: traitlets>=4.3.1 in /usr/local/lib/python3.7/dist-packages (from ipywidgets->jcopml) (5.1.1)\n",
            "Requirement already satisfied: ipykernel>=4.5.1 in /usr/local/lib/python3.7/dist-packages (from ipywidgets->jcopml) (4.10.1)\n",
            "Requirement already satisfied: widgetsnbextension~=3.6.0 in /usr/local/lib/python3.7/dist-packages (from ipywidgets->jcopml) (3.6.0)\n",
            "Requirement already satisfied: jupyterlab-widgets>=1.0.0 in /usr/local/lib/python3.7/dist-packages (from ipywidgets->jcopml) (1.1.0)\n",
            "Requirement already satisfied: jupyter-client in /usr/local/lib/python3.7/dist-packages (from ipykernel>=4.5.1->ipywidgets->jcopml) (5.3.5)\n",
            "Requirement already satisfied: tornado>=4.0 in /usr/local/lib/python3.7/dist-packages (from ipykernel>=4.5.1->ipywidgets->jcopml) (5.1.1)\n",
            "Requirement already satisfied: pickleshare in /usr/local/lib/python3.7/dist-packages (from ipython>=4.0.0->ipywidgets->jcopml) (0.7.5)\n",
            "Requirement already satisfied: pexpect in /usr/local/lib/python3.7/dist-packages (from ipython>=4.0.0->ipywidgets->jcopml) (4.8.0)\n",
            "Requirement already satisfied: prompt-toolkit<2.0.0,>=1.0.4 in /usr/local/lib/python3.7/dist-packages (from ipython>=4.0.0->ipywidgets->jcopml) (1.0.18)\n",
            "Requirement already satisfied: simplegeneric>0.8 in /usr/local/lib/python3.7/dist-packages (from ipython>=4.0.0->ipywidgets->jcopml) (0.8.1)\n",
            "Requirement already satisfied: setuptools>=18.5 in /usr/local/lib/python3.7/dist-packages (from ipython>=4.0.0->ipywidgets->jcopml) (57.4.0)\n",
            "Requirement already satisfied: decorator in /usr/local/lib/python3.7/dist-packages (from ipython>=4.0.0->ipywidgets->jcopml) (4.4.2)\n",
            "Requirement already satisfied: pygments in /usr/local/lib/python3.7/dist-packages (from ipython>=4.0.0->ipywidgets->jcopml) (2.6.1)\n",
            "Requirement already satisfied: jupyter-core in /usr/local/lib/python3.7/dist-packages (from nbformat>=4.2.0->ipywidgets->jcopml) (4.10.0)\n",
            "Requirement already satisfied: fastjsonschema in /usr/local/lib/python3.7/dist-packages (from nbformat>=4.2.0->ipywidgets->jcopml) (2.15.3)\n",
            "Requirement already satisfied: jsonschema>=2.6 in /usr/local/lib/python3.7/dist-packages (from nbformat>=4.2.0->ipywidgets->jcopml) (4.3.3)\n",
            "Requirement already satisfied: importlib-metadata in /usr/local/lib/python3.7/dist-packages (from jsonschema>=2.6->nbformat>=4.2.0->ipywidgets->jcopml) (4.11.4)\n",
            "Requirement already satisfied: attrs>=17.4.0 in /usr/local/lib/python3.7/dist-packages (from jsonschema>=2.6->nbformat>=4.2.0->ipywidgets->jcopml) (21.4.0)\n",
            "Requirement already satisfied: importlib-resources>=1.4.0 in /usr/local/lib/python3.7/dist-packages (from jsonschema>=2.6->nbformat>=4.2.0->ipywidgets->jcopml) (5.7.1)\n",
            "Requirement already satisfied: typing-extensions in /usr/local/lib/python3.7/dist-packages (from jsonschema>=2.6->nbformat>=4.2.0->ipywidgets->jcopml) (4.1.1)\n",
            "Requirement already satisfied: pyrsistent!=0.17.0,!=0.17.1,!=0.17.2,>=0.14.0 in /usr/local/lib/python3.7/dist-packages (from jsonschema>=2.6->nbformat>=4.2.0->ipywidgets->jcopml) (0.18.1)\n",
            "Requirement already satisfied: zipp>=3.1.0 in /usr/local/lib/python3.7/dist-packages (from importlib-resources>=1.4.0->jsonschema>=2.6->nbformat>=4.2.0->ipywidgets->jcopml) (3.8.0)\n",
            "Requirement already satisfied: six>=1.9.0 in /usr/local/lib/python3.7/dist-packages (from prompt-toolkit<2.0.0,>=1.0.4->ipython>=4.0.0->ipywidgets->jcopml) (1.15.0)\n",
            "Requirement already satisfied: wcwidth in /usr/local/lib/python3.7/dist-packages (from prompt-toolkit<2.0.0,>=1.0.4->ipython>=4.0.0->ipywidgets->jcopml) (0.2.5)\n",
            "Requirement already satisfied: notebook>=4.4.1 in /usr/local/lib/python3.7/dist-packages (from widgetsnbextension~=3.6.0->ipywidgets->jcopml) (5.3.1)\n",
            "Requirement already satisfied: nbconvert in /usr/local/lib/python3.7/dist-packages (from notebook>=4.4.1->widgetsnbextension~=3.6.0->ipywidgets->jcopml) (5.6.1)\n",
            "Requirement already satisfied: Send2Trash in /usr/local/lib/python3.7/dist-packages (from notebook>=4.4.1->widgetsnbextension~=3.6.0->ipywidgets->jcopml) (1.8.0)\n",
            "Requirement already satisfied: jinja2 in /usr/local/lib/python3.7/dist-packages (from notebook>=4.4.1->widgetsnbextension~=3.6.0->ipywidgets->jcopml) (2.11.3)\n",
            "Requirement already satisfied: terminado>=0.8.1 in /usr/local/lib/python3.7/dist-packages (from notebook>=4.4.1->widgetsnbextension~=3.6.0->ipywidgets->jcopml) (0.13.3)\n",
            "Requirement already satisfied: python-dateutil>=2.1 in /usr/local/lib/python3.7/dist-packages (from jupyter-client->ipykernel>=4.5.1->ipywidgets->jcopml) (2.8.2)\n",
            "Requirement already satisfied: pyzmq>=13 in /usr/local/lib/python3.7/dist-packages (from jupyter-client->ipykernel>=4.5.1->ipywidgets->jcopml) (23.1.0)\n",
            "Requirement already satisfied: ptyprocess in /usr/local/lib/python3.7/dist-packages (from terminado>=0.8.1->notebook>=4.4.1->widgetsnbextension~=3.6.0->ipywidgets->jcopml) (0.7.0)\n",
            "Requirement already satisfied: MarkupSafe>=0.23 in /usr/local/lib/python3.7/dist-packages (from jinja2->notebook>=4.4.1->widgetsnbextension~=3.6.0->ipywidgets->jcopml) (2.0.1)\n",
            "Requirement already satisfied: kiwisolver>=1.0.1 in /usr/local/lib/python3.7/dist-packages (from matplotlib->jcopml) (1.4.3)\n",
            "Requirement already satisfied: pyparsing!=2.0.4,!=2.1.2,!=2.1.6,>=2.0.1 in /usr/local/lib/python3.7/dist-packages (from matplotlib->jcopml) (3.0.9)\n",
            "Requirement already satisfied: cycler>=0.10 in /usr/local/lib/python3.7/dist-packages (from matplotlib->jcopml) (0.11.0)\n",
            "Requirement already satisfied: pandocfilters>=1.4.1 in /usr/local/lib/python3.7/dist-packages (from nbconvert->notebook>=4.4.1->widgetsnbextension~=3.6.0->ipywidgets->jcopml) (1.5.0)\n",
            "Requirement already satisfied: testpath in /usr/local/lib/python3.7/dist-packages (from nbconvert->notebook>=4.4.1->widgetsnbextension~=3.6.0->ipywidgets->jcopml) (0.6.0)\n",
            "Requirement already satisfied: defusedxml in /usr/local/lib/python3.7/dist-packages (from nbconvert->notebook>=4.4.1->widgetsnbextension~=3.6.0->ipywidgets->jcopml) (0.7.1)\n",
            "Requirement already satisfied: bleach in /usr/local/lib/python3.7/dist-packages (from nbconvert->notebook>=4.4.1->widgetsnbextension~=3.6.0->ipywidgets->jcopml) (5.0.0)\n",
            "Requirement already satisfied: mistune<2,>=0.8.1 in /usr/local/lib/python3.7/dist-packages (from nbconvert->notebook>=4.4.1->widgetsnbextension~=3.6.0->ipywidgets->jcopml) (0.8.4)\n",
            "Requirement already satisfied: entrypoints>=0.2.2 in /usr/local/lib/python3.7/dist-packages (from nbconvert->notebook>=4.4.1->widgetsnbextension~=3.6.0->ipywidgets->jcopml) (0.4)\n",
            "Requirement already satisfied: webencodings in /usr/local/lib/python3.7/dist-packages (from bleach->nbconvert->notebook>=4.4.1->widgetsnbextension~=3.6.0->ipywidgets->jcopml) (0.5.1)\n",
            "Requirement already satisfied: pytz>=2017.3 in /usr/local/lib/python3.7/dist-packages (from pandas->jcopml) (2022.1)\n",
            "Requirement already satisfied: threadpoolctl>=2.0.0 in /usr/local/lib/python3.7/dist-packages (from scikit-learn->jcopml) (3.1.0)\n",
            "Requirement already satisfied: joblib>=0.11 in /usr/local/lib/python3.7/dist-packages (from scikit-learn->jcopml) (1.1.0)\n",
            "Requirement already satisfied: pyaml>=16.9 in /usr/local/lib/python3.7/dist-packages (from scikit-optimize->jcopml) (21.10.1)\n",
            "Requirement already satisfied: PyYAML in /usr/local/lib/python3.7/dist-packages (from pyaml>=16.9->scikit-optimize->jcopml) (3.13)\n",
            "Requirement already satisfied: patsy>=0.4.0 in /usr/local/lib/python3.7/dist-packages (from statsmodels->jcopml) (0.5.2)\n"
          ]
        }
      ]
    },
    {
      "cell_type": "markdown",
      "source": [
        "# Training"
      ],
      "metadata": {
        "id": "3z_ofTSj_PjP"
      }
    },
    {
      "cell_type": "code",
      "source": [
        "\n",
        "from jcopml.automl import AutoClassifier\n",
        "\n",
        "X = df_finalis.drop(columns=['lulusTEPAT','ANGKATAN','SEMESTER','SKS','TAHUN','IPK','lulus'])\n",
        "y = df_finalis.lulusTEPAT"
      ],
      "metadata": {
        "id": "oAYOD-ybxG1P"
      },
      "execution_count": 343,
      "outputs": []
    },
    {
      "cell_type": "code",
      "source": [
        "# ANGKATAN\tIPSmean\tSEMESTER\tSKS\tmeNILAI\tmeBOBOT\tTAHUN\tIPK\tlulusTEPAT"
      ],
      "metadata": {
        "id": "_xCd9feAMfgF"
      },
      "execution_count": 344,
      "outputs": []
    },
    {
      "cell_type": "code",
      "source": [
        "# jcopml.__version__"
      ],
      "metadata": {
        "id": "igmGrls8Kbrf"
      },
      "execution_count": 345,
      "outputs": []
    },
    {
      "cell_type": "code",
      "source": [
        ""
      ],
      "metadata": {
        "id": "W17j9-YJ_KcQ"
      },
      "execution_count": 345,
      "outputs": []
    },
    {
      "cell_type": "markdown",
      "source": [
        "# Auto ML dengan Randomsearchcv"
      ],
      "metadata": {
        "id": "OL2qfsetNNxt"
      }
    },
    {
      "cell_type": "code",
      "source": [
        "model1 = AutoClassifier(['IPSmean','meNILAI','meBOBOT','SKSmean'],[],) \n",
        "model2 = AutoClassifier(['IPSmean','meNILAI','meBOBOT','SKSmean'],[],) \n",
        "model3 = AutoClassifier(['IPSmean','meNILAI','meBOBOT','SKSmean'],[],) "
      ],
      "metadata": {
        "id": "iM0MGO4KNBOU"
      },
      "execution_count": 346,
      "outputs": []
    },
    {
      "cell_type": "code",
      "source": [
        "model1.fit(X,y, cv=4)"
      ],
      "metadata": {
        "id": "9NSWPGdeQOK8",
        "colab": {
          "base_uri": "https://localhost:8080/"
        },
        "outputId": "284c2549-c9fc-4028-c11e-3298dd33c936"
      },
      "execution_count": 347,
      "outputs": [
        {
          "output_type": "stream",
          "name": "stdout",
          "text": [
            "Fitting 4 folds for each of 50 candidates, totalling 200 fits\n",
            "================== Best Model Info ==================\n",
            "algo                      | RandomForestClassifier\n",
            "algo__max_depth           | 27\n",
            "algo__max_features        | 0.5045056067243832\n",
            "algo__min_samples_leaf    | 1\n",
            "algo__n_estimators        | 147\n",
            "=====================================================\n",
            "\n",
            "================================ Best Preprocessor Info =================================\n",
            "categorical_imputer       | SimpleImputer(add_indicator=True, strategy='most_frequent')\n",
            "categorical_encoder       | OneHotEncoder\n",
            "numerical_imputer         | SimpleImputer(add_indicator=False, strategy='median')\n",
            "numerical_scaler          | StandardScaler\n",
            "=========================================================================================\n",
            "\n",
            "=========== Score ===========\n",
            "Train: 1.0\n",
            "Valid: 0.9769780807270783\n",
            "Test : 1.0\n",
            "=============================\n"
          ]
        }
      ]
    },
    {
      "cell_type": "markdown",
      "source": [
        ""
      ],
      "metadata": {
        "id": "_nzC2XnpEDbZ"
      }
    },
    {
      "cell_type": "markdown",
      "source": [
        "Melakukan auto_ml namun difokuskan kepada algortima random forest tree classifier"
      ],
      "metadata": {
        "id": "FWxyeOVPEGz4"
      }
    },
    {
      "cell_type": "code",
      "source": [
        "model2.fit(X,y, algo=['rf'],cv=4,n_trial=200)"
      ],
      "metadata": {
        "id": "tWrRfJ4hvIwG",
        "colab": {
          "base_uri": "https://localhost:8080/"
        },
        "outputId": "23c1b5e5-c3f7-44f9-894a-63aeaca857ca"
      },
      "execution_count": 348,
      "outputs": [
        {
          "output_type": "stream",
          "name": "stdout",
          "text": [
            "Fitting 4 folds for each of 200 candidates, totalling 800 fits\n",
            "================== Best Model Info ==================\n",
            "algo                      | RandomForestClassifier\n",
            "algo__max_depth           | 23\n",
            "algo__max_features        | 0.612900716384185\n",
            "algo__min_samples_leaf    | 10\n",
            "algo__n_estimators        | 104\n",
            "=====================================================\n",
            "\n",
            "================================ Best Preprocessor Info =================================\n",
            "categorical_imputer       | SimpleImputer(add_indicator=True, strategy='most_frequent')\n",
            "categorical_encoder       | OneHotEncoder\n",
            "numerical_imputer         | SimpleImputer(add_indicator=True, strategy='median')\n",
            "=========================================================================================\n",
            "\n",
            "=========== Score ===========\n",
            "Train: 0.9798297966401415\n",
            "Valid: 0.9827252071638599\n",
            "Test : 1.0\n",
            "=============================\n"
          ]
        }
      ]
    },
    {
      "cell_type": "code",
      "source": [
        "\n",
        "\n",
        "model1.plot_results()"
      ],
      "metadata": {
        "id": "pmuY3KptVcyp",
        "colab": {
          "base_uri": "https://localhost:8080/",
          "height": 340
        },
        "outputId": "f723b0ac-8325-4c45-be2e-95f9860dd4ea"
      },
      "execution_count": 349,
      "outputs": [
        {
          "output_type": "display_data",
          "data": {
            "text/plain": [
              "<Figure size 1080x360 with 1 Axes>"
            ],
            "image/png": "iVBORw0KGgoAAAANSUhEUgAAA3wAAAFDCAYAAABhpwxzAAAABHNCSVQICAgIfAhkiAAAAAlwSFlzAAALEgAACxIB0t1+/AAAADh0RVh0U29mdHdhcmUAbWF0cGxvdGxpYiB2ZXJzaW9uMy4yLjIsIGh0dHA6Ly9tYXRwbG90bGliLm9yZy+WH4yJAAAgAElEQVR4nO3deZgcVbn48e9LWMISBAERCCSoyKYQJIKCShBRXBBcWBT9iXhl8QpekYs7BBRRr4rCRUUEATdAFEFAUZQIyhoQ2REuBBN2whaWQALv749zhnSamcl0MtOTVL6f5+lnuquqq96pPl193jqnTkVmIkmSJElqniWGOwBJkiRJ0tAw4ZMkSZKkhjLhkyRJkqSGMuGTJEmSpIYy4ZMkSZKkhjLhkyRJkqSGMuGTJA1YREyMiOuHO45ui4iDImJKP/PHRkRGxPguhiVJ0jyZ8EnSAETESbVC3/N4MCLOiYgNBnEbi1zSUPfLOcMdR28W5tgGKiL2rGXi1l7mvb3Oe3w4YmuLJefxOGkB1j2gkwwRMSIiPhsRN0XEkxHxcERMjogD5nfbktQESw53AJK0CLkA+HB9vibwP8CZwIbDFlEVEUtl5qzhjmNhEBFLADHccQyimcBKEbFNZv61ZfrHgH8DqwxPWHNZo+X5u4Dj26Y91YUYDgU+AXwSuAJYHtgMGDNUG4yIJYFnMzOHahuStKBs4ZOkgXs6M++tj6uBo4ANImLZngUiYq2IOLW2LjwcEedGxHot89eOiLMi4qHaCnFzROxeZ99R/15ZW0Um9RZES0vgByLiLxHxFLBPnffRiLgxImZGxL8i4tM1Aep57z51+szaSnl+rbT22iLWX+tKREwEPgK8s6UlZ0Kdd0hE3BkRT0fEvRFxSl87NSKWioijI+LuuvzUiPh6y/yVI+Lkuj+fiogLImLjlvl7RsTjEfGOGuszwGn9xNbvZ1SXObjG/XiNfYW+4m/zyoj4W92/N0fEW+v6IiJui4iD2razXo3tNf2s81ngp8BeLe9blZJYndzL/twqIv5ay9ddEfGDiFixZf4OEXFx/d8fqmVgw5b5PeXrfRHxp7qeGyNi+74CbPle3As80su0N0XEVXW/3BERR0TE0i3bfG9EXFs/34dq/KtHxJ6URG7jls9xzz7CeDfww8w8NTNvz8zrMvOUzPxK2/75SERcV8vafRFxcsu8dSLizIiYUR+/iYjRLfMnRsT1tcz9H/A0sHxEvCgifhQR99f3/TUWoZZ6Sc1mwidJ8yEiRgG7Addl5lN12nLAhZQWmW2A1wP3ABfUeQDfB5YDtgU2Bv6LWkEGtqh/d6C0jrx3HmEcWde3EfDbiPg48DXgEEqr42eAz1JaPagV0GOBw4D1ge2AP8zXDii+BZxOaflcoz4uiYj3AQfV7a5HSUyu6Gc9BwDvAXavy+8G3NIy/yRgS2Anyj56EvhDtCTawEjgy5TEdyPgo33ENs/PKCJ2Bb5KSTReU2M5cID75JvA0cA44E/AWRGxVm0BOqHG1Wov4Jp6AqE/JwDvq+UOSkvzJcDtrQtFxKuBPwJnA5tSytA44MSWxZYHvkvZlxOAR4HftSZg1RH1f9kUuBI4NSIGmvi2xvQ24OfA/1LK/F7A+ylllYh4KXAqJXndEHgTJcGFkrh/m/IZ9HyOp/WxqXuBCRGxej+x7AMcB/wE2AR4B3B9nbcEcBawOuX7uS2lJf+3EdHaYrwu8EFgF8q+eRo4F1iLUtY3Ay4C/hIRra2ckjQ8MtOHDx8+fMzjQUk6ZgOP10dSutO9qmWZvYBbgWiZNgKYDuxaX18LHNrHNsbW9Y6fRyw9y32mbfq/gQ+3Tfsv4Mb6/L2Uyv2ofv7Hc9qmTQSu7+d1b+85kFJBX2qA+/Zo4M+t+61l3nr1f31Ty7QX1f/jP+rrPesymw/g/xnIZ3QJcHzb+y4ApgzgM/liy7QlgH8BX62vXwrMAl7Xst27gE/2s949gcfr88uBj9fn1wMfap1fp58CnNC2jnE1tpf0sY3lKa2Ib2j7X/ZpWWatOu0NA/g83w9ky+uLgC+3LbMz5XsUlKQ6gTF9rG+uMtfPdjcCbgSeA24Afkwp862f9TTg6328f/u6H8a2THtZXd9bWmKZBazessyb6/+ybNv6rgEOHsh3wIcPHz6G8mELnyQN3EWUyvM4SuvIn4E/RsTadf7mlLP/M2pXwMcpicnKwMvrMt8DvhQRl0bEVyNi8wWIZ3LPk4hYDVgbOK5n23X7X2/Z9p+AO4E7IuLntWvbqBesdcH9itLidkdEnBARu0TEMv0sfxJln/4rIo6NiHfGnG6oG1Iq3Jf2LJyZjwLXUSr4PWZTKtjzMpDPaMPW7VXtr/vSGudzlCRto/r6XuAc5nTN3AF4MaX1ayBOAPaKiC2B0cCve1lmc+BDbWXg73XeywEi4uUR8YuI+L+IeAy4j5KcrtO2rmtbnt9d/75kgLG2x/TFtph+QUk0Xwr8k5JQXx8Rv46I/Wp57khm3gi8itIa/GPKtY2nA+dGxBIR8RJK4vrnPlaxIXB3Zk5pWeftlP+9taxNy8z72v6/5YAH2v7HVzGnTEnSsHHQFkkauCcz87aeFxHxH5RkYW9Kd8IlKEnH7r289yGAzDwhIs6ndCV7C6Wb4ZGZOXE+4nmi5XlPgrQvpYXqBTJzRr1W7E2U1ozPA1+LiNdm5t2UxKp9sJOlOg0qM6dGRE+X0bdQuuQdGhFbZuYTvSx/dUSMBd5W33My8M/+rhnreWvL86cz89kBhDfPz2iI/Rj4RUT8FyXxOzMzHx7ge0+lXDf6deCXmfnU3D0NgfL//bgu1+6u+vccSkvXPnXabErLWHuXzucHAcrMrNuanxPFS1C6Ef+ql3kPZOazUa51fB3wVspgNEdGGaTmn51sqCbZV9bHURHxIUr30DdR/sf51VrW2svwEpSk+Y29vO+xBdimJA0KW/gkaf4lJUnquT7vauAVwIOZeVvb4/lkIjOnZeaPMnNXyvV2e9dZz9S/IzoOpLQ43A28vJdt39ay3OzM/Etmfp5yDdPylOuOAB5g7pEVobS89eeZ3uLNzJmZeW5mfhp4LeXara37iX9GZp6RmfsB76R0k3sFcBPlt+r1PctGGYDk1cy7At9bbAP5jG6iJB+t2l/35fnl6nVfW9T19fgDJQnYF9iRua+t61dmPgacQbnu7oQ+Frsa2Li3MlATxFWADYCvZeYFmXkTMIqhPQF8NbBBHzHNrv9bZualmXkYpbzcTbmWE/ooYwPUU0ZWyMz7KQnudn0sexOwZj35AEBEvIxyHV9/Ze1qynV/z/Xy/90/n3FL0qCxhU+SBm6ZOsAElC6An6SM3vi7Ou3nlMFKzoqIQyjX1K1NGWzkh5l5a0R8D/g95dquFSnd+noqk/dThq9/W5SbfM+s3RcH6lDgmIh4BDiP0jr3GmCtzDwyIt5F6WJ2EaU1a1tKZb8nIfkLcHBE7FWXeS8lSZvWzzanAG+vLXrTKS2ee1B+Xy6nXNu0G6W16AX3kgOIiAMpA6dcU5f7ICUpmpaZT0bEWZSuqntTBrg5os7/xTz2R2+xzfMzonS7PSUirgQmUa5J25KBtQDuFxH/onQ5/QTllgA/6JlZW7NOpAy4cxd9dy/syz7AgZk5vY/53wAui4gfUgYnmUFJ8HbMzH2Ah4EHgY9HxFRKF8f/obTyDZXDgXMi4k5KF8vZlO6OW2TmwRHxOkpL8PmUlrLNKJ9Jz/diCjCmtk7/G5iRmU+3byQizqB0X72EMoDLupT9fB9zWr2PoLT83UcZaGU5YLvM/DalW+m1wM8j4lN1+WMoCd1f+vn/LqjbPSsiDgZupnRV3QG4IDMvHuB+kqQhYQufJA3cWyiJyT2UZOa1wC6ZOQkgM5+kdB27ndJ97WZK98SVKRVtKMfdYyiV2T9RKqMfqe+fTRmx8j8oLRxndRJcZv6Y0k3ww5Troi6mtB723O7hEcpgGRfU2A6iDHxycX3/+ZSud0cAV1EG7/j+PDZ7PCVhnExpIdy6budjdfvXA+8D3puZd/SxjhnAf1NG8rya0qr49ro/oYxseQVl5MkrKJX0HbKOjtpJbAP5jDLzNMrgHEcA/6C0Jn5nHtvq8TnKoDX/pFT435OZ7QnziZTukz/JzI7u31ZbTvtK9sjMayn/31jgrzWOnqSnp8vjbpTW3espo7Z+mTLS5JCo5eqdlBMMV9TH5yjJG5REfGtKV9NbKV2Av5KZP6vzf005gfFnyuf4gT421bOdsyknVH5KuWZ1u57W28z8AfCfwMcp//8fKK3P1M9ip7qNC+vjXmDn/j6nOu8dlKTweMqARadTRsK9u6/3SVK3RIe/NZIkaQHUQVf+DrwsM/89r+UlSVoQJnySJHVBHal0NUoL36OZucswhyRJWgzYpVOSpO74AKWL4aoM/EbukiQtEFv4JEmSJKmhbOGTJEmSpIYy4ZMkSZKkhlrk78O36qqr5tixY4c7DEmSJEkaFlddddWDmblab/MW+YRv7NixTJ48ebjDkCRJkqRhERF39jXPLp2SJEmS1FAmfJIkSZLUUCZ8kiRJktRQi/w1fJIkSdLiZtasWUybNo2ZM2cOdyjqopEjRzJ69GiWWmqpAb/HhE+SJElaxEybNo1Ro0YxduxYImK4w1EXZCbTp09n2rRprLvuugN+n106JUmSpEXMzJkzWWWVVUz2FiMRwSqrrNJxq64JnyRJkrQIMtlb/MzPZ961hC8iToyI+yPi+j7mR0QcHRG3RcS1EfGabsUmSZIkaWCmT5/OuHHjGDduHC996UtZa621nn/9zDPP9PveyZMnc8ABB3Qp0uGxIPsHYNKkSVxyySWDFk83r+E7Cfhf4JQ+5r8dWK8+tgR+UP9KkiRJ6se2d/5zUNd34ZhN+5y3yiqrcM011wAwceJEVlhhBQ466KDn58+ePZsll+w9zRg/fjzjx48f1FgH4je33DOo63vv+mv0OW9e+2deJk2axAorrMBWW221wHFCF1v4MvMi4KF+FtkJOCWLy4CVIqLvPSlJkiRpobDnnnuy7777suWWW3LwwQdzxRVX8PrXv57NNtuMrbbailtuuQUoycy73vUuoCRDe+21FxMmTOBlL3sZRx999HD+C0PqqquuYptttmHzzTfnbW97G/fcUxLQo48+mo022ohNNtmE3XffnSlTpvDDH/6Qo446inHjxnHxxRcv8LYXplE61wKmtryeVqcNbjouSZIkadBNmzaNSy65hBEjRvDYY49x8cUXs+SSS3LBBRfwhS98gV//+tcveM/NN9/MhRdeyIwZM1h//fXZb7/9OrrlwKIgM9l///0566yzWG211TjttNP44he/yIknnsjXv/517rjjDpZZZhkeeeQRVlppJfbdd9+OWwX7szAlfAMWEXsDewOss846wxxN7xa0Wf0fu32MRy+/ap7LvWjLzdnstBPmezv9NddLkiRJA7XLLrswYsQIAB599FE+8pGPcOuttxIRzJo1q9f3vPOd72SZZZZhmWWW4SUveQn33Xcfo0eP7mbYQ+7pp5/m+uuvZ/vttwfg2WefZY01SkfGTTbZhD322IOdd96ZnXfeeUi2vzAlfHcBa7e8Hl2nvUBm/gj4EcD48eNz6EPrvgVJ4iRJkqRuW3755Z9//uUvf5ltt92WM888kylTpjBhwoRe37PMMss8/3zEiBHMnj17qMPsusxk44035tJLL33BvHPPPZeLLrqI3/3udxxxxBFcd911g779hem2DGcD/6+O1vk64NHMtDunJEmStIh59NFHWWuttQA46aSThjeYYbbMMsvwwAMPPJ/wzZo1ixtuuIHnnnuOqVOnsu222/KNb3yDRx99lMcff5xRo0YxY8aMQdt+N2/L8EvgUmD9iJgWER+LiH0jYt+6yHnA7cBtwPHAJ7oVmyRJkqTBc/DBB/P5z3+ezTbbrJGtdp1YYoklOOOMM/jsZz/Lpptuyrhx47jkkkt49tln+dCHPsSrX/1qNttsMw444ABWWmkldtxxR84888xBG7QlMhftHpHjx4/PyZMnD3cYLzDYQ+MOlcG4hm/ixIkcdthh81zu0EMPZeLEiQu8PalTllFJUtPcdNNNbLjhhsMdhoZBb599RFyVmb3e78KEb4gsTglfu54+2pMmTRr0dUuDwTIqSVrUmfAtvjpN+BamQVs0DAb7JpQADz75zJCsu78bXKr7bDWTJEla+JnwSYupBW6F/uh7mPDR9zz/8h+7fQx44Qizf13Abe0/8yXz/d6+eFJCkiQtLkz4tMBOO+ZbnH7sd14w/X0brDnX613/80B2239wbiApSZK0uMtMImK4w1AXzc/leCZ8WmC77X+Qidxi6I6jfsCd3zvuBdMnjR031+sxn9qHdT+9X7fCkiRpsTBy5EimT5/OKqusYtK3mMhMpk+fzsiRIzt6nwmfpPmy7qf3M5HTQs3rTCU12ejRo5k2bRoPPPDAcIeiLho5ciSjR4/u6D0mfJIaz27Hi6eJEyfOlcg5OqukJllqqaVYd911hzsMLQJM+CQ1nt2OF02DfXuba2Y+PiTrhaG5xY0kSYNhieEOQJKkxd3EiROJiHk+7HoqSeqULXySpEZalAYWsvupJGmomPBJkhrJgYUkSbJLpyRJkiQ1lgmfJEmSJDWUCZ8kSZIkNZQJnyRJkiQ1lIO2SJK0gH5zyz2Dur4Hn3xmSNb73vXXGNT1SZIWfrbwSZIkSVJDmfBJkiRJUkOZ8EmSJA2TiRMnEhHzfEycONE4Jc0Xr+GTJEkaJhMnTpwrSZowYQIAkyZNGpZ4+rKoxCnphUz4JEmS5sO2d/5z0Nd5zczHh2TdF47ZdFDXJ2nRYZdOSZIkSWooW/gkSRpmpx3zLU4/9jsvmP6+Ddac6/Wu/3kgu+1/ULfCUhfccdQPuPN7x71g+qSx4+Z6PeZT+7Dup/frVliSGsSET5KkYbbb/geZyC2m1v30fl1J5LxXpLT4skunJEmSJDWUCZ8kSZIkNZQJnyRJkiQ1lNfwSZIkqV8OLCQtukz4JEmS1C8HFpIWXXbplCRJkqSGMuGTJEmSpIYy4ZMkSZK0SJs4cSIRMc/HxIkThzvUrvMaPkmSJEmLtIkTJ86VzE2YMAGASZMmDUs8CxNb+CRJkiSpoUz4JEmSJKmhTPgkSZIk9cpr4xZ9XsMnSZIkqVdeG7fos4VPkiRJkhrKhE+SJEmSGsounZIkSVIDbXvnPwd9ndfMfHxI1n3hmE0HdX2aw4RPkiRJ0rD6zS33DOr6HnzymSFZ73vXX2NQ19cNdumUJEmSpIYy4ZMkSZKkhupql86I2AH4HjAC+HFmfr1t/jrAycBKdZnPZeZ53YxRkiRJUnHHUT/gzu8d94Lpk8aOm+v1mE/tw7qf3q9bYakDXUv4ImIEcCywPTANuDIizs7MG1sW+xJwemb+ICI2As4DxnYrRkmSJElzrPvp/UzkFnHd7NK5BXBbZt6emc8ApwI7tS2TwIr1+YuAu7sYnyRJkiQ1Sje7dK4FTG15PQ3Ysm2ZicAfI2J/YHngLd0JTZIkSZKaZ2EbtOUDwEmZORp4B/DTiHhBjBGxd0RMjojJDzzwQNeDlCRJkqRFQTcTvruAtVtej67TWn0MOB0gMy8FRgKrtq8oM3+UmeMzc/xqq602ROFKkiRJ0qKtm106rwTWi4h1KYne7sAH25b5N7AdcFJEbEhJ+GzCkyRJktSn0475Fqcf+50XTH/fBmvO9XrX/zyQ3fY/qFthLRS6lvBl5uyI+CRwPuWWCydm5g0RcTgwOTPPBj4DHB8Rn6YM4LJnZma3YpQkSZK06Nlt/4MWu0RuoLp6H756T73z2qYd0vL8RmDrbsYkSZIkSU21sA3aIkmSJEkaJCZ8kiRJktRQJnySJEmS1FAmfJIkSZLUUCZ8kiRJktRQJnySJEmS1FAmfJIkSZLUUCZ8kiRJktRQJnySJEmS1FAmfJIkSZLUUCZ8kiRJktRQJnySJEmS1FAmfJIkSZLUUCZ8kiRJktRQJnySJEmS1FAmfJIkSZLUUCZ8kiRJktRQJnySJEmS1FAmfJIkSZLUUCZ8kiRJktRQJnySJEmS1FAmfJIkSZLUUCZ8kiRJktRQJnySJEmS1FAmfJIkSZLUUCZ8kiRJktRQJnySJEmS1FAmfJIkSZLUUCZ8kiRJktRQJnySJEmS1FAmfJIkSZLUUCZ8kiRJktRQJnySJEmS1FAmfJIkSZLUUCZ8kiRJktRQJnySJEmS1FAmfJIkSZLUUANO+CLiuxHxqqEMRpIkSZI0eDpp4Xst8M+IuCIi9o6IUUMVlCRJkiRpwQ044cvMrYGNgAuBQ4F7IuKUiNhmqIKTJEmSJM2/jq7hy8xbMvOzwNrA7sAKwB8j4taI+FxEvHgogpQkSZIkdW5+B21ZClgReBEwAvg38GHg3xHxwUGKTZIkSZK0ADpK+CJifER8H7gH+CZwGbBeZm6XmRsD/w0cNfhhSpIkSZI61ckondcBl1C6c+4JjMnML2bmHS2L/QpYrZ917BARt0TEbRHxuT6W2TUiboyIGyLiFwONT5IkSZI0tyU7WPZ04MTMvKuvBTLzQfpIIiNiBHAssD0wDbgyIs7OzBtbllkP+DywdWY+HBEv6SA+SZIkSVKLTrp0fgOY3j4xIkZGxNIDeP8WwG2ZeXtmPgOcCuzUtszHgWMz82GAzLy/g/gkSZIkSS06Sfh+BXyil+n7Ulr/5mUtYGrL62l1WqtXAq+MiL9HxGURsUNvK6r3AZwcEZMfeOCBAWxakiRJkhY/nSR8WwN/7GX6n4CtBicclgTWAyYAHwCOj4iV2hfKzB9l5vjMHL/aan1eMihJkiRJi7VOEr7lgNm9TH8OGDWA999FGfClx+g6rdU04OzMnFUHg/kXJQGUJEmSJHWok4TvWkqrW7sPAtcP4P1XAutFxLr1mr/dgbPblvktpXWPiFiV0sXz9g5ilCRJkiRVnYzSeThwVkS8AvhLnbYdsAvwnnm9OTNnR8QngfMpN2s/MTNviIjDgcmZeXad99aIuBF4FvjvzHzBQDGSJEmSpHkbcMKXmedFxI7Al4Cj6+R/AO/OzN8PdB3AeW3TDml5nsCB9SFJkiRJWgCdtPCRmX8A/jBEsUiSJEmSBlEn1/BJkiRJkhYhA074ImLpiDgsIv4VETMj4tnWx1AGKUmSJEnqXCctfF8BPgJ8m3Irhv8GjgWm0/sN2SVJkiRJw6iThG9XYN/MPI4yguZZmXkAcCiw/VAEJ0mSJEmaf50kfKsDN9bnjwMr1ed/AN46mEFJkiRJkhZcJwnfv4E16/PbgLfV568HnhrMoCRJkiRJC66ThO9Myo3WAb4HHBYRdwAnAT8e5LgkSZIkSQuokxuvf77l+RkRMRXYGvhXZp4zFMFJkiRJkubfgBK+iFgK+Bnwhcz8P4DMvBy4fAhjkyRJkiQtgAF16czMWZSBWXJow5EkSZIkDZZOruH7DfDeoQpEkiRJkjS4BnwNH2WUzi9FxBuBycATrTMz8zuDGZgkSZIkacF0kvDtCTwMbFIfrRIw4ZMkSZKkhUgno3SuO5SBSJIkSZIGVyfX8EmSJEmSFiEDbuGLiKP7m5+ZByx4OJIkSZKkwdLJNXyvbnu9FLABMAL4x6BFJEmSJEkaFJ1cw7dt+7SIGAmcAFw8mEFJkiRJkhbcAl3Dl5kzga8BXxyccCRJkiRJg2UwBm1ZFVhhENYjSZIkSRpEnQzacmD7JGANYA/gvMEMSpIkSZK04DoZtGX/ttfPAQ8APwGOHLSIJEmSJEmDwhuvS5IkSVJDDfgavohYuo7K2T59ZEQsPbhhSZIkSZIWVCeDtvwK+EQv0/cFTh+ccCRJkiRJg6WThG9r4I+9TP8TsNXghCNJkiRJGiydJHzLAbN7mf4cMGpwwpEkSZIkDZZOEr5rgQ/0Mv2DwPWDE44kSZIkabB0cluGw4GzIuIVwF/qtO2AXYD3DHZgkiRJkqQFM+AWvsw8D9gRGAMcXR/rAO/OzHOGJjxJkiRJ0vzqpIWPzPwD8IchikWSJEmSNIg6uQ/fNhGxTR/T3zS4YUmSJEmSFlQng7YcBazcy/QV6zxJkiRJ0kKkk4RvfeCfvUy/vs6TJEmSJC1EOkn4ngLW6GX6WsAzgxOOJEmSJGmwdJLwnQ98IyKe79YZES8GjqzzJEmSJEkLkU5G6TwIuAiYEhHX1mmbAA8Auw12YJIkSZKkBTPghC8z74mITYE9gHF18snALzLzyaEITpIkSZI0/zq6Dx/lWr0bgBnA0nXa+yOCzDxlUCOTJEmSJC2QASd8EbEB8DtgXSCAZ+v7ZwFPAyZ8kiRJkrQQ6WTQlu8CVwEvAp4ENgTGA9cA7xv80CRJkiRJC6KThO+1wFcz8wngOWDJzLwaOBj49kBWEBE7RMQtEXFbRHyun+XeFxEZEeM7iE+SJEmS1KKThC8oLXtQRuZcqz6fBrxinm+OGAEcC7wd2Aj4QERs1Mtyo4BPAZd3EJskSZIkqU0nCd/1wKb1+RXAZyNiG+Aw4LYBvH8L4LbMvD0znwFOBXbqZbmvAN8AZnYQmyRJkiSpTScJ3xGUVj6ALwHrABcCbwUOGMD71wKmtryexpxWQgAi4jXA2pl5bgdxSZIkSZJ60cl9+M5veX47sGFEvBh4ODNzQQOJiCWA7wB7DmDZvYG9AdZZZ50F3bQkSZIkNVInLXwvkJkPdZDs3QWs3fJ6dJ3WYxTwKmBSREwBXgec3dvALZn5o8wcn5njV1tttfkLXpIkSZIaboESvg5dCawXEetGxNLA7sDZPTMz89HMXDUzx2bmWOAy4N2ZObmLMUqSJElSY3Qt4cvM2cAngfOBm4DTM/OGiDg8It7drTgkSZIkaXEx4Gv4BkNmngec1zbtkD6WndCNmCRJkiSpqbrZpVOSJEmS1EUmfJIkSZLUUCZ8kiRJktRQJnySJEmS1FAmfJIkSZLUUCZ8kiRJktRQJnySJEmS1FAmfJIkSZLUUCZ8kiRJktRQJnySJEmS1FAmfJIkSZLUUCZ8kiRJktRQJnySJEmS1FAmfJIkSZLUUCZ8kiRJktRQJnySJEmS1FAmfJIkSZLUUCZ8khpCN5IAABjLSURBVCRJktRQJnySJEmS1FAmfJIkSZLUUCZ8kiRJktRQJnySJEmS1FAmfJIkSZLUUCZ8kiRJktRQJnySJEmS1FAmfJIkSZLUUCZ8kiRJktRQJnySJEmS1FAmfJIkSZLUUCZ8kiRJktRQJnySJEmS1FAmfJIkSZLUUCZ8kiRJktRQJnySJEmS1FAmfJIkSZLUUCZ8kiRJktRQJnySJEmS1FAmfJIkSZLUUCZ8kiRJktRQJnySJEmS1FAmfJIkSZLUUCZ8kiRJktRQJnySJEmS1FBdTfgiYoeIuCUibouIz/Uy/8CIuDEiro2IP0fEmG7GJ0mSJElN0rWELyJGAMcCbwc2Aj4QERu1LfYPYHxmbgKcAXyzW/FJkiRJUtN0s4VvC+C2zLw9M58BTgV2al0gMy/MzCfry8uA0V2MT5IkSZIapZsJ31rA1JbX0+q0vnwM+P2QRiRJkiRJDbbkcAfQm4j4EDAe2KaP+XsDewOss846XYxMkiRJkhYd3WzhuwtYu+X16DptLhHxFuCLwLsz8+neVpSZP8rM8Zk5frXVVhuSYCVJkiRpUdfNhO9KYL2IWDcilgZ2B85uXSAiNgOOoyR793cxNkmSJElqnK4lfJk5G/gkcD5wE3B6Zt4QEYdHxLvrYv8DrAD8KiKuiYiz+1idJEmSJGkeunoNX2aeB5zXNu2Qludv6WY8kiRJktRkXb3xuiRJkiSpe0z4JEmSJKmhTPgkSZIkqaFM+CRJkiSpoUz4JEmSJKmhTPgkSZIkqaFM+CRJkiSpoUz4JEmSJKmhTPgkSZIkqaFM+CRJkiSpoUz4JEmSJKmhTPgkSZIkqaFM+CRJkiSpoUz4JEmSJKmhTPgkSZIkqaFM+CRJkiSpoUz4JEmSJKmhTPgkSZIkqaFM+CRJkiSpoUz4JEmSJKmhTPgkSZIkqaFM+CRJkiSpoUz4JEmSJKmhTPgkSZIkqaFM+CRJkiSpoUz4JEmSJKmhTPgkSZIkqaFM+CRJkiSpoUz4JEmSJKmhTPgkSZIkqaFM+CRJkiSpoUz4JEmSJKmhTPgkSZIkqaFM+CRJkiSpoUz4JEmSJKmhTPgkSZIkqaFM+CRJkiSpoUz4JEmSJKmhTPgkSZIkqaFM+CRJkiSpoUz4JEmSJKmhTPgkSZIkqaFM+CRJkiSpobqa8EXEDhFxS0TcFhGf62X+MhFxWp1/eUSM7WZ8kiRJktQkXUv4ImIEcCzwdmAj4AMRsVHbYh8DHs7MVwBHAd/oVnySJEmS1DTdbOHbArgtM2/PzGeAU4Gd2pbZCTi5Pj8D2C4ioosxSpIkSVJjdDPhWwuY2vJ6Wp3W6zKZORt4FFilK9FJkiRJUsMsOdwBzI+I2BvYu758PCJuGc54FmWTYFXgweGOQ+rLJMuoFgGTLKdayE2yjGohN8kyuqDG9DWjmwnfXcDaLa9H12m9LTMtIpYEXgRMb19RZv4I+NEQxblYiYjJmTl+uOOQ+mIZ1aLAcqqFnWVUCzvL6NDpZpfOK4H1ImLdiFga2B04u22Zs4GP1OfvB/6SmdnFGCVJkiSpMbrWwpeZsyPik8D5wAjgxMy8ISIOByZn5tnACcBPI+I24CFKUihJkiRJmg9dvYYvM88DzmubdkjL85nALt2MSXaN1ULPMqpFgeVUCzvLqBZ2ltEhEvaYlCRJkqRm6uY1fJIkSZKkLjLhGwIRMTEifjbccSwsImJKRLxliNb9xtbbckTE+hFxTUTMiIgDIuKHEfHlodi2BldEZES8YojWvUdE/LHl9dYRcWtEPB4RO0fE7yPiI/2tQwuHiLghIiYMcNk+jz0RMSEipg1qcPMpIk6KiK8O4fofj4iX1efLRsTvIuLRiPhV+3dD0uJlfutJEbFOPbaMGIq4FhZNqUcuVglf/fF/qhbQe+uP7ArDHddARcTYWil+vOXxzy7H8IJKeUSsGBHfjYh/15j+r75edajjycyLM3P9lkkHAxdm5qjMPDoz983Mrwx1HIuyiFihfjf2aJk2qn6e76+vx0fEORHxcEQ8EhE3RsQREbFynb9nRDzbUi5vj4j92razRkScEBH31IT85og4LCKWH+r/MTN/nplvbZl0OPC/mblCZv42M9+emScPdRyLi/ZEKyJ2r2Vnm3oMOa9t+Z9FxMSBrDszN87MSYMb8dCK4oCIuD4inoiIaTXZenU3tl/L+e315fuB1YFVMnOXXr4bWoRExBsi4pKawD8UEX+vJ0Kf6K1+ExH/qAPoERFL1xPUt9blp0TEiRExttv/hwZusE+iD7Se1L7dzPx3PbY8O4/3TYiI52rdYEZE3BIRHx2M2LuhKfXIxSrhq3bMzBWAccBmwOeHOZ75sVL9kq2QmZt2+uYo9zgcFFFusfFnYGNgB2BF4PWU+yduMVjb6cAY4IYFXclg7qOFXWY+DuwDfDciVquTv0kZPfeMiNgKmAT8HdggM1eifNazgdbyd2lPuQTeB3wzIjYDiIgXA5cCywKvz8xRwPbASsDLh/p/7IXlpEtqy+mxwDuBO+vkLWu5aoQBlIPvAZ8CDgBeDLwS+C1ln3TbGOBfmTl7QVfU9DP7C7uIWBE4BziGUq7WAg4DHgWmUZL71uVfBWwE/LJOOgN4N/BByn2PNwWuArbrQvhavNxd6wYrAp8Gjo+I9efxno75m9yPzFxsHsAU4C0tr78JnFuffw74P2AGcCPwnpbl9gT+BnwLeBi4A3h7y/x1gb/W9/4J+F/gZy3z302pXD5CqThv2BbTfwPXAk9Qbk2xOvD7ur4LgJXrsmOBBJbs5X9bk3Ifw4eA24CPt8ybSDmw/wx4DPgPysH9BOAeyg3vvwqMqMu/ov4/jwIPAqfV6RfV7T8BPA7sVtd1H7DCQPY7JQm8tO6Le+q+WrrOC+Ao4P4a53XAq+q8d9TPZUaN96A6fQIwrT7/C/AsMLPG90rgJOCrLbG8C7imbv8SYJO2OD9bP4une9vPTX7UffXLuk+nAy+t0/8GHDOP9+4J/K1t2hXAB+vzr9bPc4l+1pHAK+rzdwL/qOVgKjCxZbmRtSxPr5/jlcDqLXHcXsvJHcAe7fFRvufPAU/VcrIM5Xv5Hy3b2Au4ifJ9Px8Y0xbnfwK3AncM9+e2MD56vvOUEwkPAuPr9LF1/32W0hLfs/zP2j7jeX1Pe44nywIn18/pJkoL/7S2ZQ+q3+lHgdOAkXXeBEql+As1xik95aXOfxFwCvAAJVH9Uk/5reXp75Tj1fRavvs6bq5HOS5tMY/v3lfr85UplfgH6v91DjC67bvWWxnvdfut3y1KMvAMMKuW/Y/R9t0FNqD8jj0E3ALs2hbnDyijbT9By++pj2H5no0HHulj3hco9zJunfZN4Mz6/C2UY+Daw/1/+Oj4c5/S/t2j/I59F7i7Pr4LLNMy/2BKnetuSr2t9fe29fizaj3mPFKPARdTGod+yty/mwfTVielnHT4Sd3Gw8Bv6/QJtByX67T7gV3q8yWYUwefDpwOvLhl2f9HOQZPB77M3L8BExmc+m1/9c/n9099/XFKPfshSr17zZZ5CexLqR88QjnZGcNdZjJz8U34gNH1A/1efb0LJWlagpLIPAGsUeftSfmB/DjlHoL71QLdM8rppcB3KF+4N1F+iH9W572yrmt7YKn6JbmNOUnOFOAySpK3Vi1sV1NaH0dSkphD67Jzfbna/reLgO/X94yjVBbe3PKFmAXsXP+/ZYEzgeOA5YGXUCrn+9Tlfwl8sS47EnhDW2F+RcvrU4GTO9jvmwOvo9wSZCylkvZfdd7bKGcXV6pfvg1bPoN7gDfW5ysDr6nPJzB3BW8Sc1fcT2LOgWyzun+3rJ/jR2psy7TEeQ2wNrDscJfXYfh+rFz384PAR+u05SmV1QnzeO+ezF1pfC3lYPfK+voy4LB5rKP1B2gC8OpaBjehnFTYuc7bB/gdsFz9HDennDVcnnKgXr8utwawcR/xPV8m28sNsBPlO7phLadfAi5pi/NPlB+3xa6cDLAsTQF+XT+3TVumj637bxTlh7jnuPB8wjfA72nP+75O+fFemXJMv5YXJnxXUI7tL6Ycb/ZtKWOzmXPs3oZyrO4pP6cAZ9VYxwL/Aj7WUp5mA/vXMrIsfRw3KT/+d85jf53EnOPUKpQW8uXqtn/FnIpTf2V8QMdtyu9B6wnJPZlzMmR5ygmWj9b/azPK8WCjljgfBbbu2c5wl7XF+UE57k2nnPR4O/XkcJ23di2ja9fXS1BOcPQcR78O/HW4/wcf8/W5P38MbJl2OOV39iXAapQTZV+p83YA7qX0xFqOcrztK+E7Evghpb66FPBG5tR159ouL0z4zqWcVFu5vnebOn0Cc07ML0FpBHkO2KxO+1SNfTTlWHwc8Ms6byNKgvkGYGlKw8ss5k74Frh+S//1z9b98+Z6THxNjfUY4KKWfZKUhHklYB1KXXyH4S4zmblYdun8bUTMoPyo3Q8cCpCZv8rMuzPzucw8jZKdt3ZJvDMzj8/SV/lkyg/t6hGxDqVy++XMfDozL6JURnvsRmlF/FNmzqIU1mWB1u5Mx2TmfZl5F+VsyuWZ+Y8s9yU8k/Kj2+rBeh3VIxFxUESsTfkB/mxmzszMa4AfU86K9Lg0y7VKz1F+JN5BSbSeyMz7KWc2em50P4vS7WfNur6/9bM/V6EkCQOSmVdl5mWZOTszp1C+lNu0bHcU5QxzZOZNmXlPy7yNImLFzHw4M68e6DZb7A0cl5mXZ+azWa7ZepqSgPY4OjOnZuZT87H+RVpmPkxpiV4O+E2dvDLlwHhvz3IR8c1a9p6IiC+1rOJ1dfoMygH2p5TvEXReTiZl5nX1+3gt5SDdWk5WofxYPVvL1GN13nPAqyJi2cy8JzPnp9vmvsCRtfzNBr4GjIuIMS3LHJmZDy2O5aQD21N+xK/rZd5TwBGUM6/tBvI97bEr8LV6TJgGHN3LMkfXY/tDlGPzuLb5Pcfuv1IqLLvWroq7A5/PzBn1WPVt4MMt77s7M4+px7Kn6Pu42WnZn56Zv87MJzNzBmU/bdOySF9lvJPjdl/eBUzJzJ/U/+sflMS99f64Z2Xm3+t3c+Z8bEODpB733kCpZB4PPBARZ0fE6pk5lXIiq6fMbkepoJ5bX3dULrXQ2wM4PDPvz8wHKK35PZ/9rsBPMvOGzHySkiT1ZRalfjsmM2dlGSch57XxiFiDctJh33o8nlWPqT3WjIhHKMf+M4ED6/EFym/uFzNzWmY+XeN7f+2e+X7gd5n5t8x8BjiEUt5bDUb9tr/6Z6s9gBMz8+oa6+eB17dd9/r1zHwkM/8NXMgLf3OGxeKY8O2c5fqhCZQPdlWAiPh/UUZ3fKQWylf1zKuer/DWLwzACpQzxw9n5hMty97Z8nzN1te1QE6ltOb1uK/l+VO9vG6/8HrVzFypPr5Vt/FQrRy0xtC6jaktz8dQzr7c0/L/Hkc5EwKlFTKAK6KMiLcXfZtOOTgMSES8sg7+cW9EPEapTK8KkJl/oXTxPBa4PyJ+VK9RgHLG+x3AnRHx14h4/UC32WIM8JmWZPkRylnQNVuWmdr7W5svIj5EOWN3AfCNOvlhSgXz+c84Mw/Och3fmZRWgB6X1TI5Cngp5Wzi1+q8TsvJlhFxYUQ8EBGPUn4Qer6PP6V0szw1Iu6uCehS9Tu4W132nog4NyI26GAX9BgDfK+ljDxE+T709X1S7/aj9HD4cUREL/N/TDlptmPb9IF8T3usydyfRW+fy70tz59k7uNpb8fuNSllbSnmPpb3d0yFvo+bnZb95SLiuIi4sx4jLwJWiogR8yjjnRy3+zKGcn1l677fg/J97mHZX4jUiumemTmaUm9Zk9KdD8rJ6Z5K/4eBU+uJZ+iwXGqhN1ddkznHsp558zpO9vgfSg+XP0YZfO1zA9z+2pR66MN9zL+71htWpJyYe3PLvDHAmS3HnJsoPYtWb4+91r+nt617geu386h/tmqv0z9e42n9bejvN2fYLI4JHwD1zMNJwLfqmfvjgU9SRi5bCbieUijm5R5g5Zh7pMF1Wp7fTSmAQBmtjfLFuGuB/oG53Q28OCJGtcXQuo3WMyJTKWfMWxPHFTNzY4DMvDczP56Za1K6z30/+h4u/wLgbTHwkRZ/ANwMrJeZK1KuM3h+P2cZWXNzSjP+KynXN5KZV2bmTpQv7W8pfbw7NRU4ouV/Xikzl8vMX7YsM88zWU0UES+hnAX7OOUz3zUi3lgrmJcD7+1kfZl5H6VloKcyfwHwnogY6DHnF5S+8Wtn5osoXUyirntWZh6WmRtRWsrfRW3NzszzM3N7SkXmZsr3ulNTKd0/WsvJspl5Seu/OB/rXdzcR2lVeCOlu/lc6tnaw4CvMPexdiDf0x73ULoB9Vi7wxh7O3bfTemy03MmuHVeX8fU/o6bfwZGR8T4Acb0GWB9YMt6jHxTnd5T/nst4x0et/syldLNr3Xfr5CZrSPuWvYXUpl5M6Ve86o66TeUsrct5RjeOhLxBcAWETEaNcFcdU3mHMugg+Nklh4Nn8nMl1G6Xh4YET2D+PT33Z9KqYeu1F+QtVXss8CrI2Lnlve+ve24MzJLr7e5Yo+IZSmt03Otti2O+arf9lX/bNNep1++xjOYdfohsdgmfNV3mTNSYFL62lKHi31VP+97XmbeCUwGDosyxPEbmFPJhZKYvDMitouIpSg/5k9T+lcPitp14xLgyIgYGRGbUC7G7/VegLWZ+o/At6PcUmGJiHh5RGwDEBG7tPwIPEzZN8/V1/cBL2tZ3U8pX7BfR8QGdV2rRMQXIuIdvWx+FOUalMfrmennKxIR8drasrMU5VqamcBzdb/uEREvqmcnH2uJpxPHA/vWbURELB8R72xLlBdX/0u5TujCWj4OpoyitUx9vldEfK4mhtTysW5fK4uIVYD3MGckzO9QzuydXE+wEBFrRcR3anltN4pytnBmRGxBGUWuZ93bRsSro3S7e4xSMX8uIlaPiJ3qAfhpSr//+SknPwQ+HxEb1+29KCJ2mcd71IvMvJuS9O0QEUf1sshPKddR7NAyrZPv6emUz2rliFiLctKuUz3H7jdSTh78KkvX/dOBI6LcomQMcCB9HFOh7+NmZt5KSXh/GWV48qXrcXr3Ps6ej6L07Hgkyui2h7Zso88yPo/j9kCdA7wyIj4cEUvVx2sjYsMO16MuqL+5n+n53KNc3vEBSldq6gm7MygDadyZmZN73puZF1CuRT4zIjaPiCVrWd835q91WN21VD2OjIyIkZTLHr4UEatFuSXWIcw5Xp0OfDQiNoyI5SgDn/QqIt4VEa+ojROPUlra+qr/Pa/WG35PSaBWrseON/Wx7DOULvKH1Ek/pBxre+oGq0XETnXeGcCOEbFVlFHhJ9JPY8z81m/7qn/2solfUvbluFo/+hrlMqwpfcW0sFisE74s/ZxPoRS6b1MGX7mPMljE3ztY1QcpAww8RPlxPqVlG7cAH6Jc2PkgJRncsRb4wfQBSne8uyld7Q6tB/S+/D/KBbA3Ugr9Gczp3vFa4PKIeJzSyvKpnHMPp4mUSvsjEbFrPVvzFsqZ5j9RKuBXULpEXd7Ldg+i7K8ZlIrdaS3zVqzTHmbOiEz/U+d9GJgSpYvTvpRuRh2pP3YfpyQ3D1O6LezZ6XqaJspZtjfQcjYrM39MKUuHZOnj/mZKS8O/onSR+APl+pBjWlb1+qj34aN0yXiAMqgFWa6f2oqSnF0e5Tq/P1N+UG7rJaxPAIfX5Q5h7hbdl1LK62N1O3+lJA5LUCrld1O+i9vQckJhoDLzTEqX1lNrebuecm2C5kO9juHNlGsxjmyb9yzl831xy7ROvqeHUwaiuIPSYnEGJREaqHvrNu4Gfk65/uTmOm9/yg//7ZSRan8BnNjPuvo7bh7AnO5Cj1BGo3sPc1/v3eO7lOu8H6RU3P/QMq+/Mt7f9gekXhbwVsr1LndT9s83KNd+aeEzg1L3uDwinqCUl+spJ5Z7nExpkTjlhW/n/ZQRV0+jHIuvp4z82V/dQQuH8ygnhnoeIymND9dSrpu+mnqNdGb+ntKN8kLK8fSyuo7ejpXrUT7/xyl14u9n5oV13pGUpPKRiDiol/d+mPIbfzNljIz/6if+E4F1onTp/x7lmPXH+pt/GaVck+Ua5f0pAwTeU+O6v4/Ye8xP/ba/+ufzar36y5QeTPdQbiu1e/tyC6OekXckSVqkRcR+wO6Zuc08F5akxVBtsb+eMvLxAt+Ps5siYgXKSbP1MvOO4Y5nUbJYt/BJkhZdEbFGRGxdu+2sT2nZOHO445KkhUlEvCcilomIlSmt9r9bVJK9iNgxymBWy1NGur+OcosIdcCET5K0qFqaMgLbDMo9S8+ilwFiJGkxtw+lK+T/Ua7L6/hyh2G0E3NuKL8epReH3RM7ZJdOSZIkSWooW/gkSZIkqaFM+CRJkiSpoUz4JEmSJKmhTPgkSZIkqaFM+CRJkiSpoUz4JEmSJKmh/j9Sb9l6CBBB5AAAAABJRU5ErkJggg==\n"
          },
          "metadata": {
            "needs_background": "light"
          }
        }
      ]
    },
    {
      "cell_type": "code",
      "source": [
        "model1.mean_score_decrease()"
      ],
      "metadata": {
        "id": "XODCikqlNadl",
        "colab": {
          "base_uri": "https://localhost:8080/",
          "height": 370
        },
        "outputId": "761944a5-0ffe-4e44-ba7b-916cc7ea2b08"
      },
      "execution_count": 350,
      "outputs": [
        {
          "output_type": "display_data",
          "data": {
            "text/plain": [
              "<Figure size 1080x360 with 1 Axes>"
            ],
            "image/png": "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\n"
          },
          "metadata": {
            "needs_background": "light"
          }
        }
      ]
    },
    {
      "cell_type": "code",
      "source": [
        "model2.plot_results()"
      ],
      "metadata": {
        "id": "eQdPsw8BZOPA",
        "colab": {
          "base_uri": "https://localhost:8080/",
          "height": 340
        },
        "outputId": "fcffc818-4260-4e4f-fa7d-ff9c92e14763"
      },
      "execution_count": 351,
      "outputs": [
        {
          "output_type": "display_data",
          "data": {
            "text/plain": [
              "<Figure size 1080x360 with 1 Axes>"
            ],
            "image/png": "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\n"
          },
          "metadata": {
            "needs_background": "light"
          }
        }
      ]
    },
    {
      "cell_type": "code",
      "source": [
        "model2.mean_score_decrease()"
      ],
      "metadata": {
        "id": "BVQutM8WZStU",
        "colab": {
          "base_uri": "https://localhost:8080/",
          "height": 370
        },
        "outputId": "1adc6430-abe6-44b5-bd01-6a99e5d6ea63"
      },
      "execution_count": 352,
      "outputs": [
        {
          "output_type": "display_data",
          "data": {
            "text/plain": [
              "<Figure size 1080x360 with 1 Axes>"
            ],
            "image/png": "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\n"
          },
          "metadata": {
            "needs_background": "light"
          }
        }
      ]
    },
    {
      "cell_type": "markdown",
      "source": [
        "# Melakukan Prediksi"
      ],
      "metadata": {
        "id": "oCM8YoSLxaey"
      }
    },
    {
      "cell_type": "code",
      "source": [
        "coba = model2.predict(predtarg)\n",
        "predtarg['target'] = coba\n",
        "predtarg.drop('lulusTEPAT', axis=1, inplace=True)\n",
        "predtarg.drop('lulus', axis=1, inplace=True)\n"
      ],
      "metadata": {
        "id": "PEAa50A6medr",
        "colab": {
          "base_uri": "https://localhost:8080/"
        },
        "outputId": "48b90a07-67eb-488c-a98d-936d6d336591"
      },
      "execution_count": 353,
      "outputs": [
        {
          "output_type": "stream",
          "name": "stderr",
          "text": [
            "/usr/local/lib/python3.7/dist-packages/ipykernel_launcher.py:2: SettingWithCopyWarning: \n",
            "A value is trying to be set on a copy of a slice from a DataFrame.\n",
            "Try using .loc[row_indexer,col_indexer] = value instead\n",
            "\n",
            "See the caveats in the documentation: https://pandas.pydata.org/pandas-docs/stable/user_guide/indexing.html#returning-a-view-versus-a-copy\n",
            "  \n",
            "/usr/local/lib/python3.7/dist-packages/pandas/core/frame.py:4913: SettingWithCopyWarning: \n",
            "A value is trying to be set on a copy of a slice from a DataFrame\n",
            "\n",
            "See the caveats in the documentation: https://pandas.pydata.org/pandas-docs/stable/user_guide/indexing.html#returning-a-view-versus-a-copy\n",
            "  errors=errors,\n"
          ]
        }
      ]
    },
    {
      "cell_type": "markdown",
      "source": [
        "# Export Model"
      ],
      "metadata": {
        "id": "6byzPKN3mVEa"
      }
    },
    {
      "cell_type": "code",
      "source": [
        ""
      ],
      "metadata": {
        "id": "Wl596SBy-GtR"
      },
      "execution_count": 353,
      "outputs": []
    },
    {
      "cell_type": "code",
      "source": [
        "# save_model(model, \"NYOBA_Penyisihan_OutputDatCom.pkl\")"
      ],
      "metadata": {
        "id": "aww5AmDo-PuA"
      },
      "execution_count": 354,
      "outputs": []
    }
  ],
  "metadata": {
    "colab": {
      "collapsed_sections": [],
      "name": "AutoMl _Klasifikasi.ipynb",
      "provenance": [],
      "mount_file_id": "1OtOkqovHhZEWN6IN9U4-0KczWJM7CUtR",
      "authorship_tag": "ABX9TyMiPhezHe8tHt2lp3IkIxsv",
      "include_colab_link": true
    },
    "kernelspec": {
      "display_name": "Python 3",
      "name": "python3"
    },
    "language_info": {
      "name": "python"
    }
  },
  "nbformat": 4,
  "nbformat_minor": 0
}
