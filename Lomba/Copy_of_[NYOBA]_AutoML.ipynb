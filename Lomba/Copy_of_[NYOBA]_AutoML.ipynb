{
  "cells": [
    {
      "cell_type": "code",
      "execution_count": null,
      "metadata": {
        "colab": {
          "base_uri": "https://localhost:8080/"
        },
        "id": "BePNeRIISvzo",
        "outputId": "b1336d8f-d9b3-49d9-d2ec-66ddc2a39eac"
      },
      "outputs": [
        {
          "output_type": "stream",
          "name": "stdout",
          "text": [
            "Drive already mounted at /content/drive/; to attempt to forcibly remount, call drive.mount(\"/content/drive/\", force_remount=True).\n"
          ]
        }
      ],
      "source": [
        "import pandas as pd\n",
        "import seaborn as sns\n",
        "import matplotlib.pyplot as plt\n",
        "import numpy as np\n",
        "from google.colab import drive\n",
        "drive.mount('/content/drive/')"
      ]
    },
    {
      "cell_type": "code",
      "execution_count": null,
      "metadata": {
        "id": "e3Ga3W-AUdl_"
      },
      "outputs": [],
      "source": [
        "df_siswa = pd.read_csv(\"/content/drive/MyDrive/Dataset/lomba/Dataset1_TranscriptMahasiswa.csv\",sep = ';')\n",
        "df_matkul = pd.read_csv(\"/content/drive/MyDrive/Dataset/lomba/Dataset2_EvaluasiDosenPerMK.csv\",sep = \";\")\n"
      ]
    },
    {
      "cell_type": "code",
      "source": [
        "#Fungsi Untuk cek perbedaan value\n",
        "def check_val(x,y):\n",
        "  w = 0\n",
        "  for i in np.unique(x.values):#lengkap\n",
        "      if i not in np.unique(y.values):#yang di check\n",
        "        w = w + 1\n",
        "        print(w,':',i)\n",
        "  \n",
        "\n",
        "def null_check(x,y):\n",
        "    total = x.isnull().sum().sort_values(ascending=False)\n",
        "    percent = (x.isnull().sum()/x.isnull().count()).sort_values(ascending=False)\n",
        "    missing_data = pd.concat([total, percent], axis=1, keys=['Total', 'Percent'])\n",
        "    return missing_data.head(y)\n",
        "\n",
        "def boxplot(column):\n",
        "    sns.boxplot(data=df_finalis,x=df_finalis[f\"{column}\"])\n",
        "    plt.title(f\"Boxplot of  {column}\")\n",
        "    plt.show()"
      ],
      "metadata": {
        "id": "dz9zO4ctKiaJ"
      },
      "execution_count": null,
      "outputs": []
    },
    {
      "cell_type": "code",
      "execution_count": null,
      "metadata": {
        "id": "PqgP_DDYaAkV"
      },
      "outputs": [],
      "source": [
        "pd.set_option('max_rows', 99)"
      ]
    },
    {
      "cell_type": "markdown",
      "source": [
        "# Preprocessing df matkul\n"
      ],
      "metadata": {
        "id": "BhmYwn8BJVeh"
      }
    },
    {
      "cell_type": "code",
      "source": [
        ""
      ],
      "metadata": {
        "id": "bRuGEaS_JcaV"
      },
      "execution_count": null,
      "outputs": []
    },
    {
      "cell_type": "code",
      "source": [
        "df_matkul.info()"
      ],
      "metadata": {
        "colab": {
          "base_uri": "https://localhost:8080/"
        },
        "id": "9SW0EjwfSM2u",
        "outputId": "7f0da87a-e740-42f5-a1ab-5abe7a3db159"
      },
      "execution_count": null,
      "outputs": [
        {
          "output_type": "stream",
          "name": "stdout",
          "text": [
            "<class 'pandas.core.frame.DataFrame'>\n",
            "RangeIndex: 2114 entries, 0 to 2113\n",
            "Data columns (total 6 columns):\n",
            " #   Column      Non-Null Count  Dtype \n",
            "---  ------      --------------  ----- \n",
            " 0   TAHUN       2114 non-null   int64 \n",
            " 1   SEMESTER    2114 non-null   int64 \n",
            " 2   MATAKULIAH  2114 non-null   object\n",
            " 3   PERTANYAAN  2114 non-null   int64 \n",
            " 4   KETERANGAN  2114 non-null   object\n",
            " 5   NILAI       2114 non-null   object\n",
            "dtypes: int64(3), object(3)\n",
            "memory usage: 99.2+ KB\n"
          ]
        }
      ]
    },
    {
      "cell_type": "code",
      "source": [
        "null_check(df_matkul,10)"
      ],
      "metadata": {
        "colab": {
          "base_uri": "https://localhost:8080/",
          "height": 238
        },
        "id": "lwLviCpGSLjm",
        "outputId": "11d0c61f-c60c-4244-e13d-7d1e29c44e0f"
      },
      "execution_count": null,
      "outputs": [
        {
          "output_type": "execute_result",
          "data": {
            "text/plain": [
              "            Total  Percent\n",
              "TAHUN           0      0.0\n",
              "SEMESTER        0      0.0\n",
              "MATAKULIAH      0      0.0\n",
              "PERTANYAAN      0      0.0\n",
              "KETERANGAN      0      0.0\n",
              "NILAI           0      0.0"
            ],
            "text/html": [
              "\n",
              "  <div id=\"df-e79eb673-b332-4d0b-953f-d95e3d3d9eb6\">\n",
              "    <div class=\"colab-df-container\">\n",
              "      <div>\n",
              "<style scoped>\n",
              "    .dataframe tbody tr th:only-of-type {\n",
              "        vertical-align: middle;\n",
              "    }\n",
              "\n",
              "    .dataframe tbody tr th {\n",
              "        vertical-align: top;\n",
              "    }\n",
              "\n",
              "    .dataframe thead th {\n",
              "        text-align: right;\n",
              "    }\n",
              "</style>\n",
              "<table border=\"1\" class=\"dataframe\">\n",
              "  <thead>\n",
              "    <tr style=\"text-align: right;\">\n",
              "      <th></th>\n",
              "      <th>Total</th>\n",
              "      <th>Percent</th>\n",
              "    </tr>\n",
              "  </thead>\n",
              "  <tbody>\n",
              "    <tr>\n",
              "      <th>TAHUN</th>\n",
              "      <td>0</td>\n",
              "      <td>0.0</td>\n",
              "    </tr>\n",
              "    <tr>\n",
              "      <th>SEMESTER</th>\n",
              "      <td>0</td>\n",
              "      <td>0.0</td>\n",
              "    </tr>\n",
              "    <tr>\n",
              "      <th>MATAKULIAH</th>\n",
              "      <td>0</td>\n",
              "      <td>0.0</td>\n",
              "    </tr>\n",
              "    <tr>\n",
              "      <th>PERTANYAAN</th>\n",
              "      <td>0</td>\n",
              "      <td>0.0</td>\n",
              "    </tr>\n",
              "    <tr>\n",
              "      <th>KETERANGAN</th>\n",
              "      <td>0</td>\n",
              "      <td>0.0</td>\n",
              "    </tr>\n",
              "    <tr>\n",
              "      <th>NILAI</th>\n",
              "      <td>0</td>\n",
              "      <td>0.0</td>\n",
              "    </tr>\n",
              "  </tbody>\n",
              "</table>\n",
              "</div>\n",
              "      <button class=\"colab-df-convert\" onclick=\"convertToInteractive('df-e79eb673-b332-4d0b-953f-d95e3d3d9eb6')\"\n",
              "              title=\"Convert this dataframe to an interactive table.\"\n",
              "              style=\"display:none;\">\n",
              "        \n",
              "  <svg xmlns=\"http://www.w3.org/2000/svg\" height=\"24px\"viewBox=\"0 0 24 24\"\n",
              "       width=\"24px\">\n",
              "    <path d=\"M0 0h24v24H0V0z\" fill=\"none\"/>\n",
              "    <path d=\"M18.56 5.44l.94 2.06.94-2.06 2.06-.94-2.06-.94-.94-2.06-.94 2.06-2.06.94zm-11 1L8.5 8.5l.94-2.06 2.06-.94-2.06-.94L8.5 2.5l-.94 2.06-2.06.94zm10 10l.94 2.06.94-2.06 2.06-.94-2.06-.94-.94-2.06-.94 2.06-2.06.94z\"/><path d=\"M17.41 7.96l-1.37-1.37c-.4-.4-.92-.59-1.43-.59-.52 0-1.04.2-1.43.59L10.3 9.45l-7.72 7.72c-.78.78-.78 2.05 0 2.83L4 21.41c.39.39.9.59 1.41.59.51 0 1.02-.2 1.41-.59l7.78-7.78 2.81-2.81c.8-.78.8-2.07 0-2.86zM5.41 20L4 18.59l7.72-7.72 1.47 1.35L5.41 20z\"/>\n",
              "  </svg>\n",
              "      </button>\n",
              "      \n",
              "  <style>\n",
              "    .colab-df-container {\n",
              "      display:flex;\n",
              "      flex-wrap:wrap;\n",
              "      gap: 12px;\n",
              "    }\n",
              "\n",
              "    .colab-df-convert {\n",
              "      background-color: #E8F0FE;\n",
              "      border: none;\n",
              "      border-radius: 50%;\n",
              "      cursor: pointer;\n",
              "      display: none;\n",
              "      fill: #1967D2;\n",
              "      height: 32px;\n",
              "      padding: 0 0 0 0;\n",
              "      width: 32px;\n",
              "    }\n",
              "\n",
              "    .colab-df-convert:hover {\n",
              "      background-color: #E2EBFA;\n",
              "      box-shadow: 0px 1px 2px rgba(60, 64, 67, 0.3), 0px 1px 3px 1px rgba(60, 64, 67, 0.15);\n",
              "      fill: #174EA6;\n",
              "    }\n",
              "\n",
              "    [theme=dark] .colab-df-convert {\n",
              "      background-color: #3B4455;\n",
              "      fill: #D2E3FC;\n",
              "    }\n",
              "\n",
              "    [theme=dark] .colab-df-convert:hover {\n",
              "      background-color: #434B5C;\n",
              "      box-shadow: 0px 1px 3px 1px rgba(0, 0, 0, 0.15);\n",
              "      filter: drop-shadow(0px 1px 2px rgba(0, 0, 0, 0.3));\n",
              "      fill: #FFFFFF;\n",
              "    }\n",
              "  </style>\n",
              "\n",
              "      <script>\n",
              "        const buttonEl =\n",
              "          document.querySelector('#df-e79eb673-b332-4d0b-953f-d95e3d3d9eb6 button.colab-df-convert');\n",
              "        buttonEl.style.display =\n",
              "          google.colab.kernel.accessAllowed ? 'block' : 'none';\n",
              "\n",
              "        async function convertToInteractive(key) {\n",
              "          const element = document.querySelector('#df-e79eb673-b332-4d0b-953f-d95e3d3d9eb6');\n",
              "          const dataTable =\n",
              "            await google.colab.kernel.invokeFunction('convertToInteractive',\n",
              "                                                     [key], {});\n",
              "          if (!dataTable) return;\n",
              "\n",
              "          const docLinkHtml = 'Like what you see? Visit the ' +\n",
              "            '<a target=\"_blank\" href=https://colab.research.google.com/notebooks/data_table.ipynb>data table notebook</a>'\n",
              "            + ' to learn more about interactive tables.';\n",
              "          element.innerHTML = '';\n",
              "          dataTable['output_type'] = 'display_data';\n",
              "          await google.colab.output.renderOutput(dataTable, element);\n",
              "          const docLink = document.createElement('div');\n",
              "          docLink.innerHTML = docLinkHtml;\n",
              "          element.appendChild(docLink);\n",
              "        }\n",
              "      </script>\n",
              "    </div>\n",
              "  </div>\n",
              "  "
            ]
          },
          "metadata": {},
          "execution_count": 301
        }
      ]
    },
    {
      "cell_type": "code",
      "source": [
        "df_matkul[\"NILAI\"] = [float(str(i).replace(\",\", \".\")) for i in df_matkul[\"NILAI\"]]\n",
        "df_matkul[\"KODE_MK\"]=[i[:5] for i in df_matkul[\"MATAKULIAH\"]]\n",
        "df_matkul[\"NAMA_MK\"]=[i[6:] for i in df_matkul[\"MATAKULIAH\"]]\n",
        "df_matkul[\"NAMA_MK\"]=df_matkul[\"NAMA_MK\"].apply(str)\n",
        "df_matkul['SEMESTER'] = df_matkul['SEMESTER'].apply(str)\n",
        "df_matkul.drop('MATAKULIAH', axis=1, inplace=True)\n",
        "df_matkul\n",
        "\n"
      ],
      "metadata": {
        "id": "xY1ZLVBjL5Tq",
        "colab": {
          "base_uri": "https://localhost:8080/",
          "height": 424
        },
        "outputId": "3960eb49-7454-4f73-d877-5739aa7821ef"
      },
      "execution_count": null,
      "outputs": [
        {
          "output_type": "execute_result",
          "data": {
            "text/plain": [
              "      TAHUN SEMESTER  PERTANYAAN  \\\n",
              "0      2015     1511           1   \n",
              "1      2015     1511           2   \n",
              "2      2015     1511           3   \n",
              "3      2015     1511           4   \n",
              "4      2015     1511           5   \n",
              "...     ...      ...         ...   \n",
              "2109   2018     1821          10   \n",
              "2110   2018     1821          11   \n",
              "2111   2018     1821          12   \n",
              "2112   2018     1821          13   \n",
              "2113   2018     1821          14   \n",
              "\n",
              "                                             KETERANGAN  NILAI KODE_MK  \\\n",
              "0             Kesiapan memberikan perkuliahan/praktikum   3.28   IS100   \n",
              "1     Upaya  menyampaikan materi perkuliahan/praktik...   3.25   IS100   \n",
              "2     Sistematis dalam menyampaikan materi perkuliah...   3.24   IS100   \n",
              "3     Kemampuan memberikan contoh yang relevan dari ...   3.30   IS100   \n",
              "4     Penyampaian materi perkuliahan sesuai dengan k...   3.27   IS100   \n",
              "...                                                 ...    ...     ...   \n",
              "2109  Pemberian tugas/kuis serta pembahasannya di kelas   3.45   IS726   \n",
              "2110    Kemampuan memotivasi semangat belajar mahasiswa   3.41   IS726   \n",
              "2111      Kemampuan menerima kritik, saran dan pendapat   3.48   IS726   \n",
              "2112                Fairness dalam memberikan penilaian   3.49   IS726   \n",
              "2113  Ketepatan waktu dalam memulai dan mengakhiri p...   3.48   IS726   \n",
              "\n",
              "                                       NAMA_MK  \n",
              "0               Management Information Systems  \n",
              "1               Management Information Systems  \n",
              "2               Management Information Systems  \n",
              "3               Management Information Systems  \n",
              "4               Management Information Systems  \n",
              "...                                        ...  \n",
              "2109  Innovation in Information and Technology  \n",
              "2110  Innovation in Information and Technology  \n",
              "2111  Innovation in Information and Technology  \n",
              "2112  Innovation in Information and Technology  \n",
              "2113  Innovation in Information and Technology  \n",
              "\n",
              "[2114 rows x 7 columns]"
            ],
            "text/html": [
              "\n",
              "  <div id=\"df-653969a8-a038-4677-9351-60d1cf2a8498\">\n",
              "    <div class=\"colab-df-container\">\n",
              "      <div>\n",
              "<style scoped>\n",
              "    .dataframe tbody tr th:only-of-type {\n",
              "        vertical-align: middle;\n",
              "    }\n",
              "\n",
              "    .dataframe tbody tr th {\n",
              "        vertical-align: top;\n",
              "    }\n",
              "\n",
              "    .dataframe thead th {\n",
              "        text-align: right;\n",
              "    }\n",
              "</style>\n",
              "<table border=\"1\" class=\"dataframe\">\n",
              "  <thead>\n",
              "    <tr style=\"text-align: right;\">\n",
              "      <th></th>\n",
              "      <th>TAHUN</th>\n",
              "      <th>SEMESTER</th>\n",
              "      <th>PERTANYAAN</th>\n",
              "      <th>KETERANGAN</th>\n",
              "      <th>NILAI</th>\n",
              "      <th>KODE_MK</th>\n",
              "      <th>NAMA_MK</th>\n",
              "    </tr>\n",
              "  </thead>\n",
              "  <tbody>\n",
              "    <tr>\n",
              "      <th>0</th>\n",
              "      <td>2015</td>\n",
              "      <td>1511</td>\n",
              "      <td>1</td>\n",
              "      <td>Kesiapan memberikan perkuliahan/praktikum</td>\n",
              "      <td>3.28</td>\n",
              "      <td>IS100</td>\n",
              "      <td>Management Information Systems</td>\n",
              "    </tr>\n",
              "    <tr>\n",
              "      <th>1</th>\n",
              "      <td>2015</td>\n",
              "      <td>1511</td>\n",
              "      <td>2</td>\n",
              "      <td>Upaya  menyampaikan materi perkuliahan/praktik...</td>\n",
              "      <td>3.25</td>\n",
              "      <td>IS100</td>\n",
              "      <td>Management Information Systems</td>\n",
              "    </tr>\n",
              "    <tr>\n",
              "      <th>2</th>\n",
              "      <td>2015</td>\n",
              "      <td>1511</td>\n",
              "      <td>3</td>\n",
              "      <td>Sistematis dalam menyampaikan materi perkuliah...</td>\n",
              "      <td>3.24</td>\n",
              "      <td>IS100</td>\n",
              "      <td>Management Information Systems</td>\n",
              "    </tr>\n",
              "    <tr>\n",
              "      <th>3</th>\n",
              "      <td>2015</td>\n",
              "      <td>1511</td>\n",
              "      <td>4</td>\n",
              "      <td>Kemampuan memberikan contoh yang relevan dari ...</td>\n",
              "      <td>3.30</td>\n",
              "      <td>IS100</td>\n",
              "      <td>Management Information Systems</td>\n",
              "    </tr>\n",
              "    <tr>\n",
              "      <th>4</th>\n",
              "      <td>2015</td>\n",
              "      <td>1511</td>\n",
              "      <td>5</td>\n",
              "      <td>Penyampaian materi perkuliahan sesuai dengan k...</td>\n",
              "      <td>3.27</td>\n",
              "      <td>IS100</td>\n",
              "      <td>Management Information Systems</td>\n",
              "    </tr>\n",
              "    <tr>\n",
              "      <th>...</th>\n",
              "      <td>...</td>\n",
              "      <td>...</td>\n",
              "      <td>...</td>\n",
              "      <td>...</td>\n",
              "      <td>...</td>\n",
              "      <td>...</td>\n",
              "      <td>...</td>\n",
              "    </tr>\n",
              "    <tr>\n",
              "      <th>2109</th>\n",
              "      <td>2018</td>\n",
              "      <td>1821</td>\n",
              "      <td>10</td>\n",
              "      <td>Pemberian tugas/kuis serta pembahasannya di kelas</td>\n",
              "      <td>3.45</td>\n",
              "      <td>IS726</td>\n",
              "      <td>Innovation in Information and Technology</td>\n",
              "    </tr>\n",
              "    <tr>\n",
              "      <th>2110</th>\n",
              "      <td>2018</td>\n",
              "      <td>1821</td>\n",
              "      <td>11</td>\n",
              "      <td>Kemampuan memotivasi semangat belajar mahasiswa</td>\n",
              "      <td>3.41</td>\n",
              "      <td>IS726</td>\n",
              "      <td>Innovation in Information and Technology</td>\n",
              "    </tr>\n",
              "    <tr>\n",
              "      <th>2111</th>\n",
              "      <td>2018</td>\n",
              "      <td>1821</td>\n",
              "      <td>12</td>\n",
              "      <td>Kemampuan menerima kritik, saran dan pendapat</td>\n",
              "      <td>3.48</td>\n",
              "      <td>IS726</td>\n",
              "      <td>Innovation in Information and Technology</td>\n",
              "    </tr>\n",
              "    <tr>\n",
              "      <th>2112</th>\n",
              "      <td>2018</td>\n",
              "      <td>1821</td>\n",
              "      <td>13</td>\n",
              "      <td>Fairness dalam memberikan penilaian</td>\n",
              "      <td>3.49</td>\n",
              "      <td>IS726</td>\n",
              "      <td>Innovation in Information and Technology</td>\n",
              "    </tr>\n",
              "    <tr>\n",
              "      <th>2113</th>\n",
              "      <td>2018</td>\n",
              "      <td>1821</td>\n",
              "      <td>14</td>\n",
              "      <td>Ketepatan waktu dalam memulai dan mengakhiri p...</td>\n",
              "      <td>3.48</td>\n",
              "      <td>IS726</td>\n",
              "      <td>Innovation in Information and Technology</td>\n",
              "    </tr>\n",
              "  </tbody>\n",
              "</table>\n",
              "<p>2114 rows × 7 columns</p>\n",
              "</div>\n",
              "      <button class=\"colab-df-convert\" onclick=\"convertToInteractive('df-653969a8-a038-4677-9351-60d1cf2a8498')\"\n",
              "              title=\"Convert this dataframe to an interactive table.\"\n",
              "              style=\"display:none;\">\n",
              "        \n",
              "  <svg xmlns=\"http://www.w3.org/2000/svg\" height=\"24px\"viewBox=\"0 0 24 24\"\n",
              "       width=\"24px\">\n",
              "    <path d=\"M0 0h24v24H0V0z\" fill=\"none\"/>\n",
              "    <path d=\"M18.56 5.44l.94 2.06.94-2.06 2.06-.94-2.06-.94-.94-2.06-.94 2.06-2.06.94zm-11 1L8.5 8.5l.94-2.06 2.06-.94-2.06-.94L8.5 2.5l-.94 2.06-2.06.94zm10 10l.94 2.06.94-2.06 2.06-.94-2.06-.94-.94-2.06-.94 2.06-2.06.94z\"/><path d=\"M17.41 7.96l-1.37-1.37c-.4-.4-.92-.59-1.43-.59-.52 0-1.04.2-1.43.59L10.3 9.45l-7.72 7.72c-.78.78-.78 2.05 0 2.83L4 21.41c.39.39.9.59 1.41.59.51 0 1.02-.2 1.41-.59l7.78-7.78 2.81-2.81c.8-.78.8-2.07 0-2.86zM5.41 20L4 18.59l7.72-7.72 1.47 1.35L5.41 20z\"/>\n",
              "  </svg>\n",
              "      </button>\n",
              "      \n",
              "  <style>\n",
              "    .colab-df-container {\n",
              "      display:flex;\n",
              "      flex-wrap:wrap;\n",
              "      gap: 12px;\n",
              "    }\n",
              "\n",
              "    .colab-df-convert {\n",
              "      background-color: #E8F0FE;\n",
              "      border: none;\n",
              "      border-radius: 50%;\n",
              "      cursor: pointer;\n",
              "      display: none;\n",
              "      fill: #1967D2;\n",
              "      height: 32px;\n",
              "      padding: 0 0 0 0;\n",
              "      width: 32px;\n",
              "    }\n",
              "\n",
              "    .colab-df-convert:hover {\n",
              "      background-color: #E2EBFA;\n",
              "      box-shadow: 0px 1px 2px rgba(60, 64, 67, 0.3), 0px 1px 3px 1px rgba(60, 64, 67, 0.15);\n",
              "      fill: #174EA6;\n",
              "    }\n",
              "\n",
              "    [theme=dark] .colab-df-convert {\n",
              "      background-color: #3B4455;\n",
              "      fill: #D2E3FC;\n",
              "    }\n",
              "\n",
              "    [theme=dark] .colab-df-convert:hover {\n",
              "      background-color: #434B5C;\n",
              "      box-shadow: 0px 1px 3px 1px rgba(0, 0, 0, 0.15);\n",
              "      filter: drop-shadow(0px 1px 2px rgba(0, 0, 0, 0.3));\n",
              "      fill: #FFFFFF;\n",
              "    }\n",
              "  </style>\n",
              "\n",
              "      <script>\n",
              "        const buttonEl =\n",
              "          document.querySelector('#df-653969a8-a038-4677-9351-60d1cf2a8498 button.colab-df-convert');\n",
              "        buttonEl.style.display =\n",
              "          google.colab.kernel.accessAllowed ? 'block' : 'none';\n",
              "\n",
              "        async function convertToInteractive(key) {\n",
              "          const element = document.querySelector('#df-653969a8-a038-4677-9351-60d1cf2a8498');\n",
              "          const dataTable =\n",
              "            await google.colab.kernel.invokeFunction('convertToInteractive',\n",
              "                                                     [key], {});\n",
              "          if (!dataTable) return;\n",
              "\n",
              "          const docLinkHtml = 'Like what you see? Visit the ' +\n",
              "            '<a target=\"_blank\" href=https://colab.research.google.com/notebooks/data_table.ipynb>data table notebook</a>'\n",
              "            + ' to learn more about interactive tables.';\n",
              "          element.innerHTML = '';\n",
              "          dataTable['output_type'] = 'display_data';\n",
              "          await google.colab.output.renderOutput(dataTable, element);\n",
              "          const docLink = document.createElement('div');\n",
              "          docLink.innerHTML = docLinkHtml;\n",
              "          element.appendChild(docLink);\n",
              "        }\n",
              "      </script>\n",
              "    </div>\n",
              "  </div>\n",
              "  "
            ]
          },
          "metadata": {},
          "execution_count": 302
        }
      ]
    },
    {
      "cell_type": "code",
      "source": [
        "# df_siswa.loc[df_siswa['KODE_MK'] =='SI863']\n"
      ],
      "metadata": {
        "id": "voDZ8E5flpdf"
      },
      "execution_count": null,
      "outputs": []
    },
    {
      "cell_type": "code",
      "source": [
        "# for i in df_matkul['KODE_MK']=='IS100':\n",
        "#   if i==True:\n",
        "#      print(i)"
      ],
      "metadata": {
        "id": "IuDd7rBqk3kc"
      },
      "execution_count": null,
      "outputs": []
    },
    {
      "cell_type": "code",
      "source": [
        "df_matkul.info()"
      ],
      "metadata": {
        "colab": {
          "base_uri": "https://localhost:8080/"
        },
        "id": "X0f3Mh_qkECo",
        "outputId": "35f013be-875c-4f74-bf00-ae608c43f294"
      },
      "execution_count": null,
      "outputs": [
        {
          "output_type": "stream",
          "name": "stdout",
          "text": [
            "<class 'pandas.core.frame.DataFrame'>\n",
            "RangeIndex: 2114 entries, 0 to 2113\n",
            "Data columns (total 7 columns):\n",
            " #   Column      Non-Null Count  Dtype  \n",
            "---  ------      --------------  -----  \n",
            " 0   TAHUN       2114 non-null   int64  \n",
            " 1   SEMESTER    2114 non-null   object \n",
            " 2   PERTANYAAN  2114 non-null   int64  \n",
            " 3   KETERANGAN  2114 non-null   object \n",
            " 4   NILAI       2114 non-null   float64\n",
            " 5   KODE_MK     2114 non-null   object \n",
            " 6   NAMA_MK     2114 non-null   object \n",
            "dtypes: float64(1), int64(2), object(4)\n",
            "memory usage: 115.7+ KB\n"
          ]
        }
      ]
    },
    {
      "cell_type": "code",
      "source": [
        "df_eval = df_matkul.groupby(\n",
        "     ['SEMESTER','NAMA_MK']\n",
        " ).agg(\n",
        "    \n",
        "     sem_score = ('NILAI','mean'),\n",
        "      \n",
        " ).reset_index()\n",
        "\n"
      ],
      "metadata": {
        "id": "2Ekb2w-EJYt9"
      },
      "execution_count": null,
      "outputs": []
    },
    {
      "cell_type": "code",
      "source": [
        "# Untuk Visualisasi Data\n",
        "df_eval.to_csv('matkul.csv',index=False)"
      ],
      "metadata": {
        "id": "rYznkpx7pam8"
      },
      "execution_count": null,
      "outputs": []
    },
    {
      "cell_type": "code",
      "source": [
        ""
      ],
      "metadata": {
        "id": "zA2QiPu_NgZZ"
      },
      "execution_count": null,
      "outputs": []
    },
    {
      "cell_type": "markdown",
      "source": [
        "# Preprocessing DF siswa\n"
      ],
      "metadata": {
        "id": "I13iwORtJPw1"
      }
    },
    {
      "cell_type": "code",
      "execution_count": null,
      "metadata": {
        "colab": {
          "base_uri": "https://localhost:8080/"
        },
        "id": "qEeha8kU9yBj",
        "outputId": "7e7c7e8e-01ae-4ed6-e40e-a1b88e117b8d"
      },
      "outputs": [
        {
          "output_type": "stream",
          "name": "stdout",
          "text": [
            "<class 'pandas.core.frame.DataFrame'>\n",
            "RangeIndex: 30870 entries, 0 to 30869\n",
            "Data columns (total 8 columns):\n",
            " #   Column    Non-Null Count  Dtype  \n",
            "---  ------    --------------  -----  \n",
            " 0   NIM       30870 non-null  int64  \n",
            " 1   ANGKATAN  30870 non-null  int64  \n",
            " 2   SEMESTER  30870 non-null  int64  \n",
            " 3   KODE_MK   30870 non-null  object \n",
            " 4   NAMA_MK   30847 non-null  object \n",
            " 5   SKS       30870 non-null  int64  \n",
            " 6   NILAI     30858 non-null  float64\n",
            " 7   GRADE     30318 non-null  object \n",
            "dtypes: float64(1), int64(4), object(3)\n",
            "memory usage: 1.9+ MB\n"
          ]
        }
      ],
      "source": [
        "df_siswa.info()"
      ]
    },
    {
      "cell_type": "markdown",
      "metadata": {
        "id": "L3QSVyYbII-N"
      },
      "source": [
        "Bisa dipastikan nilai Null berarti siswa melakukan pelanggaran akademik karena semua ber grade F maka bisa di drop"
      ]
    },
    {
      "cell_type": "code",
      "source": [
        ""
      ],
      "metadata": {
        "id": "Krnq3uUGmsex"
      },
      "execution_count": null,
      "outputs": []
    },
    {
      "cell_type": "code",
      "source": [
        ""
      ],
      "metadata": {
        "id": "nWn7pgcemwvg"
      },
      "execution_count": null,
      "outputs": []
    },
    {
      "cell_type": "code",
      "source": [
        ""
      ],
      "metadata": {
        "id": "Dyl3L_o9p1wQ"
      },
      "execution_count": null,
      "outputs": []
    },
    {
      "cell_type": "code",
      "source": [
        "null_check(df_siswa,10)"
      ],
      "metadata": {
        "colab": {
          "base_uri": "https://localhost:8080/",
          "height": 301
        },
        "id": "9Llq0yOgTvdS",
        "outputId": "c012a351-ab66-4489-ff86-b3a9984336dc"
      },
      "execution_count": null,
      "outputs": [
        {
          "output_type": "execute_result",
          "data": {
            "text/plain": [
              "          Total   Percent\n",
              "GRADE       552  0.017881\n",
              "NAMA_MK      23  0.000745\n",
              "NILAI        12  0.000389\n",
              "NIM           0  0.000000\n",
              "ANGKATAN      0  0.000000\n",
              "SEMESTER      0  0.000000\n",
              "KODE_MK       0  0.000000\n",
              "SKS           0  0.000000"
            ],
            "text/html": [
              "\n",
              "  <div id=\"df-31c90bc2-19bd-4129-8f58-1d10585c38f1\">\n",
              "    <div class=\"colab-df-container\">\n",
              "      <div>\n",
              "<style scoped>\n",
              "    .dataframe tbody tr th:only-of-type {\n",
              "        vertical-align: middle;\n",
              "    }\n",
              "\n",
              "    .dataframe tbody tr th {\n",
              "        vertical-align: top;\n",
              "    }\n",
              "\n",
              "    .dataframe thead th {\n",
              "        text-align: right;\n",
              "    }\n",
              "</style>\n",
              "<table border=\"1\" class=\"dataframe\">\n",
              "  <thead>\n",
              "    <tr style=\"text-align: right;\">\n",
              "      <th></th>\n",
              "      <th>Total</th>\n",
              "      <th>Percent</th>\n",
              "    </tr>\n",
              "  </thead>\n",
              "  <tbody>\n",
              "    <tr>\n",
              "      <th>GRADE</th>\n",
              "      <td>552</td>\n",
              "      <td>0.017881</td>\n",
              "    </tr>\n",
              "    <tr>\n",
              "      <th>NAMA_MK</th>\n",
              "      <td>23</td>\n",
              "      <td>0.000745</td>\n",
              "    </tr>\n",
              "    <tr>\n",
              "      <th>NILAI</th>\n",
              "      <td>12</td>\n",
              "      <td>0.000389</td>\n",
              "    </tr>\n",
              "    <tr>\n",
              "      <th>NIM</th>\n",
              "      <td>0</td>\n",
              "      <td>0.000000</td>\n",
              "    </tr>\n",
              "    <tr>\n",
              "      <th>ANGKATAN</th>\n",
              "      <td>0</td>\n",
              "      <td>0.000000</td>\n",
              "    </tr>\n",
              "    <tr>\n",
              "      <th>SEMESTER</th>\n",
              "      <td>0</td>\n",
              "      <td>0.000000</td>\n",
              "    </tr>\n",
              "    <tr>\n",
              "      <th>KODE_MK</th>\n",
              "      <td>0</td>\n",
              "      <td>0.000000</td>\n",
              "    </tr>\n",
              "    <tr>\n",
              "      <th>SKS</th>\n",
              "      <td>0</td>\n",
              "      <td>0.000000</td>\n",
              "    </tr>\n",
              "  </tbody>\n",
              "</table>\n",
              "</div>\n",
              "      <button class=\"colab-df-convert\" onclick=\"convertToInteractive('df-31c90bc2-19bd-4129-8f58-1d10585c38f1')\"\n",
              "              title=\"Convert this dataframe to an interactive table.\"\n",
              "              style=\"display:none;\">\n",
              "        \n",
              "  <svg xmlns=\"http://www.w3.org/2000/svg\" height=\"24px\"viewBox=\"0 0 24 24\"\n",
              "       width=\"24px\">\n",
              "    <path d=\"M0 0h24v24H0V0z\" fill=\"none\"/>\n",
              "    <path d=\"M18.56 5.44l.94 2.06.94-2.06 2.06-.94-2.06-.94-.94-2.06-.94 2.06-2.06.94zm-11 1L8.5 8.5l.94-2.06 2.06-.94-2.06-.94L8.5 2.5l-.94 2.06-2.06.94zm10 10l.94 2.06.94-2.06 2.06-.94-2.06-.94-.94-2.06-.94 2.06-2.06.94z\"/><path d=\"M17.41 7.96l-1.37-1.37c-.4-.4-.92-.59-1.43-.59-.52 0-1.04.2-1.43.59L10.3 9.45l-7.72 7.72c-.78.78-.78 2.05 0 2.83L4 21.41c.39.39.9.59 1.41.59.51 0 1.02-.2 1.41-.59l7.78-7.78 2.81-2.81c.8-.78.8-2.07 0-2.86zM5.41 20L4 18.59l7.72-7.72 1.47 1.35L5.41 20z\"/>\n",
              "  </svg>\n",
              "      </button>\n",
              "      \n",
              "  <style>\n",
              "    .colab-df-container {\n",
              "      display:flex;\n",
              "      flex-wrap:wrap;\n",
              "      gap: 12px;\n",
              "    }\n",
              "\n",
              "    .colab-df-convert {\n",
              "      background-color: #E8F0FE;\n",
              "      border: none;\n",
              "      border-radius: 50%;\n",
              "      cursor: pointer;\n",
              "      display: none;\n",
              "      fill: #1967D2;\n",
              "      height: 32px;\n",
              "      padding: 0 0 0 0;\n",
              "      width: 32px;\n",
              "    }\n",
              "\n",
              "    .colab-df-convert:hover {\n",
              "      background-color: #E2EBFA;\n",
              "      box-shadow: 0px 1px 2px rgba(60, 64, 67, 0.3), 0px 1px 3px 1px rgba(60, 64, 67, 0.15);\n",
              "      fill: #174EA6;\n",
              "    }\n",
              "\n",
              "    [theme=dark] .colab-df-convert {\n",
              "      background-color: #3B4455;\n",
              "      fill: #D2E3FC;\n",
              "    }\n",
              "\n",
              "    [theme=dark] .colab-df-convert:hover {\n",
              "      background-color: #434B5C;\n",
              "      box-shadow: 0px 1px 3px 1px rgba(0, 0, 0, 0.15);\n",
              "      filter: drop-shadow(0px 1px 2px rgba(0, 0, 0, 0.3));\n",
              "      fill: #FFFFFF;\n",
              "    }\n",
              "  </style>\n",
              "\n",
              "      <script>\n",
              "        const buttonEl =\n",
              "          document.querySelector('#df-31c90bc2-19bd-4129-8f58-1d10585c38f1 button.colab-df-convert');\n",
              "        buttonEl.style.display =\n",
              "          google.colab.kernel.accessAllowed ? 'block' : 'none';\n",
              "\n",
              "        async function convertToInteractive(key) {\n",
              "          const element = document.querySelector('#df-31c90bc2-19bd-4129-8f58-1d10585c38f1');\n",
              "          const dataTable =\n",
              "            await google.colab.kernel.invokeFunction('convertToInteractive',\n",
              "                                                     [key], {});\n",
              "          if (!dataTable) return;\n",
              "\n",
              "          const docLinkHtml = 'Like what you see? Visit the ' +\n",
              "            '<a target=\"_blank\" href=https://colab.research.google.com/notebooks/data_table.ipynb>data table notebook</a>'\n",
              "            + ' to learn more about interactive tables.';\n",
              "          element.innerHTML = '';\n",
              "          dataTable['output_type'] = 'display_data';\n",
              "          await google.colab.output.renderOutput(dataTable, element);\n",
              "          const docLink = document.createElement('div');\n",
              "          docLink.innerHTML = docLinkHtml;\n",
              "          element.appendChild(docLink);\n",
              "        }\n",
              "      </script>\n",
              "    </div>\n",
              "  </div>\n",
              "  "
            ]
          },
          "metadata": {},
          "execution_count": 309
        }
      ]
    },
    {
      "cell_type": "code",
      "source": [
        "#Merubah Semester Menjadi String agar bisa di manipulasi\n",
        "df_siswa[\"SEMESTER\"]=df_siswa['SEMESTER'].apply(str)\n",
        "#Untuk menambahkan spasi sebagai pembeda dengan 22 yang ada ditengah ,contoh : 1221, 22 nya terletak ditengah dan itu bukan termasuk outlier\n",
        "df_siswa[\"SEMESTER\"]=df_siswa[\"SEMESTER\"].str.ljust(5, \" \")\n",
        "#disini sudah saya ganti '22 ' menjadi '21 ' \n",
        "df_siswa[\"SEMESTER\"] = [str(str(i).replace(\"22 \", \"21 \")) for i in df_siswa[\"SEMESTER\"]]\n",
        "#Untuk Menghilangkan spasi yang ada di SEMESTER\n",
        "df_siswa[\"SEMESTER\"] = df_siswa[\"SEMESTER\"].str.rstrip()\n",
        "\n",
        "np.unique(df_siswa.SEMESTER)\n"
      ],
      "metadata": {
        "id": "X3KsPCQBgzBG",
        "colab": {
          "base_uri": "https://localhost:8080/"
        },
        "outputId": "61895ea5-92ab-410a-d683-e5ffcaa3ee5e"
      },
      "execution_count": null,
      "outputs": [
        {
          "output_type": "execute_result",
          "data": {
            "text/plain": [
              "array(['1011', '1021', '1111', '1121', '1211', '1221', '1311', '1321',\n",
              "       '1411', '1421', '1511', '1521', '1611', '1621', '1711', '1721',\n",
              "       '1811', '1821', '1911'], dtype=object)"
            ]
          },
          "metadata": {},
          "execution_count": 310
        }
      ]
    },
    {
      "cell_type": "code",
      "source": [
        "\n"
      ],
      "metadata": {
        "id": "78sftRwQ6hsz"
      },
      "execution_count": null,
      "outputs": []
    },
    {
      "cell_type": "code",
      "source": [
        "np.unique(df_siswa['SEMESTER'])"
      ],
      "metadata": {
        "colab": {
          "base_uri": "https://localhost:8080/"
        },
        "id": "K59ojwvI06Gn",
        "outputId": "a9357dbd-ffaf-438e-80ab-9f0a5310f969"
      },
      "execution_count": null,
      "outputs": [
        {
          "output_type": "execute_result",
          "data": {
            "text/plain": [
              "array(['1011', '1021', '1111', '1121', '1211', '1221', '1311', '1321',\n",
              "       '1411', '1421', '1511', '1521', '1611', '1621', '1711', '1721',\n",
              "       '1811', '1821', '1911'], dtype=object)"
            ]
          },
          "metadata": {},
          "execution_count": 311
        }
      ]
    },
    {
      "cell_type": "code",
      "source": [
        ""
      ],
      "metadata": {
        "id": "u681Qbmsqm91"
      },
      "execution_count": null,
      "outputs": []
    },
    {
      "cell_type": "code",
      "source": [
        "df_siswa[\"SEMESTER\"].value_counts()"
      ],
      "metadata": {
        "colab": {
          "base_uri": "https://localhost:8080/"
        },
        "id": "Q2Fmfdz_hKXe",
        "outputId": "ca87acfc-f698-4801-b918-8b20d0edce6d"
      },
      "execution_count": null,
      "outputs": [
        {
          "output_type": "execute_result",
          "data": {
            "text/plain": [
              "1811    2813\n",
              "1821    2696\n",
              "1721    2364\n",
              "1711    2279\n",
              "1611    2166\n",
              "1621    2153\n",
              "1521    2032\n",
              "1511    2000\n",
              "1411    1917\n",
              "1421    1761\n",
              "1311    1577\n",
              "1321    1529\n",
              "1221    1309\n",
              "1211    1261\n",
              "1121    1084\n",
              "1111     940\n",
              "1021     529\n",
              "1011     455\n",
              "1911       5\n",
              "Name: SEMESTER, dtype: int64"
            ]
          },
          "metadata": {},
          "execution_count": 312
        }
      ]
    },
    {
      "cell_type": "code",
      "source": [
        "\n",
        "df_siswa['NAMA_MK'] = df_siswa['NAMA_MK'].astype(str)"
      ],
      "metadata": {
        "id": "FR7uD1C9q_JJ"
      },
      "execution_count": null,
      "outputs": []
    },
    {
      "cell_type": "code",
      "source": [
        "df_siswa.loc[df_siswa['NAMA_MK'].isnull()]"
      ],
      "metadata": {
        "colab": {
          "base_uri": "https://localhost:8080/",
          "height": 50
        },
        "id": "DYeDau1zqUl2",
        "outputId": "942d76f6-5b4d-4435-c6c8-e7f4b0a69199"
      },
      "execution_count": null,
      "outputs": [
        {
          "output_type": "execute_result",
          "data": {
            "text/plain": [
              "Empty DataFrame\n",
              "Columns: [NIM, ANGKATAN, SEMESTER, KODE_MK, NAMA_MK, SKS, NILAI, GRADE]\n",
              "Index: []"
            ],
            "text/html": [
              "\n",
              "  <div id=\"df-3d6ccdc2-8a2f-455e-86d9-5465fe21c5d7\">\n",
              "    <div class=\"colab-df-container\">\n",
              "      <div>\n",
              "<style scoped>\n",
              "    .dataframe tbody tr th:only-of-type {\n",
              "        vertical-align: middle;\n",
              "    }\n",
              "\n",
              "    .dataframe tbody tr th {\n",
              "        vertical-align: top;\n",
              "    }\n",
              "\n",
              "    .dataframe thead th {\n",
              "        text-align: right;\n",
              "    }\n",
              "</style>\n",
              "<table border=\"1\" class=\"dataframe\">\n",
              "  <thead>\n",
              "    <tr style=\"text-align: right;\">\n",
              "      <th></th>\n",
              "      <th>NIM</th>\n",
              "      <th>ANGKATAN</th>\n",
              "      <th>SEMESTER</th>\n",
              "      <th>KODE_MK</th>\n",
              "      <th>NAMA_MK</th>\n",
              "      <th>SKS</th>\n",
              "      <th>NILAI</th>\n",
              "      <th>GRADE</th>\n",
              "    </tr>\n",
              "  </thead>\n",
              "  <tbody>\n",
              "  </tbody>\n",
              "</table>\n",
              "</div>\n",
              "      <button class=\"colab-df-convert\" onclick=\"convertToInteractive('df-3d6ccdc2-8a2f-455e-86d9-5465fe21c5d7')\"\n",
              "              title=\"Convert this dataframe to an interactive table.\"\n",
              "              style=\"display:none;\">\n",
              "        \n",
              "  <svg xmlns=\"http://www.w3.org/2000/svg\" height=\"24px\"viewBox=\"0 0 24 24\"\n",
              "       width=\"24px\">\n",
              "    <path d=\"M0 0h24v24H0V0z\" fill=\"none\"/>\n",
              "    <path d=\"M18.56 5.44l.94 2.06.94-2.06 2.06-.94-2.06-.94-.94-2.06-.94 2.06-2.06.94zm-11 1L8.5 8.5l.94-2.06 2.06-.94-2.06-.94L8.5 2.5l-.94 2.06-2.06.94zm10 10l.94 2.06.94-2.06 2.06-.94-2.06-.94-.94-2.06-.94 2.06-2.06.94z\"/><path d=\"M17.41 7.96l-1.37-1.37c-.4-.4-.92-.59-1.43-.59-.52 0-1.04.2-1.43.59L10.3 9.45l-7.72 7.72c-.78.78-.78 2.05 0 2.83L4 21.41c.39.39.9.59 1.41.59.51 0 1.02-.2 1.41-.59l7.78-7.78 2.81-2.81c.8-.78.8-2.07 0-2.86zM5.41 20L4 18.59l7.72-7.72 1.47 1.35L5.41 20z\"/>\n",
              "  </svg>\n",
              "      </button>\n",
              "      \n",
              "  <style>\n",
              "    .colab-df-container {\n",
              "      display:flex;\n",
              "      flex-wrap:wrap;\n",
              "      gap: 12px;\n",
              "    }\n",
              "\n",
              "    .colab-df-convert {\n",
              "      background-color: #E8F0FE;\n",
              "      border: none;\n",
              "      border-radius: 50%;\n",
              "      cursor: pointer;\n",
              "      display: none;\n",
              "      fill: #1967D2;\n",
              "      height: 32px;\n",
              "      padding: 0 0 0 0;\n",
              "      width: 32px;\n",
              "    }\n",
              "\n",
              "    .colab-df-convert:hover {\n",
              "      background-color: #E2EBFA;\n",
              "      box-shadow: 0px 1px 2px rgba(60, 64, 67, 0.3), 0px 1px 3px 1px rgba(60, 64, 67, 0.15);\n",
              "      fill: #174EA6;\n",
              "    }\n",
              "\n",
              "    [theme=dark] .colab-df-convert {\n",
              "      background-color: #3B4455;\n",
              "      fill: #D2E3FC;\n",
              "    }\n",
              "\n",
              "    [theme=dark] .colab-df-convert:hover {\n",
              "      background-color: #434B5C;\n",
              "      box-shadow: 0px 1px 3px 1px rgba(0, 0, 0, 0.15);\n",
              "      filter: drop-shadow(0px 1px 2px rgba(0, 0, 0, 0.3));\n",
              "      fill: #FFFFFF;\n",
              "    }\n",
              "  </style>\n",
              "\n",
              "      <script>\n",
              "        const buttonEl =\n",
              "          document.querySelector('#df-3d6ccdc2-8a2f-455e-86d9-5465fe21c5d7 button.colab-df-convert');\n",
              "        buttonEl.style.display =\n",
              "          google.colab.kernel.accessAllowed ? 'block' : 'none';\n",
              "\n",
              "        async function convertToInteractive(key) {\n",
              "          const element = document.querySelector('#df-3d6ccdc2-8a2f-455e-86d9-5465fe21c5d7');\n",
              "          const dataTable =\n",
              "            await google.colab.kernel.invokeFunction('convertToInteractive',\n",
              "                                                     [key], {});\n",
              "          if (!dataTable) return;\n",
              "\n",
              "          const docLinkHtml = 'Like what you see? Visit the ' +\n",
              "            '<a target=\"_blank\" href=https://colab.research.google.com/notebooks/data_table.ipynb>data table notebook</a>'\n",
              "            + ' to learn more about interactive tables.';\n",
              "          element.innerHTML = '';\n",
              "          dataTable['output_type'] = 'display_data';\n",
              "          await google.colab.output.renderOutput(dataTable, element);\n",
              "          const docLink = document.createElement('div');\n",
              "          docLink.innerHTML = docLinkHtml;\n",
              "          element.appendChild(docLink);\n",
              "        }\n",
              "      </script>\n",
              "    </div>\n",
              "  </div>\n",
              "  "
            ]
          },
          "metadata": {},
          "execution_count": 314
        }
      ]
    },
    {
      "cell_type": "code",
      "execution_count": null,
      "metadata": {
        "id": "LV5KprxiSd6V"
      },
      "outputs": [],
      "source": [
        "#Mengganti Null menjadi 0\n",
        "df_siswa[\"NILAI\"].fillna(\"0\", inplace = True)\n",
        "\n",
        "\n",
        "# null pada data nama mk itu banyak yang ber kode SI863\n",
        "\n",
        "df_siswa['NAMA_MK'] = np.where((df_siswa.KODE_MK == 'SI863'),\"Tugas Akhir\",df_siswa.NAMA_MK)\n"
      ]
    },
    {
      "cell_type": "code",
      "source": [
        "# df_siswa.loc[df_siswa['NIM']==8429]"
      ],
      "metadata": {
        "id": "CyPSvEkv4H_x"
      },
      "execution_count": null,
      "outputs": []
    },
    {
      "cell_type": "code",
      "source": [
        "null_check(df_siswa,10)"
      ],
      "metadata": {
        "colab": {
          "base_uri": "https://localhost:8080/",
          "height": 301
        },
        "id": "-0itnApAwYmg",
        "outputId": "56b10cbf-9bb1-4769-df64-c7defae3d649"
      },
      "execution_count": null,
      "outputs": [
        {
          "output_type": "execute_result",
          "data": {
            "text/plain": [
              "          Total   Percent\n",
              "GRADE       552  0.017881\n",
              "NIM           0  0.000000\n",
              "ANGKATAN      0  0.000000\n",
              "SEMESTER      0  0.000000\n",
              "KODE_MK       0  0.000000\n",
              "NAMA_MK       0  0.000000\n",
              "SKS           0  0.000000\n",
              "NILAI         0  0.000000"
            ],
            "text/html": [
              "\n",
              "  <div id=\"df-7f3fc169-4dae-4d87-9f81-449c3ad976d4\">\n",
              "    <div class=\"colab-df-container\">\n",
              "      <div>\n",
              "<style scoped>\n",
              "    .dataframe tbody tr th:only-of-type {\n",
              "        vertical-align: middle;\n",
              "    }\n",
              "\n",
              "    .dataframe tbody tr th {\n",
              "        vertical-align: top;\n",
              "    }\n",
              "\n",
              "    .dataframe thead th {\n",
              "        text-align: right;\n",
              "    }\n",
              "</style>\n",
              "<table border=\"1\" class=\"dataframe\">\n",
              "  <thead>\n",
              "    <tr style=\"text-align: right;\">\n",
              "      <th></th>\n",
              "      <th>Total</th>\n",
              "      <th>Percent</th>\n",
              "    </tr>\n",
              "  </thead>\n",
              "  <tbody>\n",
              "    <tr>\n",
              "      <th>GRADE</th>\n",
              "      <td>552</td>\n",
              "      <td>0.017881</td>\n",
              "    </tr>\n",
              "    <tr>\n",
              "      <th>NIM</th>\n",
              "      <td>0</td>\n",
              "      <td>0.000000</td>\n",
              "    </tr>\n",
              "    <tr>\n",
              "      <th>ANGKATAN</th>\n",
              "      <td>0</td>\n",
              "      <td>0.000000</td>\n",
              "    </tr>\n",
              "    <tr>\n",
              "      <th>SEMESTER</th>\n",
              "      <td>0</td>\n",
              "      <td>0.000000</td>\n",
              "    </tr>\n",
              "    <tr>\n",
              "      <th>KODE_MK</th>\n",
              "      <td>0</td>\n",
              "      <td>0.000000</td>\n",
              "    </tr>\n",
              "    <tr>\n",
              "      <th>NAMA_MK</th>\n",
              "      <td>0</td>\n",
              "      <td>0.000000</td>\n",
              "    </tr>\n",
              "    <tr>\n",
              "      <th>SKS</th>\n",
              "      <td>0</td>\n",
              "      <td>0.000000</td>\n",
              "    </tr>\n",
              "    <tr>\n",
              "      <th>NILAI</th>\n",
              "      <td>0</td>\n",
              "      <td>0.000000</td>\n",
              "    </tr>\n",
              "  </tbody>\n",
              "</table>\n",
              "</div>\n",
              "      <button class=\"colab-df-convert\" onclick=\"convertToInteractive('df-7f3fc169-4dae-4d87-9f81-449c3ad976d4')\"\n",
              "              title=\"Convert this dataframe to an interactive table.\"\n",
              "              style=\"display:none;\">\n",
              "        \n",
              "  <svg xmlns=\"http://www.w3.org/2000/svg\" height=\"24px\"viewBox=\"0 0 24 24\"\n",
              "       width=\"24px\">\n",
              "    <path d=\"M0 0h24v24H0V0z\" fill=\"none\"/>\n",
              "    <path d=\"M18.56 5.44l.94 2.06.94-2.06 2.06-.94-2.06-.94-.94-2.06-.94 2.06-2.06.94zm-11 1L8.5 8.5l.94-2.06 2.06-.94-2.06-.94L8.5 2.5l-.94 2.06-2.06.94zm10 10l.94 2.06.94-2.06 2.06-.94-2.06-.94-.94-2.06-.94 2.06-2.06.94z\"/><path d=\"M17.41 7.96l-1.37-1.37c-.4-.4-.92-.59-1.43-.59-.52 0-1.04.2-1.43.59L10.3 9.45l-7.72 7.72c-.78.78-.78 2.05 0 2.83L4 21.41c.39.39.9.59 1.41.59.51 0 1.02-.2 1.41-.59l7.78-7.78 2.81-2.81c.8-.78.8-2.07 0-2.86zM5.41 20L4 18.59l7.72-7.72 1.47 1.35L5.41 20z\"/>\n",
              "  </svg>\n",
              "      </button>\n",
              "      \n",
              "  <style>\n",
              "    .colab-df-container {\n",
              "      display:flex;\n",
              "      flex-wrap:wrap;\n",
              "      gap: 12px;\n",
              "    }\n",
              "\n",
              "    .colab-df-convert {\n",
              "      background-color: #E8F0FE;\n",
              "      border: none;\n",
              "      border-radius: 50%;\n",
              "      cursor: pointer;\n",
              "      display: none;\n",
              "      fill: #1967D2;\n",
              "      height: 32px;\n",
              "      padding: 0 0 0 0;\n",
              "      width: 32px;\n",
              "    }\n",
              "\n",
              "    .colab-df-convert:hover {\n",
              "      background-color: #E2EBFA;\n",
              "      box-shadow: 0px 1px 2px rgba(60, 64, 67, 0.3), 0px 1px 3px 1px rgba(60, 64, 67, 0.15);\n",
              "      fill: #174EA6;\n",
              "    }\n",
              "\n",
              "    [theme=dark] .colab-df-convert {\n",
              "      background-color: #3B4455;\n",
              "      fill: #D2E3FC;\n",
              "    }\n",
              "\n",
              "    [theme=dark] .colab-df-convert:hover {\n",
              "      background-color: #434B5C;\n",
              "      box-shadow: 0px 1px 3px 1px rgba(0, 0, 0, 0.15);\n",
              "      filter: drop-shadow(0px 1px 2px rgba(0, 0, 0, 0.3));\n",
              "      fill: #FFFFFF;\n",
              "    }\n",
              "  </style>\n",
              "\n",
              "      <script>\n",
              "        const buttonEl =\n",
              "          document.querySelector('#df-7f3fc169-4dae-4d87-9f81-449c3ad976d4 button.colab-df-convert');\n",
              "        buttonEl.style.display =\n",
              "          google.colab.kernel.accessAllowed ? 'block' : 'none';\n",
              "\n",
              "        async function convertToInteractive(key) {\n",
              "          const element = document.querySelector('#df-7f3fc169-4dae-4d87-9f81-449c3ad976d4');\n",
              "          const dataTable =\n",
              "            await google.colab.kernel.invokeFunction('convertToInteractive',\n",
              "                                                     [key], {});\n",
              "          if (!dataTable) return;\n",
              "\n",
              "          const docLinkHtml = 'Like what you see? Visit the ' +\n",
              "            '<a target=\"_blank\" href=https://colab.research.google.com/notebooks/data_table.ipynb>data table notebook</a>'\n",
              "            + ' to learn more about interactive tables.';\n",
              "          element.innerHTML = '';\n",
              "          dataTable['output_type'] = 'display_data';\n",
              "          await google.colab.output.renderOutput(dataTable, element);\n",
              "          const docLink = document.createElement('div');\n",
              "          docLink.innerHTML = docLinkHtml;\n",
              "          element.appendChild(docLink);\n",
              "        }\n",
              "      </script>\n",
              "    </div>\n",
              "  </div>\n",
              "  "
            ]
          },
          "metadata": {},
          "execution_count": 317
        }
      ]
    },
    {
      "cell_type": "code",
      "source": [
        ""
      ],
      "metadata": {
        "id": "k9ueABXDwH2G"
      },
      "execution_count": null,
      "outputs": []
    },
    {
      "cell_type": "code",
      "source": [
        "# dapat saya simpulkan bahwa nama mk yang kosong = kode mk yang ber kode 'SI863'oleh karena itu nan bisa saya tugas akhir\n",
        "# ab = df_siswa.loc[df_siswa[\"NAMA_MK\"] =='nan']\n",
        "# np.unique(ab.KODE_MK.values)\n"
      ],
      "metadata": {
        "id": "98FYy_lotFUU"
      },
      "execution_count": null,
      "outputs": []
    },
    {
      "cell_type": "code",
      "source": [
        "df_siswa.NAMA_MK"
      ],
      "metadata": {
        "colab": {
          "base_uri": "https://localhost:8080/"
        },
        "id": "O4D3Dd0h5iYz",
        "outputId": "89f2bf8b-6899-4e50-bde0-8b21027af040"
      },
      "execution_count": null,
      "outputs": [
        {
          "output_type": "execute_result",
          "data": {
            "text/plain": [
              "0                    EM100 Dasar-dasar Bisnis\n",
              "1                     EM180 Matematika Bisnis\n",
              "2             TI100 Algoritma dan Pemrograman\n",
              "3                    TI101 Matematika Diskrit\n",
              "4        TI110 Pengantar Teknologi Multimedia\n",
              "                         ...                 \n",
              "30865          Interaksi Manusia dan Komputer\n",
              "30866              Probabilitas dan Statistik\n",
              "30867                     Perilaku Organisasi\n",
              "30868             Algoritma dan Struktur Data\n",
              "30869                        Bahasa Inggris 2\n",
              "Name: NAMA_MK, Length: 30870, dtype: object"
            ]
          },
          "metadata": {},
          "execution_count": 319
        }
      ]
    },
    {
      "cell_type": "code",
      "source": [
        "\n",
        "#List untuk menyimpan key yang harus diganti\n",
        "key= []\n",
        "\n",
        "#List untuk menyimpan value yang sudah ditransformasi\n",
        "val = []\n",
        "\n",
        "#Looping pada semua nilai di nama_mk\n",
        "for i in np.unique(df_siswa.NAMA_MK):\n",
        "  # disini saya pasang logic jika di index 3 = int, maka key nya saya simpan dan saya simpan juga nilai yang tertransformasi\n",
        "   if i[3:4] in ['0','1','2','3','4','5','6','7','8','9']:\n",
        "     key.append(i)\n",
        "     val.append(i[6:])\n",
        "\n",
        "     \n",
        "# menzip list saya agar bisa jadi dictionary\n",
        "zip_iterator = zip(key, val)\n",
        "\n",
        "# membuat dictionary\n",
        "a_dictionary = dict(zip_iterator)\n",
        "# Transformasi data menggunakan dictionary\n",
        "df_siswa = df_siswa.replace({\"NAMA_MK\": a_dictionary})\n"
      ],
      "metadata": {
        "id": "JuAy0Ag__K-u"
      },
      "execution_count": null,
      "outputs": []
    },
    {
      "cell_type": "code",
      "source": [
        "# df_siswa.loc[df_siswa[\"NAMA_MK\"] == \"nan\"]"
      ],
      "metadata": {
        "id": "BXeTcLS4St5g"
      },
      "execution_count": null,
      "outputs": []
    },
    {
      "cell_type": "code",
      "source": [
        "df_matkul[\"NAMA_MK\"]=df_matkul['NAMA_MK'].apply(str)"
      ],
      "metadata": {
        "id": "9sp5QldA0lnd"
      },
      "execution_count": null,
      "outputs": []
    },
    {
      "cell_type": "code",
      "source": [
        "# df_eng = cop\n",
        "\n",
        "# df_siswa.NAMA_MK = df_siswa.NAMA_MK.apply(lambda x: translator.translate(x, dest='en')\n",
        "# df_en = df_siswa.copy()\n",
        "# df_en.rename(columns=lambda x: Translator.translate(x).text, inplace=True)\n",
        "# df['translated_value'] = df['value'].apply(lambda x: translator.translate(x, dest='en').text)\n",
        "# translations = { }\n",
        "\n",
        "# for element in df_matkul.NAMA_MK.unique():\n",
        "#         # add translation to the dictionary\n",
        "#         translations[element] = translator.translate(element).text\n",
        "\n",
        "\n",
        "# zip_iterator = zip(key, val)\n",
        "\n",
        "# a_dictionary = dict(zip_iterator)\n",
        "\n",
        "# df_siswa = df_siswa.replace({\"NAMA_MK\": a_dictionary})"
      ],
      "metadata": {
        "id": "spTBOaWD1UnW"
      },
      "execution_count": null,
      "outputs": []
    },
    {
      "cell_type": "markdown",
      "source": [
        "\n",
        "*   Hasil observasi data semua kode MK yang berada di tabel matkul tersedia\n",
        "*   Item daftar\n",
        "\n",
        "\n"
      ],
      "metadata": {
        "id": "eeCI0V5Uu-gy"
      }
    },
    {
      "cell_type": "code",
      "source": [
        ""
      ],
      "metadata": {
        "id": "P2jbCNvIppuY"
      },
      "execution_count": null,
      "outputs": []
    },
    {
      "cell_type": "code",
      "source": [
        ""
      ],
      "metadata": {
        "id": "a4j5eMXBMS5K"
      },
      "execution_count": null,
      "outputs": []
    },
    {
      "cell_type": "code",
      "source": [
        "df_siswa.drop('KODE_MK', axis=1, inplace=True)\n",
        "\n",
        "df_forsks = df_siswa.copy()"
      ],
      "metadata": {
        "id": "0IcYBVFnVSmt"
      },
      "execution_count": null,
      "outputs": []
    },
    {
      "cell_type": "code",
      "source": [
        "#saya berikan sks 0 kepada grade D,E dan F karena syarat lulus tidak boleh ada grade bernilai tersebut.\n",
        "df_siswa['SKS'] = np.where((df_siswa.GRADE == 'D'),0,df_siswa.SKS)\n",
        "df_siswa['SKS'] = np.where((df_siswa.GRADE == 'E'),0,df_siswa.SKS)\n",
        "df_siswa['SKS'] = np.where((df_siswa.GRADE == 'F'),0,df_siswa.SKS)\n"
      ],
      "metadata": {
        "id": "8BCd0BVGgahM"
      },
      "execution_count": null,
      "outputs": []
    },
    {
      "cell_type": "code",
      "execution_count": null,
      "metadata": {
        "id": "832fSQsPad2j"
      },
      "outputs": [],
      "source": [
        "df_siswa['NILAI'] = df_siswa['NILAI'].astype(float)\n",
        "df_siswa['BOBOT'] = df_siswa['NILAI']\n",
        "df_siswa['GRADE']  = pd.cut(df_siswa.NILAI,[0,44.99,54.99,59.99,64.99,69.99,74.99,79.99,84.99,100],labels=[\"E\",\"D\",\"C\",\"C+\",\"B-\",\"B\",\"B+\",\"A-\",\"A\"])\n",
        "df_siswa['BOBOT']  = pd.cut(df_siswa.NILAI,[0,44.99,54.99,59.99,64.99,69.99,74.99,79.99,84.99,100],labels=[0,1.0,2.0,2.3,2.7,3.0,3.3,3.7,4])\n",
        "\n"
      ]
    },
    {
      "cell_type": "markdown",
      "source": [
        "karena disini nilai nan dikarena kan nilai yang 0 maka saya bisa mengisi grade dengan f dan bobot dengan 0"
      ],
      "metadata": {
        "id": "Kn7ZB037jTiK"
      }
    },
    {
      "cell_type": "code",
      "source": [
        "#Terjadi eror jika tidak saya ganti menjadi string terlebih dahulu\n",
        "df_siswa['GRADE'] = df_siswa['GRADE'].astype(str)\n",
        "df_siswa[\"GRADE\"].fillna('F', inplace = True)\n",
        "df_siswa[\"BOBOT\"].fillna(0, inplace = True)\n",
        "\n",
        "df_siswa['GRADE'] = pd.Categorical(df_siswa['GRADE'])"
      ],
      "metadata": {
        "id": "_gONwk3OjJCB"
      },
      "execution_count": null,
      "outputs": []
    },
    {
      "cell_type": "code",
      "source": [
        "null_check(df_siswa,5)"
      ],
      "metadata": {
        "id": "klNrWXIKhKxS",
        "colab": {
          "base_uri": "https://localhost:8080/",
          "height": 206
        },
        "outputId": "9ab899cb-1666-4195-aa11-7e25a1266b59"
      },
      "execution_count": null,
      "outputs": [
        {
          "output_type": "execute_result",
          "data": {
            "text/plain": [
              "          Total  Percent\n",
              "NIM           0      0.0\n",
              "ANGKATAN      0      0.0\n",
              "SEMESTER      0      0.0\n",
              "NAMA_MK       0      0.0\n",
              "SKS           0      0.0"
            ],
            "text/html": [
              "\n",
              "  <div id=\"df-14830e42-2137-472a-9537-d236e563e876\">\n",
              "    <div class=\"colab-df-container\">\n",
              "      <div>\n",
              "<style scoped>\n",
              "    .dataframe tbody tr th:only-of-type {\n",
              "        vertical-align: middle;\n",
              "    }\n",
              "\n",
              "    .dataframe tbody tr th {\n",
              "        vertical-align: top;\n",
              "    }\n",
              "\n",
              "    .dataframe thead th {\n",
              "        text-align: right;\n",
              "    }\n",
              "</style>\n",
              "<table border=\"1\" class=\"dataframe\">\n",
              "  <thead>\n",
              "    <tr style=\"text-align: right;\">\n",
              "      <th></th>\n",
              "      <th>Total</th>\n",
              "      <th>Percent</th>\n",
              "    </tr>\n",
              "  </thead>\n",
              "  <tbody>\n",
              "    <tr>\n",
              "      <th>NIM</th>\n",
              "      <td>0</td>\n",
              "      <td>0.0</td>\n",
              "    </tr>\n",
              "    <tr>\n",
              "      <th>ANGKATAN</th>\n",
              "      <td>0</td>\n",
              "      <td>0.0</td>\n",
              "    </tr>\n",
              "    <tr>\n",
              "      <th>SEMESTER</th>\n",
              "      <td>0</td>\n",
              "      <td>0.0</td>\n",
              "    </tr>\n",
              "    <tr>\n",
              "      <th>NAMA_MK</th>\n",
              "      <td>0</td>\n",
              "      <td>0.0</td>\n",
              "    </tr>\n",
              "    <tr>\n",
              "      <th>SKS</th>\n",
              "      <td>0</td>\n",
              "      <td>0.0</td>\n",
              "    </tr>\n",
              "  </tbody>\n",
              "</table>\n",
              "</div>\n",
              "      <button class=\"colab-df-convert\" onclick=\"convertToInteractive('df-14830e42-2137-472a-9537-d236e563e876')\"\n",
              "              title=\"Convert this dataframe to an interactive table.\"\n",
              "              style=\"display:none;\">\n",
              "        \n",
              "  <svg xmlns=\"http://www.w3.org/2000/svg\" height=\"24px\"viewBox=\"0 0 24 24\"\n",
              "       width=\"24px\">\n",
              "    <path d=\"M0 0h24v24H0V0z\" fill=\"none\"/>\n",
              "    <path d=\"M18.56 5.44l.94 2.06.94-2.06 2.06-.94-2.06-.94-.94-2.06-.94 2.06-2.06.94zm-11 1L8.5 8.5l.94-2.06 2.06-.94-2.06-.94L8.5 2.5l-.94 2.06-2.06.94zm10 10l.94 2.06.94-2.06 2.06-.94-2.06-.94-.94-2.06-.94 2.06-2.06.94z\"/><path d=\"M17.41 7.96l-1.37-1.37c-.4-.4-.92-.59-1.43-.59-.52 0-1.04.2-1.43.59L10.3 9.45l-7.72 7.72c-.78.78-.78 2.05 0 2.83L4 21.41c.39.39.9.59 1.41.59.51 0 1.02-.2 1.41-.59l7.78-7.78 2.81-2.81c.8-.78.8-2.07 0-2.86zM5.41 20L4 18.59l7.72-7.72 1.47 1.35L5.41 20z\"/>\n",
              "  </svg>\n",
              "      </button>\n",
              "      \n",
              "  <style>\n",
              "    .colab-df-container {\n",
              "      display:flex;\n",
              "      flex-wrap:wrap;\n",
              "      gap: 12px;\n",
              "    }\n",
              "\n",
              "    .colab-df-convert {\n",
              "      background-color: #E8F0FE;\n",
              "      border: none;\n",
              "      border-radius: 50%;\n",
              "      cursor: pointer;\n",
              "      display: none;\n",
              "      fill: #1967D2;\n",
              "      height: 32px;\n",
              "      padding: 0 0 0 0;\n",
              "      width: 32px;\n",
              "    }\n",
              "\n",
              "    .colab-df-convert:hover {\n",
              "      background-color: #E2EBFA;\n",
              "      box-shadow: 0px 1px 2px rgba(60, 64, 67, 0.3), 0px 1px 3px 1px rgba(60, 64, 67, 0.15);\n",
              "      fill: #174EA6;\n",
              "    }\n",
              "\n",
              "    [theme=dark] .colab-df-convert {\n",
              "      background-color: #3B4455;\n",
              "      fill: #D2E3FC;\n",
              "    }\n",
              "\n",
              "    [theme=dark] .colab-df-convert:hover {\n",
              "      background-color: #434B5C;\n",
              "      box-shadow: 0px 1px 3px 1px rgba(0, 0, 0, 0.15);\n",
              "      filter: drop-shadow(0px 1px 2px rgba(0, 0, 0, 0.3));\n",
              "      fill: #FFFFFF;\n",
              "    }\n",
              "  </style>\n",
              "\n",
              "      <script>\n",
              "        const buttonEl =\n",
              "          document.querySelector('#df-14830e42-2137-472a-9537-d236e563e876 button.colab-df-convert');\n",
              "        buttonEl.style.display =\n",
              "          google.colab.kernel.accessAllowed ? 'block' : 'none';\n",
              "\n",
              "        async function convertToInteractive(key) {\n",
              "          const element = document.querySelector('#df-14830e42-2137-472a-9537-d236e563e876');\n",
              "          const dataTable =\n",
              "            await google.colab.kernel.invokeFunction('convertToInteractive',\n",
              "                                                     [key], {});\n",
              "          if (!dataTable) return;\n",
              "\n",
              "          const docLinkHtml = 'Like what you see? Visit the ' +\n",
              "            '<a target=\"_blank\" href=https://colab.research.google.com/notebooks/data_table.ipynb>data table notebook</a>'\n",
              "            + ' to learn more about interactive tables.';\n",
              "          element.innerHTML = '';\n",
              "          dataTable['output_type'] = 'display_data';\n",
              "          await google.colab.output.renderOutput(dataTable, element);\n",
              "          const docLink = document.createElement('div');\n",
              "          docLink.innerHTML = docLinkHtml;\n",
              "          element.appendChild(docLink);\n",
              "        }\n",
              "      </script>\n",
              "    </div>\n",
              "  </div>\n",
              "  "
            ]
          },
          "metadata": {},
          "execution_count": 328
        }
      ]
    },
    {
      "cell_type": "code",
      "source": [
        ""
      ],
      "metadata": {
        "id": "K8lUM-ogN7bM"
      },
      "execution_count": null,
      "outputs": []
    },
    {
      "cell_type": "code",
      "source": [
        "null_check(df_siswa,10)"
      ],
      "metadata": {
        "colab": {
          "base_uri": "https://localhost:8080/",
          "height": 301
        },
        "id": "K96hDZ2mw8iw",
        "outputId": "36461f9b-dcdf-4099-9b11-272ac4412ca1"
      },
      "execution_count": null,
      "outputs": [
        {
          "output_type": "execute_result",
          "data": {
            "text/plain": [
              "          Total  Percent\n",
              "NIM           0      0.0\n",
              "ANGKATAN      0      0.0\n",
              "SEMESTER      0      0.0\n",
              "NAMA_MK       0      0.0\n",
              "SKS           0      0.0\n",
              "NILAI         0      0.0\n",
              "GRADE         0      0.0\n",
              "BOBOT         0      0.0"
            ],
            "text/html": [
              "\n",
              "  <div id=\"df-a1362a66-df50-4c60-a108-bc3a9e6fb73a\">\n",
              "    <div class=\"colab-df-container\">\n",
              "      <div>\n",
              "<style scoped>\n",
              "    .dataframe tbody tr th:only-of-type {\n",
              "        vertical-align: middle;\n",
              "    }\n",
              "\n",
              "    .dataframe tbody tr th {\n",
              "        vertical-align: top;\n",
              "    }\n",
              "\n",
              "    .dataframe thead th {\n",
              "        text-align: right;\n",
              "    }\n",
              "</style>\n",
              "<table border=\"1\" class=\"dataframe\">\n",
              "  <thead>\n",
              "    <tr style=\"text-align: right;\">\n",
              "      <th></th>\n",
              "      <th>Total</th>\n",
              "      <th>Percent</th>\n",
              "    </tr>\n",
              "  </thead>\n",
              "  <tbody>\n",
              "    <tr>\n",
              "      <th>NIM</th>\n",
              "      <td>0</td>\n",
              "      <td>0.0</td>\n",
              "    </tr>\n",
              "    <tr>\n",
              "      <th>ANGKATAN</th>\n",
              "      <td>0</td>\n",
              "      <td>0.0</td>\n",
              "    </tr>\n",
              "    <tr>\n",
              "      <th>SEMESTER</th>\n",
              "      <td>0</td>\n",
              "      <td>0.0</td>\n",
              "    </tr>\n",
              "    <tr>\n",
              "      <th>NAMA_MK</th>\n",
              "      <td>0</td>\n",
              "      <td>0.0</td>\n",
              "    </tr>\n",
              "    <tr>\n",
              "      <th>SKS</th>\n",
              "      <td>0</td>\n",
              "      <td>0.0</td>\n",
              "    </tr>\n",
              "    <tr>\n",
              "      <th>NILAI</th>\n",
              "      <td>0</td>\n",
              "      <td>0.0</td>\n",
              "    </tr>\n",
              "    <tr>\n",
              "      <th>GRADE</th>\n",
              "      <td>0</td>\n",
              "      <td>0.0</td>\n",
              "    </tr>\n",
              "    <tr>\n",
              "      <th>BOBOT</th>\n",
              "      <td>0</td>\n",
              "      <td>0.0</td>\n",
              "    </tr>\n",
              "  </tbody>\n",
              "</table>\n",
              "</div>\n",
              "      <button class=\"colab-df-convert\" onclick=\"convertToInteractive('df-a1362a66-df50-4c60-a108-bc3a9e6fb73a')\"\n",
              "              title=\"Convert this dataframe to an interactive table.\"\n",
              "              style=\"display:none;\">\n",
              "        \n",
              "  <svg xmlns=\"http://www.w3.org/2000/svg\" height=\"24px\"viewBox=\"0 0 24 24\"\n",
              "       width=\"24px\">\n",
              "    <path d=\"M0 0h24v24H0V0z\" fill=\"none\"/>\n",
              "    <path d=\"M18.56 5.44l.94 2.06.94-2.06 2.06-.94-2.06-.94-.94-2.06-.94 2.06-2.06.94zm-11 1L8.5 8.5l.94-2.06 2.06-.94-2.06-.94L8.5 2.5l-.94 2.06-2.06.94zm10 10l.94 2.06.94-2.06 2.06-.94-2.06-.94-.94-2.06-.94 2.06-2.06.94z\"/><path d=\"M17.41 7.96l-1.37-1.37c-.4-.4-.92-.59-1.43-.59-.52 0-1.04.2-1.43.59L10.3 9.45l-7.72 7.72c-.78.78-.78 2.05 0 2.83L4 21.41c.39.39.9.59 1.41.59.51 0 1.02-.2 1.41-.59l7.78-7.78 2.81-2.81c.8-.78.8-2.07 0-2.86zM5.41 20L4 18.59l7.72-7.72 1.47 1.35L5.41 20z\"/>\n",
              "  </svg>\n",
              "      </button>\n",
              "      \n",
              "  <style>\n",
              "    .colab-df-container {\n",
              "      display:flex;\n",
              "      flex-wrap:wrap;\n",
              "      gap: 12px;\n",
              "    }\n",
              "\n",
              "    .colab-df-convert {\n",
              "      background-color: #E8F0FE;\n",
              "      border: none;\n",
              "      border-radius: 50%;\n",
              "      cursor: pointer;\n",
              "      display: none;\n",
              "      fill: #1967D2;\n",
              "      height: 32px;\n",
              "      padding: 0 0 0 0;\n",
              "      width: 32px;\n",
              "    }\n",
              "\n",
              "    .colab-df-convert:hover {\n",
              "      background-color: #E2EBFA;\n",
              "      box-shadow: 0px 1px 2px rgba(60, 64, 67, 0.3), 0px 1px 3px 1px rgba(60, 64, 67, 0.15);\n",
              "      fill: #174EA6;\n",
              "    }\n",
              "\n",
              "    [theme=dark] .colab-df-convert {\n",
              "      background-color: #3B4455;\n",
              "      fill: #D2E3FC;\n",
              "    }\n",
              "\n",
              "    [theme=dark] .colab-df-convert:hover {\n",
              "      background-color: #434B5C;\n",
              "      box-shadow: 0px 1px 3px 1px rgba(0, 0, 0, 0.15);\n",
              "      filter: drop-shadow(0px 1px 2px rgba(0, 0, 0, 0.3));\n",
              "      fill: #FFFFFF;\n",
              "    }\n",
              "  </style>\n",
              "\n",
              "      <script>\n",
              "        const buttonEl =\n",
              "          document.querySelector('#df-a1362a66-df50-4c60-a108-bc3a9e6fb73a button.colab-df-convert');\n",
              "        buttonEl.style.display =\n",
              "          google.colab.kernel.accessAllowed ? 'block' : 'none';\n",
              "\n",
              "        async function convertToInteractive(key) {\n",
              "          const element = document.querySelector('#df-a1362a66-df50-4c60-a108-bc3a9e6fb73a');\n",
              "          const dataTable =\n",
              "            await google.colab.kernel.invokeFunction('convertToInteractive',\n",
              "                                                     [key], {});\n",
              "          if (!dataTable) return;\n",
              "\n",
              "          const docLinkHtml = 'Like what you see? Visit the ' +\n",
              "            '<a target=\"_blank\" href=https://colab.research.google.com/notebooks/data_table.ipynb>data table notebook</a>'\n",
              "            + ' to learn more about interactive tables.';\n",
              "          element.innerHTML = '';\n",
              "          dataTable['output_type'] = 'display_data';\n",
              "          await google.colab.output.renderOutput(dataTable, element);\n",
              "          const docLink = document.createElement('div');\n",
              "          docLink.innerHTML = docLinkHtml;\n",
              "          element.appendChild(docLink);\n",
              "        }\n",
              "      </script>\n",
              "    </div>\n",
              "  </div>\n",
              "  "
            ]
          },
          "metadata": {},
          "execution_count": 329
        }
      ]
    },
    {
      "cell_type": "code",
      "source": [
        "df_siswa.info()"
      ],
      "metadata": {
        "colab": {
          "base_uri": "https://localhost:8080/"
        },
        "id": "4Cl0iGxQ2mbM",
        "outputId": "28cf2ce4-1dc1-43f4-885b-914427303852"
      },
      "execution_count": null,
      "outputs": [
        {
          "output_type": "stream",
          "name": "stdout",
          "text": [
            "<class 'pandas.core.frame.DataFrame'>\n",
            "RangeIndex: 30870 entries, 0 to 30869\n",
            "Data columns (total 8 columns):\n",
            " #   Column    Non-Null Count  Dtype   \n",
            "---  ------    --------------  -----   \n",
            " 0   NIM       30870 non-null  int64   \n",
            " 1   ANGKATAN  30870 non-null  int64   \n",
            " 2   SEMESTER  30870 non-null  object  \n",
            " 3   NAMA_MK   30870 non-null  object  \n",
            " 4   SKS       30870 non-null  int64   \n",
            " 5   NILAI     30870 non-null  float64 \n",
            " 6   GRADE     30870 non-null  category\n",
            " 7   BOBOT     30870 non-null  category\n",
            "dtypes: category(2), float64(1), int64(3), object(2)\n",
            "memory usage: 1.5+ MB\n"
          ]
        }
      ]
    },
    {
      "cell_type": "code",
      "source": [
        "df_siswa['NILAI'] = df_siswa['NILAI'].astype(float)"
      ],
      "metadata": {
        "id": "frB71akZ3MM0"
      },
      "execution_count": null,
      "outputs": []
    },
    {
      "cell_type": "code",
      "source": [
        "# for i in df_siswa.select_dtypes(include=np.number).columns.tolist():  \n",
        "  # print(i)\n",
        "# boxplot('NILAI')"
      ],
      "metadata": {
        "id": "5xgmdzxv2Xth"
      },
      "execution_count": null,
      "outputs": []
    },
    {
      "cell_type": "code",
      "source": [
        ""
      ],
      "metadata": {
        "id": "w6ErUGA6w-Ng"
      },
      "execution_count": null,
      "outputs": []
    },
    {
      "cell_type": "code",
      "source": [
        "df_siswa.SEMESTER = df_siswa.SEMESTER.apply(pd.to_numeric)\n",
        "df_siswa['Tahun_Ajar'] = df_siswa['SEMESTER']\n",
        "\n",
        "df_siswa['Tahun_Ajar'] = pd.cut(df_siswa['SEMESTER'],[0,1023,1123,1223,1323,1423,1523,1623,1723,1823,1923],labels = ['2010', '2011','2012','2013','2014', '2015', '2016', '2017', '2018', '2019'],ordered=False)"
      ],
      "metadata": {
        "id": "9_tHtrowOIeU"
      },
      "execution_count": null,
      "outputs": []
    },
    {
      "cell_type": "code",
      "source": [
        ""
      ],
      "metadata": {
        "id": "6k3UR6kbw3Xf"
      },
      "execution_count": null,
      "outputs": []
    },
    {
      "cell_type": "code",
      "source": [
        ""
      ],
      "metadata": {
        "id": "ipH5Wwigwjp3"
      },
      "execution_count": null,
      "outputs": []
    },
    {
      "cell_type": "code",
      "source": [
        "df_forsks = df_forsks.drop_duplicates(subset=['NIM','SEMESTER','NAMA_MK'], keep='first')\n",
        "df_siswa = df_siswa.drop_duplicates(subset=['NIM','SEMESTER','NAMA_MK'], keep='first')"
      ],
      "metadata": {
        "id": "W11HRK3Tmkk1"
      },
      "execution_count": null,
      "outputs": []
    },
    {
      "cell_type": "markdown",
      "source": [
        "#Bagian Grouping"
      ],
      "metadata": {
        "id": "Ru6rWB1Xm9Wf"
      }
    },
    {
      "cell_type": "markdown",
      "metadata": {
        "id": "6uTJa9tTRNdF"
      },
      "source": [
        "Untuk mengetahui detail apakah nim tersebut lulus jika tidak maka drop, dan jika lulus ,ditahun berapa terkahir nim tersebut berkuliah\n",
        "\n",
        "\n",
        "Syarat Lulus :\n",
        "*  IPK di atas 2.5,4.\tNilai IPK adalah total nilai IPS dibagi dengan total semester.\n",
        "*   144 SKS.\n",
        "*   ada nilai D, E, dan F pada setiap mata kuliah.\n",
        "\n",
        "\n",
        "\n"
      ]
    },
    {
      "cell_type": "code",
      "source": [
        "df_siswa.Tahun_Ajar= df_siswa.Tahun_Ajar.astype('int')"
      ],
      "metadata": {
        "id": "gCJg9HMidABg",
        "colab": {
          "base_uri": "https://localhost:8080/"
        },
        "outputId": "c0090a39-afb2-45b6-89ec-ff32a3e3dc88"
      },
      "execution_count": null,
      "outputs": [
        {
          "output_type": "stream",
          "name": "stderr",
          "text": [
            "/usr/local/lib/python3.7/dist-packages/pandas/core/generic.py:5516: SettingWithCopyWarning: \n",
            "A value is trying to be set on a copy of a slice from a DataFrame.\n",
            "Try using .loc[row_indexer,col_indexer] = value instead\n",
            "\n",
            "See the caveats in the documentation: https://pandas.pydata.org/pandas-docs/stable/user_guide/indexing.html#returning-a-view-versus-a-copy\n",
            "  self[name] = value\n"
          ]
        }
      ]
    },
    {
      "cell_type": "code",
      "source": [
        "df_skssem = df_forsks.groupby(\n",
        "     ['NIM','ANGKATAN','SEMESTER']\n",
        " ).agg(\n",
        "      \n",
        "      SKS = ('SKS','sum'),\n",
        "\n",
        ").reset_index()\n"
      ],
      "metadata": {
        "id": "VBGtiiqALeSq"
      },
      "execution_count": null,
      "outputs": []
    },
    {
      "cell_type": "code",
      "source": [
        "df_skssum = df_skssem.groupby(\n",
        "     ['NIM','ANGKATAN']\n",
        " ).agg(\n",
        "      \n",
        "      SKS = ('SKS','sum'),\n",
        "      SKSmean = ('SKS','mean'),\n",
        "      \n",
        ").reset_index()     "
      ],
      "metadata": {
        "id": "HT5R9QGdLyL6"
      },
      "execution_count": null,
      "outputs": []
    },
    {
      "cell_type": "code",
      "execution_count": null,
      "metadata": {
        "id": "70OyY8VybvTX",
        "colab": {
          "base_uri": "https://localhost:8080/"
        },
        "outputId": "785e1f29-b59d-45e0-89c2-72c7426b132b"
      },
      "outputs": [
        {
          "output_type": "stream",
          "name": "stderr",
          "text": [
            "/usr/local/lib/python3.7/dist-packages/pandas/core/generic.py:5516: SettingWithCopyWarning: \n",
            "A value is trying to be set on a copy of a slice from a DataFrame.\n",
            "Try using .loc[row_indexer,col_indexer] = value instead\n",
            "\n",
            "See the caveats in the documentation: https://pandas.pydata.org/pandas-docs/stable/user_guide/indexing.html#returning-a-view-versus-a-copy\n",
            "  self[name] = value\n",
            "/usr/local/lib/python3.7/dist-packages/ipykernel_launcher.py:5: SettingWithCopyWarning: \n",
            "A value is trying to be set on a copy of a slice from a DataFrame.\n",
            "Try using .loc[row_indexer,col_indexer] = value instead\n",
            "\n",
            "See the caveats in the documentation: https://pandas.pydata.org/pandas-docs/stable/user_guide/indexing.html#returning-a-view-versus-a-copy\n",
            "  \"\"\"\n"
          ]
        }
      ],
      "source": [
        "#Pengali bobot dan sks\n",
        "\n",
        "df_siswa.BOBOT = df_siswa.BOBOT.apply(pd.to_numeric)\n",
        "df_siswa.BOBOT = df_siswa.BOBOT.astype('int')\n",
        "df_siswa['BOBOTXSKS'] = df_siswa.BOBOT * df_forsks.SKS"
      ]
    },
    {
      "cell_type": "code",
      "execution_count": null,
      "metadata": {
        "id": "bAuAH1PEsjml"
      },
      "outputs": [],
      "source": [
        "df_final = df_siswa.groupby(\n",
        "     ['NIM','ANGKATAN','SEMESTER']\n",
        " ).agg(\n",
        "      sumsksbobot = ('BOBOTXSKS','sum'),\n",
        "      SKS = ('SKS','sum'),\n",
        "      \n",
        "      NILAI = ('NILAI','mean'),\n",
        "      BOBOT = ('BOBOT','mean'),\n",
        "      TAHUN = ('Tahun_Ajar',np.max),\n",
        "      \n",
        "    \n",
        "     \n",
        "     \n",
        "      \n",
        " ).reset_index()\n",
        "\n",
        "df_final[\"IPS\"] = df_final.sumsksbobot / df_skssem.SKS"
      ]
    },
    {
      "cell_type": "code",
      "source": [
        "# ac = df_final.loc[df_final['NIM']==8429]\n",
        "# ac.value_counts()"
      ],
      "metadata": {
        "id": "2gHSn5nxoQp5"
      },
      "execution_count": null,
      "outputs": []
    },
    {
      "cell_type": "code",
      "source": [
        "df_finalis = df_final.groupby(\n",
        "     ['NIM','ANGKATAN']\n",
        " ).agg(\n",
        "      # sumsksbobot = ('BOBOTXSKS','sum'),\n",
        "      IPS = ('IPS','sum'),\n",
        "      IPSmean = ('IPS','mean'),\n",
        "      SEMESTER = ('SEMESTER','nunique'),\n",
        "      SKS = ('SKS','sum'),\n",
        "      SKSmean = ('SKS','mean'),\n",
        "      meNILAI = ('NILAI','mean'),\n",
        "      meBOBOT = ('BOBOT','mean'),\n",
        "      TAHUN = ('TAHUN','nunique'),\n",
        "       \n",
        " ).reset_index()\n",
        "\n",
        "df_finalis[\"IPK\"] = df_finalis.IPS / df_finalis.SEMESTER"
      ],
      "metadata": {
        "id": "oza4YqLZTVTt"
      },
      "execution_count": null,
      "outputs": []
    },
    {
      "cell_type": "code",
      "source": [
        "df_finalis.loc[(df_finalis['NIM'] == 18866)]"
      ],
      "metadata": {
        "colab": {
          "base_uri": "https://localhost:8080/",
          "height": 50
        },
        "id": "BiGYwEFwR5Xl",
        "outputId": "79fc1833-5896-4733-caec-a4252fe20b09"
      },
      "execution_count": null,
      "outputs": [
        {
          "output_type": "execute_result",
          "data": {
            "text/plain": [
              "Empty DataFrame\n",
              "Columns: [NIM, ANGKATAN, IPS, IPSmean, SEMESTER, SKS, SKSmean, meNILAI, meBOBOT, TAHUN, IPK]\n",
              "Index: []"
            ],
            "text/html": [
              "\n",
              "  <div id=\"df-59ba15b6-8adf-47b9-8a72-83cea02d1b83\">\n",
              "    <div class=\"colab-df-container\">\n",
              "      <div>\n",
              "<style scoped>\n",
              "    .dataframe tbody tr th:only-of-type {\n",
              "        vertical-align: middle;\n",
              "    }\n",
              "\n",
              "    .dataframe tbody tr th {\n",
              "        vertical-align: top;\n",
              "    }\n",
              "\n",
              "    .dataframe thead th {\n",
              "        text-align: right;\n",
              "    }\n",
              "</style>\n",
              "<table border=\"1\" class=\"dataframe\">\n",
              "  <thead>\n",
              "    <tr style=\"text-align: right;\">\n",
              "      <th></th>\n",
              "      <th>NIM</th>\n",
              "      <th>ANGKATAN</th>\n",
              "      <th>IPS</th>\n",
              "      <th>IPSmean</th>\n",
              "      <th>SEMESTER</th>\n",
              "      <th>SKS</th>\n",
              "      <th>SKSmean</th>\n",
              "      <th>meNILAI</th>\n",
              "      <th>meBOBOT</th>\n",
              "      <th>TAHUN</th>\n",
              "      <th>IPK</th>\n",
              "    </tr>\n",
              "  </thead>\n",
              "  <tbody>\n",
              "  </tbody>\n",
              "</table>\n",
              "</div>\n",
              "      <button class=\"colab-df-convert\" onclick=\"convertToInteractive('df-59ba15b6-8adf-47b9-8a72-83cea02d1b83')\"\n",
              "              title=\"Convert this dataframe to an interactive table.\"\n",
              "              style=\"display:none;\">\n",
              "        \n",
              "  <svg xmlns=\"http://www.w3.org/2000/svg\" height=\"24px\"viewBox=\"0 0 24 24\"\n",
              "       width=\"24px\">\n",
              "    <path d=\"M0 0h24v24H0V0z\" fill=\"none\"/>\n",
              "    <path d=\"M18.56 5.44l.94 2.06.94-2.06 2.06-.94-2.06-.94-.94-2.06-.94 2.06-2.06.94zm-11 1L8.5 8.5l.94-2.06 2.06-.94-2.06-.94L8.5 2.5l-.94 2.06-2.06.94zm10 10l.94 2.06.94-2.06 2.06-.94-2.06-.94-.94-2.06-.94 2.06-2.06.94z\"/><path d=\"M17.41 7.96l-1.37-1.37c-.4-.4-.92-.59-1.43-.59-.52 0-1.04.2-1.43.59L10.3 9.45l-7.72 7.72c-.78.78-.78 2.05 0 2.83L4 21.41c.39.39.9.59 1.41.59.51 0 1.02-.2 1.41-.59l7.78-7.78 2.81-2.81c.8-.78.8-2.07 0-2.86zM5.41 20L4 18.59l7.72-7.72 1.47 1.35L5.41 20z\"/>\n",
              "  </svg>\n",
              "      </button>\n",
              "      \n",
              "  <style>\n",
              "    .colab-df-container {\n",
              "      display:flex;\n",
              "      flex-wrap:wrap;\n",
              "      gap: 12px;\n",
              "    }\n",
              "\n",
              "    .colab-df-convert {\n",
              "      background-color: #E8F0FE;\n",
              "      border: none;\n",
              "      border-radius: 50%;\n",
              "      cursor: pointer;\n",
              "      display: none;\n",
              "      fill: #1967D2;\n",
              "      height: 32px;\n",
              "      padding: 0 0 0 0;\n",
              "      width: 32px;\n",
              "    }\n",
              "\n",
              "    .colab-df-convert:hover {\n",
              "      background-color: #E2EBFA;\n",
              "      box-shadow: 0px 1px 2px rgba(60, 64, 67, 0.3), 0px 1px 3px 1px rgba(60, 64, 67, 0.15);\n",
              "      fill: #174EA6;\n",
              "    }\n",
              "\n",
              "    [theme=dark] .colab-df-convert {\n",
              "      background-color: #3B4455;\n",
              "      fill: #D2E3FC;\n",
              "    }\n",
              "\n",
              "    [theme=dark] .colab-df-convert:hover {\n",
              "      background-color: #434B5C;\n",
              "      box-shadow: 0px 1px 3px 1px rgba(0, 0, 0, 0.15);\n",
              "      filter: drop-shadow(0px 1px 2px rgba(0, 0, 0, 0.3));\n",
              "      fill: #FFFFFF;\n",
              "    }\n",
              "  </style>\n",
              "\n",
              "      <script>\n",
              "        const buttonEl =\n",
              "          document.querySelector('#df-59ba15b6-8adf-47b9-8a72-83cea02d1b83 button.colab-df-convert');\n",
              "        buttonEl.style.display =\n",
              "          google.colab.kernel.accessAllowed ? 'block' : 'none';\n",
              "\n",
              "        async function convertToInteractive(key) {\n",
              "          const element = document.querySelector('#df-59ba15b6-8adf-47b9-8a72-83cea02d1b83');\n",
              "          const dataTable =\n",
              "            await google.colab.kernel.invokeFunction('convertToInteractive',\n",
              "                                                     [key], {});\n",
              "          if (!dataTable) return;\n",
              "\n",
              "          const docLinkHtml = 'Like what you see? Visit the ' +\n",
              "            '<a target=\"_blank\" href=https://colab.research.google.com/notebooks/data_table.ipynb>data table notebook</a>'\n",
              "            + ' to learn more about interactive tables.';\n",
              "          element.innerHTML = '';\n",
              "          dataTable['output_type'] = 'display_data';\n",
              "          await google.colab.output.renderOutput(dataTable, element);\n",
              "          const docLink = document.createElement('div');\n",
              "          docLink.innerHTML = docLinkHtml;\n",
              "          element.appendChild(docLink);\n",
              "        }\n",
              "      </script>\n",
              "    </div>\n",
              "  </div>\n",
              "  "
            ]
          },
          "metadata": {},
          "execution_count": 342
        }
      ]
    },
    {
      "cell_type": "code",
      "source": [
        "\n",
        "df_finalis.SKSmean.replace(df_skssum.SKSmean, inplace=True)"
      ],
      "metadata": {
        "id": "IFBpv4sZQ7bV"
      },
      "execution_count": null,
      "outputs": []
    },
    {
      "cell_type": "code",
      "source": [
        "check_val(df_siswa.NIM,df_finalis.NIM)"
      ],
      "metadata": {
        "id": "Uv3NvdCC2-dO"
      },
      "execution_count": null,
      "outputs": []
    },
    {
      "cell_type": "code",
      "source": [
        ""
      ],
      "metadata": {
        "id": "PEkJuMmFRiWO"
      },
      "execution_count": null,
      "outputs": []
    },
    {
      "cell_type": "code",
      "source": [
        "# df_finalis.describe()"
      ],
      "metadata": {
        "id": "efSngPD7qtNA"
      },
      "execution_count": null,
      "outputs": []
    },
    {
      "cell_type": "code",
      "source": [
        "\n",
        "# df_finalis[\"durasi\"] = df_finalis.TAHUN - df_finalis.ANGKATAN\n",
        "\n",
        "df_finalis.drop('IPS', axis=1, inplace=True)\n",
        "\n",
        "\n",
        "\n",
        "df_finalis[\"lulusTEPAT\"] = (df_finalis.IPK > 2.5) & (df_finalis.SKS >= 144) & (df_finalis.TAHUN <= 4)\n",
        "df_finalis[\"lulus\"] = (df_finalis.IPK > 2.5) & (df_finalis.SKS >= 144)\n",
        "df_finalis['lulusTEPAT'] = (df_finalis['lulusTEPAT'] == True).astype(int)\n",
        "df_finalis['lulus'] = (df_finalis['lulus'] == True).astype(int)\n"
      ],
      "metadata": {
        "id": "_v7Mnxecn4Km"
      },
      "execution_count": null,
      "outputs": []
    },
    {
      "cell_type": "code",
      "source": [
        "\n",
        "\n",
        "# df_finalis.drop('SKS', axis=1, inplace=True)\n",
        "\n",
        "# df_finalis.drop('TAHUN', axis=1, inplace=True)\n",
        "\n",
        "\n",
        "# df_finalis.drop('IPS', axis=1, inplace=True)"
      ],
      "metadata": {
        "id": "n06ht6-3G6r_"
      },
      "execution_count": null,
      "outputs": []
    },
    {
      "cell_type": "markdown",
      "source": [
        "Disini terlihat banyak yang false, agar tidak terjadi Imbalanced data set saya akan drop nim yang memang belum waktunya untuk lulus"
      ],
      "metadata": {
        "id": "du7NInWONYtV"
      }
    },
    {
      "cell_type": "code",
      "source": [
        " df_finalis['lulusTEPAT'].value_counts(normalize=True)"
      ],
      "metadata": {
        "id": "yKqhXYxylVYz",
        "colab": {
          "base_uri": "https://localhost:8080/"
        },
        "outputId": "bbbe71ff-7602-4101-9de6-adccae951e64"
      },
      "execution_count": null,
      "outputs": [
        {
          "output_type": "execute_result",
          "data": {
            "text/plain": [
              "0    0.781818\n",
              "1    0.218182\n",
              "Name: lulusTEPAT, dtype: float64"
            ]
          },
          "metadata": {},
          "execution_count": 348
        }
      ]
    },
    {
      "cell_type": "code",
      "source": [
        "df_finalis =  df_finalis.set_index('NIM')"
      ],
      "metadata": {
        "id": "K9dT9Xxk_uZT"
      },
      "execution_count": null,
      "outputs": []
    },
    {
      "cell_type": "code",
      "source": [
        "df_siswaall = df_finalis.copy()"
      ],
      "metadata": {
        "id": "rZOhaq-YmgQC"
      },
      "execution_count": null,
      "outputs": []
    },
    {
      "cell_type": "code",
      "source": [
        "df_finalis.to_csv('semuamhs.csv',index=False)"
      ],
      "metadata": {
        "id": "aXKuDRYfgWBt"
      },
      "execution_count": null,
      "outputs": []
    },
    {
      "cell_type": "code",
      "source": [
        "df_finalis.loc[(df_finalis['ANGKATAN'] == 2016) & (df_finalis.lulus == 1)]\n",
        "# df_siswa['SKS'] = np.where((df_siswa.GRADE == 'D'),0,df_siswa.SKS)"
      ],
      "metadata": {
        "id": "l4dIPZoaXugW",
        "colab": {
          "base_uri": "https://localhost:8080/",
          "height": 81
        },
        "outputId": "b3069c3e-78be-401d-cc8b-0ea8b469a92e"
      },
      "execution_count": null,
      "outputs": [
        {
          "output_type": "execute_result",
          "data": {
            "text/plain": [
              "Empty DataFrame\n",
              "Columns: [ANGKATAN, IPSmean, SEMESTER, SKS, SKSmean, meNILAI, meBOBOT, TAHUN, IPK, lulusTEPAT, lulus]\n",
              "Index: []"
            ],
            "text/html": [
              "\n",
              "  <div id=\"df-3f0be43b-a2f9-43e2-b153-eed55dd6ed7d\">\n",
              "    <div class=\"colab-df-container\">\n",
              "      <div>\n",
              "<style scoped>\n",
              "    .dataframe tbody tr th:only-of-type {\n",
              "        vertical-align: middle;\n",
              "    }\n",
              "\n",
              "    .dataframe tbody tr th {\n",
              "        vertical-align: top;\n",
              "    }\n",
              "\n",
              "    .dataframe thead th {\n",
              "        text-align: right;\n",
              "    }\n",
              "</style>\n",
              "<table border=\"1\" class=\"dataframe\">\n",
              "  <thead>\n",
              "    <tr style=\"text-align: right;\">\n",
              "      <th></th>\n",
              "      <th>ANGKATAN</th>\n",
              "      <th>IPSmean</th>\n",
              "      <th>SEMESTER</th>\n",
              "      <th>SKS</th>\n",
              "      <th>SKSmean</th>\n",
              "      <th>meNILAI</th>\n",
              "      <th>meBOBOT</th>\n",
              "      <th>TAHUN</th>\n",
              "      <th>IPK</th>\n",
              "      <th>lulusTEPAT</th>\n",
              "      <th>lulus</th>\n",
              "    </tr>\n",
              "    <tr>\n",
              "      <th>NIM</th>\n",
              "      <th></th>\n",
              "      <th></th>\n",
              "      <th></th>\n",
              "      <th></th>\n",
              "      <th></th>\n",
              "      <th></th>\n",
              "      <th></th>\n",
              "      <th></th>\n",
              "      <th></th>\n",
              "      <th></th>\n",
              "      <th></th>\n",
              "    </tr>\n",
              "  </thead>\n",
              "  <tbody>\n",
              "  </tbody>\n",
              "</table>\n",
              "</div>\n",
              "      <button class=\"colab-df-convert\" onclick=\"convertToInteractive('df-3f0be43b-a2f9-43e2-b153-eed55dd6ed7d')\"\n",
              "              title=\"Convert this dataframe to an interactive table.\"\n",
              "              style=\"display:none;\">\n",
              "        \n",
              "  <svg xmlns=\"http://www.w3.org/2000/svg\" height=\"24px\"viewBox=\"0 0 24 24\"\n",
              "       width=\"24px\">\n",
              "    <path d=\"M0 0h24v24H0V0z\" fill=\"none\"/>\n",
              "    <path d=\"M18.56 5.44l.94 2.06.94-2.06 2.06-.94-2.06-.94-.94-2.06-.94 2.06-2.06.94zm-11 1L8.5 8.5l.94-2.06 2.06-.94-2.06-.94L8.5 2.5l-.94 2.06-2.06.94zm10 10l.94 2.06.94-2.06 2.06-.94-2.06-.94-.94-2.06-.94 2.06-2.06.94z\"/><path d=\"M17.41 7.96l-1.37-1.37c-.4-.4-.92-.59-1.43-.59-.52 0-1.04.2-1.43.59L10.3 9.45l-7.72 7.72c-.78.78-.78 2.05 0 2.83L4 21.41c.39.39.9.59 1.41.59.51 0 1.02-.2 1.41-.59l7.78-7.78 2.81-2.81c.8-.78.8-2.07 0-2.86zM5.41 20L4 18.59l7.72-7.72 1.47 1.35L5.41 20z\"/>\n",
              "  </svg>\n",
              "      </button>\n",
              "      \n",
              "  <style>\n",
              "    .colab-df-container {\n",
              "      display:flex;\n",
              "      flex-wrap:wrap;\n",
              "      gap: 12px;\n",
              "    }\n",
              "\n",
              "    .colab-df-convert {\n",
              "      background-color: #E8F0FE;\n",
              "      border: none;\n",
              "      border-radius: 50%;\n",
              "      cursor: pointer;\n",
              "      display: none;\n",
              "      fill: #1967D2;\n",
              "      height: 32px;\n",
              "      padding: 0 0 0 0;\n",
              "      width: 32px;\n",
              "    }\n",
              "\n",
              "    .colab-df-convert:hover {\n",
              "      background-color: #E2EBFA;\n",
              "      box-shadow: 0px 1px 2px rgba(60, 64, 67, 0.3), 0px 1px 3px 1px rgba(60, 64, 67, 0.15);\n",
              "      fill: #174EA6;\n",
              "    }\n",
              "\n",
              "    [theme=dark] .colab-df-convert {\n",
              "      background-color: #3B4455;\n",
              "      fill: #D2E3FC;\n",
              "    }\n",
              "\n",
              "    [theme=dark] .colab-df-convert:hover {\n",
              "      background-color: #434B5C;\n",
              "      box-shadow: 0px 1px 3px 1px rgba(0, 0, 0, 0.15);\n",
              "      filter: drop-shadow(0px 1px 2px rgba(0, 0, 0, 0.3));\n",
              "      fill: #FFFFFF;\n",
              "    }\n",
              "  </style>\n",
              "\n",
              "      <script>\n",
              "        const buttonEl =\n",
              "          document.querySelector('#df-3f0be43b-a2f9-43e2-b153-eed55dd6ed7d button.colab-df-convert');\n",
              "        buttonEl.style.display =\n",
              "          google.colab.kernel.accessAllowed ? 'block' : 'none';\n",
              "\n",
              "        async function convertToInteractive(key) {\n",
              "          const element = document.querySelector('#df-3f0be43b-a2f9-43e2-b153-eed55dd6ed7d');\n",
              "          const dataTable =\n",
              "            await google.colab.kernel.invokeFunction('convertToInteractive',\n",
              "                                                     [key], {});\n",
              "          if (!dataTable) return;\n",
              "\n",
              "          const docLinkHtml = 'Like what you see? Visit the ' +\n",
              "            '<a target=\"_blank\" href=https://colab.research.google.com/notebooks/data_table.ipynb>data table notebook</a>'\n",
              "            + ' to learn more about interactive tables.';\n",
              "          element.innerHTML = '';\n",
              "          dataTable['output_type'] = 'display_data';\n",
              "          await google.colab.output.renderOutput(dataTable, element);\n",
              "          const docLink = document.createElement('div');\n",
              "          docLink.innerHTML = docLinkHtml;\n",
              "          element.appendChild(docLink);\n",
              "        }\n",
              "      </script>\n",
              "    </div>\n",
              "  </div>\n",
              "  "
            ]
          },
          "metadata": {},
          "execution_count": 352
        }
      ]
    },
    {
      "cell_type": "code",
      "source": [
        ""
      ],
      "metadata": {
        "id": "PIAQ1gRNADll"
      },
      "execution_count": null,
      "outputs": []
    },
    {
      "cell_type": "markdown",
      "source": [
        "Sekarang data sudah tidak terlalu imbalanced"
      ],
      "metadata": {
        "id": "1adAbpvBRPyx"
      }
    },
    {
      "cell_type": "code",
      "source": [
        "predtarg = df_finalis.loc[df_finalis['ANGKATAN'] >= 2016]\n",
        "\n",
        "df_finalis.drop(df_finalis.index[df_finalis['ANGKATAN'] >= 2016], inplace=True)\n"
      ],
      "metadata": {
        "id": "M6FxiejTQrS9"
      },
      "execution_count": null,
      "outputs": []
    },
    {
      "cell_type": "code",
      "source": [
        " df_finalis['lulusTEPAT'].value_counts(normalize=True)"
      ],
      "metadata": {
        "colab": {
          "base_uri": "https://localhost:8080/"
        },
        "id": "Jw4kFjP6RNpB",
        "outputId": "5b719176-480b-4fc2-80e0-ff25fb389eea"
      },
      "execution_count": null,
      "outputs": [
        {
          "output_type": "execute_result",
          "data": {
            "text/plain": [
              "0    0.612903\n",
              "1    0.387097\n",
              "Name: lulusTEPAT, dtype: float64"
            ]
          },
          "metadata": {},
          "execution_count": 354
        }
      ]
    },
    {
      "cell_type": "code",
      "source": [
        ""
      ],
      "metadata": {
        "id": "sRYaqHdZ8NVz"
      },
      "execution_count": null,
      "outputs": []
    },
    {
      "cell_type": "code",
      "source": [
        "df_finalis.to_csv('lulusmhs.csv',index=False)"
      ],
      "metadata": {
        "id": "AK7vQznEgbCL"
      },
      "execution_count": null,
      "outputs": []
    },
    {
      "cell_type": "code",
      "source": [
        ""
      ],
      "metadata": {
        "id": "X3LW2myCqFF2"
      },
      "execution_count": null,
      "outputs": []
    },
    {
      "cell_type": "markdown",
      "source": [
        "# Exploratory Data Analysis(EDA)"
      ],
      "metadata": {
        "id": "LgkLZ9Tqg3lk"
      }
    },
    {
      "cell_type": "code",
      "source": [
        "tepatlulus = df_finalis.loc[df_finalis['lulusTEPAT'] == 1]\n",
        "xtepat = df_finalis.loc[df_finalis['lulusTEPAT'] == 0]"
      ],
      "metadata": {
        "id": "2MzOKdEDhVY-"
      },
      "execution_count": null,
      "outputs": []
    },
    {
      "cell_type": "code",
      "source": [
        "tepatlulus.describe()"
      ],
      "metadata": {
        "colab": {
          "base_uri": "https://localhost:8080/",
          "height": 301
        },
        "outputId": "523d3405-51cf-44bd-baf3-711f02673b01",
        "id": "gS0O1IHAg3ll"
      },
      "execution_count": null,
      "outputs": [
        {
          "output_type": "execute_result",
          "data": {
            "text/plain": [
              "          ANGKATAN     IPSmean    SEMESTER         SKS     SKSmean  \\\n",
              "count   168.000000  168.000000  168.000000  168.000000  168.000000   \n",
              "mean   2012.404762    3.333746    7.785714  144.988095   17.136586   \n",
              "std       1.664127    0.272586    0.411553    1.203727    3.415748   \n",
              "min    2010.000000    2.772795    7.000000  144.000000   11.000000   \n",
              "25%    2011.000000    3.114442    8.000000  145.000000   18.125000   \n",
              "50%    2013.000000    3.317819    8.000000  145.000000   18.125000   \n",
              "75%    2014.000000    3.555996    8.000000  145.000000   18.125000   \n",
              "max    2015.000000    4.000000    8.000000  151.000000   21.571429   \n",
              "\n",
              "          meNILAI     meBOBOT  TAHUN         IPK  lulusTEPAT  lulus  \n",
              "count  168.000000  168.000000  168.0  168.000000       168.0  168.0  \n",
              "mean    81.528144    3.339059    4.0    3.333746         1.0    1.0  \n",
              "std      4.687921    0.268611    0.0    0.272586         0.0    0.0  \n",
              "min     70.845486    2.783503    4.0    2.772795         1.0    1.0  \n",
              "25%     77.970351    3.121838    4.0    3.114442         1.0    1.0  \n",
              "50%     81.350149    3.325149    4.0    3.317819         1.0    1.0  \n",
              "75%     84.909598    3.560268    4.0    3.555996         1.0    1.0  \n",
              "max     92.877232    4.000000    4.0    4.000000         1.0    1.0  "
            ],
            "text/html": [
              "\n",
              "  <div id=\"df-aa490014-ee14-46e4-8ca1-a04b0185b950\">\n",
              "    <div class=\"colab-df-container\">\n",
              "      <div>\n",
              "<style scoped>\n",
              "    .dataframe tbody tr th:only-of-type {\n",
              "        vertical-align: middle;\n",
              "    }\n",
              "\n",
              "    .dataframe tbody tr th {\n",
              "        vertical-align: top;\n",
              "    }\n",
              "\n",
              "    .dataframe thead th {\n",
              "        text-align: right;\n",
              "    }\n",
              "</style>\n",
              "<table border=\"1\" class=\"dataframe\">\n",
              "  <thead>\n",
              "    <tr style=\"text-align: right;\">\n",
              "      <th></th>\n",
              "      <th>ANGKATAN</th>\n",
              "      <th>IPSmean</th>\n",
              "      <th>SEMESTER</th>\n",
              "      <th>SKS</th>\n",
              "      <th>SKSmean</th>\n",
              "      <th>meNILAI</th>\n",
              "      <th>meBOBOT</th>\n",
              "      <th>TAHUN</th>\n",
              "      <th>IPK</th>\n",
              "      <th>lulusTEPAT</th>\n",
              "      <th>lulus</th>\n",
              "    </tr>\n",
              "  </thead>\n",
              "  <tbody>\n",
              "    <tr>\n",
              "      <th>count</th>\n",
              "      <td>168.000000</td>\n",
              "      <td>168.000000</td>\n",
              "      <td>168.000000</td>\n",
              "      <td>168.000000</td>\n",
              "      <td>168.000000</td>\n",
              "      <td>168.000000</td>\n",
              "      <td>168.000000</td>\n",
              "      <td>168.0</td>\n",
              "      <td>168.000000</td>\n",
              "      <td>168.0</td>\n",
              "      <td>168.0</td>\n",
              "    </tr>\n",
              "    <tr>\n",
              "      <th>mean</th>\n",
              "      <td>2012.404762</td>\n",
              "      <td>3.333746</td>\n",
              "      <td>7.785714</td>\n",
              "      <td>144.988095</td>\n",
              "      <td>17.136586</td>\n",
              "      <td>81.528144</td>\n",
              "      <td>3.339059</td>\n",
              "      <td>4.0</td>\n",
              "      <td>3.333746</td>\n",
              "      <td>1.0</td>\n",
              "      <td>1.0</td>\n",
              "    </tr>\n",
              "    <tr>\n",
              "      <th>std</th>\n",
              "      <td>1.664127</td>\n",
              "      <td>0.272586</td>\n",
              "      <td>0.411553</td>\n",
              "      <td>1.203727</td>\n",
              "      <td>3.415748</td>\n",
              "      <td>4.687921</td>\n",
              "      <td>0.268611</td>\n",
              "      <td>0.0</td>\n",
              "      <td>0.272586</td>\n",
              "      <td>0.0</td>\n",
              "      <td>0.0</td>\n",
              "    </tr>\n",
              "    <tr>\n",
              "      <th>min</th>\n",
              "      <td>2010.000000</td>\n",
              "      <td>2.772795</td>\n",
              "      <td>7.000000</td>\n",
              "      <td>144.000000</td>\n",
              "      <td>11.000000</td>\n",
              "      <td>70.845486</td>\n",
              "      <td>2.783503</td>\n",
              "      <td>4.0</td>\n",
              "      <td>2.772795</td>\n",
              "      <td>1.0</td>\n",
              "      <td>1.0</td>\n",
              "    </tr>\n",
              "    <tr>\n",
              "      <th>25%</th>\n",
              "      <td>2011.000000</td>\n",
              "      <td>3.114442</td>\n",
              "      <td>8.000000</td>\n",
              "      <td>145.000000</td>\n",
              "      <td>18.125000</td>\n",
              "      <td>77.970351</td>\n",
              "      <td>3.121838</td>\n",
              "      <td>4.0</td>\n",
              "      <td>3.114442</td>\n",
              "      <td>1.0</td>\n",
              "      <td>1.0</td>\n",
              "    </tr>\n",
              "    <tr>\n",
              "      <th>50%</th>\n",
              "      <td>2013.000000</td>\n",
              "      <td>3.317819</td>\n",
              "      <td>8.000000</td>\n",
              "      <td>145.000000</td>\n",
              "      <td>18.125000</td>\n",
              "      <td>81.350149</td>\n",
              "      <td>3.325149</td>\n",
              "      <td>4.0</td>\n",
              "      <td>3.317819</td>\n",
              "      <td>1.0</td>\n",
              "      <td>1.0</td>\n",
              "    </tr>\n",
              "    <tr>\n",
              "      <th>75%</th>\n",
              "      <td>2014.000000</td>\n",
              "      <td>3.555996</td>\n",
              "      <td>8.000000</td>\n",
              "      <td>145.000000</td>\n",
              "      <td>18.125000</td>\n",
              "      <td>84.909598</td>\n",
              "      <td>3.560268</td>\n",
              "      <td>4.0</td>\n",
              "      <td>3.555996</td>\n",
              "      <td>1.0</td>\n",
              "      <td>1.0</td>\n",
              "    </tr>\n",
              "    <tr>\n",
              "      <th>max</th>\n",
              "      <td>2015.000000</td>\n",
              "      <td>4.000000</td>\n",
              "      <td>8.000000</td>\n",
              "      <td>151.000000</td>\n",
              "      <td>21.571429</td>\n",
              "      <td>92.877232</td>\n",
              "      <td>4.000000</td>\n",
              "      <td>4.0</td>\n",
              "      <td>4.000000</td>\n",
              "      <td>1.0</td>\n",
              "      <td>1.0</td>\n",
              "    </tr>\n",
              "  </tbody>\n",
              "</table>\n",
              "</div>\n",
              "      <button class=\"colab-df-convert\" onclick=\"convertToInteractive('df-aa490014-ee14-46e4-8ca1-a04b0185b950')\"\n",
              "              title=\"Convert this dataframe to an interactive table.\"\n",
              "              style=\"display:none;\">\n",
              "        \n",
              "  <svg xmlns=\"http://www.w3.org/2000/svg\" height=\"24px\"viewBox=\"0 0 24 24\"\n",
              "       width=\"24px\">\n",
              "    <path d=\"M0 0h24v24H0V0z\" fill=\"none\"/>\n",
              "    <path d=\"M18.56 5.44l.94 2.06.94-2.06 2.06-.94-2.06-.94-.94-2.06-.94 2.06-2.06.94zm-11 1L8.5 8.5l.94-2.06 2.06-.94-2.06-.94L8.5 2.5l-.94 2.06-2.06.94zm10 10l.94 2.06.94-2.06 2.06-.94-2.06-.94-.94-2.06-.94 2.06-2.06.94z\"/><path d=\"M17.41 7.96l-1.37-1.37c-.4-.4-.92-.59-1.43-.59-.52 0-1.04.2-1.43.59L10.3 9.45l-7.72 7.72c-.78.78-.78 2.05 0 2.83L4 21.41c.39.39.9.59 1.41.59.51 0 1.02-.2 1.41-.59l7.78-7.78 2.81-2.81c.8-.78.8-2.07 0-2.86zM5.41 20L4 18.59l7.72-7.72 1.47 1.35L5.41 20z\"/>\n",
              "  </svg>\n",
              "      </button>\n",
              "      \n",
              "  <style>\n",
              "    .colab-df-container {\n",
              "      display:flex;\n",
              "      flex-wrap:wrap;\n",
              "      gap: 12px;\n",
              "    }\n",
              "\n",
              "    .colab-df-convert {\n",
              "      background-color: #E8F0FE;\n",
              "      border: none;\n",
              "      border-radius: 50%;\n",
              "      cursor: pointer;\n",
              "      display: none;\n",
              "      fill: #1967D2;\n",
              "      height: 32px;\n",
              "      padding: 0 0 0 0;\n",
              "      width: 32px;\n",
              "    }\n",
              "\n",
              "    .colab-df-convert:hover {\n",
              "      background-color: #E2EBFA;\n",
              "      box-shadow: 0px 1px 2px rgba(60, 64, 67, 0.3), 0px 1px 3px 1px rgba(60, 64, 67, 0.15);\n",
              "      fill: #174EA6;\n",
              "    }\n",
              "\n",
              "    [theme=dark] .colab-df-convert {\n",
              "      background-color: #3B4455;\n",
              "      fill: #D2E3FC;\n",
              "    }\n",
              "\n",
              "    [theme=dark] .colab-df-convert:hover {\n",
              "      background-color: #434B5C;\n",
              "      box-shadow: 0px 1px 3px 1px rgba(0, 0, 0, 0.15);\n",
              "      filter: drop-shadow(0px 1px 2px rgba(0, 0, 0, 0.3));\n",
              "      fill: #FFFFFF;\n",
              "    }\n",
              "  </style>\n",
              "\n",
              "      <script>\n",
              "        const buttonEl =\n",
              "          document.querySelector('#df-aa490014-ee14-46e4-8ca1-a04b0185b950 button.colab-df-convert');\n",
              "        buttonEl.style.display =\n",
              "          google.colab.kernel.accessAllowed ? 'block' : 'none';\n",
              "\n",
              "        async function convertToInteractive(key) {\n",
              "          const element = document.querySelector('#df-aa490014-ee14-46e4-8ca1-a04b0185b950');\n",
              "          const dataTable =\n",
              "            await google.colab.kernel.invokeFunction('convertToInteractive',\n",
              "                                                     [key], {});\n",
              "          if (!dataTable) return;\n",
              "\n",
              "          const docLinkHtml = 'Like what you see? Visit the ' +\n",
              "            '<a target=\"_blank\" href=https://colab.research.google.com/notebooks/data_table.ipynb>data table notebook</a>'\n",
              "            + ' to learn more about interactive tables.';\n",
              "          element.innerHTML = '';\n",
              "          dataTable['output_type'] = 'display_data';\n",
              "          await google.colab.output.renderOutput(dataTable, element);\n",
              "          const docLink = document.createElement('div');\n",
              "          docLink.innerHTML = docLinkHtml;\n",
              "          element.appendChild(docLink);\n",
              "        }\n",
              "      </script>\n",
              "    </div>\n",
              "  </div>\n",
              "  "
            ]
          },
          "metadata": {},
          "execution_count": 357
        }
      ]
    },
    {
      "cell_type": "code",
      "source": [
        "xtepat.describe()"
      ],
      "metadata": {
        "id": "sBcMe4BWg3ll",
        "colab": {
          "base_uri": "https://localhost:8080/",
          "height": 301
        },
        "outputId": "e843d779-19a2-4b2d-caf7-b81c57fdf90f"
      },
      "execution_count": null,
      "outputs": [
        {
          "output_type": "execute_result",
          "data": {
            "text/plain": [
              "          ANGKATAN     IPSmean    SEMESTER         SKS     SKSmean  \\\n",
              "count   266.000000  266.000000  266.000000  266.000000  266.000000   \n",
              "mean   2013.045113    2.757901    8.894737  133.067669   15.266103   \n",
              "std       1.777701    0.394962    1.251494   18.270585    2.666719   \n",
              "min    2010.000000    1.098306    7.000000   39.000000    4.875000   \n",
              "25%    2011.000000    2.549464    8.000000  134.250000   13.818750   \n",
              "50%    2014.000000    2.811010    8.000000  140.000000   15.777778   \n",
              "75%    2015.000000    2.992276    9.000000  142.000000   17.625000   \n",
              "max    2015.000000    3.688861   14.000000  151.000000   20.285714   \n",
              "\n",
              "          meNILAI     meBOBOT       TAHUN         IPK  lulusTEPAT       lulus  \n",
              "count  266.000000  266.000000  266.000000  266.000000       266.0  266.000000  \n",
              "mean    72.703932    2.764439    4.687970    2.757901         0.0    0.090226  \n",
              "std      6.603854    0.394100    0.817501    0.394962         0.0    0.287045  \n",
              "min     42.817284    1.104167    4.000000    1.098306         0.0    0.000000  \n",
              "25%     69.397433    2.559086    4.000000    2.549464         0.0    0.000000  \n",
              "50%     73.566964    2.815761    5.000000    2.811010         0.0    0.000000  \n",
              "75%     76.788382    2.997050    5.000000    2.992276         0.0    0.000000  \n",
              "max     88.270089    3.686012    7.000000    3.688861         0.0    1.000000  "
            ],
            "text/html": [
              "\n",
              "  <div id=\"df-9e721e80-d660-4719-b199-9b1968bc57e9\">\n",
              "    <div class=\"colab-df-container\">\n",
              "      <div>\n",
              "<style scoped>\n",
              "    .dataframe tbody tr th:only-of-type {\n",
              "        vertical-align: middle;\n",
              "    }\n",
              "\n",
              "    .dataframe tbody tr th {\n",
              "        vertical-align: top;\n",
              "    }\n",
              "\n",
              "    .dataframe thead th {\n",
              "        text-align: right;\n",
              "    }\n",
              "</style>\n",
              "<table border=\"1\" class=\"dataframe\">\n",
              "  <thead>\n",
              "    <tr style=\"text-align: right;\">\n",
              "      <th></th>\n",
              "      <th>ANGKATAN</th>\n",
              "      <th>IPSmean</th>\n",
              "      <th>SEMESTER</th>\n",
              "      <th>SKS</th>\n",
              "      <th>SKSmean</th>\n",
              "      <th>meNILAI</th>\n",
              "      <th>meBOBOT</th>\n",
              "      <th>TAHUN</th>\n",
              "      <th>IPK</th>\n",
              "      <th>lulusTEPAT</th>\n",
              "      <th>lulus</th>\n",
              "    </tr>\n",
              "  </thead>\n",
              "  <tbody>\n",
              "    <tr>\n",
              "      <th>count</th>\n",
              "      <td>266.000000</td>\n",
              "      <td>266.000000</td>\n",
              "      <td>266.000000</td>\n",
              "      <td>266.000000</td>\n",
              "      <td>266.000000</td>\n",
              "      <td>266.000000</td>\n",
              "      <td>266.000000</td>\n",
              "      <td>266.000000</td>\n",
              "      <td>266.000000</td>\n",
              "      <td>266.0</td>\n",
              "      <td>266.000000</td>\n",
              "    </tr>\n",
              "    <tr>\n",
              "      <th>mean</th>\n",
              "      <td>2013.045113</td>\n",
              "      <td>2.757901</td>\n",
              "      <td>8.894737</td>\n",
              "      <td>133.067669</td>\n",
              "      <td>15.266103</td>\n",
              "      <td>72.703932</td>\n",
              "      <td>2.764439</td>\n",
              "      <td>4.687970</td>\n",
              "      <td>2.757901</td>\n",
              "      <td>0.0</td>\n",
              "      <td>0.090226</td>\n",
              "    </tr>\n",
              "    <tr>\n",
              "      <th>std</th>\n",
              "      <td>1.777701</td>\n",
              "      <td>0.394962</td>\n",
              "      <td>1.251494</td>\n",
              "      <td>18.270585</td>\n",
              "      <td>2.666719</td>\n",
              "      <td>6.603854</td>\n",
              "      <td>0.394100</td>\n",
              "      <td>0.817501</td>\n",
              "      <td>0.394962</td>\n",
              "      <td>0.0</td>\n",
              "      <td>0.287045</td>\n",
              "    </tr>\n",
              "    <tr>\n",
              "      <th>min</th>\n",
              "      <td>2010.000000</td>\n",
              "      <td>1.098306</td>\n",
              "      <td>7.000000</td>\n",
              "      <td>39.000000</td>\n",
              "      <td>4.875000</td>\n",
              "      <td>42.817284</td>\n",
              "      <td>1.104167</td>\n",
              "      <td>4.000000</td>\n",
              "      <td>1.098306</td>\n",
              "      <td>0.0</td>\n",
              "      <td>0.000000</td>\n",
              "    </tr>\n",
              "    <tr>\n",
              "      <th>25%</th>\n",
              "      <td>2011.000000</td>\n",
              "      <td>2.549464</td>\n",
              "      <td>8.000000</td>\n",
              "      <td>134.250000</td>\n",
              "      <td>13.818750</td>\n",
              "      <td>69.397433</td>\n",
              "      <td>2.559086</td>\n",
              "      <td>4.000000</td>\n",
              "      <td>2.549464</td>\n",
              "      <td>0.0</td>\n",
              "      <td>0.000000</td>\n",
              "    </tr>\n",
              "    <tr>\n",
              "      <th>50%</th>\n",
              "      <td>2014.000000</td>\n",
              "      <td>2.811010</td>\n",
              "      <td>8.000000</td>\n",
              "      <td>140.000000</td>\n",
              "      <td>15.777778</td>\n",
              "      <td>73.566964</td>\n",
              "      <td>2.815761</td>\n",
              "      <td>5.000000</td>\n",
              "      <td>2.811010</td>\n",
              "      <td>0.0</td>\n",
              "      <td>0.000000</td>\n",
              "    </tr>\n",
              "    <tr>\n",
              "      <th>75%</th>\n",
              "      <td>2015.000000</td>\n",
              "      <td>2.992276</td>\n",
              "      <td>9.000000</td>\n",
              "      <td>142.000000</td>\n",
              "      <td>17.625000</td>\n",
              "      <td>76.788382</td>\n",
              "      <td>2.997050</td>\n",
              "      <td>5.000000</td>\n",
              "      <td>2.992276</td>\n",
              "      <td>0.0</td>\n",
              "      <td>0.000000</td>\n",
              "    </tr>\n",
              "    <tr>\n",
              "      <th>max</th>\n",
              "      <td>2015.000000</td>\n",
              "      <td>3.688861</td>\n",
              "      <td>14.000000</td>\n",
              "      <td>151.000000</td>\n",
              "      <td>20.285714</td>\n",
              "      <td>88.270089</td>\n",
              "      <td>3.686012</td>\n",
              "      <td>7.000000</td>\n",
              "      <td>3.688861</td>\n",
              "      <td>0.0</td>\n",
              "      <td>1.000000</td>\n",
              "    </tr>\n",
              "  </tbody>\n",
              "</table>\n",
              "</div>\n",
              "      <button class=\"colab-df-convert\" onclick=\"convertToInteractive('df-9e721e80-d660-4719-b199-9b1968bc57e9')\"\n",
              "              title=\"Convert this dataframe to an interactive table.\"\n",
              "              style=\"display:none;\">\n",
              "        \n",
              "  <svg xmlns=\"http://www.w3.org/2000/svg\" height=\"24px\"viewBox=\"0 0 24 24\"\n",
              "       width=\"24px\">\n",
              "    <path d=\"M0 0h24v24H0V0z\" fill=\"none\"/>\n",
              "    <path d=\"M18.56 5.44l.94 2.06.94-2.06 2.06-.94-2.06-.94-.94-2.06-.94 2.06-2.06.94zm-11 1L8.5 8.5l.94-2.06 2.06-.94-2.06-.94L8.5 2.5l-.94 2.06-2.06.94zm10 10l.94 2.06.94-2.06 2.06-.94-2.06-.94-.94-2.06-.94 2.06-2.06.94z\"/><path d=\"M17.41 7.96l-1.37-1.37c-.4-.4-.92-.59-1.43-.59-.52 0-1.04.2-1.43.59L10.3 9.45l-7.72 7.72c-.78.78-.78 2.05 0 2.83L4 21.41c.39.39.9.59 1.41.59.51 0 1.02-.2 1.41-.59l7.78-7.78 2.81-2.81c.8-.78.8-2.07 0-2.86zM5.41 20L4 18.59l7.72-7.72 1.47 1.35L5.41 20z\"/>\n",
              "  </svg>\n",
              "      </button>\n",
              "      \n",
              "  <style>\n",
              "    .colab-df-container {\n",
              "      display:flex;\n",
              "      flex-wrap:wrap;\n",
              "      gap: 12px;\n",
              "    }\n",
              "\n",
              "    .colab-df-convert {\n",
              "      background-color: #E8F0FE;\n",
              "      border: none;\n",
              "      border-radius: 50%;\n",
              "      cursor: pointer;\n",
              "      display: none;\n",
              "      fill: #1967D2;\n",
              "      height: 32px;\n",
              "      padding: 0 0 0 0;\n",
              "      width: 32px;\n",
              "    }\n",
              "\n",
              "    .colab-df-convert:hover {\n",
              "      background-color: #E2EBFA;\n",
              "      box-shadow: 0px 1px 2px rgba(60, 64, 67, 0.3), 0px 1px 3px 1px rgba(60, 64, 67, 0.15);\n",
              "      fill: #174EA6;\n",
              "    }\n",
              "\n",
              "    [theme=dark] .colab-df-convert {\n",
              "      background-color: #3B4455;\n",
              "      fill: #D2E3FC;\n",
              "    }\n",
              "\n",
              "    [theme=dark] .colab-df-convert:hover {\n",
              "      background-color: #434B5C;\n",
              "      box-shadow: 0px 1px 3px 1px rgba(0, 0, 0, 0.15);\n",
              "      filter: drop-shadow(0px 1px 2px rgba(0, 0, 0, 0.3));\n",
              "      fill: #FFFFFF;\n",
              "    }\n",
              "  </style>\n",
              "\n",
              "      <script>\n",
              "        const buttonEl =\n",
              "          document.querySelector('#df-9e721e80-d660-4719-b199-9b1968bc57e9 button.colab-df-convert');\n",
              "        buttonEl.style.display =\n",
              "          google.colab.kernel.accessAllowed ? 'block' : 'none';\n",
              "\n",
              "        async function convertToInteractive(key) {\n",
              "          const element = document.querySelector('#df-9e721e80-d660-4719-b199-9b1968bc57e9');\n",
              "          const dataTable =\n",
              "            await google.colab.kernel.invokeFunction('convertToInteractive',\n",
              "                                                     [key], {});\n",
              "          if (!dataTable) return;\n",
              "\n",
              "          const docLinkHtml = 'Like what you see? Visit the ' +\n",
              "            '<a target=\"_blank\" href=https://colab.research.google.com/notebooks/data_table.ipynb>data table notebook</a>'\n",
              "            + ' to learn more about interactive tables.';\n",
              "          element.innerHTML = '';\n",
              "          dataTable['output_type'] = 'display_data';\n",
              "          await google.colab.output.renderOutput(dataTable, element);\n",
              "          const docLink = document.createElement('div');\n",
              "          docLink.innerHTML = docLinkHtml;\n",
              "          element.appendChild(docLink);\n",
              "        }\n",
              "      </script>\n",
              "    </div>\n",
              "  </div>\n",
              "  "
            ]
          },
          "metadata": {},
          "execution_count": 358
        }
      ]
    },
    {
      "cell_type": "code",
      "source": [
        ""
      ],
      "metadata": {
        "id": "q4Y1Q7aNg3ll"
      },
      "execution_count": null,
      "outputs": []
    },
    {
      "cell_type": "code",
      "source": [
        "y = df_finalis.lulusTEPAT\n",
        "#Disini saya melakukan uji coba mengalahklan model dengan menyaring data berdasarkan minimal,25 % dan 50% dari kelompok data yang lulustepat waktu\n",
        "trypredmin = df_finalis.loc[(df_finalis['IPSmean'] > 2.810764) & (df_finalis.meNILAI > 70.845486) & (df_finalis.meBOBOT > 2.790306)  & (df_finalis.SKSmean > 18.000000)]\n",
        "trypred25 = df_finalis.loc[(df_finalis['IPSmean'] > 3.115021) & (df_finalis.meNILAI > 77.982462) & (df_finalis.meBOBOT > 3.121838) & (df_finalis.SKSmean > 18.125000)]"
      ],
      "metadata": {
        "id": "oWD1CGBGg3ll"
      },
      "execution_count": null,
      "outputs": []
    },
    {
      "cell_type": "code",
      "source": [
        "trypredmin = (df_finalis['IPSmean'] >= 2.772795) & (df_finalis.meNILAI >= 70.845486) & (df_finalis.meBOBOT >= 2.783503 ) & (df_finalis.SKSmean >= 11.000000)\n",
        "trypredmin25 = (df_finalis['IPSmean'] >= 3.114442) & (df_finalis.meNILAI >= 77.970351) & (df_finalis.meBOBOT >= 3.121838) & (df_finalis.SKSmean >= 18.125000).astype(int)\n",
        "trypredmin50 = (df_finalis['IPSmean'] >= 3.317819) & (df_finalis.meNILAI >= 81.350149) & (df_finalis.meBOBOT >= 3.325149) & (df_finalis.SKSmean >= 18.125000).astype(int)\n",
        "\n"
      ],
      "metadata": {
        "id": "yUYGl8Gog3ll"
      },
      "execution_count": null,
      "outputs": []
    },
    {
      "cell_type": "code",
      "source": [
        ""
      ],
      "metadata": {
        "id": "zuipLW-LjqUC"
      },
      "execution_count": null,
      "outputs": []
    },
    {
      "cell_type": "markdown",
      "source": [
        "Dari sini model saya tebukti masih memiliki score terbaik"
      ],
      "metadata": {
        "id": "t0V4RVWeg3lm"
      }
    },
    {
      "cell_type": "code",
      "source": [
        ""
      ],
      "metadata": {
        "id": "uz0LkU2girEK"
      },
      "execution_count": null,
      "outputs": []
    },
    {
      "cell_type": "code",
      "source": [
        "# y_pred\n",
        "\n",
        "from sklearn.metrics import accuracy_score\n",
        "\n",
        "\n",
        "# accuracy_score(y, y_pred)\n",
        "\n"
      ],
      "metadata": {
        "id": "6MTI4AWfg3lm"
      },
      "execution_count": null,
      "outputs": []
    },
    {
      "cell_type": "code",
      "source": [
        ""
      ],
      "metadata": {
        "id": "SN5eCb2wjQ-D"
      },
      "execution_count": null,
      "outputs": []
    },
    {
      "cell_type": "code",
      "source": [
        "accuracy_score(y,trypredmin.astype(int))"
      ],
      "metadata": {
        "colab": {
          "base_uri": "https://localhost:8080/"
        },
        "outputId": "639d900a-5cfc-497b-b59c-980c87019eaf",
        "id": "5AwdUxJMg3lm"
      },
      "execution_count": null,
      "outputs": [
        {
          "output_type": "execute_result",
          "data": {
            "text/plain": [
              "0.6682027649769585"
            ]
          },
          "metadata": {},
          "execution_count": 362
        }
      ]
    },
    {
      "cell_type": "code",
      "source": [
        "accuracy_score(y,trypredmin25.astype(int))"
      ],
      "metadata": {
        "colab": {
          "base_uri": "https://localhost:8080/"
        },
        "outputId": "cf67fea7-bdfe-4f7f-ba5d-209f73875d3d",
        "id": "4o-YEaWgg3lm"
      },
      "execution_count": null,
      "outputs": [
        {
          "output_type": "execute_result",
          "data": {
            "text/plain": [
              "0.8294930875576036"
            ]
          },
          "metadata": {},
          "execution_count": 363
        }
      ]
    },
    {
      "cell_type": "code",
      "source": [
        "accuracy_score(y,trypredmin50.astype(int))"
      ],
      "metadata": {
        "colab": {
          "base_uri": "https://localhost:8080/"
        },
        "outputId": "762b7e5e-32bc-431b-f50c-b21a94599b39",
        "id": "CHZSLZtAg3lm"
      },
      "execution_count": null,
      "outputs": [
        {
          "output_type": "execute_result",
          "data": {
            "text/plain": [
              "0.7488479262672811"
            ]
          },
          "metadata": {},
          "execution_count": 364
        }
      ]
    },
    {
      "cell_type": "code",
      "source": [
        "df_finalis['lulus'].value_counts().plot.pie(autopct='%.2f%%',labels=None, legend=True)\n",
        "plt.title('Lulus vs belum lulus')\n",
        "plt.tight_layout()\n"
      ],
      "metadata": {
        "colab": {
          "base_uri": "https://localhost:8080/",
          "height": 297
        },
        "id": "cacOtlWe9H4V",
        "outputId": "3de34368-a544-4621-8e8e-d1de36a8ade7"
      },
      "execution_count": null,
      "outputs": [
        {
          "output_type": "display_data",
          "data": {
            "text/plain": [
              "<Figure size 432x288 with 1 Axes>"
            ],
            "image/png": "[encoded data removed]"
          },
          "metadata": {}
        }
      ]
    },
    {
      "cell_type": "code",
      "source": [
        "df_finalis['lulusTEPAT'].value_counts().plot.pie(autopct='%.2f%%',labels=None, legend=True)\n",
        "plt.title('Lulus Tepat Waktu vs telat lulus')\n",
        "plt.tight_layout()\n"
      ],
      "metadata": {
        "colab": {
          "base_uri": "https://localhost:8080/",
          "height": 297
        },
        "id": "w9uRk-X37KfW",
        "outputId": "fe808ea5-dd7f-4a61-eb8f-eb3c4ccc4fe7"
      },
      "execution_count": null,
      "outputs": [
        {
          "output_type": "display_data",
          "data": {
            "text/plain": [
              "<Figure size 432x288 with 1 Axes>"
            ],
            "image/png": "[encoded data removed]"
          },
          "metadata": {}
        }
      ]
    },
    {
      "cell_type": "markdown",
      "source": [
        "Numerik Vs Target"
      ],
      "metadata": {
        "id": "M84YvcbXg3ln"
      }
    },
    {
      "cell_type": "code",
      "source": [
        "#IPS MEAN\n",
        "plt.figure(figsize=(7,6))\n",
        "sns.distplot(df_finalis.IPSmean[df_finalis.lulusTEPAT == 0],bins=1,color =\"r\",label ='tidak tepat waktu'),\n",
        "sns.distplot(df_finalis.IPSmean[df_finalis.lulusTEPAT == 1],bins=1,color =\"g\",label ='lulus tepat waktu'),\n",
        "plt.legend();"
      ],
      "metadata": {
        "colab": {
          "base_uri": "https://localhost:8080/",
          "height": 477
        },
        "outputId": "7e099428-b85f-4aea-f833-d965ca8cde17",
        "id": "LwYahWeug3ln"
      },
      "execution_count": null,
      "outputs": [
        {
          "output_type": "stream",
          "name": "stderr",
          "text": [
            "/usr/local/lib/python3.7/dist-packages/seaborn/distributions.py:2619: FutureWarning: `distplot` is a deprecated function and will be removed in a future version. Please adapt your code to use either `displot` (a figure-level function with similar flexibility) or `histplot` (an axes-level function for histograms).\n",
            "  warnings.warn(msg, FutureWarning)\n",
            "/usr/local/lib/python3.7/dist-packages/seaborn/distributions.py:2619: FutureWarning: `distplot` is a deprecated function and will be removed in a future version. Please adapt your code to use either `displot` (a figure-level function with similar flexibility) or `histplot` (an axes-level function for histograms).\n",
            "  warnings.warn(msg, FutureWarning)\n"
          ]
        },
        {
          "output_type": "display_data",
          "data": {
            "text/plain": [
              "<Figure size 504x432 with 1 Axes>"
            ],
            "image/png": "[encoded data removed]"
          },
          "metadata": {
            "needs_background": "light"
          }
        }
      ]
    },
    {
      "cell_type": "code",
      "source": [
        "#SKS \n",
        "plt.figure(figsize=(7,6))\n",
        "sns.distplot(df_finalis.SKS[df_finalis.lulusTEPAT == 0],bins=1,color =\"r\",label ='tidak tepat waktu'),\n",
        "sns.distplot(df_finalis.SKS[df_finalis.lulusTEPAT == 1],bins=1,color =\"g\",label ='lulus tepat waktu'),\n",
        "plt.legend();"
      ],
      "metadata": {
        "colab": {
          "base_uri": "https://localhost:8080/",
          "height": 477
        },
        "outputId": "db0dfb55-9b02-48f5-de90-9e47705e656f",
        "id": "VXae_Dg-g3ln"
      },
      "execution_count": null,
      "outputs": [
        {
          "output_type": "stream",
          "name": "stderr",
          "text": [
            "/usr/local/lib/python3.7/dist-packages/seaborn/distributions.py:2619: FutureWarning: `distplot` is a deprecated function and will be removed in a future version. Please adapt your code to use either `displot` (a figure-level function with similar flexibility) or `histplot` (an axes-level function for histograms).\n",
            "  warnings.warn(msg, FutureWarning)\n",
            "/usr/local/lib/python3.7/dist-packages/seaborn/distributions.py:2619: FutureWarning: `distplot` is a deprecated function and will be removed in a future version. Please adapt your code to use either `displot` (a figure-level function with similar flexibility) or `histplot` (an axes-level function for histograms).\n",
            "  warnings.warn(msg, FutureWarning)\n"
          ]
        },
        {
          "output_type": "display_data",
          "data": {
            "text/plain": [
              "<Figure size 504x432 with 1 Axes>"
            ],
            "image/png": "[encoded data removed]"
          },
          "metadata": {
            "needs_background": "light"
          }
        }
      ]
    },
    {
      "cell_type": "code",
      "source": [
        "#SKSMEAN\n",
        "plt.figure(figsize=(7,6))\n",
        "sns.distplot(df_finalis.SKSmean[df_finalis.lulusTEPAT == 0],bins=3,color =\"r\",label ='tidak tepat waktu'),\n",
        "sns.distplot(df_finalis.SKSmean[df_finalis.lulusTEPAT == 1],bins=3,color =\"g\",label ='lulus tepat waktu'),\n",
        "plt.legend();"
      ],
      "metadata": {
        "colab": {
          "base_uri": "https://localhost:8080/",
          "height": 477
        },
        "outputId": "76fae84b-1fb6-42c7-b2a6-805e8c058170",
        "id": "gzOhescgg3lo"
      },
      "execution_count": null,
      "outputs": [
        {
          "output_type": "stream",
          "name": "stderr",
          "text": [
            "/usr/local/lib/python3.7/dist-packages/seaborn/distributions.py:2619: FutureWarning: `distplot` is a deprecated function and will be removed in a future version. Please adapt your code to use either `displot` (a figure-level function with similar flexibility) or `histplot` (an axes-level function for histograms).\n",
            "  warnings.warn(msg, FutureWarning)\n",
            "/usr/local/lib/python3.7/dist-packages/seaborn/distributions.py:2619: FutureWarning: `distplot` is a deprecated function and will be removed in a future version. Please adapt your code to use either `displot` (a figure-level function with similar flexibility) or `histplot` (an axes-level function for histograms).\n",
            "  warnings.warn(msg, FutureWarning)\n"
          ]
        },
        {
          "output_type": "display_data",
          "data": {
            "text/plain": [
              "<Figure size 504x432 with 1 Axes>"
            ],
            "image/png": "[encoded data removed]"
          },
          "metadata": {
            "needs_background": "light"
          }
        }
      ]
    },
    {
      "cell_type": "code",
      "source": [
        "#meNilai\n",
        "plt.figure(figsize=(7,6))\n",
        "sns.distplot(df_finalis.meNILAI[df_finalis.lulusTEPAT == 0],bins=10,color =\"r\",label ='tidak tepat waktu'),\n",
        "sns.distplot(df_finalis.meNILAI[df_finalis.lulusTEPAT == 1],bins=10,color =\"g\",label ='lulus tepat waktu'),\n",
        "plt.legend();"
      ],
      "metadata": {
        "colab": {
          "base_uri": "https://localhost:8080/",
          "height": 477
        },
        "outputId": "d47cad51-3a55-4cd8-a7ed-9361b179fa69",
        "id": "BoYuZgrbg3lo"
      },
      "execution_count": null,
      "outputs": [
        {
          "output_type": "stream",
          "name": "stderr",
          "text": [
            "/usr/local/lib/python3.7/dist-packages/seaborn/distributions.py:2619: FutureWarning: `distplot` is a deprecated function and will be removed in a future version. Please adapt your code to use either `displot` (a figure-level function with similar flexibility) or `histplot` (an axes-level function for histograms).\n",
            "  warnings.warn(msg, FutureWarning)\n",
            "/usr/local/lib/python3.7/dist-packages/seaborn/distributions.py:2619: FutureWarning: `distplot` is a deprecated function and will be removed in a future version. Please adapt your code to use either `displot` (a figure-level function with similar flexibility) or `histplot` (an axes-level function for histograms).\n",
            "  warnings.warn(msg, FutureWarning)\n"
          ]
        },
        {
          "output_type": "display_data",
          "data": {
            "text/plain": [
              "<Figure size 504x432 with 1 Axes>"
            ],
            "image/png": "[encoded data removed]"
          },
          "metadata": {
            "needs_background": "light"
          }
        }
      ]
    },
    {
      "cell_type": "code",
      "source": [
        "#meBOBOT\n",
        "plt.figure(figsize=(7,6))\n",
        "sns.distplot(df_finalis.meBOBOT[df_finalis.lulusTEPAT == 0],bins=1,color =\"r\",label ='tidak tepat waktu'),\n",
        "sns.distplot(df_finalis.meBOBOT[df_finalis.lulusTEPAT == 1],bins=1,color =\"g\",label ='lulus tepat waktu'),\n",
        "plt.legend();"
      ],
      "metadata": {
        "colab": {
          "base_uri": "https://localhost:8080/",
          "height": 477
        },
        "outputId": "15759eeb-11fb-4766-9bef-9dba0ff185a8",
        "id": "CLiKEPN0g3lo"
      },
      "execution_count": null,
      "outputs": [
        {
          "output_type": "stream",
          "name": "stderr",
          "text": [
            "/usr/local/lib/python3.7/dist-packages/seaborn/distributions.py:2619: FutureWarning: `distplot` is a deprecated function and will be removed in a future version. Please adapt your code to use either `displot` (a figure-level function with similar flexibility) or `histplot` (an axes-level function for histograms).\n",
            "  warnings.warn(msg, FutureWarning)\n",
            "/usr/local/lib/python3.7/dist-packages/seaborn/distributions.py:2619: FutureWarning: `distplot` is a deprecated function and will be removed in a future version. Please adapt your code to use either `displot` (a figure-level function with similar flexibility) or `histplot` (an axes-level function for histograms).\n",
            "  warnings.warn(msg, FutureWarning)\n"
          ]
        },
        {
          "output_type": "display_data",
          "data": {
            "text/plain": [
              "<Figure size 504x432 with 1 Axes>"
            ],
            "image/png": "[encoded data removed]"
          },
          "metadata": {
            "needs_background": "light"
          }
        }
      ]
    },
    {
      "cell_type": "code",
      "source": [
        "#ipk\n",
        "plt.figure(figsize=(7,6))\n",
        "sns.distplot(df_finalis.IPK[df_finalis.lulusTEPAT == 0],bins=1,color =\"r\",label ='tidak tepat waktu'),\n",
        "sns.distplot(df_finalis.IPK[df_finalis.lulusTEPAT == 1],bins=1,color =\"g\",label ='lulus tepat waktu'),\n",
        "plt.legend();"
      ],
      "metadata": {
        "colab": {
          "base_uri": "https://localhost:8080/",
          "height": 477
        },
        "outputId": "5ad7feda-afbb-489e-9b15-3559e873a1fd",
        "id": "xQmnaraLg3lo"
      },
      "execution_count": null,
      "outputs": [
        {
          "output_type": "stream",
          "name": "stderr",
          "text": [
            "/usr/local/lib/python3.7/dist-packages/seaborn/distributions.py:2619: FutureWarning: `distplot` is a deprecated function and will be removed in a future version. Please adapt your code to use either `displot` (a figure-level function with similar flexibility) or `histplot` (an axes-level function for histograms).\n",
            "  warnings.warn(msg, FutureWarning)\n",
            "/usr/local/lib/python3.7/dist-packages/seaborn/distributions.py:2619: FutureWarning: `distplot` is a deprecated function and will be removed in a future version. Please adapt your code to use either `displot` (a figure-level function with similar flexibility) or `histplot` (an axes-level function for histograms).\n",
            "  warnings.warn(msg, FutureWarning)\n"
          ]
        },
        {
          "output_type": "display_data",
          "data": {
            "text/plain": [
              "<Figure size 504x432 with 1 Axes>"
            ],
            "image/png": "[encoded data removed]"
          },
          "metadata": {
            "needs_background": "light"
          }
        }
      ]
    },
    {
      "cell_type": "markdown",
      "source": [
        "kategorik VS target"
      ],
      "metadata": {
        "id": "lzm-7yvwg3lo"
      }
    },
    {
      "cell_type": "code",
      "source": [
        "#TAHUN\n",
        "# sns.plot(df_finalis.IPK.TAHUN,data=df_siswa,hue=\"lulusTEPAT\")\n",
        "plt.figure(figsize=(7,6))\n",
        "sns.countplot(x = df_finalis.ANGKATAN,hue=\"lulusTEPAT\",data=df_finalis)\n",
        "plt.show()\n",
        "\n",
        "# sns.factorplot(x='ANGKATAN', y='lulusTEPAT', data=df_final)"
      ],
      "metadata": {
        "colab": {
          "base_uri": "https://localhost:8080/",
          "height": 388
        },
        "outputId": "1d6e9993-be6e-4028-b871-95044418f570",
        "id": "_BfG6sP5g3lo"
      },
      "execution_count": null,
      "outputs": [
        {
          "output_type": "display_data",
          "data": {
            "text/plain": [
              "<Figure size 504x432 with 1 Axes>"
            ],
            "image/png": "[encoded data removed]"
          },
          "metadata": {
            "needs_background": "light"
          }
        }
      ]
    },
    {
      "cell_type": "code",
      "source": [
        "!pip install -U jcopml"
      ],
      "metadata": {
        "id": "oimhtMArg3lp",
        "colab": {
          "base_uri": "https://localhost:8080/"
        },
        "outputId": "26d7bc43-c2df-4d55-a69f-7e950b400ace"
      },
      "execution_count": null,
      "outputs": [
        {
          "output_type": "stream",
          "name": "stdout",
          "text": [
            "Looking in indexes: https://pypi.org/simple, https://us-python.pkg.dev/colab-wheels/public/simple/\n",
            "Requirement already satisfied: jcopml in /usr/local/lib/python3.7/dist-packages (1.1.14)\n",
            "Requirement already satisfied: scikit-optimize in /usr/local/lib/python3.7/dist-packages (from jcopml) (0.9.0)\n",
            "Requirement already satisfied: matplotlib in /usr/local/lib/python3.7/dist-packages (from jcopml) (3.2.2)\n",
            "Requirement already satisfied: seaborn in /usr/local/lib/python3.7/dist-packages (from jcopml) (0.11.2)\n",
            "Requirement already satisfied: ipywidgets in /usr/local/lib/python3.7/dist-packages (from jcopml) (7.7.0)\n",
            "Requirement already satisfied: scipy in /usr/local/lib/python3.7/dist-packages (from jcopml) (1.4.1)\n",
            "Requirement already satisfied: statsmodels in /usr/local/lib/python3.7/dist-packages (from jcopml) (0.10.2)\n",
            "Requirement already satisfied: numpy in /usr/local/lib/python3.7/dist-packages (from jcopml) (1.21.6)\n",
            "Requirement already satisfied: scikit-learn in /usr/local/lib/python3.7/dist-packages (from jcopml) (1.0.2)\n",
            "Requirement already satisfied: pandas in /usr/local/lib/python3.7/dist-packages (from jcopml) (1.3.5)\n",
            "Requirement already satisfied: ipykernel>=4.5.1 in /usr/local/lib/python3.7/dist-packages (from ipywidgets->jcopml) (4.10.1)\n",
            "Requirement already satisfied: ipython>=4.0.0 in /usr/local/lib/python3.7/dist-packages (from ipywidgets->jcopml) (5.5.0)\n",
            "Requirement already satisfied: traitlets>=4.3.1 in /usr/local/lib/python3.7/dist-packages (from ipywidgets->jcopml) (5.1.1)\n",
            "Requirement already satisfied: jupyterlab-widgets>=1.0.0 in /usr/local/lib/python3.7/dist-packages (from ipywidgets->jcopml) (1.1.0)\n",
            "Requirement already satisfied: widgetsnbextension~=3.6.0 in /usr/local/lib/python3.7/dist-packages (from ipywidgets->jcopml) (3.6.0)\n",
            "Requirement already satisfied: nbformat>=4.2.0 in /usr/local/lib/python3.7/dist-packages (from ipywidgets->jcopml) (5.4.0)\n",
            "Requirement already satisfied: ipython-genutils~=0.2.0 in /usr/local/lib/python3.7/dist-packages (from ipywidgets->jcopml) (0.2.0)\n",
            "Requirement already satisfied: tornado>=4.0 in /usr/local/lib/python3.7/dist-packages (from ipykernel>=4.5.1->ipywidgets->jcopml) (5.1.1)\n",
            "Requirement already satisfied: jupyter-client in /usr/local/lib/python3.7/dist-packages (from ipykernel>=4.5.1->ipywidgets->jcopml) (5.3.5)\n",
            "Requirement already satisfied: setuptools>=18.5 in /usr/local/lib/python3.7/dist-packages (from ipython>=4.0.0->ipywidgets->jcopml) (57.4.0)\n",
            "Requirement already satisfied: pygments in /usr/local/lib/python3.7/dist-packages (from ipython>=4.0.0->ipywidgets->jcopml) (2.6.1)\n",
            "Requirement already satisfied: prompt-toolkit<2.0.0,>=1.0.4 in /usr/local/lib/python3.7/dist-packages (from ipython>=4.0.0->ipywidgets->jcopml) (1.0.18)\n",
            "Requirement already satisfied: pexpect in /usr/local/lib/python3.7/dist-packages (from ipython>=4.0.0->ipywidgets->jcopml) (4.8.0)\n",
            "Requirement already satisfied: decorator in /usr/local/lib/python3.7/dist-packages (from ipython>=4.0.0->ipywidgets->jcopml) (4.4.2)\n",
            "Requirement already satisfied: simplegeneric>0.8 in /usr/local/lib/python3.7/dist-packages (from ipython>=4.0.0->ipywidgets->jcopml) (0.8.1)\n",
            "Requirement already satisfied: pickleshare in /usr/local/lib/python3.7/dist-packages (from ipython>=4.0.0->ipywidgets->jcopml) (0.7.5)\n",
            "Requirement already satisfied: jsonschema>=2.6 in /usr/local/lib/python3.7/dist-packages (from nbformat>=4.2.0->ipywidgets->jcopml) (4.3.3)\n",
            "Requirement already satisfied: jupyter-core in /usr/local/lib/python3.7/dist-packages (from nbformat>=4.2.0->ipywidgets->jcopml) (4.10.0)\n",
            "Requirement already satisfied: fastjsonschema in /usr/local/lib/python3.7/dist-packages (from nbformat>=4.2.0->ipywidgets->jcopml) (2.15.3)\n",
            "Requirement already satisfied: typing-extensions in /usr/local/lib/python3.7/dist-packages (from jsonschema>=2.6->nbformat>=4.2.0->ipywidgets->jcopml) (4.2.0)\n",
            "Requirement already satisfied: attrs>=17.4.0 in /usr/local/lib/python3.7/dist-packages (from jsonschema>=2.6->nbformat>=4.2.0->ipywidgets->jcopml) (21.4.0)\n",
            "Requirement already satisfied: pyrsistent!=0.17.0,!=0.17.1,!=0.17.2,>=0.14.0 in /usr/local/lib/python3.7/dist-packages (from jsonschema>=2.6->nbformat>=4.2.0->ipywidgets->jcopml) (0.18.1)\n",
            "Requirement already satisfied: importlib-resources>=1.4.0 in /usr/local/lib/python3.7/dist-packages (from jsonschema>=2.6->nbformat>=4.2.0->ipywidgets->jcopml) (5.7.1)\n",
            "Requirement already satisfied: importlib-metadata in /usr/local/lib/python3.7/dist-packages (from jsonschema>=2.6->nbformat>=4.2.0->ipywidgets->jcopml) (4.11.4)\n",
            "Requirement already satisfied: zipp>=3.1.0 in /usr/local/lib/python3.7/dist-packages (from importlib-resources>=1.4.0->jsonschema>=2.6->nbformat>=4.2.0->ipywidgets->jcopml) (3.8.0)\n",
            "Requirement already satisfied: wcwidth in /usr/local/lib/python3.7/dist-packages (from prompt-toolkit<2.0.0,>=1.0.4->ipython>=4.0.0->ipywidgets->jcopml) (0.2.5)\n",
            "Requirement already satisfied: six>=1.9.0 in /usr/local/lib/python3.7/dist-packages (from prompt-toolkit<2.0.0,>=1.0.4->ipython>=4.0.0->ipywidgets->jcopml) (1.15.0)\n",
            "Requirement already satisfied: notebook>=4.4.1 in /usr/local/lib/python3.7/dist-packages (from widgetsnbextension~=3.6.0->ipywidgets->jcopml) (5.3.1)\n",
            "Requirement already satisfied: Send2Trash in /usr/local/lib/python3.7/dist-packages (from notebook>=4.4.1->widgetsnbextension~=3.6.0->ipywidgets->jcopml) (1.8.0)\n",
            "Requirement already satisfied: nbconvert in /usr/local/lib/python3.7/dist-packages (from notebook>=4.4.1->widgetsnbextension~=3.6.0->ipywidgets->jcopml) (5.6.1)\n",
            "Requirement already satisfied: terminado>=0.8.1 in /usr/local/lib/python3.7/dist-packages (from notebook>=4.4.1->widgetsnbextension~=3.6.0->ipywidgets->jcopml) (0.13.3)\n",
            "Requirement already satisfied: jinja2 in /usr/local/lib/python3.7/dist-packages (from notebook>=4.4.1->widgetsnbextension~=3.6.0->ipywidgets->jcopml) (2.11.3)\n",
            "Requirement already satisfied: python-dateutil>=2.1 in /usr/local/lib/python3.7/dist-packages (from jupyter-client->ipykernel>=4.5.1->ipywidgets->jcopml) (2.8.2)\n",
            "Requirement already satisfied: pyzmq>=13 in /usr/local/lib/python3.7/dist-packages (from jupyter-client->ipykernel>=4.5.1->ipywidgets->jcopml) (23.0.0)\n",
            "Requirement already satisfied: ptyprocess in /usr/local/lib/python3.7/dist-packages (from terminado>=0.8.1->notebook>=4.4.1->widgetsnbextension~=3.6.0->ipywidgets->jcopml) (0.7.0)\n",
            "Requirement already satisfied: MarkupSafe>=0.23 in /usr/local/lib/python3.7/dist-packages (from jinja2->notebook>=4.4.1->widgetsnbextension~=3.6.0->ipywidgets->jcopml) (2.0.1)\n",
            "Requirement already satisfied: kiwisolver>=1.0.1 in /usr/local/lib/python3.7/dist-packages (from matplotlib->jcopml) (1.4.2)\n",
            "Requirement already satisfied: cycler>=0.10 in /usr/local/lib/python3.7/dist-packages (from matplotlib->jcopml) (0.11.0)\n",
            "Requirement already satisfied: pyparsing!=2.0.4,!=2.1.2,!=2.1.6,>=2.0.1 in /usr/local/lib/python3.7/dist-packages (from matplotlib->jcopml) (3.0.9)\n",
            "Requirement already satisfied: mistune<2,>=0.8.1 in /usr/local/lib/python3.7/dist-packages (from nbconvert->notebook>=4.4.1->widgetsnbextension~=3.6.0->ipywidgets->jcopml) (0.8.4)\n",
            "Requirement already satisfied: defusedxml in /usr/local/lib/python3.7/dist-packages (from nbconvert->notebook>=4.4.1->widgetsnbextension~=3.6.0->ipywidgets->jcopml) (0.7.1)\n",
            "Requirement already satisfied: bleach in /usr/local/lib/python3.7/dist-packages (from nbconvert->notebook>=4.4.1->widgetsnbextension~=3.6.0->ipywidgets->jcopml) (5.0.0)\n",
            "Requirement already satisfied: pandocfilters>=1.4.1 in /usr/local/lib/python3.7/dist-packages (from nbconvert->notebook>=4.4.1->widgetsnbextension~=3.6.0->ipywidgets->jcopml) (1.5.0)\n",
            "Requirement already satisfied: testpath in /usr/local/lib/python3.7/dist-packages (from nbconvert->notebook>=4.4.1->widgetsnbextension~=3.6.0->ipywidgets->jcopml) (0.6.0)\n",
            "Requirement already satisfied: entrypoints>=0.2.2 in /usr/local/lib/python3.7/dist-packages (from nbconvert->notebook>=4.4.1->widgetsnbextension~=3.6.0->ipywidgets->jcopml) (0.4)\n",
            "Requirement already satisfied: webencodings in /usr/local/lib/python3.7/dist-packages (from bleach->nbconvert->notebook>=4.4.1->widgetsnbextension~=3.6.0->ipywidgets->jcopml) (0.5.1)\n",
            "Requirement already satisfied: pytz>=2017.3 in /usr/local/lib/python3.7/dist-packages (from pandas->jcopml) (2022.1)\n",
            "Requirement already satisfied: threadpoolctl>=2.0.0 in /usr/local/lib/python3.7/dist-packages (from scikit-learn->jcopml) (3.1.0)\n",
            "Requirement already satisfied: joblib>=0.11 in /usr/local/lib/python3.7/dist-packages (from scikit-learn->jcopml) (1.1.0)\n",
            "Requirement already satisfied: pyaml>=16.9 in /usr/local/lib/python3.7/dist-packages (from scikit-optimize->jcopml) (21.10.1)\n",
            "Requirement already satisfied: PyYAML in /usr/local/lib/python3.7/dist-packages (from pyaml>=16.9->scikit-optimize->jcopml) (3.13)\n",
            "Requirement already satisfied: patsy>=0.4.0 in /usr/local/lib/python3.7/dist-packages (from statsmodels->jcopml) (0.5.2)\n"
          ]
        }
      ]
    },
    {
      "cell_type": "markdown",
      "source": [
        "# Training"
      ],
      "metadata": {
        "id": "3z_ofTSj_PjP"
      }
    },
    {
      "cell_type": "code",
      "source": [
        "\n",
        "from jcopml.automl import AutoClassifier\n",
        "\n",
        "X = df_finalis.drop(columns=['lulusTEPAT','ANGKATAN','SEMESTER','SKS','TAHUN','IPK','lulus'])\n",
        "y = df_finalis.lulusTEPAT"
      ],
      "metadata": {
        "id": "oAYOD-ybxG1P"
      },
      "execution_count": null,
      "outputs": []
    },
    {
      "cell_type": "code",
      "source": [
        "# ANGKATAN\tIPSmean\tSEMESTER\tSKS\tmeNILAI\tmeBOBOT\tTAHUN\tIPK\tlulusTEPAT"
      ],
      "metadata": {
        "id": "_xCd9feAMfgF"
      },
      "execution_count": null,
      "outputs": []
    },
    {
      "cell_type": "code",
      "source": [
        "# jcopml.__version__"
      ],
      "metadata": {
        "id": "igmGrls8Kbrf"
      },
      "execution_count": null,
      "outputs": []
    },
    {
      "cell_type": "code",
      "source": [
        "model = AutoClassifier(['IPSmean','meNILAI','meBOBOT','SKSmean'],[],) #sks dan tahun,'IPK','SEMESTER'"
      ],
      "metadata": {
        "id": "W17j9-YJ_KcQ"
      },
      "execution_count": null,
      "outputs": []
    },
    {
      "cell_type": "markdown",
      "source": [
        "# Auto Ml dengan randomsearchcv"
      ],
      "metadata": {
        "id": "OL2qfsetNNxt"
      }
    },
    {
      "cell_type": "code",
      "source": [
        "model.fit(X,y, cv=4)"
      ],
      "metadata": {
        "id": "iM0MGO4KNBOU",
        "colab": {
          "base_uri": "https://localhost:8080/"
        },
        "outputId": "337905d3-e0f4-4d97-cbb8-b9b6ee622670"
      },
      "execution_count": null,
      "outputs": [
        {
          "output_type": "stream",
          "name": "stdout",
          "text": [
            "Fitting 4 folds for each of 50 candidates, totalling 200 fits\n",
            "================== Best Model Info ==================\n",
            "algo                      | RandomForestClassifier\n",
            "algo__max_depth           | 55\n",
            "algo__max_features        | 0.8184656610700978\n",
            "algo__min_samples_leaf    | 1\n",
            "algo__n_estimators        | 107\n",
            "=====================================================\n",
            "\n",
            "================================ Best Preprocessor Info =================================\n",
            "categorical_imputer       | SimpleImputer(add_indicator=False, strategy='most_frequent')\n",
            "categorical_encoder       | OneHotEncoder\n",
            "numerical_imputer         | KNNImputer(add_indicator=True, n_neighbors=5)\n",
            "=========================================================================================\n",
            "\n",
            "=========== Score ===========\n",
            "Train: 1.0\n",
            "Valid: 0.9740711039828922\n",
            "Test : 1.0\n",
            "=============================\n"
          ]
        }
      ]
    },
    {
      "cell_type": "code",
      "source": [
        "# model.fit(X,y, algo=['rf'],cv=4,n_trial=120)"
      ],
      "metadata": {
        "id": "tWrRfJ4hvIwG"
      },
      "execution_count": null,
      "outputs": []
    },
    {
      "cell_type": "code",
      "source": [
        "\n",
        "\n",
        "model.plot_results()"
      ],
      "metadata": {
        "id": "pmuY3KptVcyp",
        "colab": {
          "base_uri": "https://localhost:8080/",
          "height": 340
        },
        "outputId": "733ea3ee-dc46-4df8-fa4e-282d7402113b"
      },
      "execution_count": null,
      "outputs": [
        {
          "output_type": "display_data",
          "data": {
            "text/plain": [
              "<Figure size 1080x360 with 1 Axes>"
            ],
            "image/png": "[encoded data removed]"
          },
          "metadata": {
            "needs_background": "light"
          }
        }
      ]
    },
    {
      "cell_type": "code",
      "source": [
        "model.mean_score_decrease()"
      ],
      "metadata": {
        "id": "XODCikqlNadl",
        "colab": {
          "base_uri": "https://localhost:8080/",
          "height": 370
        },
        "outputId": "630f51c7-988c-4363-dc16-548b5f7395e2"
      },
      "execution_count": null,
      "outputs": [
        {
          "output_type": "display_data",
          "data": {
            "text/plain": [
              "<Figure size 1080x360 with 1 Axes>"
            ],
            "image/png": "[encoded data removed]"
          },
          "metadata": {
            "needs_background": "light"
          }
        }
      ]
    },
    {
      "cell_type": "code",
      "source": [
        "y1_pred = model.predict(X)\n",
        "# y2_pred = m2.predict(X)"
      ],
      "metadata": {
        "id": "Kk5zQumPPI3K"
      },
      "execution_count": null,
      "outputs": []
    },
    {
      "cell_type": "code",
      "source": [
        "from sklearn.metrics import confusion_matrix\n",
        "\n",
        "matrix = confusion_matrix(y,y1_pred)\n",
        "matrix\n",
        "\n",
        "\n",
        "\n",
        "import seaborn as sns\n",
        "ax = sns.heatmap(matrix, annot=True, cmap='Blues')\n",
        "ax.set_title('Confusion Matrix with labels\\n\\n');\n",
        "ax.set_xlabel('\\nPredicted Values')\n",
        "ax.set_ylabel('Actual Values ');\n",
        "## Ticket labels - List must be in alphabetical order\n",
        "ax.xaxis.set_ticklabels(['False','True'])\n",
        "ax.yaxis.set_ticklabels(['False','True'])\n",
        "## Display the visualization of the Confusion Matrix.\n",
        "plt.show()"
      ],
      "metadata": {
        "colab": {
          "base_uri": "https://localhost:8080/",
          "height": 337
        },
        "id": "npIq3rkQXC-q",
        "outputId": "e137ace4-3dac-47de-d567-a0ec233621cf"
      },
      "execution_count": null,
      "outputs": [
        {
          "output_type": "display_data",
          "data": {
            "text/plain": [
              "<Figure size 432x288 with 2 Axes>"
            ],
            "image/png": "[encoded data removed]"
          },
          "metadata": {
            "needs_background": "light"
          }
        }
      ]
    },
    {
      "cell_type": "code",
      "source": [
        ""
      ],
      "metadata": {
        "id": "M317jNGyPTHM"
      },
      "execution_count": null,
      "outputs": []
    },
    {
      "cell_type": "code",
      "source": [
        ""
      ],
      "metadata": {
        "id": "2jtzrb4J-kXk"
      },
      "execution_count": null,
      "outputs": []
    },
    {
      "cell_type": "code",
      "source": [
        "# ray = model.predict(predtarg)"
      ],
      "metadata": {
        "id": "R3rVVSOBhQK-"
      },
      "execution_count": null,
      "outputs": []
    }
  ],
  "metadata": {
    "colab": {
      "collapsed_sections": [],
      "name": "Copy of [NYOBA] AutoML.ipynb",
      "provenance": [],
      "toc_visible": true
    },
    "kernelspec": {
      "display_name": "Python 3",
      "name": "python3"
    },
    "language_info": {
      "name": "python"
    }
  },
  "nbformat": 4,
  "nbformat_minor": 0
}