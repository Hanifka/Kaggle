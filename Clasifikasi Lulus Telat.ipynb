{
  "cells": [
    {
      "cell_type": "markdown",
      "metadata": {
        "id": "view-in-github",
        "colab_type": "text"
      },
      "source": [
        "<a href=\"https://colab.research.google.com/github/Hanifka/Kaggle/blob/main/Clasifikasi%20Lulus%20Telat.ipynb\" target=\"_parent\"><img src=\"https://colab.research.google.com/assets/colab-badge.svg\" alt=\"Open In Colab\"/></a>"
      ]
    },
    {
      "cell_type": "code",
      "execution_count": 78,
      "metadata": {
        "id": "BePNeRIISvzo",
        "colab": {
          "base_uri": "https://localhost:8080/"
        },
        "outputId": "2eba44aa-880a-4d6e-9c8f-59d131bfb6cf"
      },
      "outputs": [
        {
          "output_type": "stream",
          "name": "stdout",
          "text": [
            "Drive already mounted at /content/drive/; to attempt to forcibly remount, call drive.mount(\"/content/drive/\", force_remount=True).\n"
          ]
        }
      ],
      "source": [
        "import pandas as pd\n",
        "import seaborn as sns\n",
        "import matplotlib.pyplot as plt\n",
        "import numpy as np\n",
        "from google.colab import drive\n",
        "drive.mount('/content/drive/')"
      ]
    },
    {
      "cell_type": "code",
      "execution_count": 79,
      "metadata": {
        "id": "e3Ga3W-AUdl_"
      },
      "outputs": [],
      "source": [
        "df_siswa = pd.read_csv(\"/content/drive/MyDrive/Dataset/lomba/Dataset1_TranscriptMahasiswa.csv\",sep = ';')\n",
        "df_matkul = pd.read_csv(\"/content/drive/MyDrive/Dataset/lomba/Dataset2_EvaluasiDosenPerMK.csv\",sep = \";\")\n"
      ]
    },
    {
      "cell_type": "code",
      "source": [
        "#Fungsi Untuk cek perbedaan value\n",
        "def check_val(x,y):\n",
        "  w = 0\n",
        "  for i in np.unique(x.values):#lengkap\n",
        "      if i not in np.unique(y.values):#yang di check\n",
        "        w = w + 1\n",
        "        print(w,':',i)\n",
        "  \n",
        "\n",
        "def null_check(x,y):#null ceker , x nya nama data frame , y nya jumlah row table hasil\n",
        "    total = x.isnull().sum().sort_values(ascending=False)\n",
        "    percent = (x.isnull().sum()/x.isnull().count()).sort_values(ascending=False)\n",
        "    missing_data = pd.concat([total, percent], axis=1, keys=['Total', 'Percent'])\n",
        "    return missing_data.head(y)\n",
        "\n",
        "def boxplot(column):#fungsi cek outlier\n",
        "    sns.boxplot(data=df_finalis,x=df_finalis[f\"{column}\"])\n",
        "    plt.title(f\"Boxplot of  {column}\")\n",
        "    plt.show()"
      ],
      "metadata": {
        "id": "dz9zO4ctKiaJ"
      },
      "execution_count": 80,
      "outputs": []
    },
    {
      "cell_type": "code",
      "execution_count": 81,
      "metadata": {
        "id": "PqgP_DDYaAkV"
      },
      "outputs": [],
      "source": [
        "pd.set_option('max_rows', 99)"
      ]
    },
    {
      "cell_type": "markdown",
      "source": [
        "# Preprocessing df matkul\n"
      ],
      "metadata": {
        "id": "BhmYwn8BJVeh"
      }
    },
    {
      "cell_type": "code",
      "source": [
        "df_matkul.head()"
      ],
      "metadata": {
        "id": "bRuGEaS_JcaV",
        "colab": {
          "base_uri": "https://localhost:8080/",
          "height": 206
        },
        "outputId": "43481811-56ce-4b51-89ec-2da700c3a578"
      },
      "execution_count": 82,
      "outputs": [
        {
          "output_type": "execute_result",
          "data": {
            "text/plain": [
              "   TAHUN  SEMESTER                            MATAKULIAH  PERTANYAAN  \\\n",
              "0   2015      1511  IS100 Management Information Systems           1   \n",
              "1   2015      1511  IS100 Management Information Systems           2   \n",
              "2   2015      1511  IS100 Management Information Systems           3   \n",
              "3   2015      1511  IS100 Management Information Systems           4   \n",
              "4   2015      1511  IS100 Management Information Systems           5   \n",
              "\n",
              "                                          KETERANGAN NILAI  \n",
              "0          Kesiapan memberikan perkuliahan/praktikum  3,28  \n",
              "1  Upaya  menyampaikan materi perkuliahan/praktik...  3,25  \n",
              "2  Sistematis dalam menyampaikan materi perkuliah...  3,24  \n",
              "3  Kemampuan memberikan contoh yang relevan dari ...  3,30  \n",
              "4  Penyampaian materi perkuliahan sesuai dengan k...  3,27  "
            ],
            "text/html": [
              "\n",
              "  <div id=\"df-bc409aae-7965-4bfd-9ed3-76b3fb3ad2d3\">\n",
              "    <div class=\"colab-df-container\">\n",
              "      <div>\n",
              "<style scoped>\n",
              "    .dataframe tbody tr th:only-of-type {\n",
              "        vertical-align: middle;\n",
              "    }\n",
              "\n",
              "    .dataframe tbody tr th {\n",
              "        vertical-align: top;\n",
              "    }\n",
              "\n",
              "    .dataframe thead th {\n",
              "        text-align: right;\n",
              "    }\n",
              "</style>\n",
              "<table border=\"1\" class=\"dataframe\">\n",
              "  <thead>\n",
              "    <tr style=\"text-align: right;\">\n",
              "      <th></th>\n",
              "      <th>TAHUN</th>\n",
              "      <th>SEMESTER</th>\n",
              "      <th>MATAKULIAH</th>\n",
              "      <th>PERTANYAAN</th>\n",
              "      <th>KETERANGAN</th>\n",
              "      <th>NILAI</th>\n",
              "    </tr>\n",
              "  </thead>\n",
              "  <tbody>\n",
              "    <tr>\n",
              "      <th>0</th>\n",
              "      <td>2015</td>\n",
              "      <td>1511</td>\n",
              "      <td>IS100 Management Information Systems</td>\n",
              "      <td>1</td>\n",
              "      <td>Kesiapan memberikan perkuliahan/praktikum</td>\n",
              "      <td>3,28</td>\n",
              "    </tr>\n",
              "    <tr>\n",
              "      <th>1</th>\n",
              "      <td>2015</td>\n",
              "      <td>1511</td>\n",
              "      <td>IS100 Management Information Systems</td>\n",
              "      <td>2</td>\n",
              "      <td>Upaya  menyampaikan materi perkuliahan/praktik...</td>\n",
              "      <td>3,25</td>\n",
              "    </tr>\n",
              "    <tr>\n",
              "      <th>2</th>\n",
              "      <td>2015</td>\n",
              "      <td>1511</td>\n",
              "      <td>IS100 Management Information Systems</td>\n",
              "      <td>3</td>\n",
              "      <td>Sistematis dalam menyampaikan materi perkuliah...</td>\n",
              "      <td>3,24</td>\n",
              "    </tr>\n",
              "    <tr>\n",
              "      <th>3</th>\n",
              "      <td>2015</td>\n",
              "      <td>1511</td>\n",
              "      <td>IS100 Management Information Systems</td>\n",
              "      <td>4</td>\n",
              "      <td>Kemampuan memberikan contoh yang relevan dari ...</td>\n",
              "      <td>3,30</td>\n",
              "    </tr>\n",
              "    <tr>\n",
              "      <th>4</th>\n",
              "      <td>2015</td>\n",
              "      <td>1511</td>\n",
              "      <td>IS100 Management Information Systems</td>\n",
              "      <td>5</td>\n",
              "      <td>Penyampaian materi perkuliahan sesuai dengan k...</td>\n",
              "      <td>3,27</td>\n",
              "    </tr>\n",
              "  </tbody>\n",
              "</table>\n",
              "</div>\n",
              "      <button class=\"colab-df-convert\" onclick=\"convertToInteractive('df-bc409aae-7965-4bfd-9ed3-76b3fb3ad2d3')\"\n",
              "              title=\"Convert this dataframe to an interactive table.\"\n",
              "              style=\"display:none;\">\n",
              "        \n",
              "  <svg xmlns=\"http://www.w3.org/2000/svg\" height=\"24px\"viewBox=\"0 0 24 24\"\n",
              "       width=\"24px\">\n",
              "    <path d=\"M0 0h24v24H0V0z\" fill=\"none\"/>\n",
              "    <path d=\"M18.56 5.44l.94 2.06.94-2.06 2.06-.94-2.06-.94-.94-2.06-.94 2.06-2.06.94zm-11 1L8.5 8.5l.94-2.06 2.06-.94-2.06-.94L8.5 2.5l-.94 2.06-2.06.94zm10 10l.94 2.06.94-2.06 2.06-.94-2.06-.94-.94-2.06-.94 2.06-2.06.94z\"/><path d=\"M17.41 7.96l-1.37-1.37c-.4-.4-.92-.59-1.43-.59-.52 0-1.04.2-1.43.59L10.3 9.45l-7.72 7.72c-.78.78-.78 2.05 0 2.83L4 21.41c.39.39.9.59 1.41.59.51 0 1.02-.2 1.41-.59l7.78-7.78 2.81-2.81c.8-.78.8-2.07 0-2.86zM5.41 20L4 18.59l7.72-7.72 1.47 1.35L5.41 20z\"/>\n",
              "  </svg>\n",
              "      </button>\n",
              "      \n",
              "  <style>\n",
              "    .colab-df-container {\n",
              "      display:flex;\n",
              "      flex-wrap:wrap;\n",
              "      gap: 12px;\n",
              "    }\n",
              "\n",
              "    .colab-df-convert {\n",
              "      background-color: #E8F0FE;\n",
              "      border: none;\n",
              "      border-radius: 50%;\n",
              "      cursor: pointer;\n",
              "      display: none;\n",
              "      fill: #1967D2;\n",
              "      height: 32px;\n",
              "      padding: 0 0 0 0;\n",
              "      width: 32px;\n",
              "    }\n",
              "\n",
              "    .colab-df-convert:hover {\n",
              "      background-color: #E2EBFA;\n",
              "      box-shadow: 0px 1px 2px rgba(60, 64, 67, 0.3), 0px 1px 3px 1px rgba(60, 64, 67, 0.15);\n",
              "      fill: #174EA6;\n",
              "    }\n",
              "\n",
              "    [theme=dark] .colab-df-convert {\n",
              "      background-color: #3B4455;\n",
              "      fill: #D2E3FC;\n",
              "    }\n",
              "\n",
              "    [theme=dark] .colab-df-convert:hover {\n",
              "      background-color: #434B5C;\n",
              "      box-shadow: 0px 1px 3px 1px rgba(0, 0, 0, 0.15);\n",
              "      filter: drop-shadow(0px 1px 2px rgba(0, 0, 0, 0.3));\n",
              "      fill: #FFFFFF;\n",
              "    }\n",
              "  </style>\n",
              "\n",
              "      <script>\n",
              "        const buttonEl =\n",
              "          document.querySelector('#df-bc409aae-7965-4bfd-9ed3-76b3fb3ad2d3 button.colab-df-convert');\n",
              "        buttonEl.style.display =\n",
              "          google.colab.kernel.accessAllowed ? 'block' : 'none';\n",
              "\n",
              "        async function convertToInteractive(key) {\n",
              "          const element = document.querySelector('#df-bc409aae-7965-4bfd-9ed3-76b3fb3ad2d3');\n",
              "          const dataTable =\n",
              "            await google.colab.kernel.invokeFunction('convertToInteractive',\n",
              "                                                     [key], {});\n",
              "          if (!dataTable) return;\n",
              "\n",
              "          const docLinkHtml = 'Like what you see? Visit the ' +\n",
              "            '<a target=\"_blank\" href=https://colab.research.google.com/notebooks/data_table.ipynb>data table notebook</a>'\n",
              "            + ' to learn more about interactive tables.';\n",
              "          element.innerHTML = '';\n",
              "          dataTable['output_type'] = 'display_data';\n",
              "          await google.colab.output.renderOutput(dataTable, element);\n",
              "          const docLink = document.createElement('div');\n",
              "          docLink.innerHTML = docLinkHtml;\n",
              "          element.appendChild(docLink);\n",
              "        }\n",
              "      </script>\n",
              "    </div>\n",
              "  </div>\n",
              "  "
            ]
          },
          "metadata": {},
          "execution_count": 82
        }
      ]
    },
    {
      "cell_type": "markdown",
      "source": [
        "\n"
      ],
      "metadata": {
        "id": "88UrloWAujfl"
      }
    },
    {
      "cell_type": "code",
      "source": [
        "df_matkul.info()"
      ],
      "metadata": {
        "id": "9SW0EjwfSM2u",
        "colab": {
          "base_uri": "https://localhost:8080/"
        },
        "outputId": "0a389c22-c2f1-4251-e368-e0c6e253b207"
      },
      "execution_count": 83,
      "outputs": [
        {
          "output_type": "stream",
          "name": "stdout",
          "text": [
            "<class 'pandas.core.frame.DataFrame'>\n",
            "RangeIndex: 2114 entries, 0 to 2113\n",
            "Data columns (total 6 columns):\n",
            " #   Column      Non-Null Count  Dtype \n",
            "---  ------      --------------  ----- \n",
            " 0   TAHUN       2114 non-null   int64 \n",
            " 1   SEMESTER    2114 non-null   int64 \n",
            " 2   MATAKULIAH  2114 non-null   object\n",
            " 3   PERTANYAAN  2114 non-null   int64 \n",
            " 4   KETERANGAN  2114 non-null   object\n",
            " 5   NILAI       2114 non-null   object\n",
            "dtypes: int64(3), object(3)\n",
            "memory usage: 99.2+ KB\n"
          ]
        }
      ]
    },
    {
      "cell_type": "markdown",
      "source": [
        "Dataset df_matkul terdiri dari 2115 row dan tidak terdapat row yang null hanya \n",
        "ditemukan outlier pada NILAI dan MATAKULIAH. Berikut code dan hasil output :"
      ],
      "metadata": {
        "id": "TU2s120Yul9e"
      }
    },
    {
      "cell_type": "code",
      "source": [
        "null_check(df_matkul,10)"
      ],
      "metadata": {
        "id": "lwLviCpGSLjm",
        "colab": {
          "base_uri": "https://localhost:8080/",
          "height": 237
        },
        "outputId": "499497c1-bd32-45ab-97ad-3eeeab023a1b"
      },
      "execution_count": 84,
      "outputs": [
        {
          "output_type": "execute_result",
          "data": {
            "text/plain": [
              "            Total  Percent\n",
              "TAHUN           0      0.0\n",
              "SEMESTER        0      0.0\n",
              "MATAKULIAH      0      0.0\n",
              "PERTANYAAN      0      0.0\n",
              "KETERANGAN      0      0.0\n",
              "NILAI           0      0.0"
            ],
            "text/html": [
              "\n",
              "  <div id=\"df-f3253608-b35b-44dd-9729-978f00a60323\">\n",
              "    <div class=\"colab-df-container\">\n",
              "      <div>\n",
              "<style scoped>\n",
              "    .dataframe tbody tr th:only-of-type {\n",
              "        vertical-align: middle;\n",
              "    }\n",
              "\n",
              "    .dataframe tbody tr th {\n",
              "        vertical-align: top;\n",
              "    }\n",
              "\n",
              "    .dataframe thead th {\n",
              "        text-align: right;\n",
              "    }\n",
              "</style>\n",
              "<table border=\"1\" class=\"dataframe\">\n",
              "  <thead>\n",
              "    <tr style=\"text-align: right;\">\n",
              "      <th></th>\n",
              "      <th>Total</th>\n",
              "      <th>Percent</th>\n",
              "    </tr>\n",
              "  </thead>\n",
              "  <tbody>\n",
              "    <tr>\n",
              "      <th>TAHUN</th>\n",
              "      <td>0</td>\n",
              "      <td>0.0</td>\n",
              "    </tr>\n",
              "    <tr>\n",
              "      <th>SEMESTER</th>\n",
              "      <td>0</td>\n",
              "      <td>0.0</td>\n",
              "    </tr>\n",
              "    <tr>\n",
              "      <th>MATAKULIAH</th>\n",
              "      <td>0</td>\n",
              "      <td>0.0</td>\n",
              "    </tr>\n",
              "    <tr>\n",
              "      <th>PERTANYAAN</th>\n",
              "      <td>0</td>\n",
              "      <td>0.0</td>\n",
              "    </tr>\n",
              "    <tr>\n",
              "      <th>KETERANGAN</th>\n",
              "      <td>0</td>\n",
              "      <td>0.0</td>\n",
              "    </tr>\n",
              "    <tr>\n",
              "      <th>NILAI</th>\n",
              "      <td>0</td>\n",
              "      <td>0.0</td>\n",
              "    </tr>\n",
              "  </tbody>\n",
              "</table>\n",
              "</div>\n",
              "      <button class=\"colab-df-convert\" onclick=\"convertToInteractive('df-f3253608-b35b-44dd-9729-978f00a60323')\"\n",
              "              title=\"Convert this dataframe to an interactive table.\"\n",
              "              style=\"display:none;\">\n",
              "        \n",
              "  <svg xmlns=\"http://www.w3.org/2000/svg\" height=\"24px\"viewBox=\"0 0 24 24\"\n",
              "       width=\"24px\">\n",
              "    <path d=\"M0 0h24v24H0V0z\" fill=\"none\"/>\n",
              "    <path d=\"M18.56 5.44l.94 2.06.94-2.06 2.06-.94-2.06-.94-.94-2.06-.94 2.06-2.06.94zm-11 1L8.5 8.5l.94-2.06 2.06-.94-2.06-.94L8.5 2.5l-.94 2.06-2.06.94zm10 10l.94 2.06.94-2.06 2.06-.94-2.06-.94-.94-2.06-.94 2.06-2.06.94z\"/><path d=\"M17.41 7.96l-1.37-1.37c-.4-.4-.92-.59-1.43-.59-.52 0-1.04.2-1.43.59L10.3 9.45l-7.72 7.72c-.78.78-.78 2.05 0 2.83L4 21.41c.39.39.9.59 1.41.59.51 0 1.02-.2 1.41-.59l7.78-7.78 2.81-2.81c.8-.78.8-2.07 0-2.86zM5.41 20L4 18.59l7.72-7.72 1.47 1.35L5.41 20z\"/>\n",
              "  </svg>\n",
              "      </button>\n",
              "      \n",
              "  <style>\n",
              "    .colab-df-container {\n",
              "      display:flex;\n",
              "      flex-wrap:wrap;\n",
              "      gap: 12px;\n",
              "    }\n",
              "\n",
              "    .colab-df-convert {\n",
              "      background-color: #E8F0FE;\n",
              "      border: none;\n",
              "      border-radius: 50%;\n",
              "      cursor: pointer;\n",
              "      display: none;\n",
              "      fill: #1967D2;\n",
              "      height: 32px;\n",
              "      padding: 0 0 0 0;\n",
              "      width: 32px;\n",
              "    }\n",
              "\n",
              "    .colab-df-convert:hover {\n",
              "      background-color: #E2EBFA;\n",
              "      box-shadow: 0px 1px 2px rgba(60, 64, 67, 0.3), 0px 1px 3px 1px rgba(60, 64, 67, 0.15);\n",
              "      fill: #174EA6;\n",
              "    }\n",
              "\n",
              "    [theme=dark] .colab-df-convert {\n",
              "      background-color: #3B4455;\n",
              "      fill: #D2E3FC;\n",
              "    }\n",
              "\n",
              "    [theme=dark] .colab-df-convert:hover {\n",
              "      background-color: #434B5C;\n",
              "      box-shadow: 0px 1px 3px 1px rgba(0, 0, 0, 0.15);\n",
              "      filter: drop-shadow(0px 1px 2px rgba(0, 0, 0, 0.3));\n",
              "      fill: #FFFFFF;\n",
              "    }\n",
              "  </style>\n",
              "\n",
              "      <script>\n",
              "        const buttonEl =\n",
              "          document.querySelector('#df-f3253608-b35b-44dd-9729-978f00a60323 button.colab-df-convert');\n",
              "        buttonEl.style.display =\n",
              "          google.colab.kernel.accessAllowed ? 'block' : 'none';\n",
              "\n",
              "        async function convertToInteractive(key) {\n",
              "          const element = document.querySelector('#df-f3253608-b35b-44dd-9729-978f00a60323');\n",
              "          const dataTable =\n",
              "            await google.colab.kernel.invokeFunction('convertToInteractive',\n",
              "                                                     [key], {});\n",
              "          if (!dataTable) return;\n",
              "\n",
              "          const docLinkHtml = 'Like what you see? Visit the ' +\n",
              "            '<a target=\"_blank\" href=https://colab.research.google.com/notebooks/data_table.ipynb>data table notebook</a>'\n",
              "            + ' to learn more about interactive tables.';\n",
              "          element.innerHTML = '';\n",
              "          dataTable['output_type'] = 'display_data';\n",
              "          await google.colab.output.renderOutput(dataTable, element);\n",
              "          const docLink = document.createElement('div');\n",
              "          docLink.innerHTML = docLinkHtml;\n",
              "          element.appendChild(docLink);\n",
              "        }\n",
              "      </script>\n",
              "    </div>\n",
              "  </div>\n",
              "  "
            ]
          },
          "metadata": {},
          "execution_count": 84
        }
      ]
    },
    {
      "cell_type": "markdown",
      "source": [
        ""
      ],
      "metadata": {
        "id": "u7o8Ut5nsxvj"
      }
    },
    {
      "cell_type": "code",
      "source": [
        "\n",
        "df_matkul[\"NILAI\"] = [float(str(i).replace(\",\", \".\")) for i in df_matkul[\"NILAI\"]]\n",
        "df_matkul[\"KODE_MK\"]=[i[:5] for i in df_matkul[\"MATAKULIAH\"]]\n",
        "df_matkul[\"NAMA_MK\"]=[i[6:] for i in df_matkul[\"MATAKULIAH\"]]\n",
        "df_matkul[\"NAMA_MK\"]=df_matkul[\"NAMA_MK\"].apply(str)\n",
        "df_matkul['SEMESTER'] = df_matkul['SEMESTER'].apply(str)\n",
        "df_matkul.drop('MATAKULIAH', axis=1, inplace=True)\n",
        "df_matkul\n",
        "\n"
      ],
      "metadata": {
        "id": "xY1ZLVBjL5Tq",
        "colab": {
          "base_uri": "https://localhost:8080/",
          "height": 424
        },
        "outputId": "ecf6a438-f0df-46d5-b914-8981fc221310"
      },
      "execution_count": 85,
      "outputs": [
        {
          "output_type": "execute_result",
          "data": {
            "text/plain": [
              "      TAHUN SEMESTER  PERTANYAAN  \\\n",
              "0      2015     1511           1   \n",
              "1      2015     1511           2   \n",
              "2      2015     1511           3   \n",
              "3      2015     1511           4   \n",
              "4      2015     1511           5   \n",
              "...     ...      ...         ...   \n",
              "2109   2018     1821          10   \n",
              "2110   2018     1821          11   \n",
              "2111   2018     1821          12   \n",
              "2112   2018     1821          13   \n",
              "2113   2018     1821          14   \n",
              "\n",
              "                                             KETERANGAN  NILAI KODE_MK  \\\n",
              "0             Kesiapan memberikan perkuliahan/praktikum   3.28   IS100   \n",
              "1     Upaya  menyampaikan materi perkuliahan/praktik...   3.25   IS100   \n",
              "2     Sistematis dalam menyampaikan materi perkuliah...   3.24   IS100   \n",
              "3     Kemampuan memberikan contoh yang relevan dari ...   3.30   IS100   \n",
              "4     Penyampaian materi perkuliahan sesuai dengan k...   3.27   IS100   \n",
              "...                                                 ...    ...     ...   \n",
              "2109  Pemberian tugas/kuis serta pembahasannya di kelas   3.45   IS726   \n",
              "2110    Kemampuan memotivasi semangat belajar mahasiswa   3.41   IS726   \n",
              "2111      Kemampuan menerima kritik, saran dan pendapat   3.48   IS726   \n",
              "2112                Fairness dalam memberikan penilaian   3.49   IS726   \n",
              "2113  Ketepatan waktu dalam memulai dan mengakhiri p...   3.48   IS726   \n",
              "\n",
              "                                       NAMA_MK  \n",
              "0               Management Information Systems  \n",
              "1               Management Information Systems  \n",
              "2               Management Information Systems  \n",
              "3               Management Information Systems  \n",
              "4               Management Information Systems  \n",
              "...                                        ...  \n",
              "2109  Innovation in Information and Technology  \n",
              "2110  Innovation in Information and Technology  \n",
              "2111  Innovation in Information and Technology  \n",
              "2112  Innovation in Information and Technology  \n",
              "2113  Innovation in Information and Technology  \n",
              "\n",
              "[2114 rows x 7 columns]"
            ],
            "text/html": [
              "\n",
              "  <div id=\"df-98f146a6-e5a1-4235-94be-17f8397d4524\">\n",
              "    <div class=\"colab-df-container\">\n",
              "      <div>\n",
              "<style scoped>\n",
              "    .dataframe tbody tr th:only-of-type {\n",
              "        vertical-align: middle;\n",
              "    }\n",
              "\n",
              "    .dataframe tbody tr th {\n",
              "        vertical-align: top;\n",
              "    }\n",
              "\n",
              "    .dataframe thead th {\n",
              "        text-align: right;\n",
              "    }\n",
              "</style>\n",
              "<table border=\"1\" class=\"dataframe\">\n",
              "  <thead>\n",
              "    <tr style=\"text-align: right;\">\n",
              "      <th></th>\n",
              "      <th>TAHUN</th>\n",
              "      <th>SEMESTER</th>\n",
              "      <th>PERTANYAAN</th>\n",
              "      <th>KETERANGAN</th>\n",
              "      <th>NILAI</th>\n",
              "      <th>KODE_MK</th>\n",
              "      <th>NAMA_MK</th>\n",
              "    </tr>\n",
              "  </thead>\n",
              "  <tbody>\n",
              "    <tr>\n",
              "      <th>0</th>\n",
              "      <td>2015</td>\n",
              "      <td>1511</td>\n",
              "      <td>1</td>\n",
              "      <td>Kesiapan memberikan perkuliahan/praktikum</td>\n",
              "      <td>3.28</td>\n",
              "      <td>IS100</td>\n",
              "      <td>Management Information Systems</td>\n",
              "    </tr>\n",
              "    <tr>\n",
              "      <th>1</th>\n",
              "      <td>2015</td>\n",
              "      <td>1511</td>\n",
              "      <td>2</td>\n",
              "      <td>Upaya  menyampaikan materi perkuliahan/praktik...</td>\n",
              "      <td>3.25</td>\n",
              "      <td>IS100</td>\n",
              "      <td>Management Information Systems</td>\n",
              "    </tr>\n",
              "    <tr>\n",
              "      <th>2</th>\n",
              "      <td>2015</td>\n",
              "      <td>1511</td>\n",
              "      <td>3</td>\n",
              "      <td>Sistematis dalam menyampaikan materi perkuliah...</td>\n",
              "      <td>3.24</td>\n",
              "      <td>IS100</td>\n",
              "      <td>Management Information Systems</td>\n",
              "    </tr>\n",
              "    <tr>\n",
              "      <th>3</th>\n",
              "      <td>2015</td>\n",
              "      <td>1511</td>\n",
              "      <td>4</td>\n",
              "      <td>Kemampuan memberikan contoh yang relevan dari ...</td>\n",
              "      <td>3.30</td>\n",
              "      <td>IS100</td>\n",
              "      <td>Management Information Systems</td>\n",
              "    </tr>\n",
              "    <tr>\n",
              "      <th>4</th>\n",
              "      <td>2015</td>\n",
              "      <td>1511</td>\n",
              "      <td>5</td>\n",
              "      <td>Penyampaian materi perkuliahan sesuai dengan k...</td>\n",
              "      <td>3.27</td>\n",
              "      <td>IS100</td>\n",
              "      <td>Management Information Systems</td>\n",
              "    </tr>\n",
              "    <tr>\n",
              "      <th>...</th>\n",
              "      <td>...</td>\n",
              "      <td>...</td>\n",
              "      <td>...</td>\n",
              "      <td>...</td>\n",
              "      <td>...</td>\n",
              "      <td>...</td>\n",
              "      <td>...</td>\n",
              "    </tr>\n",
              "    <tr>\n",
              "      <th>2109</th>\n",
              "      <td>2018</td>\n",
              "      <td>1821</td>\n",
              "      <td>10</td>\n",
              "      <td>Pemberian tugas/kuis serta pembahasannya di kelas</td>\n",
              "      <td>3.45</td>\n",
              "      <td>IS726</td>\n",
              "      <td>Innovation in Information and Technology</td>\n",
              "    </tr>\n",
              "    <tr>\n",
              "      <th>2110</th>\n",
              "      <td>2018</td>\n",
              "      <td>1821</td>\n",
              "      <td>11</td>\n",
              "      <td>Kemampuan memotivasi semangat belajar mahasiswa</td>\n",
              "      <td>3.41</td>\n",
              "      <td>IS726</td>\n",
              "      <td>Innovation in Information and Technology</td>\n",
              "    </tr>\n",
              "    <tr>\n",
              "      <th>2111</th>\n",
              "      <td>2018</td>\n",
              "      <td>1821</td>\n",
              "      <td>12</td>\n",
              "      <td>Kemampuan menerima kritik, saran dan pendapat</td>\n",
              "      <td>3.48</td>\n",
              "      <td>IS726</td>\n",
              "      <td>Innovation in Information and Technology</td>\n",
              "    </tr>\n",
              "    <tr>\n",
              "      <th>2112</th>\n",
              "      <td>2018</td>\n",
              "      <td>1821</td>\n",
              "      <td>13</td>\n",
              "      <td>Fairness dalam memberikan penilaian</td>\n",
              "      <td>3.49</td>\n",
              "      <td>IS726</td>\n",
              "      <td>Innovation in Information and Technology</td>\n",
              "    </tr>\n",
              "    <tr>\n",
              "      <th>2113</th>\n",
              "      <td>2018</td>\n",
              "      <td>1821</td>\n",
              "      <td>14</td>\n",
              "      <td>Ketepatan waktu dalam memulai dan mengakhiri p...</td>\n",
              "      <td>3.48</td>\n",
              "      <td>IS726</td>\n",
              "      <td>Innovation in Information and Technology</td>\n",
              "    </tr>\n",
              "  </tbody>\n",
              "</table>\n",
              "<p>2114 rows × 7 columns</p>\n",
              "</div>\n",
              "      <button class=\"colab-df-convert\" onclick=\"convertToInteractive('df-98f146a6-e5a1-4235-94be-17f8397d4524')\"\n",
              "              title=\"Convert this dataframe to an interactive table.\"\n",
              "              style=\"display:none;\">\n",
              "        \n",
              "  <svg xmlns=\"http://www.w3.org/2000/svg\" height=\"24px\"viewBox=\"0 0 24 24\"\n",
              "       width=\"24px\">\n",
              "    <path d=\"M0 0h24v24H0V0z\" fill=\"none\"/>\n",
              "    <path d=\"M18.56 5.44l.94 2.06.94-2.06 2.06-.94-2.06-.94-.94-2.06-.94 2.06-2.06.94zm-11 1L8.5 8.5l.94-2.06 2.06-.94-2.06-.94L8.5 2.5l-.94 2.06-2.06.94zm10 10l.94 2.06.94-2.06 2.06-.94-2.06-.94-.94-2.06-.94 2.06-2.06.94z\"/><path d=\"M17.41 7.96l-1.37-1.37c-.4-.4-.92-.59-1.43-.59-.52 0-1.04.2-1.43.59L10.3 9.45l-7.72 7.72c-.78.78-.78 2.05 0 2.83L4 21.41c.39.39.9.59 1.41.59.51 0 1.02-.2 1.41-.59l7.78-7.78 2.81-2.81c.8-.78.8-2.07 0-2.86zM5.41 20L4 18.59l7.72-7.72 1.47 1.35L5.41 20z\"/>\n",
              "  </svg>\n",
              "      </button>\n",
              "      \n",
              "  <style>\n",
              "    .colab-df-container {\n",
              "      display:flex;\n",
              "      flex-wrap:wrap;\n",
              "      gap: 12px;\n",
              "    }\n",
              "\n",
              "    .colab-df-convert {\n",
              "      background-color: #E8F0FE;\n",
              "      border: none;\n",
              "      border-radius: 50%;\n",
              "      cursor: pointer;\n",
              "      display: none;\n",
              "      fill: #1967D2;\n",
              "      height: 32px;\n",
              "      padding: 0 0 0 0;\n",
              "      width: 32px;\n",
              "    }\n",
              "\n",
              "    .colab-df-convert:hover {\n",
              "      background-color: #E2EBFA;\n",
              "      box-shadow: 0px 1px 2px rgba(60, 64, 67, 0.3), 0px 1px 3px 1px rgba(60, 64, 67, 0.15);\n",
              "      fill: #174EA6;\n",
              "    }\n",
              "\n",
              "    [theme=dark] .colab-df-convert {\n",
              "      background-color: #3B4455;\n",
              "      fill: #D2E3FC;\n",
              "    }\n",
              "\n",
              "    [theme=dark] .colab-df-convert:hover {\n",
              "      background-color: #434B5C;\n",
              "      box-shadow: 0px 1px 3px 1px rgba(0, 0, 0, 0.15);\n",
              "      filter: drop-shadow(0px 1px 2px rgba(0, 0, 0, 0.3));\n",
              "      fill: #FFFFFF;\n",
              "    }\n",
              "  </style>\n",
              "\n",
              "      <script>\n",
              "        const buttonEl =\n",
              "          document.querySelector('#df-98f146a6-e5a1-4235-94be-17f8397d4524 button.colab-df-convert');\n",
              "        buttonEl.style.display =\n",
              "          google.colab.kernel.accessAllowed ? 'block' : 'none';\n",
              "\n",
              "        async function convertToInteractive(key) {\n",
              "          const element = document.querySelector('#df-98f146a6-e5a1-4235-94be-17f8397d4524');\n",
              "          const dataTable =\n",
              "            await google.colab.kernel.invokeFunction('convertToInteractive',\n",
              "                                                     [key], {});\n",
              "          if (!dataTable) return;\n",
              "\n",
              "          const docLinkHtml = 'Like what you see? Visit the ' +\n",
              "            '<a target=\"_blank\" href=https://colab.research.google.com/notebooks/data_table.ipynb>data table notebook</a>'\n",
              "            + ' to learn more about interactive tables.';\n",
              "          element.innerHTML = '';\n",
              "          dataTable['output_type'] = 'display_data';\n",
              "          await google.colab.output.renderOutput(dataTable, element);\n",
              "          const docLink = document.createElement('div');\n",
              "          docLink.innerHTML = docLinkHtml;\n",
              "          element.appendChild(docLink);\n",
              "        }\n",
              "      </script>\n",
              "    </div>\n",
              "  </div>\n",
              "  "
            ]
          },
          "metadata": {},
          "execution_count": 85
        }
      ]
    },
    {
      "cell_type": "code",
      "source": [
        "df_matkul.info()"
      ],
      "metadata": {
        "id": "X0f3Mh_qkECo",
        "colab": {
          "base_uri": "https://localhost:8080/"
        },
        "outputId": "1f2233ac-a1af-44e5-a19c-aac6595c4d00"
      },
      "execution_count": 86,
      "outputs": [
        {
          "output_type": "stream",
          "name": "stdout",
          "text": [
            "<class 'pandas.core.frame.DataFrame'>\n",
            "RangeIndex: 2114 entries, 0 to 2113\n",
            "Data columns (total 7 columns):\n",
            " #   Column      Non-Null Count  Dtype  \n",
            "---  ------      --------------  -----  \n",
            " 0   TAHUN       2114 non-null   int64  \n",
            " 1   SEMESTER    2114 non-null   object \n",
            " 2   PERTANYAAN  2114 non-null   int64  \n",
            " 3   KETERANGAN  2114 non-null   object \n",
            " 4   NILAI       2114 non-null   float64\n",
            " 5   KODE_MK     2114 non-null   object \n",
            " 6   NAMA_MK     2114 non-null   object \n",
            "dtypes: float64(1), int64(2), object(4)\n",
            "memory usage: 115.7+ KB\n"
          ]
        }
      ]
    },
    {
      "cell_type": "code",
      "source": [
        "df_eval = df_matkul.groupby(\n",
        "     ['SEMESTER','NAMA_MK']\n",
        " ).agg(\n",
        "    \n",
        "     sem_score = ('NILAI','mean'),\n",
        "      \n",
        " ).reset_index()\n",
        "\n",
        "df_eval.head(10)"
      ],
      "metadata": {
        "id": "2Ekb2w-EJYt9",
        "colab": {
          "base_uri": "https://localhost:8080/",
          "height": 363
        },
        "outputId": "5dcceed7-3e1c-426d-b2da-e6f771559c52"
      },
      "execution_count": 87,
      "outputs": [
        {
          "output_type": "execute_result",
          "data": {
            "text/plain": [
              "  SEMESTER                               NAMA_MK  sem_score\n",
              "0     1511                     Advanced Database   3.302857\n",
              "1     1511         Advanced IS Analysis & Design   3.315000\n",
              "2     1511            Algorithms and Programming   3.205714\n",
              "3     1511                  Business Mathematics   3.087143\n",
              "4     1511          Corporate Business Processes   3.170000\n",
              "5     1511             Database Administration 2   3.629286\n",
              "6     1511    Database Application Development 2   3.521429\n",
              "7     1511                      Database Systems   2.985000\n",
              "8     1511               Decision Support System   3.353571\n",
              "9     1511  Enterprise Application and Systems 1   3.410714"
            ],
            "text/html": [
              "\n",
              "  <div id=\"df-81b7ee35-191d-4d5a-95a4-0d19aed6a9bf\">\n",
              "    <div class=\"colab-df-container\">\n",
              "      <div>\n",
              "<style scoped>\n",
              "    .dataframe tbody tr th:only-of-type {\n",
              "        vertical-align: middle;\n",
              "    }\n",
              "\n",
              "    .dataframe tbody tr th {\n",
              "        vertical-align: top;\n",
              "    }\n",
              "\n",
              "    .dataframe thead th {\n",
              "        text-align: right;\n",
              "    }\n",
              "</style>\n",
              "<table border=\"1\" class=\"dataframe\">\n",
              "  <thead>\n",
              "    <tr style=\"text-align: right;\">\n",
              "      <th></th>\n",
              "      <th>SEMESTER</th>\n",
              "      <th>NAMA_MK</th>\n",
              "      <th>sem_score</th>\n",
              "    </tr>\n",
              "  </thead>\n",
              "  <tbody>\n",
              "    <tr>\n",
              "      <th>0</th>\n",
              "      <td>1511</td>\n",
              "      <td>Advanced Database</td>\n",
              "      <td>3.302857</td>\n",
              "    </tr>\n",
              "    <tr>\n",
              "      <th>1</th>\n",
              "      <td>1511</td>\n",
              "      <td>Advanced IS Analysis &amp; Design</td>\n",
              "      <td>3.315000</td>\n",
              "    </tr>\n",
              "    <tr>\n",
              "      <th>2</th>\n",
              "      <td>1511</td>\n",
              "      <td>Algorithms and Programming</td>\n",
              "      <td>3.205714</td>\n",
              "    </tr>\n",
              "    <tr>\n",
              "      <th>3</th>\n",
              "      <td>1511</td>\n",
              "      <td>Business Mathematics</td>\n",
              "      <td>3.087143</td>\n",
              "    </tr>\n",
              "    <tr>\n",
              "      <th>4</th>\n",
              "      <td>1511</td>\n",
              "      <td>Corporate Business Processes</td>\n",
              "      <td>3.170000</td>\n",
              "    </tr>\n",
              "    <tr>\n",
              "      <th>5</th>\n",
              "      <td>1511</td>\n",
              "      <td>Database Administration 2</td>\n",
              "      <td>3.629286</td>\n",
              "    </tr>\n",
              "    <tr>\n",
              "      <th>6</th>\n",
              "      <td>1511</td>\n",
              "      <td>Database Application Development 2</td>\n",
              "      <td>3.521429</td>\n",
              "    </tr>\n",
              "    <tr>\n",
              "      <th>7</th>\n",
              "      <td>1511</td>\n",
              "      <td>Database Systems</td>\n",
              "      <td>2.985000</td>\n",
              "    </tr>\n",
              "    <tr>\n",
              "      <th>8</th>\n",
              "      <td>1511</td>\n",
              "      <td>Decision Support System</td>\n",
              "      <td>3.353571</td>\n",
              "    </tr>\n",
              "    <tr>\n",
              "      <th>9</th>\n",
              "      <td>1511</td>\n",
              "      <td>Enterprise Application and Systems 1</td>\n",
              "      <td>3.410714</td>\n",
              "    </tr>\n",
              "  </tbody>\n",
              "</table>\n",
              "</div>\n",
              "      <button class=\"colab-df-convert\" onclick=\"convertToInteractive('df-81b7ee35-191d-4d5a-95a4-0d19aed6a9bf')\"\n",
              "              title=\"Convert this dataframe to an interactive table.\"\n",
              "              style=\"display:none;\">\n",
              "        \n",
              "  <svg xmlns=\"http://www.w3.org/2000/svg\" height=\"24px\"viewBox=\"0 0 24 24\"\n",
              "       width=\"24px\">\n",
              "    <path d=\"M0 0h24v24H0V0z\" fill=\"none\"/>\n",
              "    <path d=\"M18.56 5.44l.94 2.06.94-2.06 2.06-.94-2.06-.94-.94-2.06-.94 2.06-2.06.94zm-11 1L8.5 8.5l.94-2.06 2.06-.94-2.06-.94L8.5 2.5l-.94 2.06-2.06.94zm10 10l.94 2.06.94-2.06 2.06-.94-2.06-.94-.94-2.06-.94 2.06-2.06.94z\"/><path d=\"M17.41 7.96l-1.37-1.37c-.4-.4-.92-.59-1.43-.59-.52 0-1.04.2-1.43.59L10.3 9.45l-7.72 7.72c-.78.78-.78 2.05 0 2.83L4 21.41c.39.39.9.59 1.41.59.51 0 1.02-.2 1.41-.59l7.78-7.78 2.81-2.81c.8-.78.8-2.07 0-2.86zM5.41 20L4 18.59l7.72-7.72 1.47 1.35L5.41 20z\"/>\n",
              "  </svg>\n",
              "      </button>\n",
              "      \n",
              "  <style>\n",
              "    .colab-df-container {\n",
              "      display:flex;\n",
              "      flex-wrap:wrap;\n",
              "      gap: 12px;\n",
              "    }\n",
              "\n",
              "    .colab-df-convert {\n",
              "      background-color: #E8F0FE;\n",
              "      border: none;\n",
              "      border-radius: 50%;\n",
              "      cursor: pointer;\n",
              "      display: none;\n",
              "      fill: #1967D2;\n",
              "      height: 32px;\n",
              "      padding: 0 0 0 0;\n",
              "      width: 32px;\n",
              "    }\n",
              "\n",
              "    .colab-df-convert:hover {\n",
              "      background-color: #E2EBFA;\n",
              "      box-shadow: 0px 1px 2px rgba(60, 64, 67, 0.3), 0px 1px 3px 1px rgba(60, 64, 67, 0.15);\n",
              "      fill: #174EA6;\n",
              "    }\n",
              "\n",
              "    [theme=dark] .colab-df-convert {\n",
              "      background-color: #3B4455;\n",
              "      fill: #D2E3FC;\n",
              "    }\n",
              "\n",
              "    [theme=dark] .colab-df-convert:hover {\n",
              "      background-color: #434B5C;\n",
              "      box-shadow: 0px 1px 3px 1px rgba(0, 0, 0, 0.15);\n",
              "      filter: drop-shadow(0px 1px 2px rgba(0, 0, 0, 0.3));\n",
              "      fill: #FFFFFF;\n",
              "    }\n",
              "  </style>\n",
              "\n",
              "      <script>\n",
              "        const buttonEl =\n",
              "          document.querySelector('#df-81b7ee35-191d-4d5a-95a4-0d19aed6a9bf button.colab-df-convert');\n",
              "        buttonEl.style.display =\n",
              "          google.colab.kernel.accessAllowed ? 'block' : 'none';\n",
              "\n",
              "        async function convertToInteractive(key) {\n",
              "          const element = document.querySelector('#df-81b7ee35-191d-4d5a-95a4-0d19aed6a9bf');\n",
              "          const dataTable =\n",
              "            await google.colab.kernel.invokeFunction('convertToInteractive',\n",
              "                                                     [key], {});\n",
              "          if (!dataTable) return;\n",
              "\n",
              "          const docLinkHtml = 'Like what you see? Visit the ' +\n",
              "            '<a target=\"_blank\" href=https://colab.research.google.com/notebooks/data_table.ipynb>data table notebook</a>'\n",
              "            + ' to learn more about interactive tables.';\n",
              "          element.innerHTML = '';\n",
              "          dataTable['output_type'] = 'display_data';\n",
              "          await google.colab.output.renderOutput(dataTable, element);\n",
              "          const docLink = document.createElement('div');\n",
              "          docLink.innerHTML = docLinkHtml;\n",
              "          element.appendChild(docLink);\n",
              "        }\n",
              "      </script>\n",
              "    </div>\n",
              "  </div>\n",
              "  "
            ]
          },
          "metadata": {},
          "execution_count": 87
        }
      ]
    },
    {
      "cell_type": "code",
      "source": [
        ""
      ],
      "metadata": {
        "id": "rYznkpx7pam8"
      },
      "execution_count": 87,
      "outputs": []
    },
    {
      "cell_type": "code",
      "source": [
        ""
      ],
      "metadata": {
        "id": "zA2QiPu_NgZZ"
      },
      "execution_count": 87,
      "outputs": []
    },
    {
      "cell_type": "markdown",
      "source": [
        "# Preprocessing DF siswa\n"
      ],
      "metadata": {
        "id": "I13iwORtJPw1"
      }
    },
    {
      "cell_type": "code",
      "execution_count": 88,
      "metadata": {
        "id": "qEeha8kU9yBj",
        "colab": {
          "base_uri": "https://localhost:8080/"
        },
        "outputId": "b1bf22b6-6c31-4b08-80c8-6d217f0e8bbb"
      },
      "outputs": [
        {
          "output_type": "stream",
          "name": "stdout",
          "text": [
            "<class 'pandas.core.frame.DataFrame'>\n",
            "RangeIndex: 30870 entries, 0 to 30869\n",
            "Data columns (total 8 columns):\n",
            " #   Column    Non-Null Count  Dtype  \n",
            "---  ------    --------------  -----  \n",
            " 0   NIM       30870 non-null  int64  \n",
            " 1   ANGKATAN  30870 non-null  int64  \n",
            " 2   SEMESTER  30870 non-null  int64  \n",
            " 3   KODE_MK   30870 non-null  object \n",
            " 4   NAMA_MK   30847 non-null  object \n",
            " 5   SKS       30870 non-null  int64  \n",
            " 6   NILAI     30858 non-null  float64\n",
            " 7   GRADE     30318 non-null  object \n",
            "dtypes: float64(1), int64(4), object(3)\n",
            "memory usage: 1.9+ MB\n"
          ]
        }
      ],
      "source": [
        "df_siswa.info()"
      ]
    },
    {
      "cell_type": "markdown",
      "metadata": {
        "id": "L3QSVyYbII-N"
      },
      "source": [
        "Bisa dipastikan nilai Null berarti siswa melakukan pelanggaran akademik karena semua ber grade F maka bisa di drop"
      ]
    },
    {
      "cell_type": "markdown",
      "source": [
        "Dataset yang terdiri dari 30870 row terdapat beberapa row yang null seperti \n",
        "GRADE, NAMA_MK,NILAI dan outlier pada SEMESTER dan MATAKULIAH. \n",
        "Berikut hasil output dari null checker dan contoh outlier pada data SEMESTER"
      ],
      "metadata": {
        "id": "6Jki7i1huzDx"
      }
    },
    {
      "cell_type": "code",
      "source": [
        "null_check(df_siswa,10)"
      ],
      "metadata": {
        "id": "9Llq0yOgTvdS",
        "colab": {
          "base_uri": "https://localhost:8080/",
          "height": 300
        },
        "outputId": "cd26ef53-4ea5-40a2-d69d-0b082ff5c0e7"
      },
      "execution_count": 89,
      "outputs": [
        {
          "output_type": "execute_result",
          "data": {
            "text/plain": [
              "          Total   Percent\n",
              "GRADE       552  0.017881\n",
              "NAMA_MK      23  0.000745\n",
              "NILAI        12  0.000389\n",
              "NIM           0  0.000000\n",
              "ANGKATAN      0  0.000000\n",
              "SEMESTER      0  0.000000\n",
              "KODE_MK       0  0.000000\n",
              "SKS           0  0.000000"
            ],
            "text/html": [
              "\n",
              "  <div id=\"df-69acd83f-48ad-46eb-bc70-427160e1ee32\">\n",
              "    <div class=\"colab-df-container\">\n",
              "      <div>\n",
              "<style scoped>\n",
              "    .dataframe tbody tr th:only-of-type {\n",
              "        vertical-align: middle;\n",
              "    }\n",
              "\n",
              "    .dataframe tbody tr th {\n",
              "        vertical-align: top;\n",
              "    }\n",
              "\n",
              "    .dataframe thead th {\n",
              "        text-align: right;\n",
              "    }\n",
              "</style>\n",
              "<table border=\"1\" class=\"dataframe\">\n",
              "  <thead>\n",
              "    <tr style=\"text-align: right;\">\n",
              "      <th></th>\n",
              "      <th>Total</th>\n",
              "      <th>Percent</th>\n",
              "    </tr>\n",
              "  </thead>\n",
              "  <tbody>\n",
              "    <tr>\n",
              "      <th>GRADE</th>\n",
              "      <td>552</td>\n",
              "      <td>0.017881</td>\n",
              "    </tr>\n",
              "    <tr>\n",
              "      <th>NAMA_MK</th>\n",
              "      <td>23</td>\n",
              "      <td>0.000745</td>\n",
              "    </tr>\n",
              "    <tr>\n",
              "      <th>NILAI</th>\n",
              "      <td>12</td>\n",
              "      <td>0.000389</td>\n",
              "    </tr>\n",
              "    <tr>\n",
              "      <th>NIM</th>\n",
              "      <td>0</td>\n",
              "      <td>0.000000</td>\n",
              "    </tr>\n",
              "    <tr>\n",
              "      <th>ANGKATAN</th>\n",
              "      <td>0</td>\n",
              "      <td>0.000000</td>\n",
              "    </tr>\n",
              "    <tr>\n",
              "      <th>SEMESTER</th>\n",
              "      <td>0</td>\n",
              "      <td>0.000000</td>\n",
              "    </tr>\n",
              "    <tr>\n",
              "      <th>KODE_MK</th>\n",
              "      <td>0</td>\n",
              "      <td>0.000000</td>\n",
              "    </tr>\n",
              "    <tr>\n",
              "      <th>SKS</th>\n",
              "      <td>0</td>\n",
              "      <td>0.000000</td>\n",
              "    </tr>\n",
              "  </tbody>\n",
              "</table>\n",
              "</div>\n",
              "      <button class=\"colab-df-convert\" onclick=\"convertToInteractive('df-69acd83f-48ad-46eb-bc70-427160e1ee32')\"\n",
              "              title=\"Convert this dataframe to an interactive table.\"\n",
              "              style=\"display:none;\">\n",
              "        \n",
              "  <svg xmlns=\"http://www.w3.org/2000/svg\" height=\"24px\"viewBox=\"0 0 24 24\"\n",
              "       width=\"24px\">\n",
              "    <path d=\"M0 0h24v24H0V0z\" fill=\"none\"/>\n",
              "    <path d=\"M18.56 5.44l.94 2.06.94-2.06 2.06-.94-2.06-.94-.94-2.06-.94 2.06-2.06.94zm-11 1L8.5 8.5l.94-2.06 2.06-.94-2.06-.94L8.5 2.5l-.94 2.06-2.06.94zm10 10l.94 2.06.94-2.06 2.06-.94-2.06-.94-.94-2.06-.94 2.06-2.06.94z\"/><path d=\"M17.41 7.96l-1.37-1.37c-.4-.4-.92-.59-1.43-.59-.52 0-1.04.2-1.43.59L10.3 9.45l-7.72 7.72c-.78.78-.78 2.05 0 2.83L4 21.41c.39.39.9.59 1.41.59.51 0 1.02-.2 1.41-.59l7.78-7.78 2.81-2.81c.8-.78.8-2.07 0-2.86zM5.41 20L4 18.59l7.72-7.72 1.47 1.35L5.41 20z\"/>\n",
              "  </svg>\n",
              "      </button>\n",
              "      \n",
              "  <style>\n",
              "    .colab-df-container {\n",
              "      display:flex;\n",
              "      flex-wrap:wrap;\n",
              "      gap: 12px;\n",
              "    }\n",
              "\n",
              "    .colab-df-convert {\n",
              "      background-color: #E8F0FE;\n",
              "      border: none;\n",
              "      border-radius: 50%;\n",
              "      cursor: pointer;\n",
              "      display: none;\n",
              "      fill: #1967D2;\n",
              "      height: 32px;\n",
              "      padding: 0 0 0 0;\n",
              "      width: 32px;\n",
              "    }\n",
              "\n",
              "    .colab-df-convert:hover {\n",
              "      background-color: #E2EBFA;\n",
              "      box-shadow: 0px 1px 2px rgba(60, 64, 67, 0.3), 0px 1px 3px 1px rgba(60, 64, 67, 0.15);\n",
              "      fill: #174EA6;\n",
              "    }\n",
              "\n",
              "    [theme=dark] .colab-df-convert {\n",
              "      background-color: #3B4455;\n",
              "      fill: #D2E3FC;\n",
              "    }\n",
              "\n",
              "    [theme=dark] .colab-df-convert:hover {\n",
              "      background-color: #434B5C;\n",
              "      box-shadow: 0px 1px 3px 1px rgba(0, 0, 0, 0.15);\n",
              "      filter: drop-shadow(0px 1px 2px rgba(0, 0, 0, 0.3));\n",
              "      fill: #FFFFFF;\n",
              "    }\n",
              "  </style>\n",
              "\n",
              "      <script>\n",
              "        const buttonEl =\n",
              "          document.querySelector('#df-69acd83f-48ad-46eb-bc70-427160e1ee32 button.colab-df-convert');\n",
              "        buttonEl.style.display =\n",
              "          google.colab.kernel.accessAllowed ? 'block' : 'none';\n",
              "\n",
              "        async function convertToInteractive(key) {\n",
              "          const element = document.querySelector('#df-69acd83f-48ad-46eb-bc70-427160e1ee32');\n",
              "          const dataTable =\n",
              "            await google.colab.kernel.invokeFunction('convertToInteractive',\n",
              "                                                     [key], {});\n",
              "          if (!dataTable) return;\n",
              "\n",
              "          const docLinkHtml = 'Like what you see? Visit the ' +\n",
              "            '<a target=\"_blank\" href=https://colab.research.google.com/notebooks/data_table.ipynb>data table notebook</a>'\n",
              "            + ' to learn more about interactive tables.';\n",
              "          element.innerHTML = '';\n",
              "          dataTable['output_type'] = 'display_data';\n",
              "          await google.colab.output.renderOutput(dataTable, element);\n",
              "          const docLink = document.createElement('div');\n",
              "          docLink.innerHTML = docLinkHtml;\n",
              "          element.appendChild(docLink);\n",
              "        }\n",
              "      </script>\n",
              "    </div>\n",
              "  </div>\n",
              "  "
            ]
          },
          "metadata": {},
          "execution_count": 89
        }
      ]
    },
    {
      "cell_type": "markdown",
      "source": [
        "Pada kolom SEMESTER harus dirubah “22” menjadi 21 dengan menggunakan kode berikut :\n"
      ],
      "metadata": {
        "id": "XbSaG4SSu6EW"
      }
    },
    {
      "cell_type": "code",
      "source": [
        "#Merubah Semester Menjadi String agar bisa di manipulasi\n",
        "df_siswa[\"SEMESTER\"]=df_siswa['SEMESTER'].apply(str)\n",
        "#Untuk menambahkan spasi sebagai pembeda dengan 22 yang ada ditengah ,contoh : 1221, 22 nya terletak ditengah dan itu bukan termasuk outlier\n",
        "df_siswa[\"SEMESTER\"]=df_siswa[\"SEMESTER\"].str.ljust(5, \" \")\n",
        "#disini sudah saya ganti '22 ' menjadi '21 ' \n",
        "df_siswa[\"SEMESTER\"] = [str(str(i).replace(\"22 \", \"21 \")) for i in df_siswa[\"SEMESTER\"]]\n",
        "#Untuk Menghilangkan spasi yang ada di SEMESTER\n",
        "df_siswa[\"SEMESTER\"] = df_siswa[\"SEMESTER\"].str.rstrip()\n",
        "\n",
        "\n"
      ],
      "metadata": {
        "id": "X3KsPCQBgzBG"
      },
      "execution_count": 90,
      "outputs": []
    },
    {
      "cell_type": "code",
      "source": [
        "\n",
        "df_siswa['NAMA_MK'] = df_siswa['NAMA_MK'].astype(str)"
      ],
      "metadata": {
        "id": "FR7uD1C9q_JJ"
      },
      "execution_count": 91,
      "outputs": []
    },
    {
      "cell_type": "code",
      "source": [
        "df_siswa.loc[df_siswa['NAMA_MK'].isnull()]"
      ],
      "metadata": {
        "id": "DYeDau1zqUl2",
        "colab": {
          "base_uri": "https://localhost:8080/",
          "height": 49
        },
        "outputId": "cfc4a75b-ba79-438d-cb50-e781870a3129"
      },
      "execution_count": 92,
      "outputs": [
        {
          "output_type": "execute_result",
          "data": {
            "text/plain": [
              "Empty DataFrame\n",
              "Columns: [NIM, ANGKATAN, SEMESTER, KODE_MK, NAMA_MK, SKS, NILAI, GRADE]\n",
              "Index: []"
            ],
            "text/html": [
              "\n",
              "  <div id=\"df-f0bbb331-cd51-4a46-9b43-b8e80c1d3257\">\n",
              "    <div class=\"colab-df-container\">\n",
              "      <div>\n",
              "<style scoped>\n",
              "    .dataframe tbody tr th:only-of-type {\n",
              "        vertical-align: middle;\n",
              "    }\n",
              "\n",
              "    .dataframe tbody tr th {\n",
              "        vertical-align: top;\n",
              "    }\n",
              "\n",
              "    .dataframe thead th {\n",
              "        text-align: right;\n",
              "    }\n",
              "</style>\n",
              "<table border=\"1\" class=\"dataframe\">\n",
              "  <thead>\n",
              "    <tr style=\"text-align: right;\">\n",
              "      <th></th>\n",
              "      <th>NIM</th>\n",
              "      <th>ANGKATAN</th>\n",
              "      <th>SEMESTER</th>\n",
              "      <th>KODE_MK</th>\n",
              "      <th>NAMA_MK</th>\n",
              "      <th>SKS</th>\n",
              "      <th>NILAI</th>\n",
              "      <th>GRADE</th>\n",
              "    </tr>\n",
              "  </thead>\n",
              "  <tbody>\n",
              "  </tbody>\n",
              "</table>\n",
              "</div>\n",
              "      <button class=\"colab-df-convert\" onclick=\"convertToInteractive('df-f0bbb331-cd51-4a46-9b43-b8e80c1d3257')\"\n",
              "              title=\"Convert this dataframe to an interactive table.\"\n",
              "              style=\"display:none;\">\n",
              "        \n",
              "  <svg xmlns=\"http://www.w3.org/2000/svg\" height=\"24px\"viewBox=\"0 0 24 24\"\n",
              "       width=\"24px\">\n",
              "    <path d=\"M0 0h24v24H0V0z\" fill=\"none\"/>\n",
              "    <path d=\"M18.56 5.44l.94 2.06.94-2.06 2.06-.94-2.06-.94-.94-2.06-.94 2.06-2.06.94zm-11 1L8.5 8.5l.94-2.06 2.06-.94-2.06-.94L8.5 2.5l-.94 2.06-2.06.94zm10 10l.94 2.06.94-2.06 2.06-.94-2.06-.94-.94-2.06-.94 2.06-2.06.94z\"/><path d=\"M17.41 7.96l-1.37-1.37c-.4-.4-.92-.59-1.43-.59-.52 0-1.04.2-1.43.59L10.3 9.45l-7.72 7.72c-.78.78-.78 2.05 0 2.83L4 21.41c.39.39.9.59 1.41.59.51 0 1.02-.2 1.41-.59l7.78-7.78 2.81-2.81c.8-.78.8-2.07 0-2.86zM5.41 20L4 18.59l7.72-7.72 1.47 1.35L5.41 20z\"/>\n",
              "  </svg>\n",
              "      </button>\n",
              "      \n",
              "  <style>\n",
              "    .colab-df-container {\n",
              "      display:flex;\n",
              "      flex-wrap:wrap;\n",
              "      gap: 12px;\n",
              "    }\n",
              "\n",
              "    .colab-df-convert {\n",
              "      background-color: #E8F0FE;\n",
              "      border: none;\n",
              "      border-radius: 50%;\n",
              "      cursor: pointer;\n",
              "      display: none;\n",
              "      fill: #1967D2;\n",
              "      height: 32px;\n",
              "      padding: 0 0 0 0;\n",
              "      width: 32px;\n",
              "    }\n",
              "\n",
              "    .colab-df-convert:hover {\n",
              "      background-color: #E2EBFA;\n",
              "      box-shadow: 0px 1px 2px rgba(60, 64, 67, 0.3), 0px 1px 3px 1px rgba(60, 64, 67, 0.15);\n",
              "      fill: #174EA6;\n",
              "    }\n",
              "\n",
              "    [theme=dark] .colab-df-convert {\n",
              "      background-color: #3B4455;\n",
              "      fill: #D2E3FC;\n",
              "    }\n",
              "\n",
              "    [theme=dark] .colab-df-convert:hover {\n",
              "      background-color: #434B5C;\n",
              "      box-shadow: 0px 1px 3px 1px rgba(0, 0, 0, 0.15);\n",
              "      filter: drop-shadow(0px 1px 2px rgba(0, 0, 0, 0.3));\n",
              "      fill: #FFFFFF;\n",
              "    }\n",
              "  </style>\n",
              "\n",
              "      <script>\n",
              "        const buttonEl =\n",
              "          document.querySelector('#df-f0bbb331-cd51-4a46-9b43-b8e80c1d3257 button.colab-df-convert');\n",
              "        buttonEl.style.display =\n",
              "          google.colab.kernel.accessAllowed ? 'block' : 'none';\n",
              "\n",
              "        async function convertToInteractive(key) {\n",
              "          const element = document.querySelector('#df-f0bbb331-cd51-4a46-9b43-b8e80c1d3257');\n",
              "          const dataTable =\n",
              "            await google.colab.kernel.invokeFunction('convertToInteractive',\n",
              "                                                     [key], {});\n",
              "          if (!dataTable) return;\n",
              "\n",
              "          const docLinkHtml = 'Like what you see? Visit the ' +\n",
              "            '<a target=\"_blank\" href=https://colab.research.google.com/notebooks/data_table.ipynb>data table notebook</a>'\n",
              "            + ' to learn more about interactive tables.';\n",
              "          element.innerHTML = '';\n",
              "          dataTable['output_type'] = 'display_data';\n",
              "          await google.colab.output.renderOutput(dataTable, element);\n",
              "          const docLink = document.createElement('div');\n",
              "          docLink.innerHTML = docLinkHtml;\n",
              "          element.appendChild(docLink);\n",
              "        }\n",
              "      </script>\n",
              "    </div>\n",
              "  </div>\n",
              "  "
            ]
          },
          "metadata": {},
          "execution_count": 92
        }
      ]
    },
    {
      "cell_type": "code",
      "execution_count": 93,
      "metadata": {
        "id": "LV5KprxiSd6V"
      },
      "outputs": [],
      "source": [
        "#Mengganti Null menjadi 0\n",
        "df_siswa[\"NILAI\"].fillna(\"0\", inplace = True)\n",
        "\n",
        "\n",
        "# null pada data nama mk itu banyak yang ber kode SI863\n",
        "\n",
        "df_siswa['NAMA_MK'] = np.where((df_siswa.KODE_MK == 'SI863'),\"Tugas Akhir\",df_siswa.NAMA_MK)\n"
      ]
    },
    {
      "cell_type": "code",
      "source": [
        "null_check(df_siswa,10)"
      ],
      "metadata": {
        "id": "-0itnApAwYmg",
        "colab": {
          "base_uri": "https://localhost:8080/",
          "height": 300
        },
        "outputId": "1beabdda-17c8-46cb-b82b-25dcd5abdf5d"
      },
      "execution_count": 94,
      "outputs": [
        {
          "output_type": "execute_result",
          "data": {
            "text/plain": [
              "          Total   Percent\n",
              "GRADE       552  0.017881\n",
              "NIM           0  0.000000\n",
              "ANGKATAN      0  0.000000\n",
              "SEMESTER      0  0.000000\n",
              "KODE_MK       0  0.000000\n",
              "NAMA_MK       0  0.000000\n",
              "SKS           0  0.000000\n",
              "NILAI         0  0.000000"
            ],
            "text/html": [
              "\n",
              "  <div id=\"df-b80a4156-83db-40aa-a04f-c6d0fca3907f\">\n",
              "    <div class=\"colab-df-container\">\n",
              "      <div>\n",
              "<style scoped>\n",
              "    .dataframe tbody tr th:only-of-type {\n",
              "        vertical-align: middle;\n",
              "    }\n",
              "\n",
              "    .dataframe tbody tr th {\n",
              "        vertical-align: top;\n",
              "    }\n",
              "\n",
              "    .dataframe thead th {\n",
              "        text-align: right;\n",
              "    }\n",
              "</style>\n",
              "<table border=\"1\" class=\"dataframe\">\n",
              "  <thead>\n",
              "    <tr style=\"text-align: right;\">\n",
              "      <th></th>\n",
              "      <th>Total</th>\n",
              "      <th>Percent</th>\n",
              "    </tr>\n",
              "  </thead>\n",
              "  <tbody>\n",
              "    <tr>\n",
              "      <th>GRADE</th>\n",
              "      <td>552</td>\n",
              "      <td>0.017881</td>\n",
              "    </tr>\n",
              "    <tr>\n",
              "      <th>NIM</th>\n",
              "      <td>0</td>\n",
              "      <td>0.000000</td>\n",
              "    </tr>\n",
              "    <tr>\n",
              "      <th>ANGKATAN</th>\n",
              "      <td>0</td>\n",
              "      <td>0.000000</td>\n",
              "    </tr>\n",
              "    <tr>\n",
              "      <th>SEMESTER</th>\n",
              "      <td>0</td>\n",
              "      <td>0.000000</td>\n",
              "    </tr>\n",
              "    <tr>\n",
              "      <th>KODE_MK</th>\n",
              "      <td>0</td>\n",
              "      <td>0.000000</td>\n",
              "    </tr>\n",
              "    <tr>\n",
              "      <th>NAMA_MK</th>\n",
              "      <td>0</td>\n",
              "      <td>0.000000</td>\n",
              "    </tr>\n",
              "    <tr>\n",
              "      <th>SKS</th>\n",
              "      <td>0</td>\n",
              "      <td>0.000000</td>\n",
              "    </tr>\n",
              "    <tr>\n",
              "      <th>NILAI</th>\n",
              "      <td>0</td>\n",
              "      <td>0.000000</td>\n",
              "    </tr>\n",
              "  </tbody>\n",
              "</table>\n",
              "</div>\n",
              "      <button class=\"colab-df-convert\" onclick=\"convertToInteractive('df-b80a4156-83db-40aa-a04f-c6d0fca3907f')\"\n",
              "              title=\"Convert this dataframe to an interactive table.\"\n",
              "              style=\"display:none;\">\n",
              "        \n",
              "  <svg xmlns=\"http://www.w3.org/2000/svg\" height=\"24px\"viewBox=\"0 0 24 24\"\n",
              "       width=\"24px\">\n",
              "    <path d=\"M0 0h24v24H0V0z\" fill=\"none\"/>\n",
              "    <path d=\"M18.56 5.44l.94 2.06.94-2.06 2.06-.94-2.06-.94-.94-2.06-.94 2.06-2.06.94zm-11 1L8.5 8.5l.94-2.06 2.06-.94-2.06-.94L8.5 2.5l-.94 2.06-2.06.94zm10 10l.94 2.06.94-2.06 2.06-.94-2.06-.94-.94-2.06-.94 2.06-2.06.94z\"/><path d=\"M17.41 7.96l-1.37-1.37c-.4-.4-.92-.59-1.43-.59-.52 0-1.04.2-1.43.59L10.3 9.45l-7.72 7.72c-.78.78-.78 2.05 0 2.83L4 21.41c.39.39.9.59 1.41.59.51 0 1.02-.2 1.41-.59l7.78-7.78 2.81-2.81c.8-.78.8-2.07 0-2.86zM5.41 20L4 18.59l7.72-7.72 1.47 1.35L5.41 20z\"/>\n",
              "  </svg>\n",
              "      </button>\n",
              "      \n",
              "  <style>\n",
              "    .colab-df-container {\n",
              "      display:flex;\n",
              "      flex-wrap:wrap;\n",
              "      gap: 12px;\n",
              "    }\n",
              "\n",
              "    .colab-df-convert {\n",
              "      background-color: #E8F0FE;\n",
              "      border: none;\n",
              "      border-radius: 50%;\n",
              "      cursor: pointer;\n",
              "      display: none;\n",
              "      fill: #1967D2;\n",
              "      height: 32px;\n",
              "      padding: 0 0 0 0;\n",
              "      width: 32px;\n",
              "    }\n",
              "\n",
              "    .colab-df-convert:hover {\n",
              "      background-color: #E2EBFA;\n",
              "      box-shadow: 0px 1px 2px rgba(60, 64, 67, 0.3), 0px 1px 3px 1px rgba(60, 64, 67, 0.15);\n",
              "      fill: #174EA6;\n",
              "    }\n",
              "\n",
              "    [theme=dark] .colab-df-convert {\n",
              "      background-color: #3B4455;\n",
              "      fill: #D2E3FC;\n",
              "    }\n",
              "\n",
              "    [theme=dark] .colab-df-convert:hover {\n",
              "      background-color: #434B5C;\n",
              "      box-shadow: 0px 1px 3px 1px rgba(0, 0, 0, 0.15);\n",
              "      filter: drop-shadow(0px 1px 2px rgba(0, 0, 0, 0.3));\n",
              "      fill: #FFFFFF;\n",
              "    }\n",
              "  </style>\n",
              "\n",
              "      <script>\n",
              "        const buttonEl =\n",
              "          document.querySelector('#df-b80a4156-83db-40aa-a04f-c6d0fca3907f button.colab-df-convert');\n",
              "        buttonEl.style.display =\n",
              "          google.colab.kernel.accessAllowed ? 'block' : 'none';\n",
              "\n",
              "        async function convertToInteractive(key) {\n",
              "          const element = document.querySelector('#df-b80a4156-83db-40aa-a04f-c6d0fca3907f');\n",
              "          const dataTable =\n",
              "            await google.colab.kernel.invokeFunction('convertToInteractive',\n",
              "                                                     [key], {});\n",
              "          if (!dataTable) return;\n",
              "\n",
              "          const docLinkHtml = 'Like what you see? Visit the ' +\n",
              "            '<a target=\"_blank\" href=https://colab.research.google.com/notebooks/data_table.ipynb>data table notebook</a>'\n",
              "            + ' to learn more about interactive tables.';\n",
              "          element.innerHTML = '';\n",
              "          dataTable['output_type'] = 'display_data';\n",
              "          await google.colab.output.renderOutput(dataTable, element);\n",
              "          const docLink = document.createElement('div');\n",
              "          docLink.innerHTML = docLinkHtml;\n",
              "          element.appendChild(docLink);\n",
              "        }\n",
              "      </script>\n",
              "    </div>\n",
              "  </div>\n",
              "  "
            ]
          },
          "metadata": {},
          "execution_count": 94
        }
      ]
    },
    {
      "cell_type": "markdown",
      "source": [
        "Kolom NAMA_MK beberapa masih termerge dengan kode nya,oleh karena itu berikut ada \n",
        "code dan penjelasan untuk memisahkan datanya:"
      ],
      "metadata": {
        "id": "mPjxtWyqvQ1y"
      }
    },
    {
      "cell_type": "code",
      "source": [
        "\n",
        "#List untuk menyimpan key yang harus diganti\n",
        "key= []\n",
        "\n",
        "#List untuk menyimpan value yang sudah ditransformasi\n",
        "val = []\n",
        "\n",
        "#Looping pada semua nilai di nama_mk\n",
        "for i in np.unique(df_siswa.NAMA_MK):\n",
        "  # disini saya pasang logic jika di index 3 = int, maka key nya saya simpan dan saya simpan juga nilai yang tertransformasi\n",
        "   if i[3:4] in ['0','1','2','3','4','5','6','7','8','9']:\n",
        "     key.append(i)\n",
        "     val.append(i[6:])\n",
        "\n",
        "     \n",
        "# menzip list saya agar bisa jadi dictionary\n",
        "zip_iterator = zip(key, val)\n",
        "\n",
        "# membuat dictionary\n",
        "a_dictionary = dict(zip_iterator)\n",
        "# Transformasi data menggunakan dictionary\n",
        "df_siswa = df_siswa.replace({\"NAMA_MK\": a_dictionary})\n"
      ],
      "metadata": {
        "id": "JuAy0Ag__K-u"
      },
      "execution_count": 95,
      "outputs": []
    },
    {
      "cell_type": "code",
      "source": [
        "# df_siswa.loc[df_siswa[\"NAMA_MK\"] == \"nan\"]"
      ],
      "metadata": {
        "id": "BXeTcLS4St5g"
      },
      "execution_count": 96,
      "outputs": []
    },
    {
      "cell_type": "code",
      "source": [
        "df_matkul[\"NAMA_MK\"]=df_matkul['NAMA_MK'].apply(str)"
      ],
      "metadata": {
        "id": "9sp5QldA0lnd"
      },
      "execution_count": 97,
      "outputs": []
    },
    {
      "cell_type": "code",
      "source": [
        "df_siswa.drop('KODE_MK', axis=1, inplace=True)\n",
        "\n",
        "df_forsks = df_siswa.copy()"
      ],
      "metadata": {
        "id": "0IcYBVFnVSmt"
      },
      "execution_count": 98,
      "outputs": []
    },
    {
      "cell_type": "markdown",
      "source": [
        "Pada kolom SKS dilakukan transformasi data yaitu merubah nilai pada SKS yang \n",
        "bergrade D,E dan F menjadi 0 karena syarat lulus dikatakan tidak boleh memiliki grade \n",
        "tersebut.berikut code nya\n"
      ],
      "metadata": {
        "id": "eJVfzd-MvKlH"
      }
    },
    {
      "cell_type": "code",
      "source": [
        "#saya berikan sks 0 kepada grade D,E dan F karena syarat lulus tidak boleh ada grade bernilai tersebut.\n",
        "df_siswa['SKS'] = np.where((df_siswa.GRADE == 'D'),0,df_siswa.SKS)\n",
        "df_siswa['SKS'] = np.where((df_siswa.GRADE == 'E'),0,df_siswa.SKS)\n",
        "df_siswa['SKS'] = np.where((df_siswa.GRADE == 'F'),0,df_siswa.SKS)\n"
      ],
      "metadata": {
        "id": "8BCd0BVGgahM"
      },
      "execution_count": 99,
      "outputs": []
    },
    {
      "cell_type": "code",
      "execution_count": 100,
      "metadata": {
        "id": "832fSQsPad2j",
        "colab": {
          "base_uri": "https://localhost:8080/",
          "height": 206
        },
        "outputId": "3220557d-7525-43b4-921d-4a0384814b1e"
      },
      "outputs": [
        {
          "output_type": "execute_result",
          "data": {
            "text/plain": [
              "           NIM  ANGKATAN SEMESTER                         NAMA_MK  SKS  NILAI  \\\n",
              "0  10110310002      2010     1011              Dasar-dasar Bisnis    3   57.0   \n",
              "1  10110310002      2010     1011               Matematika Bisnis    3   70.0   \n",
              "2  10110310002      2010     1011       Algoritma dan Pemrograman    4   57.0   \n",
              "3  10110310002      2010     1011              Matematika Diskrit    3   59.0   \n",
              "4  10110310002      2010     1011  Pengantar Teknologi Multimedia    3   74.0   \n",
              "\n",
              "  GRADE BOBOT  \n",
              "0     C   2.0  \n",
              "1     B   3.0  \n",
              "2     C   2.0  \n",
              "3     C   2.0  \n",
              "4     B   3.0  "
            ],
            "text/html": [
              "\n",
              "  <div id=\"df-c3f21f0d-190e-4a30-97d1-39c67c925f0e\">\n",
              "    <div class=\"colab-df-container\">\n",
              "      <div>\n",
              "<style scoped>\n",
              "    .dataframe tbody tr th:only-of-type {\n",
              "        vertical-align: middle;\n",
              "    }\n",
              "\n",
              "    .dataframe tbody tr th {\n",
              "        vertical-align: top;\n",
              "    }\n",
              "\n",
              "    .dataframe thead th {\n",
              "        text-align: right;\n",
              "    }\n",
              "</style>\n",
              "<table border=\"1\" class=\"dataframe\">\n",
              "  <thead>\n",
              "    <tr style=\"text-align: right;\">\n",
              "      <th></th>\n",
              "      <th>NIM</th>\n",
              "      <th>ANGKATAN</th>\n",
              "      <th>SEMESTER</th>\n",
              "      <th>NAMA_MK</th>\n",
              "      <th>SKS</th>\n",
              "      <th>NILAI</th>\n",
              "      <th>GRADE</th>\n",
              "      <th>BOBOT</th>\n",
              "    </tr>\n",
              "  </thead>\n",
              "  <tbody>\n",
              "    <tr>\n",
              "      <th>0</th>\n",
              "      <td>10110310002</td>\n",
              "      <td>2010</td>\n",
              "      <td>1011</td>\n",
              "      <td>Dasar-dasar Bisnis</td>\n",
              "      <td>3</td>\n",
              "      <td>57.0</td>\n",
              "      <td>C</td>\n",
              "      <td>2.0</td>\n",
              "    </tr>\n",
              "    <tr>\n",
              "      <th>1</th>\n",
              "      <td>10110310002</td>\n",
              "      <td>2010</td>\n",
              "      <td>1011</td>\n",
              "      <td>Matematika Bisnis</td>\n",
              "      <td>3</td>\n",
              "      <td>70.0</td>\n",
              "      <td>B</td>\n",
              "      <td>3.0</td>\n",
              "    </tr>\n",
              "    <tr>\n",
              "      <th>2</th>\n",
              "      <td>10110310002</td>\n",
              "      <td>2010</td>\n",
              "      <td>1011</td>\n",
              "      <td>Algoritma dan Pemrograman</td>\n",
              "      <td>4</td>\n",
              "      <td>57.0</td>\n",
              "      <td>C</td>\n",
              "      <td>2.0</td>\n",
              "    </tr>\n",
              "    <tr>\n",
              "      <th>3</th>\n",
              "      <td>10110310002</td>\n",
              "      <td>2010</td>\n",
              "      <td>1011</td>\n",
              "      <td>Matematika Diskrit</td>\n",
              "      <td>3</td>\n",
              "      <td>59.0</td>\n",
              "      <td>C</td>\n",
              "      <td>2.0</td>\n",
              "    </tr>\n",
              "    <tr>\n",
              "      <th>4</th>\n",
              "      <td>10110310002</td>\n",
              "      <td>2010</td>\n",
              "      <td>1011</td>\n",
              "      <td>Pengantar Teknologi Multimedia</td>\n",
              "      <td>3</td>\n",
              "      <td>74.0</td>\n",
              "      <td>B</td>\n",
              "      <td>3.0</td>\n",
              "    </tr>\n",
              "  </tbody>\n",
              "</table>\n",
              "</div>\n",
              "      <button class=\"colab-df-convert\" onclick=\"convertToInteractive('df-c3f21f0d-190e-4a30-97d1-39c67c925f0e')\"\n",
              "              title=\"Convert this dataframe to an interactive table.\"\n",
              "              style=\"display:none;\">\n",
              "        \n",
              "  <svg xmlns=\"http://www.w3.org/2000/svg\" height=\"24px\"viewBox=\"0 0 24 24\"\n",
              "       width=\"24px\">\n",
              "    <path d=\"M0 0h24v24H0V0z\" fill=\"none\"/>\n",
              "    <path d=\"M18.56 5.44l.94 2.06.94-2.06 2.06-.94-2.06-.94-.94-2.06-.94 2.06-2.06.94zm-11 1L8.5 8.5l.94-2.06 2.06-.94-2.06-.94L8.5 2.5l-.94 2.06-2.06.94zm10 10l.94 2.06.94-2.06 2.06-.94-2.06-.94-.94-2.06-.94 2.06-2.06.94z\"/><path d=\"M17.41 7.96l-1.37-1.37c-.4-.4-.92-.59-1.43-.59-.52 0-1.04.2-1.43.59L10.3 9.45l-7.72 7.72c-.78.78-.78 2.05 0 2.83L4 21.41c.39.39.9.59 1.41.59.51 0 1.02-.2 1.41-.59l7.78-7.78 2.81-2.81c.8-.78.8-2.07 0-2.86zM5.41 20L4 18.59l7.72-7.72 1.47 1.35L5.41 20z\"/>\n",
              "  </svg>\n",
              "      </button>\n",
              "      \n",
              "  <style>\n",
              "    .colab-df-container {\n",
              "      display:flex;\n",
              "      flex-wrap:wrap;\n",
              "      gap: 12px;\n",
              "    }\n",
              "\n",
              "    .colab-df-convert {\n",
              "      background-color: #E8F0FE;\n",
              "      border: none;\n",
              "      border-radius: 50%;\n",
              "      cursor: pointer;\n",
              "      display: none;\n",
              "      fill: #1967D2;\n",
              "      height: 32px;\n",
              "      padding: 0 0 0 0;\n",
              "      width: 32px;\n",
              "    }\n",
              "\n",
              "    .colab-df-convert:hover {\n",
              "      background-color: #E2EBFA;\n",
              "      box-shadow: 0px 1px 2px rgba(60, 64, 67, 0.3), 0px 1px 3px 1px rgba(60, 64, 67, 0.15);\n",
              "      fill: #174EA6;\n",
              "    }\n",
              "\n",
              "    [theme=dark] .colab-df-convert {\n",
              "      background-color: #3B4455;\n",
              "      fill: #D2E3FC;\n",
              "    }\n",
              "\n",
              "    [theme=dark] .colab-df-convert:hover {\n",
              "      background-color: #434B5C;\n",
              "      box-shadow: 0px 1px 3px 1px rgba(0, 0, 0, 0.15);\n",
              "      filter: drop-shadow(0px 1px 2px rgba(0, 0, 0, 0.3));\n",
              "      fill: #FFFFFF;\n",
              "    }\n",
              "  </style>\n",
              "\n",
              "      <script>\n",
              "        const buttonEl =\n",
              "          document.querySelector('#df-c3f21f0d-190e-4a30-97d1-39c67c925f0e button.colab-df-convert');\n",
              "        buttonEl.style.display =\n",
              "          google.colab.kernel.accessAllowed ? 'block' : 'none';\n",
              "\n",
              "        async function convertToInteractive(key) {\n",
              "          const element = document.querySelector('#df-c3f21f0d-190e-4a30-97d1-39c67c925f0e');\n",
              "          const dataTable =\n",
              "            await google.colab.kernel.invokeFunction('convertToInteractive',\n",
              "                                                     [key], {});\n",
              "          if (!dataTable) return;\n",
              "\n",
              "          const docLinkHtml = 'Like what you see? Visit the ' +\n",
              "            '<a target=\"_blank\" href=https://colab.research.google.com/notebooks/data_table.ipynb>data table notebook</a>'\n",
              "            + ' to learn more about interactive tables.';\n",
              "          element.innerHTML = '';\n",
              "          dataTable['output_type'] = 'display_data';\n",
              "          await google.colab.output.renderOutput(dataTable, element);\n",
              "          const docLink = document.createElement('div');\n",
              "          docLink.innerHTML = docLinkHtml;\n",
              "          element.appendChild(docLink);\n",
              "        }\n",
              "      </script>\n",
              "    </div>\n",
              "  </div>\n",
              "  "
            ]
          },
          "metadata": {},
          "execution_count": 100
        }
      ],
      "source": [
        "df_siswa['NILAI'] = df_siswa['NILAI'].astype(float)\n",
        "df_siswa['BOBOT'] = df_siswa['NILAI']\n",
        "df_siswa['GRADE']  = pd.cut(df_siswa.NILAI,[0,44.99,54.99,59.99,64.99,69.99,74.99,79.99,84.99,100],labels=[\"E\",\"D\",\"C\",\"C+\",\"B-\",\"B\",\"B+\",\"A-\",\"A\"])\n",
        "df_siswa['BOBOT']  = pd.cut(df_siswa.NILAI,[0,44.99,54.99,59.99,64.99,69.99,74.99,79.99,84.99,100],labels=[0,1.0,2.0,2.3,2.7,3.0,3.3,3.7,4])\n",
        "df_siswa.head()\n"
      ]
    },
    {
      "cell_type": "markdown",
      "source": [
        "karena disini nilai nan dikarena kan nilai yang 0 maka saya bisa mengisi grade dengan f dan bobot dengan 0"
      ],
      "metadata": {
        "id": "Kn7ZB037jTiK"
      }
    },
    {
      "cell_type": "code",
      "source": [
        "#Terjadi eror jika tidak saya ganti menjadi string terlebih dahulu\n",
        "df_siswa['GRADE'] = df_siswa['GRADE'].astype(str)\n",
        "df_siswa[\"GRADE\"].fillna('F', inplace = True)\n",
        "df_siswa[\"BOBOT\"].fillna(0, inplace = True)\n",
        "\n",
        "df_siswa['GRADE'] = pd.Categorical(df_siswa['GRADE'])"
      ],
      "metadata": {
        "id": "_gONwk3OjJCB"
      },
      "execution_count": 101,
      "outputs": []
    },
    {
      "cell_type": "code",
      "source": [
        "null_check(df_siswa,5)"
      ],
      "metadata": {
        "id": "klNrWXIKhKxS",
        "colab": {
          "base_uri": "https://localhost:8080/",
          "height": 206
        },
        "outputId": "7067fd5d-63da-44cc-834c-647ebabb751f"
      },
      "execution_count": 102,
      "outputs": [
        {
          "output_type": "execute_result",
          "data": {
            "text/plain": [
              "          Total  Percent\n",
              "NIM           0      0.0\n",
              "ANGKATAN      0      0.0\n",
              "SEMESTER      0      0.0\n",
              "NAMA_MK       0      0.0\n",
              "SKS           0      0.0"
            ],
            "text/html": [
              "\n",
              "  <div id=\"df-ad5e40d1-4da9-40e8-81af-70fcff8529ed\">\n",
              "    <div class=\"colab-df-container\">\n",
              "      <div>\n",
              "<style scoped>\n",
              "    .dataframe tbody tr th:only-of-type {\n",
              "        vertical-align: middle;\n",
              "    }\n",
              "\n",
              "    .dataframe tbody tr th {\n",
              "        vertical-align: top;\n",
              "    }\n",
              "\n",
              "    .dataframe thead th {\n",
              "        text-align: right;\n",
              "    }\n",
              "</style>\n",
              "<table border=\"1\" class=\"dataframe\">\n",
              "  <thead>\n",
              "    <tr style=\"text-align: right;\">\n",
              "      <th></th>\n",
              "      <th>Total</th>\n",
              "      <th>Percent</th>\n",
              "    </tr>\n",
              "  </thead>\n",
              "  <tbody>\n",
              "    <tr>\n",
              "      <th>NIM</th>\n",
              "      <td>0</td>\n",
              "      <td>0.0</td>\n",
              "    </tr>\n",
              "    <tr>\n",
              "      <th>ANGKATAN</th>\n",
              "      <td>0</td>\n",
              "      <td>0.0</td>\n",
              "    </tr>\n",
              "    <tr>\n",
              "      <th>SEMESTER</th>\n",
              "      <td>0</td>\n",
              "      <td>0.0</td>\n",
              "    </tr>\n",
              "    <tr>\n",
              "      <th>NAMA_MK</th>\n",
              "      <td>0</td>\n",
              "      <td>0.0</td>\n",
              "    </tr>\n",
              "    <tr>\n",
              "      <th>SKS</th>\n",
              "      <td>0</td>\n",
              "      <td>0.0</td>\n",
              "    </tr>\n",
              "  </tbody>\n",
              "</table>\n",
              "</div>\n",
              "      <button class=\"colab-df-convert\" onclick=\"convertToInteractive('df-ad5e40d1-4da9-40e8-81af-70fcff8529ed')\"\n",
              "              title=\"Convert this dataframe to an interactive table.\"\n",
              "              style=\"display:none;\">\n",
              "        \n",
              "  <svg xmlns=\"http://www.w3.org/2000/svg\" height=\"24px\"viewBox=\"0 0 24 24\"\n",
              "       width=\"24px\">\n",
              "    <path d=\"M0 0h24v24H0V0z\" fill=\"none\"/>\n",
              "    <path d=\"M18.56 5.44l.94 2.06.94-2.06 2.06-.94-2.06-.94-.94-2.06-.94 2.06-2.06.94zm-11 1L8.5 8.5l.94-2.06 2.06-.94-2.06-.94L8.5 2.5l-.94 2.06-2.06.94zm10 10l.94 2.06.94-2.06 2.06-.94-2.06-.94-.94-2.06-.94 2.06-2.06.94z\"/><path d=\"M17.41 7.96l-1.37-1.37c-.4-.4-.92-.59-1.43-.59-.52 0-1.04.2-1.43.59L10.3 9.45l-7.72 7.72c-.78.78-.78 2.05 0 2.83L4 21.41c.39.39.9.59 1.41.59.51 0 1.02-.2 1.41-.59l7.78-7.78 2.81-2.81c.8-.78.8-2.07 0-2.86zM5.41 20L4 18.59l7.72-7.72 1.47 1.35L5.41 20z\"/>\n",
              "  </svg>\n",
              "      </button>\n",
              "      \n",
              "  <style>\n",
              "    .colab-df-container {\n",
              "      display:flex;\n",
              "      flex-wrap:wrap;\n",
              "      gap: 12px;\n",
              "    }\n",
              "\n",
              "    .colab-df-convert {\n",
              "      background-color: #E8F0FE;\n",
              "      border: none;\n",
              "      border-radius: 50%;\n",
              "      cursor: pointer;\n",
              "      display: none;\n",
              "      fill: #1967D2;\n",
              "      height: 32px;\n",
              "      padding: 0 0 0 0;\n",
              "      width: 32px;\n",
              "    }\n",
              "\n",
              "    .colab-df-convert:hover {\n",
              "      background-color: #E2EBFA;\n",
              "      box-shadow: 0px 1px 2px rgba(60, 64, 67, 0.3), 0px 1px 3px 1px rgba(60, 64, 67, 0.15);\n",
              "      fill: #174EA6;\n",
              "    }\n",
              "\n",
              "    [theme=dark] .colab-df-convert {\n",
              "      background-color: #3B4455;\n",
              "      fill: #D2E3FC;\n",
              "    }\n",
              "\n",
              "    [theme=dark] .colab-df-convert:hover {\n",
              "      background-color: #434B5C;\n",
              "      box-shadow: 0px 1px 3px 1px rgba(0, 0, 0, 0.15);\n",
              "      filter: drop-shadow(0px 1px 2px rgba(0, 0, 0, 0.3));\n",
              "      fill: #FFFFFF;\n",
              "    }\n",
              "  </style>\n",
              "\n",
              "      <script>\n",
              "        const buttonEl =\n",
              "          document.querySelector('#df-ad5e40d1-4da9-40e8-81af-70fcff8529ed button.colab-df-convert');\n",
              "        buttonEl.style.display =\n",
              "          google.colab.kernel.accessAllowed ? 'block' : 'none';\n",
              "\n",
              "        async function convertToInteractive(key) {\n",
              "          const element = document.querySelector('#df-ad5e40d1-4da9-40e8-81af-70fcff8529ed');\n",
              "          const dataTable =\n",
              "            await google.colab.kernel.invokeFunction('convertToInteractive',\n",
              "                                                     [key], {});\n",
              "          if (!dataTable) return;\n",
              "\n",
              "          const docLinkHtml = 'Like what you see? Visit the ' +\n",
              "            '<a target=\"_blank\" href=https://colab.research.google.com/notebooks/data_table.ipynb>data table notebook</a>'\n",
              "            + ' to learn more about interactive tables.';\n",
              "          element.innerHTML = '';\n",
              "          dataTable['output_type'] = 'display_data';\n",
              "          await google.colab.output.renderOutput(dataTable, element);\n",
              "          const docLink = document.createElement('div');\n",
              "          docLink.innerHTML = docLinkHtml;\n",
              "          element.appendChild(docLink);\n",
              "        }\n",
              "      </script>\n",
              "    </div>\n",
              "  </div>\n",
              "  "
            ]
          },
          "metadata": {},
          "execution_count": 102
        }
      ]
    },
    {
      "cell_type": "code",
      "source": [
        "df_siswa.head()"
      ],
      "metadata": {
        "id": "K8lUM-ogN7bM",
        "colab": {
          "base_uri": "https://localhost:8080/",
          "height": 206
        },
        "outputId": "5e7d50a2-e09c-44fa-a3c2-20d3dee6d170"
      },
      "execution_count": 103,
      "outputs": [
        {
          "output_type": "execute_result",
          "data": {
            "text/plain": [
              "           NIM  ANGKATAN SEMESTER                         NAMA_MK  SKS  NILAI  \\\n",
              "0  10110310002      2010     1011              Dasar-dasar Bisnis    3   57.0   \n",
              "1  10110310002      2010     1011               Matematika Bisnis    3   70.0   \n",
              "2  10110310002      2010     1011       Algoritma dan Pemrograman    4   57.0   \n",
              "3  10110310002      2010     1011              Matematika Diskrit    3   59.0   \n",
              "4  10110310002      2010     1011  Pengantar Teknologi Multimedia    3   74.0   \n",
              "\n",
              "  GRADE BOBOT  \n",
              "0     C   2.0  \n",
              "1     B   3.0  \n",
              "2     C   2.0  \n",
              "3     C   2.0  \n",
              "4     B   3.0  "
            ],
            "text/html": [
              "\n",
              "  <div id=\"df-a176c123-4ede-4b63-aac5-b432a2543073\">\n",
              "    <div class=\"colab-df-container\">\n",
              "      <div>\n",
              "<style scoped>\n",
              "    .dataframe tbody tr th:only-of-type {\n",
              "        vertical-align: middle;\n",
              "    }\n",
              "\n",
              "    .dataframe tbody tr th {\n",
              "        vertical-align: top;\n",
              "    }\n",
              "\n",
              "    .dataframe thead th {\n",
              "        text-align: right;\n",
              "    }\n",
              "</style>\n",
              "<table border=\"1\" class=\"dataframe\">\n",
              "  <thead>\n",
              "    <tr style=\"text-align: right;\">\n",
              "      <th></th>\n",
              "      <th>NIM</th>\n",
              "      <th>ANGKATAN</th>\n",
              "      <th>SEMESTER</th>\n",
              "      <th>NAMA_MK</th>\n",
              "      <th>SKS</th>\n",
              "      <th>NILAI</th>\n",
              "      <th>GRADE</th>\n",
              "      <th>BOBOT</th>\n",
              "    </tr>\n",
              "  </thead>\n",
              "  <tbody>\n",
              "    <tr>\n",
              "      <th>0</th>\n",
              "      <td>10110310002</td>\n",
              "      <td>2010</td>\n",
              "      <td>1011</td>\n",
              "      <td>Dasar-dasar Bisnis</td>\n",
              "      <td>3</td>\n",
              "      <td>57.0</td>\n",
              "      <td>C</td>\n",
              "      <td>2.0</td>\n",
              "    </tr>\n",
              "    <tr>\n",
              "      <th>1</th>\n",
              "      <td>10110310002</td>\n",
              "      <td>2010</td>\n",
              "      <td>1011</td>\n",
              "      <td>Matematika Bisnis</td>\n",
              "      <td>3</td>\n",
              "      <td>70.0</td>\n",
              "      <td>B</td>\n",
              "      <td>3.0</td>\n",
              "    </tr>\n",
              "    <tr>\n",
              "      <th>2</th>\n",
              "      <td>10110310002</td>\n",
              "      <td>2010</td>\n",
              "      <td>1011</td>\n",
              "      <td>Algoritma dan Pemrograman</td>\n",
              "      <td>4</td>\n",
              "      <td>57.0</td>\n",
              "      <td>C</td>\n",
              "      <td>2.0</td>\n",
              "    </tr>\n",
              "    <tr>\n",
              "      <th>3</th>\n",
              "      <td>10110310002</td>\n",
              "      <td>2010</td>\n",
              "      <td>1011</td>\n",
              "      <td>Matematika Diskrit</td>\n",
              "      <td>3</td>\n",
              "      <td>59.0</td>\n",
              "      <td>C</td>\n",
              "      <td>2.0</td>\n",
              "    </tr>\n",
              "    <tr>\n",
              "      <th>4</th>\n",
              "      <td>10110310002</td>\n",
              "      <td>2010</td>\n",
              "      <td>1011</td>\n",
              "      <td>Pengantar Teknologi Multimedia</td>\n",
              "      <td>3</td>\n",
              "      <td>74.0</td>\n",
              "      <td>B</td>\n",
              "      <td>3.0</td>\n",
              "    </tr>\n",
              "  </tbody>\n",
              "</table>\n",
              "</div>\n",
              "      <button class=\"colab-df-convert\" onclick=\"convertToInteractive('df-a176c123-4ede-4b63-aac5-b432a2543073')\"\n",
              "              title=\"Convert this dataframe to an interactive table.\"\n",
              "              style=\"display:none;\">\n",
              "        \n",
              "  <svg xmlns=\"http://www.w3.org/2000/svg\" height=\"24px\"viewBox=\"0 0 24 24\"\n",
              "       width=\"24px\">\n",
              "    <path d=\"M0 0h24v24H0V0z\" fill=\"none\"/>\n",
              "    <path d=\"M18.56 5.44l.94 2.06.94-2.06 2.06-.94-2.06-.94-.94-2.06-.94 2.06-2.06.94zm-11 1L8.5 8.5l.94-2.06 2.06-.94-2.06-.94L8.5 2.5l-.94 2.06-2.06.94zm10 10l.94 2.06.94-2.06 2.06-.94-2.06-.94-.94-2.06-.94 2.06-2.06.94z\"/><path d=\"M17.41 7.96l-1.37-1.37c-.4-.4-.92-.59-1.43-.59-.52 0-1.04.2-1.43.59L10.3 9.45l-7.72 7.72c-.78.78-.78 2.05 0 2.83L4 21.41c.39.39.9.59 1.41.59.51 0 1.02-.2 1.41-.59l7.78-7.78 2.81-2.81c.8-.78.8-2.07 0-2.86zM5.41 20L4 18.59l7.72-7.72 1.47 1.35L5.41 20z\"/>\n",
              "  </svg>\n",
              "      </button>\n",
              "      \n",
              "  <style>\n",
              "    .colab-df-container {\n",
              "      display:flex;\n",
              "      flex-wrap:wrap;\n",
              "      gap: 12px;\n",
              "    }\n",
              "\n",
              "    .colab-df-convert {\n",
              "      background-color: #E8F0FE;\n",
              "      border: none;\n",
              "      border-radius: 50%;\n",
              "      cursor: pointer;\n",
              "      display: none;\n",
              "      fill: #1967D2;\n",
              "      height: 32px;\n",
              "      padding: 0 0 0 0;\n",
              "      width: 32px;\n",
              "    }\n",
              "\n",
              "    .colab-df-convert:hover {\n",
              "      background-color: #E2EBFA;\n",
              "      box-shadow: 0px 1px 2px rgba(60, 64, 67, 0.3), 0px 1px 3px 1px rgba(60, 64, 67, 0.15);\n",
              "      fill: #174EA6;\n",
              "    }\n",
              "\n",
              "    [theme=dark] .colab-df-convert {\n",
              "      background-color: #3B4455;\n",
              "      fill: #D2E3FC;\n",
              "    }\n",
              "\n",
              "    [theme=dark] .colab-df-convert:hover {\n",
              "      background-color: #434B5C;\n",
              "      box-shadow: 0px 1px 3px 1px rgba(0, 0, 0, 0.15);\n",
              "      filter: drop-shadow(0px 1px 2px rgba(0, 0, 0, 0.3));\n",
              "      fill: #FFFFFF;\n",
              "    }\n",
              "  </style>\n",
              "\n",
              "      <script>\n",
              "        const buttonEl =\n",
              "          document.querySelector('#df-a176c123-4ede-4b63-aac5-b432a2543073 button.colab-df-convert');\n",
              "        buttonEl.style.display =\n",
              "          google.colab.kernel.accessAllowed ? 'block' : 'none';\n",
              "\n",
              "        async function convertToInteractive(key) {\n",
              "          const element = document.querySelector('#df-a176c123-4ede-4b63-aac5-b432a2543073');\n",
              "          const dataTable =\n",
              "            await google.colab.kernel.invokeFunction('convertToInteractive',\n",
              "                                                     [key], {});\n",
              "          if (!dataTable) return;\n",
              "\n",
              "          const docLinkHtml = 'Like what you see? Visit the ' +\n",
              "            '<a target=\"_blank\" href=https://colab.research.google.com/notebooks/data_table.ipynb>data table notebook</a>'\n",
              "            + ' to learn more about interactive tables.';\n",
              "          element.innerHTML = '';\n",
              "          dataTable['output_type'] = 'display_data';\n",
              "          await google.colab.output.renderOutput(dataTable, element);\n",
              "          const docLink = document.createElement('div');\n",
              "          docLink.innerHTML = docLinkHtml;\n",
              "          element.appendChild(docLink);\n",
              "        }\n",
              "      </script>\n",
              "    </div>\n",
              "  </div>\n",
              "  "
            ]
          },
          "metadata": {},
          "execution_count": 103
        }
      ]
    },
    {
      "cell_type": "code",
      "source": [
        "null_check(df_siswa,10)"
      ],
      "metadata": {
        "id": "K96hDZ2mw8iw",
        "colab": {
          "base_uri": "https://localhost:8080/",
          "height": 300
        },
        "outputId": "9038c48f-86f2-4905-e074-ad5b494a8e15"
      },
      "execution_count": 104,
      "outputs": [
        {
          "output_type": "execute_result",
          "data": {
            "text/plain": [
              "          Total  Percent\n",
              "NIM           0      0.0\n",
              "ANGKATAN      0      0.0\n",
              "SEMESTER      0      0.0\n",
              "NAMA_MK       0      0.0\n",
              "SKS           0      0.0\n",
              "NILAI         0      0.0\n",
              "GRADE         0      0.0\n",
              "BOBOT         0      0.0"
            ],
            "text/html": [
              "\n",
              "  <div id=\"df-4eb902eb-4f68-4541-9b3b-1ccbc6da5cdc\">\n",
              "    <div class=\"colab-df-container\">\n",
              "      <div>\n",
              "<style scoped>\n",
              "    .dataframe tbody tr th:only-of-type {\n",
              "        vertical-align: middle;\n",
              "    }\n",
              "\n",
              "    .dataframe tbody tr th {\n",
              "        vertical-align: top;\n",
              "    }\n",
              "\n",
              "    .dataframe thead th {\n",
              "        text-align: right;\n",
              "    }\n",
              "</style>\n",
              "<table border=\"1\" class=\"dataframe\">\n",
              "  <thead>\n",
              "    <tr style=\"text-align: right;\">\n",
              "      <th></th>\n",
              "      <th>Total</th>\n",
              "      <th>Percent</th>\n",
              "    </tr>\n",
              "  </thead>\n",
              "  <tbody>\n",
              "    <tr>\n",
              "      <th>NIM</th>\n",
              "      <td>0</td>\n",
              "      <td>0.0</td>\n",
              "    </tr>\n",
              "    <tr>\n",
              "      <th>ANGKATAN</th>\n",
              "      <td>0</td>\n",
              "      <td>0.0</td>\n",
              "    </tr>\n",
              "    <tr>\n",
              "      <th>SEMESTER</th>\n",
              "      <td>0</td>\n",
              "      <td>0.0</td>\n",
              "    </tr>\n",
              "    <tr>\n",
              "      <th>NAMA_MK</th>\n",
              "      <td>0</td>\n",
              "      <td>0.0</td>\n",
              "    </tr>\n",
              "    <tr>\n",
              "      <th>SKS</th>\n",
              "      <td>0</td>\n",
              "      <td>0.0</td>\n",
              "    </tr>\n",
              "    <tr>\n",
              "      <th>NILAI</th>\n",
              "      <td>0</td>\n",
              "      <td>0.0</td>\n",
              "    </tr>\n",
              "    <tr>\n",
              "      <th>GRADE</th>\n",
              "      <td>0</td>\n",
              "      <td>0.0</td>\n",
              "    </tr>\n",
              "    <tr>\n",
              "      <th>BOBOT</th>\n",
              "      <td>0</td>\n",
              "      <td>0.0</td>\n",
              "    </tr>\n",
              "  </tbody>\n",
              "</table>\n",
              "</div>\n",
              "      <button class=\"colab-df-convert\" onclick=\"convertToInteractive('df-4eb902eb-4f68-4541-9b3b-1ccbc6da5cdc')\"\n",
              "              title=\"Convert this dataframe to an interactive table.\"\n",
              "              style=\"display:none;\">\n",
              "        \n",
              "  <svg xmlns=\"http://www.w3.org/2000/svg\" height=\"24px\"viewBox=\"0 0 24 24\"\n",
              "       width=\"24px\">\n",
              "    <path d=\"M0 0h24v24H0V0z\" fill=\"none\"/>\n",
              "    <path d=\"M18.56 5.44l.94 2.06.94-2.06 2.06-.94-2.06-.94-.94-2.06-.94 2.06-2.06.94zm-11 1L8.5 8.5l.94-2.06 2.06-.94-2.06-.94L8.5 2.5l-.94 2.06-2.06.94zm10 10l.94 2.06.94-2.06 2.06-.94-2.06-.94-.94-2.06-.94 2.06-2.06.94z\"/><path d=\"M17.41 7.96l-1.37-1.37c-.4-.4-.92-.59-1.43-.59-.52 0-1.04.2-1.43.59L10.3 9.45l-7.72 7.72c-.78.78-.78 2.05 0 2.83L4 21.41c.39.39.9.59 1.41.59.51 0 1.02-.2 1.41-.59l7.78-7.78 2.81-2.81c.8-.78.8-2.07 0-2.86zM5.41 20L4 18.59l7.72-7.72 1.47 1.35L5.41 20z\"/>\n",
              "  </svg>\n",
              "      </button>\n",
              "      \n",
              "  <style>\n",
              "    .colab-df-container {\n",
              "      display:flex;\n",
              "      flex-wrap:wrap;\n",
              "      gap: 12px;\n",
              "    }\n",
              "\n",
              "    .colab-df-convert {\n",
              "      background-color: #E8F0FE;\n",
              "      border: none;\n",
              "      border-radius: 50%;\n",
              "      cursor: pointer;\n",
              "      display: none;\n",
              "      fill: #1967D2;\n",
              "      height: 32px;\n",
              "      padding: 0 0 0 0;\n",
              "      width: 32px;\n",
              "    }\n",
              "\n",
              "    .colab-df-convert:hover {\n",
              "      background-color: #E2EBFA;\n",
              "      box-shadow: 0px 1px 2px rgba(60, 64, 67, 0.3), 0px 1px 3px 1px rgba(60, 64, 67, 0.15);\n",
              "      fill: #174EA6;\n",
              "    }\n",
              "\n",
              "    [theme=dark] .colab-df-convert {\n",
              "      background-color: #3B4455;\n",
              "      fill: #D2E3FC;\n",
              "    }\n",
              "\n",
              "    [theme=dark] .colab-df-convert:hover {\n",
              "      background-color: #434B5C;\n",
              "      box-shadow: 0px 1px 3px 1px rgba(0, 0, 0, 0.15);\n",
              "      filter: drop-shadow(0px 1px 2px rgba(0, 0, 0, 0.3));\n",
              "      fill: #FFFFFF;\n",
              "    }\n",
              "  </style>\n",
              "\n",
              "      <script>\n",
              "        const buttonEl =\n",
              "          document.querySelector('#df-4eb902eb-4f68-4541-9b3b-1ccbc6da5cdc button.colab-df-convert');\n",
              "        buttonEl.style.display =\n",
              "          google.colab.kernel.accessAllowed ? 'block' : 'none';\n",
              "\n",
              "        async function convertToInteractive(key) {\n",
              "          const element = document.querySelector('#df-4eb902eb-4f68-4541-9b3b-1ccbc6da5cdc');\n",
              "          const dataTable =\n",
              "            await google.colab.kernel.invokeFunction('convertToInteractive',\n",
              "                                                     [key], {});\n",
              "          if (!dataTable) return;\n",
              "\n",
              "          const docLinkHtml = 'Like what you see? Visit the ' +\n",
              "            '<a target=\"_blank\" href=https://colab.research.google.com/notebooks/data_table.ipynb>data table notebook</a>'\n",
              "            + ' to learn more about interactive tables.';\n",
              "          element.innerHTML = '';\n",
              "          dataTable['output_type'] = 'display_data';\n",
              "          await google.colab.output.renderOutput(dataTable, element);\n",
              "          const docLink = document.createElement('div');\n",
              "          docLink.innerHTML = docLinkHtml;\n",
              "          element.appendChild(docLink);\n",
              "        }\n",
              "      </script>\n",
              "    </div>\n",
              "  </div>\n",
              "  "
            ]
          },
          "metadata": {},
          "execution_count": 104
        }
      ]
    },
    {
      "cell_type": "code",
      "source": [
        "df_siswa.info()"
      ],
      "metadata": {
        "id": "4Cl0iGxQ2mbM",
        "colab": {
          "base_uri": "https://localhost:8080/"
        },
        "outputId": "799bc7fd-cb48-4c94-9ada-7d0117d1f7e5"
      },
      "execution_count": 105,
      "outputs": [
        {
          "output_type": "stream",
          "name": "stdout",
          "text": [
            "<class 'pandas.core.frame.DataFrame'>\n",
            "RangeIndex: 30870 entries, 0 to 30869\n",
            "Data columns (total 8 columns):\n",
            " #   Column    Non-Null Count  Dtype   \n",
            "---  ------    --------------  -----   \n",
            " 0   NIM       30870 non-null  int64   \n",
            " 1   ANGKATAN  30870 non-null  int64   \n",
            " 2   SEMESTER  30870 non-null  object  \n",
            " 3   NAMA_MK   30870 non-null  object  \n",
            " 4   SKS       30870 non-null  int64   \n",
            " 5   NILAI     30870 non-null  float64 \n",
            " 6   GRADE     30870 non-null  category\n",
            " 7   BOBOT     30870 non-null  category\n",
            "dtypes: category(2), float64(1), int64(3), object(2)\n",
            "memory usage: 1.5+ MB\n"
          ]
        }
      ]
    },
    {
      "cell_type": "code",
      "source": [
        "df_siswa['NILAI'] = df_siswa['NILAI'].astype(float)"
      ],
      "metadata": {
        "id": "frB71akZ3MM0"
      },
      "execution_count": 106,
      "outputs": []
    },
    {
      "cell_type": "markdown",
      "source": [
        "Dari kolom SEMESTER dibuatlah kolom Tahun_Ajar ,karena dari kolom tersebut \n",
        "mengandung tahun kapan semester itu digelar, berikut kode nya :"
      ],
      "metadata": {
        "id": "kulzUwLbvfjH"
      }
    },
    {
      "cell_type": "code",
      "source": [
        "df_siswa.SEMESTER = df_siswa.SEMESTER.apply(pd.to_numeric)\n",
        "df_siswa['Tahun_Ajar'] = df_siswa['SEMESTER']\n",
        "\n",
        "df_siswa['Tahun_Ajar'] = pd.cut(df_siswa['SEMESTER'],[0,1023,1123,1223,1323,1423,1523,1623,1723,1823,1923],labels = ['2010', '2011','2012','2013','2014', '2015', '2016', '2017', '2018', '2019'],ordered=False)"
      ],
      "metadata": {
        "id": "9_tHtrowOIeU"
      },
      "execution_count": 107,
      "outputs": []
    },
    {
      "cell_type": "code",
      "source": [
        "df_forsks = df_forsks.drop_duplicates(subset=['NIM','SEMESTER','NAMA_MK'], keep='first')\n",
        "df_siswa = df_siswa.drop_duplicates(subset=['NIM','SEMESTER','NAMA_MK'], keep='first')"
      ],
      "metadata": {
        "id": "W11HRK3Tmkk1"
      },
      "execution_count": 108,
      "outputs": []
    },
    {
      "cell_type": "markdown",
      "source": [
        "#Bagian Grouping"
      ],
      "metadata": {
        "id": "Ru6rWB1Xm9Wf"
      }
    },
    {
      "cell_type": "markdown",
      "metadata": {
        "id": "6uTJa9tTRNdF"
      },
      "source": [
        "Untuk mengetahui apakah nim tersebut lulus kita harus membuat kolom yang memenuhi \n",
        "informasi syarat lulus dibawah:\n",
        "\n",
        "\n",
        "*   IPK di atas 2.5,4. Nilai IPK adalah total nilai IPS dibagi dengan total semester.\n",
        "*   144 SKS.\n",
        "*   Tidak ada grade D, E, dan F pada setiap mata kuliah.\n",
        "\n",
        "Sebelum mendapatkan kolom IPS kita harus mendapatkan jumlah dari mengalikan BOBOT \n",
        "dengan SKS,tapi sks yang digunakan adalah sks dari dataset lain karena sks di df_siswa sudah \n",
        "dimanipulasi untuk menyaring grade D,E, dan Fberikut code nya :\n",
        "\n",
        "\n",
        "\n"
      ]
    },
    {
      "cell_type": "code",
      "source": [
        "df_siswa.Tahun_Ajar= df_siswa.Tahun_Ajar.astype('int')"
      ],
      "metadata": {
        "id": "gCJg9HMidABg",
        "colab": {
          "base_uri": "https://localhost:8080/"
        },
        "outputId": "37446e9b-311a-4378-8a49-c9f353788a45"
      },
      "execution_count": 109,
      "outputs": [
        {
          "output_type": "stream",
          "name": "stderr",
          "text": [
            "/usr/local/lib/python3.7/dist-packages/pandas/core/generic.py:5516: SettingWithCopyWarning: \n",
            "A value is trying to be set on a copy of a slice from a DataFrame.\n",
            "Try using .loc[row_indexer,col_indexer] = value instead\n",
            "\n",
            "See the caveats in the documentation: https://pandas.pydata.org/pandas-docs/stable/user_guide/indexing.html#returning-a-view-versus-a-copy\n",
            "  self[name] = value\n"
          ]
        }
      ]
    },
    {
      "cell_type": "code",
      "source": [
        "df_skssem = df_forsks.groupby(\n",
        "     ['NIM','ANGKATAN','SEMESTER']\n",
        " ).agg(\n",
        "      \n",
        "      SKS = ('SKS','sum'),\n",
        "\n",
        ").reset_index()\n"
      ],
      "metadata": {
        "id": "VBGtiiqALeSq"
      },
      "execution_count": 110,
      "outputs": []
    },
    {
      "cell_type": "code",
      "source": [
        "df_skssum = df_skssem.groupby(\n",
        "     ['NIM','ANGKATAN']\n",
        " ).agg(\n",
        "      \n",
        "      SKS = ('SKS','sum'),\n",
        "      SKSmean = ('SKS','mean'),\n",
        "      \n",
        ").reset_index()     "
      ],
      "metadata": {
        "id": "HT5R9QGdLyL6"
      },
      "execution_count": 111,
      "outputs": []
    },
    {
      "cell_type": "code",
      "execution_count": 112,
      "metadata": {
        "id": "70OyY8VybvTX"
      },
      "outputs": [],
      "source": [
        "#Pengali bobot dan sks\n",
        "\n",
        "df_siswa.BOBOT = df_siswa.BOBOT.apply(pd.to_numeric)\n",
        "df_siswa.BOBOT = df_siswa.BOBOT.astype('int')\n",
        "df_siswa['BOBOTXSKS'] = df_siswa.BOBOT * df_forsks.SKS"
      ]
    },
    {
      "cell_type": "markdown",
      "source": [
        "Dari sini dibuat dataset baru bernama df_final dengan mengroping data kolom \n",
        "NIM,ANGKATAN,dan SEMESTER dengan jumlah bobot kali sks per semester,jumlah sks per \n",
        "semester, mean nilai per semester , mean bobot per semester dan kapan tahun ajar sebuah\n",
        "semester , lalu dilakukan proses perkalian antara hasil sks kali bobot persemester dengan SKS\n",
        "persemester yang belum di manipulasi berikut codenya :\n"
      ],
      "metadata": {
        "id": "yJhPs_FTv8qN"
      }
    },
    {
      "cell_type": "code",
      "execution_count": 113,
      "metadata": {
        "id": "bAuAH1PEsjml"
      },
      "outputs": [],
      "source": [
        "df_final = df_siswa.groupby(\n",
        "     ['NIM','ANGKATAN','SEMESTER']\n",
        " ).agg(\n",
        "      sumsksbobot = ('BOBOTXSKS','sum'),\n",
        "      SKS = ('SKS','sum'),\n",
        "      \n",
        "      NILAI = ('NILAI','mean'),\n",
        "      BOBOT = ('BOBOT','mean'),\n",
        "      TAHUN = ('Tahun_Ajar',np.max),\n",
        "      \n",
        "    \n",
        "     \n",
        "     \n",
        "      \n",
        " ).reset_index()\n",
        "\n",
        "df_final[\"IPS\"] = df_final.sumsksbobot / df_skssem.SKS"
      ]
    },
    {
      "cell_type": "markdown",
      "source": [
        "Setelah sudah mendapatkan nilai IPS,dibutuhkan total nilai IPS dan dibagi jumlah semester \n",
        "agar menjadi nilai IPK, untuk mendapatkan total IPS dilakukan gruping data NIM dan \n",
        "ANGKATAN dengan total IPS selama kuliah, nilai rataan IPS, jumlah semester,jumlah \n",
        "SKS,rataan sks per semester, rataan nilai selama kuliah, rataan bobot selama kuliah, dan berapa \n",
        "tahun mahasiswa tersebut sudah berkuliah setelah itu meansks nya juga direplace dari tabel sks \n",
        "nya belum dimanipulasi ,berikut code nya :\n"
      ],
      "metadata": {
        "id": "IPchmS2zwBq-"
      }
    },
    {
      "cell_type": "code",
      "source": [
        "df_finalis = df_final.groupby(\n",
        "     ['NIM','ANGKATAN']\n",
        " ).agg(\n",
        "      # sumsksbobot = ('BOBOTXSKS','sum'),\n",
        "      IPS = ('IPS','sum'),\n",
        "      IPSmean = ('IPS','mean'),\n",
        "      SEMESTER = ('SEMESTER','nunique'),\n",
        "      SKS = ('SKS','sum'),\n",
        "      SKSmean = ('SKS','mean'),\n",
        "      meNILAI = ('NILAI','mean'),\n",
        "      meBOBOT = ('BOBOT','mean'),\n",
        "      TAHUN = ('TAHUN','nunique'),\n",
        "       \n",
        " ).reset_index()\n",
        "\n",
        "df_finalis[\"IPK\"] = df_finalis.IPS / df_finalis.SEMESTER"
      ],
      "metadata": {
        "id": "oza4YqLZTVTt"
      },
      "execution_count": 114,
      "outputs": []
    },
    {
      "cell_type": "code",
      "source": [
        "df_finalis.loc[(df_finalis['NIM'] == 18866)]"
      ],
      "metadata": {
        "id": "BiGYwEFwR5Xl",
        "colab": {
          "base_uri": "https://localhost:8080/",
          "height": 49
        },
        "outputId": "4197eaa7-19ea-464e-e758-c7f0c0c00587"
      },
      "execution_count": 115,
      "outputs": [
        {
          "output_type": "execute_result",
          "data": {
            "text/plain": [
              "Empty DataFrame\n",
              "Columns: [NIM, ANGKATAN, IPS, IPSmean, SEMESTER, SKS, SKSmean, meNILAI, meBOBOT, TAHUN, IPK]\n",
              "Index: []"
            ],
            "text/html": [
              "\n",
              "  <div id=\"df-f906e6ee-0f4e-489c-802a-ea996d7c57a4\">\n",
              "    <div class=\"colab-df-container\">\n",
              "      <div>\n",
              "<style scoped>\n",
              "    .dataframe tbody tr th:only-of-type {\n",
              "        vertical-align: middle;\n",
              "    }\n",
              "\n",
              "    .dataframe tbody tr th {\n",
              "        vertical-align: top;\n",
              "    }\n",
              "\n",
              "    .dataframe thead th {\n",
              "        text-align: right;\n",
              "    }\n",
              "</style>\n",
              "<table border=\"1\" class=\"dataframe\">\n",
              "  <thead>\n",
              "    <tr style=\"text-align: right;\">\n",
              "      <th></th>\n",
              "      <th>NIM</th>\n",
              "      <th>ANGKATAN</th>\n",
              "      <th>IPS</th>\n",
              "      <th>IPSmean</th>\n",
              "      <th>SEMESTER</th>\n",
              "      <th>SKS</th>\n",
              "      <th>SKSmean</th>\n",
              "      <th>meNILAI</th>\n",
              "      <th>meBOBOT</th>\n",
              "      <th>TAHUN</th>\n",
              "      <th>IPK</th>\n",
              "    </tr>\n",
              "  </thead>\n",
              "  <tbody>\n",
              "  </tbody>\n",
              "</table>\n",
              "</div>\n",
              "      <button class=\"colab-df-convert\" onclick=\"convertToInteractive('df-f906e6ee-0f4e-489c-802a-ea996d7c57a4')\"\n",
              "              title=\"Convert this dataframe to an interactive table.\"\n",
              "              style=\"display:none;\">\n",
              "        \n",
              "  <svg xmlns=\"http://www.w3.org/2000/svg\" height=\"24px\"viewBox=\"0 0 24 24\"\n",
              "       width=\"24px\">\n",
              "    <path d=\"M0 0h24v24H0V0z\" fill=\"none\"/>\n",
              "    <path d=\"M18.56 5.44l.94 2.06.94-2.06 2.06-.94-2.06-.94-.94-2.06-.94 2.06-2.06.94zm-11 1L8.5 8.5l.94-2.06 2.06-.94-2.06-.94L8.5 2.5l-.94 2.06-2.06.94zm10 10l.94 2.06.94-2.06 2.06-.94-2.06-.94-.94-2.06-.94 2.06-2.06.94z\"/><path d=\"M17.41 7.96l-1.37-1.37c-.4-.4-.92-.59-1.43-.59-.52 0-1.04.2-1.43.59L10.3 9.45l-7.72 7.72c-.78.78-.78 2.05 0 2.83L4 21.41c.39.39.9.59 1.41.59.51 0 1.02-.2 1.41-.59l7.78-7.78 2.81-2.81c.8-.78.8-2.07 0-2.86zM5.41 20L4 18.59l7.72-7.72 1.47 1.35L5.41 20z\"/>\n",
              "  </svg>\n",
              "      </button>\n",
              "      \n",
              "  <style>\n",
              "    .colab-df-container {\n",
              "      display:flex;\n",
              "      flex-wrap:wrap;\n",
              "      gap: 12px;\n",
              "    }\n",
              "\n",
              "    .colab-df-convert {\n",
              "      background-color: #E8F0FE;\n",
              "      border: none;\n",
              "      border-radius: 50%;\n",
              "      cursor: pointer;\n",
              "      display: none;\n",
              "      fill: #1967D2;\n",
              "      height: 32px;\n",
              "      padding: 0 0 0 0;\n",
              "      width: 32px;\n",
              "    }\n",
              "\n",
              "    .colab-df-convert:hover {\n",
              "      background-color: #E2EBFA;\n",
              "      box-shadow: 0px 1px 2px rgba(60, 64, 67, 0.3), 0px 1px 3px 1px rgba(60, 64, 67, 0.15);\n",
              "      fill: #174EA6;\n",
              "    }\n",
              "\n",
              "    [theme=dark] .colab-df-convert {\n",
              "      background-color: #3B4455;\n",
              "      fill: #D2E3FC;\n",
              "    }\n",
              "\n",
              "    [theme=dark] .colab-df-convert:hover {\n",
              "      background-color: #434B5C;\n",
              "      box-shadow: 0px 1px 3px 1px rgba(0, 0, 0, 0.15);\n",
              "      filter: drop-shadow(0px 1px 2px rgba(0, 0, 0, 0.3));\n",
              "      fill: #FFFFFF;\n",
              "    }\n",
              "  </style>\n",
              "\n",
              "      <script>\n",
              "        const buttonEl =\n",
              "          document.querySelector('#df-f906e6ee-0f4e-489c-802a-ea996d7c57a4 button.colab-df-convert');\n",
              "        buttonEl.style.display =\n",
              "          google.colab.kernel.accessAllowed ? 'block' : 'none';\n",
              "\n",
              "        async function convertToInteractive(key) {\n",
              "          const element = document.querySelector('#df-f906e6ee-0f4e-489c-802a-ea996d7c57a4');\n",
              "          const dataTable =\n",
              "            await google.colab.kernel.invokeFunction('convertToInteractive',\n",
              "                                                     [key], {});\n",
              "          if (!dataTable) return;\n",
              "\n",
              "          const docLinkHtml = 'Like what you see? Visit the ' +\n",
              "            '<a target=\"_blank\" href=https://colab.research.google.com/notebooks/data_table.ipynb>data table notebook</a>'\n",
              "            + ' to learn more about interactive tables.';\n",
              "          element.innerHTML = '';\n",
              "          dataTable['output_type'] = 'display_data';\n",
              "          await google.colab.output.renderOutput(dataTable, element);\n",
              "          const docLink = document.createElement('div');\n",
              "          docLink.innerHTML = docLinkHtml;\n",
              "          element.appendChild(docLink);\n",
              "        }\n",
              "      </script>\n",
              "    </div>\n",
              "  </div>\n",
              "  "
            ]
          },
          "metadata": {},
          "execution_count": 115
        }
      ]
    },
    {
      "cell_type": "code",
      "source": [
        "\n",
        "df_finalis.SKSmean.replace(df_skssum.SKSmean, inplace=True)"
      ],
      "metadata": {
        "id": "IFBpv4sZQ7bV"
      },
      "execution_count": 116,
      "outputs": []
    },
    {
      "cell_type": "code",
      "source": [
        "check_val(df_siswa.NIM,df_finalis.NIM)"
      ],
      "metadata": {
        "id": "Uv3NvdCC2-dO"
      },
      "execution_count": 117,
      "outputs": []
    },
    {
      "cell_type": "code",
      "source": [
        "df_finalis.head()"
      ],
      "metadata": {
        "id": "PEkJuMmFRiWO",
        "colab": {
          "base_uri": "https://localhost:8080/",
          "height": 206
        },
        "outputId": "b6c363a9-2972-470b-f08c-02eb4245b11d"
      },
      "execution_count": 118,
      "outputs": [
        {
          "output_type": "execute_result",
          "data": {
            "text/plain": [
              "    NIM  ANGKATAN        IPS   IPSmean  SEMESTER  SKS    SKSmean    meNILAI  \\\n",
              "0  8429      2015  24.765421  3.095678         8  142  17.750000  80.147321   \n",
              "1  8455      2015  22.727193  2.840899         8  130  16.250000  74.680804   \n",
              "2  8481      2015  17.714881  2.214360         8  106  13.250000  65.452381   \n",
              "3  8631      2015  23.252405  3.321772         7  145  20.714286  83.242063   \n",
              "4  8684      2015  22.830941  3.261563         7  145  20.714286  82.520181   \n",
              "\n",
              "    meBOBOT  TAHUN       IPK  \n",
              "0  3.101786      4  3.095678  \n",
              "1  2.859375      4  2.840899  \n",
              "2  2.224405      4  2.214360  \n",
              "3  3.314909      4  3.321772  \n",
              "4  3.267460      4  3.261563  "
            ],
            "text/html": [
              "\n",
              "  <div id=\"df-2465bed3-bba9-4bda-9eed-1751e9c58943\">\n",
              "    <div class=\"colab-df-container\">\n",
              "      <div>\n",
              "<style scoped>\n",
              "    .dataframe tbody tr th:only-of-type {\n",
              "        vertical-align: middle;\n",
              "    }\n",
              "\n",
              "    .dataframe tbody tr th {\n",
              "        vertical-align: top;\n",
              "    }\n",
              "\n",
              "    .dataframe thead th {\n",
              "        text-align: right;\n",
              "    }\n",
              "</style>\n",
              "<table border=\"1\" class=\"dataframe\">\n",
              "  <thead>\n",
              "    <tr style=\"text-align: right;\">\n",
              "      <th></th>\n",
              "      <th>NIM</th>\n",
              "      <th>ANGKATAN</th>\n",
              "      <th>IPS</th>\n",
              "      <th>IPSmean</th>\n",
              "      <th>SEMESTER</th>\n",
              "      <th>SKS</th>\n",
              "      <th>SKSmean</th>\n",
              "      <th>meNILAI</th>\n",
              "      <th>meBOBOT</th>\n",
              "      <th>TAHUN</th>\n",
              "      <th>IPK</th>\n",
              "    </tr>\n",
              "  </thead>\n",
              "  <tbody>\n",
              "    <tr>\n",
              "      <th>0</th>\n",
              "      <td>8429</td>\n",
              "      <td>2015</td>\n",
              "      <td>24.765421</td>\n",
              "      <td>3.095678</td>\n",
              "      <td>8</td>\n",
              "      <td>142</td>\n",
              "      <td>17.750000</td>\n",
              "      <td>80.147321</td>\n",
              "      <td>3.101786</td>\n",
              "      <td>4</td>\n",
              "      <td>3.095678</td>\n",
              "    </tr>\n",
              "    <tr>\n",
              "      <th>1</th>\n",
              "      <td>8455</td>\n",
              "      <td>2015</td>\n",
              "      <td>22.727193</td>\n",
              "      <td>2.840899</td>\n",
              "      <td>8</td>\n",
              "      <td>130</td>\n",
              "      <td>16.250000</td>\n",
              "      <td>74.680804</td>\n",
              "      <td>2.859375</td>\n",
              "      <td>4</td>\n",
              "      <td>2.840899</td>\n",
              "    </tr>\n",
              "    <tr>\n",
              "      <th>2</th>\n",
              "      <td>8481</td>\n",
              "      <td>2015</td>\n",
              "      <td>17.714881</td>\n",
              "      <td>2.214360</td>\n",
              "      <td>8</td>\n",
              "      <td>106</td>\n",
              "      <td>13.250000</td>\n",
              "      <td>65.452381</td>\n",
              "      <td>2.224405</td>\n",
              "      <td>4</td>\n",
              "      <td>2.214360</td>\n",
              "    </tr>\n",
              "    <tr>\n",
              "      <th>3</th>\n",
              "      <td>8631</td>\n",
              "      <td>2015</td>\n",
              "      <td>23.252405</td>\n",
              "      <td>3.321772</td>\n",
              "      <td>7</td>\n",
              "      <td>145</td>\n",
              "      <td>20.714286</td>\n",
              "      <td>83.242063</td>\n",
              "      <td>3.314909</td>\n",
              "      <td>4</td>\n",
              "      <td>3.321772</td>\n",
              "    </tr>\n",
              "    <tr>\n",
              "      <th>4</th>\n",
              "      <td>8684</td>\n",
              "      <td>2015</td>\n",
              "      <td>22.830941</td>\n",
              "      <td>3.261563</td>\n",
              "      <td>7</td>\n",
              "      <td>145</td>\n",
              "      <td>20.714286</td>\n",
              "      <td>82.520181</td>\n",
              "      <td>3.267460</td>\n",
              "      <td>4</td>\n",
              "      <td>3.261563</td>\n",
              "    </tr>\n",
              "  </tbody>\n",
              "</table>\n",
              "</div>\n",
              "      <button class=\"colab-df-convert\" onclick=\"convertToInteractive('df-2465bed3-bba9-4bda-9eed-1751e9c58943')\"\n",
              "              title=\"Convert this dataframe to an interactive table.\"\n",
              "              style=\"display:none;\">\n",
              "        \n",
              "  <svg xmlns=\"http://www.w3.org/2000/svg\" height=\"24px\"viewBox=\"0 0 24 24\"\n",
              "       width=\"24px\">\n",
              "    <path d=\"M0 0h24v24H0V0z\" fill=\"none\"/>\n",
              "    <path d=\"M18.56 5.44l.94 2.06.94-2.06 2.06-.94-2.06-.94-.94-2.06-.94 2.06-2.06.94zm-11 1L8.5 8.5l.94-2.06 2.06-.94-2.06-.94L8.5 2.5l-.94 2.06-2.06.94zm10 10l.94 2.06.94-2.06 2.06-.94-2.06-.94-.94-2.06-.94 2.06-2.06.94z\"/><path d=\"M17.41 7.96l-1.37-1.37c-.4-.4-.92-.59-1.43-.59-.52 0-1.04.2-1.43.59L10.3 9.45l-7.72 7.72c-.78.78-.78 2.05 0 2.83L4 21.41c.39.39.9.59 1.41.59.51 0 1.02-.2 1.41-.59l7.78-7.78 2.81-2.81c.8-.78.8-2.07 0-2.86zM5.41 20L4 18.59l7.72-7.72 1.47 1.35L5.41 20z\"/>\n",
              "  </svg>\n",
              "      </button>\n",
              "      \n",
              "  <style>\n",
              "    .colab-df-container {\n",
              "      display:flex;\n",
              "      flex-wrap:wrap;\n",
              "      gap: 12px;\n",
              "    }\n",
              "\n",
              "    .colab-df-convert {\n",
              "      background-color: #E8F0FE;\n",
              "      border: none;\n",
              "      border-radius: 50%;\n",
              "      cursor: pointer;\n",
              "      display: none;\n",
              "      fill: #1967D2;\n",
              "      height: 32px;\n",
              "      padding: 0 0 0 0;\n",
              "      width: 32px;\n",
              "    }\n",
              "\n",
              "    .colab-df-convert:hover {\n",
              "      background-color: #E2EBFA;\n",
              "      box-shadow: 0px 1px 2px rgba(60, 64, 67, 0.3), 0px 1px 3px 1px rgba(60, 64, 67, 0.15);\n",
              "      fill: #174EA6;\n",
              "    }\n",
              "\n",
              "    [theme=dark] .colab-df-convert {\n",
              "      background-color: #3B4455;\n",
              "      fill: #D2E3FC;\n",
              "    }\n",
              "\n",
              "    [theme=dark] .colab-df-convert:hover {\n",
              "      background-color: #434B5C;\n",
              "      box-shadow: 0px 1px 3px 1px rgba(0, 0, 0, 0.15);\n",
              "      filter: drop-shadow(0px 1px 2px rgba(0, 0, 0, 0.3));\n",
              "      fill: #FFFFFF;\n",
              "    }\n",
              "  </style>\n",
              "\n",
              "      <script>\n",
              "        const buttonEl =\n",
              "          document.querySelector('#df-2465bed3-bba9-4bda-9eed-1751e9c58943 button.colab-df-convert');\n",
              "        buttonEl.style.display =\n",
              "          google.colab.kernel.accessAllowed ? 'block' : 'none';\n",
              "\n",
              "        async function convertToInteractive(key) {\n",
              "          const element = document.querySelector('#df-2465bed3-bba9-4bda-9eed-1751e9c58943');\n",
              "          const dataTable =\n",
              "            await google.colab.kernel.invokeFunction('convertToInteractive',\n",
              "                                                     [key], {});\n",
              "          if (!dataTable) return;\n",
              "\n",
              "          const docLinkHtml = 'Like what you see? Visit the ' +\n",
              "            '<a target=\"_blank\" href=https://colab.research.google.com/notebooks/data_table.ipynb>data table notebook</a>'\n",
              "            + ' to learn more about interactive tables.';\n",
              "          element.innerHTML = '';\n",
              "          dataTable['output_type'] = 'display_data';\n",
              "          await google.colab.output.renderOutput(dataTable, element);\n",
              "          const docLink = document.createElement('div');\n",
              "          docLink.innerHTML = docLinkHtml;\n",
              "          element.appendChild(docLink);\n",
              "        }\n",
              "      </script>\n",
              "    </div>\n",
              "  </div>\n",
              "  "
            ]
          },
          "metadata": {},
          "execution_count": 118
        }
      ]
    },
    {
      "cell_type": "code",
      "source": [
        "\n",
        "# df_finalis[\"durasi\"] = df_finalis.TAHUN - df_finalis.ANGKATAN\n",
        "\n",
        "df_finalis.drop('IPS', axis=1, inplace=True)\n",
        "\n",
        "\n",
        "\n",
        "df_finalis[\"lulusTEPAT\"] = (df_finalis.IPK > 2.5) & (df_finalis.SKS >= 144) & (df_finalis.TAHUN <= 4)\n",
        "df_finalis[\"lulus\"] = (df_finalis.IPK > 2.5) & (df_finalis.SKS >= 144)\n",
        "df_finalis['lulusTEPAT'] = (df_finalis['lulusTEPAT'] == True).astype(int)\n",
        "df_finalis['lulus'] = (df_finalis['lulus'] == True).astype(int)\n",
        "df_finalis.head()"
      ],
      "metadata": {
        "id": "_v7Mnxecn4Km",
        "colab": {
          "base_uri": "https://localhost:8080/",
          "height": 206
        },
        "outputId": "5cbdb285-e191-4414-9b6c-72d091b1ba9e"
      },
      "execution_count": 119,
      "outputs": [
        {
          "output_type": "execute_result",
          "data": {
            "text/plain": [
              "    NIM  ANGKATAN   IPSmean  SEMESTER  SKS    SKSmean    meNILAI   meBOBOT  \\\n",
              "0  8429      2015  3.095678         8  142  17.750000  80.147321  3.101786   \n",
              "1  8455      2015  2.840899         8  130  16.250000  74.680804  2.859375   \n",
              "2  8481      2015  2.214360         8  106  13.250000  65.452381  2.224405   \n",
              "3  8631      2015  3.321772         7  145  20.714286  83.242063  3.314909   \n",
              "4  8684      2015  3.261563         7  145  20.714286  82.520181  3.267460   \n",
              "\n",
              "   TAHUN       IPK  lulusTEPAT  lulus  \n",
              "0      4  3.095678           0      0  \n",
              "1      4  2.840899           0      0  \n",
              "2      4  2.214360           0      0  \n",
              "3      4  3.321772           1      1  \n",
              "4      4  3.261563           1      1  "
            ],
            "text/html": [
              "\n",
              "  <div id=\"df-861ffaa4-a337-485d-9d63-cd5952ee5101\">\n",
              "    <div class=\"colab-df-container\">\n",
              "      <div>\n",
              "<style scoped>\n",
              "    .dataframe tbody tr th:only-of-type {\n",
              "        vertical-align: middle;\n",
              "    }\n",
              "\n",
              "    .dataframe tbody tr th {\n",
              "        vertical-align: top;\n",
              "    }\n",
              "\n",
              "    .dataframe thead th {\n",
              "        text-align: right;\n",
              "    }\n",
              "</style>\n",
              "<table border=\"1\" class=\"dataframe\">\n",
              "  <thead>\n",
              "    <tr style=\"text-align: right;\">\n",
              "      <th></th>\n",
              "      <th>NIM</th>\n",
              "      <th>ANGKATAN</th>\n",
              "      <th>IPSmean</th>\n",
              "      <th>SEMESTER</th>\n",
              "      <th>SKS</th>\n",
              "      <th>SKSmean</th>\n",
              "      <th>meNILAI</th>\n",
              "      <th>meBOBOT</th>\n",
              "      <th>TAHUN</th>\n",
              "      <th>IPK</th>\n",
              "      <th>lulusTEPAT</th>\n",
              "      <th>lulus</th>\n",
              "    </tr>\n",
              "  </thead>\n",
              "  <tbody>\n",
              "    <tr>\n",
              "      <th>0</th>\n",
              "      <td>8429</td>\n",
              "      <td>2015</td>\n",
              "      <td>3.095678</td>\n",
              "      <td>8</td>\n",
              "      <td>142</td>\n",
              "      <td>17.750000</td>\n",
              "      <td>80.147321</td>\n",
              "      <td>3.101786</td>\n",
              "      <td>4</td>\n",
              "      <td>3.095678</td>\n",
              "      <td>0</td>\n",
              "      <td>0</td>\n",
              "    </tr>\n",
              "    <tr>\n",
              "      <th>1</th>\n",
              "      <td>8455</td>\n",
              "      <td>2015</td>\n",
              "      <td>2.840899</td>\n",
              "      <td>8</td>\n",
              "      <td>130</td>\n",
              "      <td>16.250000</td>\n",
              "      <td>74.680804</td>\n",
              "      <td>2.859375</td>\n",
              "      <td>4</td>\n",
              "      <td>2.840899</td>\n",
              "      <td>0</td>\n",
              "      <td>0</td>\n",
              "    </tr>\n",
              "    <tr>\n",
              "      <th>2</th>\n",
              "      <td>8481</td>\n",
              "      <td>2015</td>\n",
              "      <td>2.214360</td>\n",
              "      <td>8</td>\n",
              "      <td>106</td>\n",
              "      <td>13.250000</td>\n",
              "      <td>65.452381</td>\n",
              "      <td>2.224405</td>\n",
              "      <td>4</td>\n",
              "      <td>2.214360</td>\n",
              "      <td>0</td>\n",
              "      <td>0</td>\n",
              "    </tr>\n",
              "    <tr>\n",
              "      <th>3</th>\n",
              "      <td>8631</td>\n",
              "      <td>2015</td>\n",
              "      <td>3.321772</td>\n",
              "      <td>7</td>\n",
              "      <td>145</td>\n",
              "      <td>20.714286</td>\n",
              "      <td>83.242063</td>\n",
              "      <td>3.314909</td>\n",
              "      <td>4</td>\n",
              "      <td>3.321772</td>\n",
              "      <td>1</td>\n",
              "      <td>1</td>\n",
              "    </tr>\n",
              "    <tr>\n",
              "      <th>4</th>\n",
              "      <td>8684</td>\n",
              "      <td>2015</td>\n",
              "      <td>3.261563</td>\n",
              "      <td>7</td>\n",
              "      <td>145</td>\n",
              "      <td>20.714286</td>\n",
              "      <td>82.520181</td>\n",
              "      <td>3.267460</td>\n",
              "      <td>4</td>\n",
              "      <td>3.261563</td>\n",
              "      <td>1</td>\n",
              "      <td>1</td>\n",
              "    </tr>\n",
              "  </tbody>\n",
              "</table>\n",
              "</div>\n",
              "      <button class=\"colab-df-convert\" onclick=\"convertToInteractive('df-861ffaa4-a337-485d-9d63-cd5952ee5101')\"\n",
              "              title=\"Convert this dataframe to an interactive table.\"\n",
              "              style=\"display:none;\">\n",
              "        \n",
              "  <svg xmlns=\"http://www.w3.org/2000/svg\" height=\"24px\"viewBox=\"0 0 24 24\"\n",
              "       width=\"24px\">\n",
              "    <path d=\"M0 0h24v24H0V0z\" fill=\"none\"/>\n",
              "    <path d=\"M18.56 5.44l.94 2.06.94-2.06 2.06-.94-2.06-.94-.94-2.06-.94 2.06-2.06.94zm-11 1L8.5 8.5l.94-2.06 2.06-.94-2.06-.94L8.5 2.5l-.94 2.06-2.06.94zm10 10l.94 2.06.94-2.06 2.06-.94-2.06-.94-.94-2.06-.94 2.06-2.06.94z\"/><path d=\"M17.41 7.96l-1.37-1.37c-.4-.4-.92-.59-1.43-.59-.52 0-1.04.2-1.43.59L10.3 9.45l-7.72 7.72c-.78.78-.78 2.05 0 2.83L4 21.41c.39.39.9.59 1.41.59.51 0 1.02-.2 1.41-.59l7.78-7.78 2.81-2.81c.8-.78.8-2.07 0-2.86zM5.41 20L4 18.59l7.72-7.72 1.47 1.35L5.41 20z\"/>\n",
              "  </svg>\n",
              "      </button>\n",
              "      \n",
              "  <style>\n",
              "    .colab-df-container {\n",
              "      display:flex;\n",
              "      flex-wrap:wrap;\n",
              "      gap: 12px;\n",
              "    }\n",
              "\n",
              "    .colab-df-convert {\n",
              "      background-color: #E8F0FE;\n",
              "      border: none;\n",
              "      border-radius: 50%;\n",
              "      cursor: pointer;\n",
              "      display: none;\n",
              "      fill: #1967D2;\n",
              "      height: 32px;\n",
              "      padding: 0 0 0 0;\n",
              "      width: 32px;\n",
              "    }\n",
              "\n",
              "    .colab-df-convert:hover {\n",
              "      background-color: #E2EBFA;\n",
              "      box-shadow: 0px 1px 2px rgba(60, 64, 67, 0.3), 0px 1px 3px 1px rgba(60, 64, 67, 0.15);\n",
              "      fill: #174EA6;\n",
              "    }\n",
              "\n",
              "    [theme=dark] .colab-df-convert {\n",
              "      background-color: #3B4455;\n",
              "      fill: #D2E3FC;\n",
              "    }\n",
              "\n",
              "    [theme=dark] .colab-df-convert:hover {\n",
              "      background-color: #434B5C;\n",
              "      box-shadow: 0px 1px 3px 1px rgba(0, 0, 0, 0.15);\n",
              "      filter: drop-shadow(0px 1px 2px rgba(0, 0, 0, 0.3));\n",
              "      fill: #FFFFFF;\n",
              "    }\n",
              "  </style>\n",
              "\n",
              "      <script>\n",
              "        const buttonEl =\n",
              "          document.querySelector('#df-861ffaa4-a337-485d-9d63-cd5952ee5101 button.colab-df-convert');\n",
              "        buttonEl.style.display =\n",
              "          google.colab.kernel.accessAllowed ? 'block' : 'none';\n",
              "\n",
              "        async function convertToInteractive(key) {\n",
              "          const element = document.querySelector('#df-861ffaa4-a337-485d-9d63-cd5952ee5101');\n",
              "          const dataTable =\n",
              "            await google.colab.kernel.invokeFunction('convertToInteractive',\n",
              "                                                     [key], {});\n",
              "          if (!dataTable) return;\n",
              "\n",
              "          const docLinkHtml = 'Like what you see? Visit the ' +\n",
              "            '<a target=\"_blank\" href=https://colab.research.google.com/notebooks/data_table.ipynb>data table notebook</a>'\n",
              "            + ' to learn more about interactive tables.';\n",
              "          element.innerHTML = '';\n",
              "          dataTable['output_type'] = 'display_data';\n",
              "          await google.colab.output.renderOutput(dataTable, element);\n",
              "          const docLink = document.createElement('div');\n",
              "          docLink.innerHTML = docLinkHtml;\n",
              "          element.appendChild(docLink);\n",
              "        }\n",
              "      </script>\n",
              "    </div>\n",
              "  </div>\n",
              "  "
            ]
          },
          "metadata": {},
          "execution_count": 119
        }
      ]
    },
    {
      "cell_type": "code",
      "source": [
        "\n",
        "\n",
        "# df_finalis.drop('SKS', axis=1, inplace=True)\n",
        "\n",
        "# df_finalis.drop('TAHUN', axis=1, inplace=True)\n",
        "\n",
        "\n",
        "# df_finalis.drop('IPS', axis=1, inplace=True)"
      ],
      "metadata": {
        "id": "n06ht6-3G6r_"
      },
      "execution_count": 120,
      "outputs": []
    },
    {
      "cell_type": "markdown",
      "source": [
        "Disini terlihat banyak yang false, agar tidak terjadi Imbalanced data set saya akan drop nim yang memang belum waktunya untuk lulus"
      ],
      "metadata": {
        "id": "du7NInWONYtV"
      }
    },
    {
      "cell_type": "code",
      "source": [
        " df_finalis['lulusTEPAT'].value_counts(normalize=True)"
      ],
      "metadata": {
        "id": "yKqhXYxylVYz",
        "colab": {
          "base_uri": "https://localhost:8080/"
        },
        "outputId": "612fc910-4822-4423-e42a-b79f5c3089c3"
      },
      "execution_count": 121,
      "outputs": [
        {
          "output_type": "execute_result",
          "data": {
            "text/plain": [
              "0    0.781818\n",
              "1    0.218182\n",
              "Name: lulusTEPAT, dtype: float64"
            ]
          },
          "metadata": {},
          "execution_count": 121
        }
      ]
    },
    {
      "cell_type": "code",
      "source": [
        "df_finalis =  df_finalis.set_index('NIM')"
      ],
      "metadata": {
        "id": "K9dT9Xxk_uZT"
      },
      "execution_count": 122,
      "outputs": []
    },
    {
      "cell_type": "code",
      "source": [
        "df_finalis.SKSmean.replace(df_skssum.SKSmean, inplace=True)"
      ],
      "metadata": {
        "id": "NIO1pDQ92hZI"
      },
      "execution_count": 123,
      "outputs": []
    },
    {
      "cell_type": "code",
      "source": [
        "df_siswaall = df_finalis.copy()"
      ],
      "metadata": {
        "id": "rZOhaq-YmgQC"
      },
      "execution_count": 124,
      "outputs": []
    },
    {
      "cell_type": "code",
      "source": [
        ""
      ],
      "metadata": {
        "id": "aXKuDRYfgWBt"
      },
      "execution_count": 124,
      "outputs": []
    },
    {
      "cell_type": "code",
      "source": [
        "df_finalis.loc[(df_finalis['ANGKATAN'] == 2016) & (df_finalis.lulus == 1)]\n",
        "# df_siswa['SKS'] = np.where((df_siswa.GRADE == 'D'),0,df_siswa.SKS)"
      ],
      "metadata": {
        "id": "l4dIPZoaXugW",
        "colab": {
          "base_uri": "https://localhost:8080/",
          "height": 81
        },
        "outputId": "b44b0830-20bd-4bff-df68-f5e16c70d126"
      },
      "execution_count": 125,
      "outputs": [
        {
          "output_type": "execute_result",
          "data": {
            "text/plain": [
              "Empty DataFrame\n",
              "Columns: [ANGKATAN, IPSmean, SEMESTER, SKS, SKSmean, meNILAI, meBOBOT, TAHUN, IPK, lulusTEPAT, lulus]\n",
              "Index: []"
            ],
            "text/html": [
              "\n",
              "  <div id=\"df-5a7376c0-b373-4df8-b7e9-4ee76e160cbd\">\n",
              "    <div class=\"colab-df-container\">\n",
              "      <div>\n",
              "<style scoped>\n",
              "    .dataframe tbody tr th:only-of-type {\n",
              "        vertical-align: middle;\n",
              "    }\n",
              "\n",
              "    .dataframe tbody tr th {\n",
              "        vertical-align: top;\n",
              "    }\n",
              "\n",
              "    .dataframe thead th {\n",
              "        text-align: right;\n",
              "    }\n",
              "</style>\n",
              "<table border=\"1\" class=\"dataframe\">\n",
              "  <thead>\n",
              "    <tr style=\"text-align: right;\">\n",
              "      <th></th>\n",
              "      <th>ANGKATAN</th>\n",
              "      <th>IPSmean</th>\n",
              "      <th>SEMESTER</th>\n",
              "      <th>SKS</th>\n",
              "      <th>SKSmean</th>\n",
              "      <th>meNILAI</th>\n",
              "      <th>meBOBOT</th>\n",
              "      <th>TAHUN</th>\n",
              "      <th>IPK</th>\n",
              "      <th>lulusTEPAT</th>\n",
              "      <th>lulus</th>\n",
              "    </tr>\n",
              "    <tr>\n",
              "      <th>NIM</th>\n",
              "      <th></th>\n",
              "      <th></th>\n",
              "      <th></th>\n",
              "      <th></th>\n",
              "      <th></th>\n",
              "      <th></th>\n",
              "      <th></th>\n",
              "      <th></th>\n",
              "      <th></th>\n",
              "      <th></th>\n",
              "      <th></th>\n",
              "    </tr>\n",
              "  </thead>\n",
              "  <tbody>\n",
              "  </tbody>\n",
              "</table>\n",
              "</div>\n",
              "      <button class=\"colab-df-convert\" onclick=\"convertToInteractive('df-5a7376c0-b373-4df8-b7e9-4ee76e160cbd')\"\n",
              "              title=\"Convert this dataframe to an interactive table.\"\n",
              "              style=\"display:none;\">\n",
              "        \n",
              "  <svg xmlns=\"http://www.w3.org/2000/svg\" height=\"24px\"viewBox=\"0 0 24 24\"\n",
              "       width=\"24px\">\n",
              "    <path d=\"M0 0h24v24H0V0z\" fill=\"none\"/>\n",
              "    <path d=\"M18.56 5.44l.94 2.06.94-2.06 2.06-.94-2.06-.94-.94-2.06-.94 2.06-2.06.94zm-11 1L8.5 8.5l.94-2.06 2.06-.94-2.06-.94L8.5 2.5l-.94 2.06-2.06.94zm10 10l.94 2.06.94-2.06 2.06-.94-2.06-.94-.94-2.06-.94 2.06-2.06.94z\"/><path d=\"M17.41 7.96l-1.37-1.37c-.4-.4-.92-.59-1.43-.59-.52 0-1.04.2-1.43.59L10.3 9.45l-7.72 7.72c-.78.78-.78 2.05 0 2.83L4 21.41c.39.39.9.59 1.41.59.51 0 1.02-.2 1.41-.59l7.78-7.78 2.81-2.81c.8-.78.8-2.07 0-2.86zM5.41 20L4 18.59l7.72-7.72 1.47 1.35L5.41 20z\"/>\n",
              "  </svg>\n",
              "      </button>\n",
              "      \n",
              "  <style>\n",
              "    .colab-df-container {\n",
              "      display:flex;\n",
              "      flex-wrap:wrap;\n",
              "      gap: 12px;\n",
              "    }\n",
              "\n",
              "    .colab-df-convert {\n",
              "      background-color: #E8F0FE;\n",
              "      border: none;\n",
              "      border-radius: 50%;\n",
              "      cursor: pointer;\n",
              "      display: none;\n",
              "      fill: #1967D2;\n",
              "      height: 32px;\n",
              "      padding: 0 0 0 0;\n",
              "      width: 32px;\n",
              "    }\n",
              "\n",
              "    .colab-df-convert:hover {\n",
              "      background-color: #E2EBFA;\n",
              "      box-shadow: 0px 1px 2px rgba(60, 64, 67, 0.3), 0px 1px 3px 1px rgba(60, 64, 67, 0.15);\n",
              "      fill: #174EA6;\n",
              "    }\n",
              "\n",
              "    [theme=dark] .colab-df-convert {\n",
              "      background-color: #3B4455;\n",
              "      fill: #D2E3FC;\n",
              "    }\n",
              "\n",
              "    [theme=dark] .colab-df-convert:hover {\n",
              "      background-color: #434B5C;\n",
              "      box-shadow: 0px 1px 3px 1px rgba(0, 0, 0, 0.15);\n",
              "      filter: drop-shadow(0px 1px 2px rgba(0, 0, 0, 0.3));\n",
              "      fill: #FFFFFF;\n",
              "    }\n",
              "  </style>\n",
              "\n",
              "      <script>\n",
              "        const buttonEl =\n",
              "          document.querySelector('#df-5a7376c0-b373-4df8-b7e9-4ee76e160cbd button.colab-df-convert');\n",
              "        buttonEl.style.display =\n",
              "          google.colab.kernel.accessAllowed ? 'block' : 'none';\n",
              "\n",
              "        async function convertToInteractive(key) {\n",
              "          const element = document.querySelector('#df-5a7376c0-b373-4df8-b7e9-4ee76e160cbd');\n",
              "          const dataTable =\n",
              "            await google.colab.kernel.invokeFunction('convertToInteractive',\n",
              "                                                     [key], {});\n",
              "          if (!dataTable) return;\n",
              "\n",
              "          const docLinkHtml = 'Like what you see? Visit the ' +\n",
              "            '<a target=\"_blank\" href=https://colab.research.google.com/notebooks/data_table.ipynb>data table notebook</a>'\n",
              "            + ' to learn more about interactive tables.';\n",
              "          element.innerHTML = '';\n",
              "          dataTable['output_type'] = 'display_data';\n",
              "          await google.colab.output.renderOutput(dataTable, element);\n",
              "          const docLink = document.createElement('div');\n",
              "          docLink.innerHTML = docLinkHtml;\n",
              "          element.appendChild(docLink);\n",
              "        }\n",
              "      </script>\n",
              "    </div>\n",
              "  </div>\n",
              "  "
            ]
          },
          "metadata": {},
          "execution_count": 125
        }
      ]
    },
    {
      "cell_type": "code",
      "source": [
        ""
      ],
      "metadata": {
        "id": "PIAQ1gRNADll"
      },
      "execution_count": 125,
      "outputs": []
    },
    {
      "cell_type": "markdown",
      "source": [
        "Sekarang data sudah tidak terlalu imbalanced"
      ],
      "metadata": {
        "id": "1adAbpvBRPyx"
      }
    },
    {
      "cell_type": "code",
      "source": [
        "predtarg = df_finalis.loc[df_finalis['ANGKATAN'] >= 2016]\n",
        "\n",
        "df_finalis.drop(df_finalis.index[df_finalis['ANGKATAN'] >= 2016], inplace=True)\n"
      ],
      "metadata": {
        "id": "M6FxiejTQrS9"
      },
      "execution_count": 126,
      "outputs": []
    },
    {
      "cell_type": "code",
      "source": [
        " df_finalis['lulusTEPAT'].value_counts(normalize=True)"
      ],
      "metadata": {
        "id": "Jw4kFjP6RNpB",
        "colab": {
          "base_uri": "https://localhost:8080/"
        },
        "outputId": "50280150-4e7a-4717-a9ef-07daaf41b1e3"
      },
      "execution_count": 127,
      "outputs": [
        {
          "output_type": "execute_result",
          "data": {
            "text/plain": [
              "0    0.612903\n",
              "1    0.387097\n",
              "Name: lulusTEPAT, dtype: float64"
            ]
          },
          "metadata": {},
          "execution_count": 127
        }
      ]
    },
    {
      "cell_type": "code",
      "source": [
        "df_finalis.head()"
      ],
      "metadata": {
        "id": "sRYaqHdZ8NVz",
        "colab": {
          "base_uri": "https://localhost:8080/",
          "height": 237
        },
        "outputId": "5a360748-2b49-4abe-ed41-6b198f31c59a"
      },
      "execution_count": 128,
      "outputs": [
        {
          "output_type": "execute_result",
          "data": {
            "text/plain": [
              "      ANGKATAN   IPSmean  SEMESTER  SKS    SKSmean    meNILAI   meBOBOT  \\\n",
              "NIM                                                                       \n",
              "8429      2015  3.095678         8  142  17.750000  80.147321  3.101786   \n",
              "8455      2015  2.840899         8  130  16.250000  74.680804  2.859375   \n",
              "8481      2015  2.214360         8  106  13.250000  65.452381  2.224405   \n",
              "8631      2015  3.321772         7  145  20.714286  83.242063  3.314909   \n",
              "8684      2015  3.261563         7  145  20.714286  82.520181  3.267460   \n",
              "\n",
              "      TAHUN       IPK  lulusTEPAT  lulus  \n",
              "NIM                                       \n",
              "8429      4  3.095678           0      0  \n",
              "8455      4  2.840899           0      0  \n",
              "8481      4  2.214360           0      0  \n",
              "8631      4  3.321772           1      1  \n",
              "8684      4  3.261563           1      1  "
            ],
            "text/html": [
              "\n",
              "  <div id=\"df-103b6fdd-a452-4685-9278-6ebf4c319326\">\n",
              "    <div class=\"colab-df-container\">\n",
              "      <div>\n",
              "<style scoped>\n",
              "    .dataframe tbody tr th:only-of-type {\n",
              "        vertical-align: middle;\n",
              "    }\n",
              "\n",
              "    .dataframe tbody tr th {\n",
              "        vertical-align: top;\n",
              "    }\n",
              "\n",
              "    .dataframe thead th {\n",
              "        text-align: right;\n",
              "    }\n",
              "</style>\n",
              "<table border=\"1\" class=\"dataframe\">\n",
              "  <thead>\n",
              "    <tr style=\"text-align: right;\">\n",
              "      <th></th>\n",
              "      <th>ANGKATAN</th>\n",
              "      <th>IPSmean</th>\n",
              "      <th>SEMESTER</th>\n",
              "      <th>SKS</th>\n",
              "      <th>SKSmean</th>\n",
              "      <th>meNILAI</th>\n",
              "      <th>meBOBOT</th>\n",
              "      <th>TAHUN</th>\n",
              "      <th>IPK</th>\n",
              "      <th>lulusTEPAT</th>\n",
              "      <th>lulus</th>\n",
              "    </tr>\n",
              "    <tr>\n",
              "      <th>NIM</th>\n",
              "      <th></th>\n",
              "      <th></th>\n",
              "      <th></th>\n",
              "      <th></th>\n",
              "      <th></th>\n",
              "      <th></th>\n",
              "      <th></th>\n",
              "      <th></th>\n",
              "      <th></th>\n",
              "      <th></th>\n",
              "      <th></th>\n",
              "    </tr>\n",
              "  </thead>\n",
              "  <tbody>\n",
              "    <tr>\n",
              "      <th>8429</th>\n",
              "      <td>2015</td>\n",
              "      <td>3.095678</td>\n",
              "      <td>8</td>\n",
              "      <td>142</td>\n",
              "      <td>17.750000</td>\n",
              "      <td>80.147321</td>\n",
              "      <td>3.101786</td>\n",
              "      <td>4</td>\n",
              "      <td>3.095678</td>\n",
              "      <td>0</td>\n",
              "      <td>0</td>\n",
              "    </tr>\n",
              "    <tr>\n",
              "      <th>8455</th>\n",
              "      <td>2015</td>\n",
              "      <td>2.840899</td>\n",
              "      <td>8</td>\n",
              "      <td>130</td>\n",
              "      <td>16.250000</td>\n",
              "      <td>74.680804</td>\n",
              "      <td>2.859375</td>\n",
              "      <td>4</td>\n",
              "      <td>2.840899</td>\n",
              "      <td>0</td>\n",
              "      <td>0</td>\n",
              "    </tr>\n",
              "    <tr>\n",
              "      <th>8481</th>\n",
              "      <td>2015</td>\n",
              "      <td>2.214360</td>\n",
              "      <td>8</td>\n",
              "      <td>106</td>\n",
              "      <td>13.250000</td>\n",
              "      <td>65.452381</td>\n",
              "      <td>2.224405</td>\n",
              "      <td>4</td>\n",
              "      <td>2.214360</td>\n",
              "      <td>0</td>\n",
              "      <td>0</td>\n",
              "    </tr>\n",
              "    <tr>\n",
              "      <th>8631</th>\n",
              "      <td>2015</td>\n",
              "      <td>3.321772</td>\n",
              "      <td>7</td>\n",
              "      <td>145</td>\n",
              "      <td>20.714286</td>\n",
              "      <td>83.242063</td>\n",
              "      <td>3.314909</td>\n",
              "      <td>4</td>\n",
              "      <td>3.321772</td>\n",
              "      <td>1</td>\n",
              "      <td>1</td>\n",
              "    </tr>\n",
              "    <tr>\n",
              "      <th>8684</th>\n",
              "      <td>2015</td>\n",
              "      <td>3.261563</td>\n",
              "      <td>7</td>\n",
              "      <td>145</td>\n",
              "      <td>20.714286</td>\n",
              "      <td>82.520181</td>\n",
              "      <td>3.267460</td>\n",
              "      <td>4</td>\n",
              "      <td>3.261563</td>\n",
              "      <td>1</td>\n",
              "      <td>1</td>\n",
              "    </tr>\n",
              "  </tbody>\n",
              "</table>\n",
              "</div>\n",
              "      <button class=\"colab-df-convert\" onclick=\"convertToInteractive('df-103b6fdd-a452-4685-9278-6ebf4c319326')\"\n",
              "              title=\"Convert this dataframe to an interactive table.\"\n",
              "              style=\"display:none;\">\n",
              "        \n",
              "  <svg xmlns=\"http://www.w3.org/2000/svg\" height=\"24px\"viewBox=\"0 0 24 24\"\n",
              "       width=\"24px\">\n",
              "    <path d=\"M0 0h24v24H0V0z\" fill=\"none\"/>\n",
              "    <path d=\"M18.56 5.44l.94 2.06.94-2.06 2.06-.94-2.06-.94-.94-2.06-.94 2.06-2.06.94zm-11 1L8.5 8.5l.94-2.06 2.06-.94-2.06-.94L8.5 2.5l-.94 2.06-2.06.94zm10 10l.94 2.06.94-2.06 2.06-.94-2.06-.94-.94-2.06-.94 2.06-2.06.94z\"/><path d=\"M17.41 7.96l-1.37-1.37c-.4-.4-.92-.59-1.43-.59-.52 0-1.04.2-1.43.59L10.3 9.45l-7.72 7.72c-.78.78-.78 2.05 0 2.83L4 21.41c.39.39.9.59 1.41.59.51 0 1.02-.2 1.41-.59l7.78-7.78 2.81-2.81c.8-.78.8-2.07 0-2.86zM5.41 20L4 18.59l7.72-7.72 1.47 1.35L5.41 20z\"/>\n",
              "  </svg>\n",
              "      </button>\n",
              "      \n",
              "  <style>\n",
              "    .colab-df-container {\n",
              "      display:flex;\n",
              "      flex-wrap:wrap;\n",
              "      gap: 12px;\n",
              "    }\n",
              "\n",
              "    .colab-df-convert {\n",
              "      background-color: #E8F0FE;\n",
              "      border: none;\n",
              "      border-radius: 50%;\n",
              "      cursor: pointer;\n",
              "      display: none;\n",
              "      fill: #1967D2;\n",
              "      height: 32px;\n",
              "      padding: 0 0 0 0;\n",
              "      width: 32px;\n",
              "    }\n",
              "\n",
              "    .colab-df-convert:hover {\n",
              "      background-color: #E2EBFA;\n",
              "      box-shadow: 0px 1px 2px rgba(60, 64, 67, 0.3), 0px 1px 3px 1px rgba(60, 64, 67, 0.15);\n",
              "      fill: #174EA6;\n",
              "    }\n",
              "\n",
              "    [theme=dark] .colab-df-convert {\n",
              "      background-color: #3B4455;\n",
              "      fill: #D2E3FC;\n",
              "    }\n",
              "\n",
              "    [theme=dark] .colab-df-convert:hover {\n",
              "      background-color: #434B5C;\n",
              "      box-shadow: 0px 1px 3px 1px rgba(0, 0, 0, 0.15);\n",
              "      filter: drop-shadow(0px 1px 2px rgba(0, 0, 0, 0.3));\n",
              "      fill: #FFFFFF;\n",
              "    }\n",
              "  </style>\n",
              "\n",
              "      <script>\n",
              "        const buttonEl =\n",
              "          document.querySelector('#df-103b6fdd-a452-4685-9278-6ebf4c319326 button.colab-df-convert');\n",
              "        buttonEl.style.display =\n",
              "          google.colab.kernel.accessAllowed ? 'block' : 'none';\n",
              "\n",
              "        async function convertToInteractive(key) {\n",
              "          const element = document.querySelector('#df-103b6fdd-a452-4685-9278-6ebf4c319326');\n",
              "          const dataTable =\n",
              "            await google.colab.kernel.invokeFunction('convertToInteractive',\n",
              "                                                     [key], {});\n",
              "          if (!dataTable) return;\n",
              "\n",
              "          const docLinkHtml = 'Like what you see? Visit the ' +\n",
              "            '<a target=\"_blank\" href=https://colab.research.google.com/notebooks/data_table.ipynb>data table notebook</a>'\n",
              "            + ' to learn more about interactive tables.';\n",
              "          element.innerHTML = '';\n",
              "          dataTable['output_type'] = 'display_data';\n",
              "          await google.colab.output.renderOutput(dataTable, element);\n",
              "          const docLink = document.createElement('div');\n",
              "          docLink.innerHTML = docLinkHtml;\n",
              "          element.appendChild(docLink);\n",
              "        }\n",
              "      </script>\n",
              "    </div>\n",
              "  </div>\n",
              "  "
            ]
          },
          "metadata": {},
          "execution_count": 128
        }
      ]
    },
    {
      "cell_type": "code",
      "source": [
        " df_finalis.ANGKATAN =  df_finalis.ANGKATAN.astype('string')"
      ],
      "metadata": {
        "id": "B2H901k4Yolt"
      },
      "execution_count": 129,
      "outputs": []
    },
    {
      "cell_type": "code",
      "source": [
        ""
      ],
      "metadata": {
        "id": "AK7vQznEgbCL"
      },
      "execution_count": 129,
      "outputs": []
    },
    {
      "cell_type": "code",
      "source": [
        ""
      ],
      "metadata": {
        "id": "X3LW2myCqFF2"
      },
      "execution_count": 129,
      "outputs": []
    },
    {
      "cell_type": "markdown",
      "source": [
        "# Exploratory Data Analysis(EDA)"
      ],
      "metadata": {
        "id": "LgkLZ9Tqg3lk"
      }
    },
    {
      "cell_type": "code",
      "source": [
        "tepatlulus = df_finalis.loc[df_finalis['lulusTEPAT'] == 1]\n",
        "xtepat = df_finalis.loc[df_finalis['lulusTEPAT'] == 0]"
      ],
      "metadata": {
        "id": "2MzOKdEDhVY-"
      },
      "execution_count": 130,
      "outputs": []
    },
    {
      "cell_type": "code",
      "source": [
        "y = df_finalis.lulusTEPAT\n"
      ],
      "metadata": {
        "id": "oWD1CGBGg3ll"
      },
      "execution_count": 131,
      "outputs": []
    },
    {
      "cell_type": "code",
      "source": [
        "\n",
        "trypredmin = (df_finalis['IPSmean'] >= 2.772795) & (df_finalis.meNILAI >= 70.845486) & (df_finalis.meBOBOT >= 2.783503 ) & (df_finalis.SKSmean >= 4.000000)\n",
        "trypredmin25 = (df_finalis['IPSmean'] >= 3.114442) & (df_finalis.meNILAI >= 77.970351) & (df_finalis.meBOBOT >= 3.121838) & (df_finalis.SKSmean >= 13.881250).astype(int)\n",
        "trypredmin50 = (df_finalis['IPSmean'] >= 3.317819) & (df_finalis.meNILAI >= 81.350149) & (df_finalis.meBOBOT >= 3.325149) & (df_finalis.SKSmean >= 15.7778).astype(int)\n"
      ],
      "metadata": {
        "id": "yUYGl8Gog3ll"
      },
      "execution_count": 132,
      "outputs": []
    },
    {
      "cell_type": "code",
      "source": [
        ""
      ],
      "metadata": {
        "id": "zuipLW-LjqUC"
      },
      "execution_count": 132,
      "outputs": []
    },
    {
      "cell_type": "markdown",
      "source": [
        "Dari sini model saya tebukti masih memiliki score terbaik"
      ],
      "metadata": {
        "id": "t0V4RVWeg3lm"
      }
    },
    {
      "cell_type": "code",
      "source": [
        "df_finalis.head()"
      ],
      "metadata": {
        "id": "uz0LkU2girEK",
        "colab": {
          "base_uri": "https://localhost:8080/",
          "height": 237
        },
        "outputId": "ec9bb217-f25b-4296-a1ad-43de8d0fc90d"
      },
      "execution_count": 133,
      "outputs": [
        {
          "output_type": "execute_result",
          "data": {
            "text/plain": [
              "     ANGKATAN   IPSmean  SEMESTER  SKS    SKSmean    meNILAI   meBOBOT  TAHUN  \\\n",
              "NIM                                                                             \n",
              "8429     2015  3.095678         8  142  17.750000  80.147321  3.101786      4   \n",
              "8455     2015  2.840899         8  130  16.250000  74.680804  2.859375      4   \n",
              "8481     2015  2.214360         8  106  13.250000  65.452381  2.224405      4   \n",
              "8631     2015  3.321772         7  145  20.714286  83.242063  3.314909      4   \n",
              "8684     2015  3.261563         7  145  20.714286  82.520181  3.267460      4   \n",
              "\n",
              "           IPK  lulusTEPAT  lulus  \n",
              "NIM                                \n",
              "8429  3.095678           0      0  \n",
              "8455  2.840899           0      0  \n",
              "8481  2.214360           0      0  \n",
              "8631  3.321772           1      1  \n",
              "8684  3.261563           1      1  "
            ],
            "text/html": [
              "\n",
              "  <div id=\"df-bfcc4e4c-6f7f-4428-931a-3dc8af57c3a8\">\n",
              "    <div class=\"colab-df-container\">\n",
              "      <div>\n",
              "<style scoped>\n",
              "    .dataframe tbody tr th:only-of-type {\n",
              "        vertical-align: middle;\n",
              "    }\n",
              "\n",
              "    .dataframe tbody tr th {\n",
              "        vertical-align: top;\n",
              "    }\n",
              "\n",
              "    .dataframe thead th {\n",
              "        text-align: right;\n",
              "    }\n",
              "</style>\n",
              "<table border=\"1\" class=\"dataframe\">\n",
              "  <thead>\n",
              "    <tr style=\"text-align: right;\">\n",
              "      <th></th>\n",
              "      <th>ANGKATAN</th>\n",
              "      <th>IPSmean</th>\n",
              "      <th>SEMESTER</th>\n",
              "      <th>SKS</th>\n",
              "      <th>SKSmean</th>\n",
              "      <th>meNILAI</th>\n",
              "      <th>meBOBOT</th>\n",
              "      <th>TAHUN</th>\n",
              "      <th>IPK</th>\n",
              "      <th>lulusTEPAT</th>\n",
              "      <th>lulus</th>\n",
              "    </tr>\n",
              "    <tr>\n",
              "      <th>NIM</th>\n",
              "      <th></th>\n",
              "      <th></th>\n",
              "      <th></th>\n",
              "      <th></th>\n",
              "      <th></th>\n",
              "      <th></th>\n",
              "      <th></th>\n",
              "      <th></th>\n",
              "      <th></th>\n",
              "      <th></th>\n",
              "      <th></th>\n",
              "    </tr>\n",
              "  </thead>\n",
              "  <tbody>\n",
              "    <tr>\n",
              "      <th>8429</th>\n",
              "      <td>2015</td>\n",
              "      <td>3.095678</td>\n",
              "      <td>8</td>\n",
              "      <td>142</td>\n",
              "      <td>17.750000</td>\n",
              "      <td>80.147321</td>\n",
              "      <td>3.101786</td>\n",
              "      <td>4</td>\n",
              "      <td>3.095678</td>\n",
              "      <td>0</td>\n",
              "      <td>0</td>\n",
              "    </tr>\n",
              "    <tr>\n",
              "      <th>8455</th>\n",
              "      <td>2015</td>\n",
              "      <td>2.840899</td>\n",
              "      <td>8</td>\n",
              "      <td>130</td>\n",
              "      <td>16.250000</td>\n",
              "      <td>74.680804</td>\n",
              "      <td>2.859375</td>\n",
              "      <td>4</td>\n",
              "      <td>2.840899</td>\n",
              "      <td>0</td>\n",
              "      <td>0</td>\n",
              "    </tr>\n",
              "    <tr>\n",
              "      <th>8481</th>\n",
              "      <td>2015</td>\n",
              "      <td>2.214360</td>\n",
              "      <td>8</td>\n",
              "      <td>106</td>\n",
              "      <td>13.250000</td>\n",
              "      <td>65.452381</td>\n",
              "      <td>2.224405</td>\n",
              "      <td>4</td>\n",
              "      <td>2.214360</td>\n",
              "      <td>0</td>\n",
              "      <td>0</td>\n",
              "    </tr>\n",
              "    <tr>\n",
              "      <th>8631</th>\n",
              "      <td>2015</td>\n",
              "      <td>3.321772</td>\n",
              "      <td>7</td>\n",
              "      <td>145</td>\n",
              "      <td>20.714286</td>\n",
              "      <td>83.242063</td>\n",
              "      <td>3.314909</td>\n",
              "      <td>4</td>\n",
              "      <td>3.321772</td>\n",
              "      <td>1</td>\n",
              "      <td>1</td>\n",
              "    </tr>\n",
              "    <tr>\n",
              "      <th>8684</th>\n",
              "      <td>2015</td>\n",
              "      <td>3.261563</td>\n",
              "      <td>7</td>\n",
              "      <td>145</td>\n",
              "      <td>20.714286</td>\n",
              "      <td>82.520181</td>\n",
              "      <td>3.267460</td>\n",
              "      <td>4</td>\n",
              "      <td>3.261563</td>\n",
              "      <td>1</td>\n",
              "      <td>1</td>\n",
              "    </tr>\n",
              "  </tbody>\n",
              "</table>\n",
              "</div>\n",
              "      <button class=\"colab-df-convert\" onclick=\"convertToInteractive('df-bfcc4e4c-6f7f-4428-931a-3dc8af57c3a8')\"\n",
              "              title=\"Convert this dataframe to an interactive table.\"\n",
              "              style=\"display:none;\">\n",
              "        \n",
              "  <svg xmlns=\"http://www.w3.org/2000/svg\" height=\"24px\"viewBox=\"0 0 24 24\"\n",
              "       width=\"24px\">\n",
              "    <path d=\"M0 0h24v24H0V0z\" fill=\"none\"/>\n",
              "    <path d=\"M18.56 5.44l.94 2.06.94-2.06 2.06-.94-2.06-.94-.94-2.06-.94 2.06-2.06.94zm-11 1L8.5 8.5l.94-2.06 2.06-.94-2.06-.94L8.5 2.5l-.94 2.06-2.06.94zm10 10l.94 2.06.94-2.06 2.06-.94-2.06-.94-.94-2.06-.94 2.06-2.06.94z\"/><path d=\"M17.41 7.96l-1.37-1.37c-.4-.4-.92-.59-1.43-.59-.52 0-1.04.2-1.43.59L10.3 9.45l-7.72 7.72c-.78.78-.78 2.05 0 2.83L4 21.41c.39.39.9.59 1.41.59.51 0 1.02-.2 1.41-.59l7.78-7.78 2.81-2.81c.8-.78.8-2.07 0-2.86zM5.41 20L4 18.59l7.72-7.72 1.47 1.35L5.41 20z\"/>\n",
              "  </svg>\n",
              "      </button>\n",
              "      \n",
              "  <style>\n",
              "    .colab-df-container {\n",
              "      display:flex;\n",
              "      flex-wrap:wrap;\n",
              "      gap: 12px;\n",
              "    }\n",
              "\n",
              "    .colab-df-convert {\n",
              "      background-color: #E8F0FE;\n",
              "      border: none;\n",
              "      border-radius: 50%;\n",
              "      cursor: pointer;\n",
              "      display: none;\n",
              "      fill: #1967D2;\n",
              "      height: 32px;\n",
              "      padding: 0 0 0 0;\n",
              "      width: 32px;\n",
              "    }\n",
              "\n",
              "    .colab-df-convert:hover {\n",
              "      background-color: #E2EBFA;\n",
              "      box-shadow: 0px 1px 2px rgba(60, 64, 67, 0.3), 0px 1px 3px 1px rgba(60, 64, 67, 0.15);\n",
              "      fill: #174EA6;\n",
              "    }\n",
              "\n",
              "    [theme=dark] .colab-df-convert {\n",
              "      background-color: #3B4455;\n",
              "      fill: #D2E3FC;\n",
              "    }\n",
              "\n",
              "    [theme=dark] .colab-df-convert:hover {\n",
              "      background-color: #434B5C;\n",
              "      box-shadow: 0px 1px 3px 1px rgba(0, 0, 0, 0.15);\n",
              "      filter: drop-shadow(0px 1px 2px rgba(0, 0, 0, 0.3));\n",
              "      fill: #FFFFFF;\n",
              "    }\n",
              "  </style>\n",
              "\n",
              "      <script>\n",
              "        const buttonEl =\n",
              "          document.querySelector('#df-bfcc4e4c-6f7f-4428-931a-3dc8af57c3a8 button.colab-df-convert');\n",
              "        buttonEl.style.display =\n",
              "          google.colab.kernel.accessAllowed ? 'block' : 'none';\n",
              "\n",
              "        async function convertToInteractive(key) {\n",
              "          const element = document.querySelector('#df-bfcc4e4c-6f7f-4428-931a-3dc8af57c3a8');\n",
              "          const dataTable =\n",
              "            await google.colab.kernel.invokeFunction('convertToInteractive',\n",
              "                                                     [key], {});\n",
              "          if (!dataTable) return;\n",
              "\n",
              "          const docLinkHtml = 'Like what you see? Visit the ' +\n",
              "            '<a target=\"_blank\" href=https://colab.research.google.com/notebooks/data_table.ipynb>data table notebook</a>'\n",
              "            + ' to learn more about interactive tables.';\n",
              "          element.innerHTML = '';\n",
              "          dataTable['output_type'] = 'display_data';\n",
              "          await google.colab.output.renderOutput(dataTable, element);\n",
              "          const docLink = document.createElement('div');\n",
              "          docLink.innerHTML = docLinkHtml;\n",
              "          element.appendChild(docLink);\n",
              "        }\n",
              "      </script>\n",
              "    </div>\n",
              "  </div>\n",
              "  "
            ]
          },
          "metadata": {},
          "execution_count": 133
        }
      ]
    },
    {
      "cell_type": "code",
      "source": [
        "# y_pred\n",
        "\n",
        "from sklearn.metrics import accuracy_score\n",
        "\n",
        "\n",
        "# accuracy_score(y, y_pred)\n",
        "   \n"
      ],
      "metadata": {
        "id": "6MTI4AWfg3lm"
      },
      "execution_count": 134,
      "outputs": []
    },
    {
      "cell_type": "code",
      "source": [
        "accuracy_score(y,trypredmin.astype(int))"
      ],
      "metadata": {
        "id": "5AwdUxJMg3lm",
        "colab": {
          "base_uri": "https://localhost:8080/"
        },
        "outputId": "7a59e463-e2ef-4c49-eaff-73b01a5e04e3"
      },
      "execution_count": 135,
      "outputs": [
        {
          "output_type": "execute_result",
          "data": {
            "text/plain": [
              "0.6682027649769585"
            ]
          },
          "metadata": {},
          "execution_count": 135
        }
      ]
    },
    {
      "cell_type": "code",
      "source": [
        "accuracy_score(y,trypredmin25.astype(int))"
      ],
      "metadata": {
        "id": "4o-YEaWgg3lm",
        "colab": {
          "base_uri": "https://localhost:8080/"
        },
        "outputId": "b5b4cc32-df6c-442f-c64f-5c5fe759c16e"
      },
      "execution_count": 136,
      "outputs": [
        {
          "output_type": "execute_result",
          "data": {
            "text/plain": [
              "0.8133640552995391"
            ]
          },
          "metadata": {},
          "execution_count": 136
        }
      ]
    },
    {
      "cell_type": "code",
      "source": [
        "accuracy_score(y,trypredmin50.astype(int))"
      ],
      "metadata": {
        "id": "CHZSLZtAg3lm",
        "colab": {
          "base_uri": "https://localhost:8080/"
        },
        "outputId": "c0f00de7-7226-44ee-f85b-6b5e9e6f8bcf"
      },
      "execution_count": 137,
      "outputs": [
        {
          "output_type": "execute_result",
          "data": {
            "text/plain": [
              "0.7557603686635944"
            ]
          },
          "metadata": {},
          "execution_count": 137
        }
      ]
    },
    {
      "cell_type": "code",
      "source": [
        "ax = sns.heatmap(df_finalis.corr(), annot=True)"
      ],
      "metadata": {
        "id": "jA89pOecZJFS",
        "colab": {
          "base_uri": "https://localhost:8080/",
          "height": 313
        },
        "outputId": "e1f04e9c-255c-4bf1-a629-04105fb70ed9"
      },
      "execution_count": 138,
      "outputs": [
        {
          "output_type": "display_data",
          "data": {
            "text/plain": [
              "<Figure size 432x288 with 2 Axes>"
            ],
            "image/png": "[encoded data removed]"
          },
          "metadata": {
            "needs_background": "light"
          }
        }
      ]
    },
    {
      "cell_type": "code",
      "source": [
        "!pip install -U jcopml"
      ],
      "metadata": {
        "id": "oimhtMArg3lp",
        "colab": {
          "base_uri": "https://localhost:8080/"
        },
        "outputId": "4d245272-34a4-4091-ea51-189543dc9d75"
      },
      "execution_count": 139,
      "outputs": [
        {
          "output_type": "stream",
          "name": "stdout",
          "text": [
            "Looking in indexes: https://pypi.org/simple, https://us-python.pkg.dev/colab-wheels/public/simple/\n",
            "Requirement already satisfied: jcopml in /usr/local/lib/python3.7/dist-packages (1.1.15)\n",
            "Requirement already satisfied: matplotlib in /usr/local/lib/python3.7/dist-packages (from jcopml) (3.2.2)\n",
            "Requirement already satisfied: statsmodels in /usr/local/lib/python3.7/dist-packages (from jcopml) (0.10.2)\n",
            "Requirement already satisfied: numpy in /usr/local/lib/python3.7/dist-packages (from jcopml) (1.21.6)\n",
            "Requirement already satisfied: scikit-learn in /usr/local/lib/python3.7/dist-packages (from jcopml) (1.0.2)\n",
            "Requirement already satisfied: scipy in /usr/local/lib/python3.7/dist-packages (from jcopml) (1.4.1)\n",
            "Requirement already satisfied: seaborn in /usr/local/lib/python3.7/dist-packages (from jcopml) (0.11.2)\n",
            "Requirement already satisfied: pandas in /usr/local/lib/python3.7/dist-packages (from jcopml) (1.3.5)\n",
            "Requirement already satisfied: ipywidgets in /usr/local/lib/python3.7/dist-packages (from jcopml) (7.7.0)\n",
            "Requirement already satisfied: scikit-optimize in /usr/local/lib/python3.7/dist-packages (from jcopml) (0.9.0)\n",
            "Requirement already satisfied: jupyterlab-widgets>=1.0.0 in /usr/local/lib/python3.7/dist-packages (from ipywidgets->jcopml) (1.1.0)\n",
            "Requirement already satisfied: ipython>=4.0.0 in /usr/local/lib/python3.7/dist-packages (from ipywidgets->jcopml) (5.5.0)\n",
            "Requirement already satisfied: traitlets>=4.3.1 in /usr/local/lib/python3.7/dist-packages (from ipywidgets->jcopml) (5.1.1)\n",
            "Requirement already satisfied: ipykernel>=4.5.1 in /usr/local/lib/python3.7/dist-packages (from ipywidgets->jcopml) (4.10.1)\n",
            "Requirement already satisfied: ipython-genutils~=0.2.0 in /usr/local/lib/python3.7/dist-packages (from ipywidgets->jcopml) (0.2.0)\n",
            "Requirement already satisfied: nbformat>=4.2.0 in /usr/local/lib/python3.7/dist-packages (from ipywidgets->jcopml) (5.4.0)\n",
            "Requirement already satisfied: widgetsnbextension~=3.6.0 in /usr/local/lib/python3.7/dist-packages (from ipywidgets->jcopml) (3.6.0)\n",
            "Requirement already satisfied: jupyter-client in /usr/local/lib/python3.7/dist-packages (from ipykernel>=4.5.1->ipywidgets->jcopml) (5.3.5)\n",
            "Requirement already satisfied: tornado>=4.0 in /usr/local/lib/python3.7/dist-packages (from ipykernel>=4.5.1->ipywidgets->jcopml) (5.1.1)\n",
            "Requirement already satisfied: pickleshare in /usr/local/lib/python3.7/dist-packages (from ipython>=4.0.0->ipywidgets->jcopml) (0.7.5)\n",
            "Requirement already satisfied: pexpect in /usr/local/lib/python3.7/dist-packages (from ipython>=4.0.0->ipywidgets->jcopml) (4.8.0)\n",
            "Requirement already satisfied: simplegeneric>0.8 in /usr/local/lib/python3.7/dist-packages (from ipython>=4.0.0->ipywidgets->jcopml) (0.8.1)\n",
            "Requirement already satisfied: pygments in /usr/local/lib/python3.7/dist-packages (from ipython>=4.0.0->ipywidgets->jcopml) (2.6.1)\n",
            "Requirement already satisfied: decorator in /usr/local/lib/python3.7/dist-packages (from ipython>=4.0.0->ipywidgets->jcopml) (4.4.2)\n",
            "Requirement already satisfied: prompt-toolkit<2.0.0,>=1.0.4 in /usr/local/lib/python3.7/dist-packages (from ipython>=4.0.0->ipywidgets->jcopml) (1.0.18)\n",
            "Requirement already satisfied: setuptools>=18.5 in /usr/local/lib/python3.7/dist-packages (from ipython>=4.0.0->ipywidgets->jcopml) (57.4.0)\n",
            "Requirement already satisfied: jupyter-core in /usr/local/lib/python3.7/dist-packages (from nbformat>=4.2.0->ipywidgets->jcopml) (4.10.0)\n",
            "Requirement already satisfied: jsonschema>=2.6 in /usr/local/lib/python3.7/dist-packages (from nbformat>=4.2.0->ipywidgets->jcopml) (4.3.3)\n",
            "Requirement already satisfied: fastjsonschema in /usr/local/lib/python3.7/dist-packages (from nbformat>=4.2.0->ipywidgets->jcopml) (2.15.3)\n",
            "Requirement already satisfied: pyrsistent!=0.17.0,!=0.17.1,!=0.17.2,>=0.14.0 in /usr/local/lib/python3.7/dist-packages (from jsonschema>=2.6->nbformat>=4.2.0->ipywidgets->jcopml) (0.18.1)\n",
            "Requirement already satisfied: attrs>=17.4.0 in /usr/local/lib/python3.7/dist-packages (from jsonschema>=2.6->nbformat>=4.2.0->ipywidgets->jcopml) (21.4.0)\n",
            "Requirement already satisfied: importlib-resources>=1.4.0 in /usr/local/lib/python3.7/dist-packages (from jsonschema>=2.6->nbformat>=4.2.0->ipywidgets->jcopml) (5.7.1)\n",
            "Requirement already satisfied: typing-extensions in /usr/local/lib/python3.7/dist-packages (from jsonschema>=2.6->nbformat>=4.2.0->ipywidgets->jcopml) (4.1.1)\n",
            "Requirement already satisfied: importlib-metadata in /usr/local/lib/python3.7/dist-packages (from jsonschema>=2.6->nbformat>=4.2.0->ipywidgets->jcopml) (4.11.4)\n",
            "Requirement already satisfied: zipp>=3.1.0 in /usr/local/lib/python3.7/dist-packages (from importlib-resources>=1.4.0->jsonschema>=2.6->nbformat>=4.2.0->ipywidgets->jcopml) (3.8.0)\n",
            "Requirement already satisfied: six>=1.9.0 in /usr/local/lib/python3.7/dist-packages (from prompt-toolkit<2.0.0,>=1.0.4->ipython>=4.0.0->ipywidgets->jcopml) (1.15.0)\n",
            "Requirement already satisfied: wcwidth in /usr/local/lib/python3.7/dist-packages (from prompt-toolkit<2.0.0,>=1.0.4->ipython>=4.0.0->ipywidgets->jcopml) (0.2.5)\n",
            "Requirement already satisfied: notebook>=4.4.1 in /usr/local/lib/python3.7/dist-packages (from widgetsnbextension~=3.6.0->ipywidgets->jcopml) (5.3.1)\n",
            "Requirement already satisfied: terminado>=0.8.1 in /usr/local/lib/python3.7/dist-packages (from notebook>=4.4.1->widgetsnbextension~=3.6.0->ipywidgets->jcopml) (0.13.3)\n",
            "Requirement already satisfied: jinja2 in /usr/local/lib/python3.7/dist-packages (from notebook>=4.4.1->widgetsnbextension~=3.6.0->ipywidgets->jcopml) (2.11.3)\n",
            "Requirement already satisfied: nbconvert in /usr/local/lib/python3.7/dist-packages (from notebook>=4.4.1->widgetsnbextension~=3.6.0->ipywidgets->jcopml) (5.6.1)\n",
            "Requirement already satisfied: Send2Trash in /usr/local/lib/python3.7/dist-packages (from notebook>=4.4.1->widgetsnbextension~=3.6.0->ipywidgets->jcopml) (1.8.0)\n",
            "Requirement already satisfied: python-dateutil>=2.1 in /usr/local/lib/python3.7/dist-packages (from jupyter-client->ipykernel>=4.5.1->ipywidgets->jcopml) (2.8.2)\n",
            "Requirement already satisfied: pyzmq>=13 in /usr/local/lib/python3.7/dist-packages (from jupyter-client->ipykernel>=4.5.1->ipywidgets->jcopml) (23.1.0)\n",
            "Requirement already satisfied: ptyprocess in /usr/local/lib/python3.7/dist-packages (from terminado>=0.8.1->notebook>=4.4.1->widgetsnbextension~=3.6.0->ipywidgets->jcopml) (0.7.0)\n",
            "Requirement already satisfied: MarkupSafe>=0.23 in /usr/local/lib/python3.7/dist-packages (from jinja2->notebook>=4.4.1->widgetsnbextension~=3.6.0->ipywidgets->jcopml) (2.0.1)\n",
            "Requirement already satisfied: pyparsing!=2.0.4,!=2.1.2,!=2.1.6,>=2.0.1 in /usr/local/lib/python3.7/dist-packages (from matplotlib->jcopml) (3.0.9)\n",
            "Requirement already satisfied: kiwisolver>=1.0.1 in /usr/local/lib/python3.7/dist-packages (from matplotlib->jcopml) (1.4.3)\n",
            "Requirement already satisfied: cycler>=0.10 in /usr/local/lib/python3.7/dist-packages (from matplotlib->jcopml) (0.11.0)\n",
            "Requirement already satisfied: pandocfilters>=1.4.1 in /usr/local/lib/python3.7/dist-packages (from nbconvert->notebook>=4.4.1->widgetsnbextension~=3.6.0->ipywidgets->jcopml) (1.5.0)\n",
            "Requirement already satisfied: mistune<2,>=0.8.1 in /usr/local/lib/python3.7/dist-packages (from nbconvert->notebook>=4.4.1->widgetsnbextension~=3.6.0->ipywidgets->jcopml) (0.8.4)\n",
            "Requirement already satisfied: testpath in /usr/local/lib/python3.7/dist-packages (from nbconvert->notebook>=4.4.1->widgetsnbextension~=3.6.0->ipywidgets->jcopml) (0.6.0)\n",
            "Requirement already satisfied: entrypoints>=0.2.2 in /usr/local/lib/python3.7/dist-packages (from nbconvert->notebook>=4.4.1->widgetsnbextension~=3.6.0->ipywidgets->jcopml) (0.4)\n",
            "Requirement already satisfied: bleach in /usr/local/lib/python3.7/dist-packages (from nbconvert->notebook>=4.4.1->widgetsnbextension~=3.6.0->ipywidgets->jcopml) (5.0.0)\n",
            "Requirement already satisfied: defusedxml in /usr/local/lib/python3.7/dist-packages (from nbconvert->notebook>=4.4.1->widgetsnbextension~=3.6.0->ipywidgets->jcopml) (0.7.1)\n",
            "Requirement already satisfied: webencodings in /usr/local/lib/python3.7/dist-packages (from bleach->nbconvert->notebook>=4.4.1->widgetsnbextension~=3.6.0->ipywidgets->jcopml) (0.5.1)\n",
            "Requirement already satisfied: pytz>=2017.3 in /usr/local/lib/python3.7/dist-packages (from pandas->jcopml) (2022.1)\n",
            "Requirement already satisfied: joblib>=0.11 in /usr/local/lib/python3.7/dist-packages (from scikit-learn->jcopml) (1.1.0)\n",
            "Requirement already satisfied: threadpoolctl>=2.0.0 in /usr/local/lib/python3.7/dist-packages (from scikit-learn->jcopml) (3.1.0)\n",
            "Requirement already satisfied: pyaml>=16.9 in /usr/local/lib/python3.7/dist-packages (from scikit-optimize->jcopml) (21.10.1)\n",
            "Requirement already satisfied: PyYAML in /usr/local/lib/python3.7/dist-packages (from pyaml>=16.9->scikit-optimize->jcopml) (3.13)\n",
            "Requirement already satisfied: patsy>=0.4.0 in /usr/local/lib/python3.7/dist-packages (from statsmodels->jcopml) (0.5.2)\n"
          ]
        }
      ]
    },
    {
      "cell_type": "markdown",
      "source": [
        "# Training"
      ],
      "metadata": {
        "id": "3z_ofTSj_PjP"
      }
    },
    {
      "cell_type": "code",
      "source": [
        "\n",
        "from jcopml.automl import AutoClassifier\n",
        "\n",
        "X = df_finalis.drop(columns=['lulusTEPAT','ANGKATAN','SEMESTER','SKS','TAHUN','IPK','lulus'])\n",
        "y = df_finalis.lulusTEPAT"
      ],
      "metadata": {
        "id": "oAYOD-ybxG1P"
      },
      "execution_count": 140,
      "outputs": []
    },
    {
      "cell_type": "code",
      "source": [
        "# ANGKATAN\tIPSmean\tSEMESTER\tSKS\tmeNILAI\tmeBOBOT\tTAHUN\tIPK\tlulusTEPAT"
      ],
      "metadata": {
        "id": "_xCd9feAMfgF"
      },
      "execution_count": 141,
      "outputs": []
    },
    {
      "cell_type": "code",
      "source": [
        "# jcopml.__version__"
      ],
      "metadata": {
        "id": "igmGrls8Kbrf"
      },
      "execution_count": 142,
      "outputs": []
    },
    {
      "cell_type": "code",
      "source": [
        ""
      ],
      "metadata": {
        "id": "W17j9-YJ_KcQ"
      },
      "execution_count": 142,
      "outputs": []
    },
    {
      "cell_type": "markdown",
      "source": [
        "# Auto ML dengan Randomsearchcv"
      ],
      "metadata": {
        "id": "OL2qfsetNNxt"
      }
    },
    {
      "cell_type": "code",
      "source": [
        "model1 = AutoClassifier(['IPSmean','meNILAI','meBOBOT','SKSmean'],[],) \n",
        "model2 = AutoClassifier(['IPSmean','meNILAI','meBOBOT','SKSmean'],[],) \n",
        "model3 = AutoClassifier(['IPSmean','meNILAI','meBOBOT','SKSmean'],[],) "
      ],
      "metadata": {
        "id": "iM0MGO4KNBOU"
      },
      "execution_count": 143,
      "outputs": []
    },
    {
      "cell_type": "code",
      "source": [
        "model1.fit(X,y, cv=4)"
      ],
      "metadata": {
        "id": "9NSWPGdeQOK8",
        "colab": {
          "base_uri": "https://localhost:8080/"
        },
        "outputId": "989a8d29-90bd-4c0a-b9cc-5cf206ea0bef"
      },
      "execution_count": 144,
      "outputs": [
        {
          "output_type": "stream",
          "name": "stdout",
          "text": [
            "Fitting 4 folds for each of 50 candidates, totalling 200 fits\n",
            "================== Best Model Info ==================\n",
            "algo                      | RandomForestClassifier\n",
            "algo__max_depth           | 27\n",
            "algo__max_features        | 0.5045056067243832\n",
            "algo__min_samples_leaf    | 1\n",
            "algo__n_estimators        | 147\n",
            "=====================================================\n",
            "\n",
            "================================ Best Preprocessor Info =================================\n",
            "categorical_imputer       | SimpleImputer(add_indicator=True, strategy='most_frequent')\n",
            "categorical_encoder       | OneHotEncoder\n",
            "numerical_imputer         | SimpleImputer(add_indicator=False, strategy='median')\n",
            "numerical_scaler          | StandardScaler\n",
            "=========================================================================================\n",
            "\n",
            "=========== Score ===========\n",
            "Train: 1.0\n",
            "Valid: 0.9769780807270783\n",
            "Test : 1.0\n",
            "=============================\n"
          ]
        }
      ]
    },
    {
      "cell_type": "code",
      "source": [
        "model2.fit(X,y, algo=['rf'],cv=4,n_trial=200)"
      ],
      "metadata": {
        "id": "tWrRfJ4hvIwG",
        "colab": {
          "base_uri": "https://localhost:8080/"
        },
        "outputId": "913be28d-f9d8-4aa4-8d83-56dd808eb5ab"
      },
      "execution_count": null,
      "outputs": [
        {
          "output_type": "stream",
          "name": "stdout",
          "text": [
            "Fitting 4 folds for each of 200 candidates, totalling 800 fits\n"
          ]
        }
      ]
    },
    {
      "cell_type": "code",
      "source": [
        "\n",
        "\n",
        "model1.plot_results()"
      ],
      "metadata": {
        "id": "pmuY3KptVcyp"
      },
      "execution_count": null,
      "outputs": []
    },
    {
      "cell_type": "code",
      "source": [
        "model1.mean_score_decrease()"
      ],
      "metadata": {
        "id": "XODCikqlNadl"
      },
      "execution_count": null,
      "outputs": []
    },
    {
      "cell_type": "code",
      "source": [
        "model2.plot_results()"
      ],
      "metadata": {
        "id": "eQdPsw8BZOPA"
      },
      "execution_count": null,
      "outputs": []
    },
    {
      "cell_type": "code",
      "source": [
        "model2.mean_score_decrease()"
      ],
      "metadata": {
        "id": "BVQutM8WZStU"
      },
      "execution_count": null,
      "outputs": []
    },
    {
      "cell_type": "markdown",
      "source": [
        "# Melakukan Prediksi"
      ],
      "metadata": {
        "id": "oCM8YoSLxaey"
      }
    },
    {
      "cell_type": "code",
      "source": [
        "coba = model2.predict(predtarg)\n",
        "predtarg['target'] = coba\n",
        "predtarg.drop('lulusTEPAT', axis=1, inplace=True)\n",
        "predtarg.drop('lulus', axis=1, inplace=True)\n"
      ],
      "metadata": {
        "id": "PEAa50A6medr"
      },
      "execution_count": null,
      "outputs": []
    },
    {
      "cell_type": "markdown",
      "source": [
        "# Export Model"
      ],
      "metadata": {
        "id": "6byzPKN3mVEa"
      }
    },
    {
      "cell_type": "code",
      "source": [
        ""
      ],
      "metadata": {
        "id": "Wl596SBy-GtR"
      },
      "execution_count": null,
      "outputs": []
    },
    {
      "cell_type": "code",
      "source": [
        "# save_model(model, \"NYOBA_Penyisihan_OutputDatCom.pkl\")"
      ],
      "metadata": {
        "id": "aww5AmDo-PuA"
      },
      "execution_count": null,
      "outputs": []
    }
  ],
  "metadata": {
    "colab": {
      "collapsed_sections": [],
      "name": "Copy of NYOBA_Penyisihan_OutputDatCom.ipynb",
      "provenance": [],
      "mount_file_id": "1OtOkqovHhZEWN6IN9U4-0KczWJM7CUtR",
      "authorship_tag": "ABX9TyPSdur9yNJLHlGFlo2seANU",
      "include_colab_link": true
    },
    "kernelspec": {
      "display_name": "Python 3",
      "name": "python3"
    },
    "language_info": {
      "name": "python"
    }
  },
  "nbformat": 4,
  "nbformat_minor": 0
}