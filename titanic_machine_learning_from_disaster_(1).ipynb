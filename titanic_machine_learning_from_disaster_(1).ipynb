{
  "metadata": {
    "kernelspec": {
      "language": "python",
      "display_name": "Python 3",
      "name": "python3"
    },
    "language_info": {
      "name": "python",
      "version": "3.7.12",
      "mimetype": "text/x-python",
      "codemirror_mode": {
        "name": "ipython",
        "version": 3
      },
      "pygments_lexer": "ipython3",
      "nbconvert_exporter": "python",
      "file_extension": ".py"
    },
    "colab": {
      "provenance": [],
      "include_colab_link": true
    }
  },
  "nbformat_minor": 0,
  "nbformat": 4,
  "cells": [
    {
      "cell_type": "markdown",
      "metadata": {
        "id": "view-in-github",
        "colab_type": "text"
      },
      "source": [
        "<a href=\"https://colab.research.google.com/github/Hanifka/Kaggle/blob/main/titanic_machine_learning_from_disaster_(1).ipynb\" target=\"_parent\"><img src=\"https://colab.research.google.com/assets/colab-badge.svg\" alt=\"Open In Colab\"/></a>"
      ]
    },
    {
      "cell_type": "code",
      "source": [
        "# This Python 3 environment comes with many helpful analytics libraries installed\n",
        "# It is defined by the kaggle/python Docker image: https://github.com/kaggle/docker-python\n",
        "# For example, here's several helpful packages to load\n",
        "\n",
        "import numpy as np # linear algebra\n",
        "import pandas as pd # data processing, CSV file I/O (e.g. pd.read_csv)\n",
        "import seaborn as sn\n",
        "import matplotlib.pyplot as plt\n",
        "\n",
        "\n",
        "# Input data files are available in the read-only \"../input/\" directory\n",
        "# For example, running this (by clicking run or pressing Shift+Enter) will list all files under the input directory\n",
        "\n",
        "from google.colab import drive\n",
        "\n",
        "drive.mount('/content/drive')\n",
        "# You can write up to 20GB to the current directory (/kaggle/working/) that gets preserved as output when you create a version using \"Save & Run All\" \n",
        "# You can also write temporary files to /kaggle/temp/, but they won't be saved outside of the current session"
      ],
      "metadata": {
        "_uuid": "8f2839f25d086af736a60e9eeb907d3b93b6e0e5",
        "_cell_guid": "b1076dfc-b9ad-4769-8c92-a6c4dae69d19",
        "execution": {
          "iopub.status.busy": "2022-11-24T13:16:21.902600Z",
          "iopub.execute_input": "2022-11-24T13:16:21.902965Z",
          "iopub.status.idle": "2022-11-24T13:16:21.912557Z",
          "shell.execute_reply.started": "2022-11-24T13:16:21.902930Z",
          "shell.execute_reply": "2022-11-24T13:16:21.911370Z"
        },
        "trusted": true,
        "colab": {
          "base_uri": "https://localhost:8080/",
          "height": 0
        },
        "id": "U4IYNN67zta9",
        "outputId": "c4ee9abe-a0e2-488c-8eeb-4aa4b808ec74"
      },
      "execution_count": 2,
      "outputs": [
        {
          "output_type": "stream",
          "name": "stdout",
          "text": [
            "Mounted at /content/drive\n"
          ]
        }
      ]
    },
    {
      "cell_type": "code",
      "source": [
        "from sklearn import linear_model\n",
        "from sklearn.model_selection import train_test_split"
      ],
      "metadata": {
        "execution": {
          "iopub.status.busy": "2022-11-24T13:16:21.914129Z",
          "iopub.execute_input": "2022-11-24T13:16:21.914886Z",
          "iopub.status.idle": "2022-11-24T13:16:21.925259Z",
          "shell.execute_reply.started": "2022-11-24T13:16:21.914846Z",
          "shell.execute_reply": "2022-11-24T13:16:21.924019Z"
        },
        "trusted": true,
        "id": "L3XE_ujyztbI"
      },
      "execution_count": 3,
      "outputs": []
    },
    {
      "cell_type": "code",
      "source": [
        "training = pd.read_csv('/content/drive/MyDrive/Dataset/kaggle/train (5).csv',index_col=\"PassengerId\")\n",
        "\n",
        "\n"
      ],
      "metadata": {
        "execution": {
          "iopub.status.busy": "2022-11-24T13:16:21.927084Z",
          "iopub.execute_input": "2022-11-24T13:16:21.927358Z",
          "iopub.status.idle": "2022-11-24T13:16:21.946841Z",
          "shell.execute_reply.started": "2022-11-24T13:16:21.927318Z",
          "shell.execute_reply": "2022-11-24T13:16:21.945767Z"
        },
        "trusted": true,
        "id": "UzcHFcbNztbJ"
      },
      "execution_count": 4,
      "outputs": []
    },
    {
      "cell_type": "code",
      "source": [
        "training.head()"
      ],
      "metadata": {
        "execution": {
          "iopub.status.busy": "2022-11-24T13:16:21.949171Z",
          "iopub.execute_input": "2022-11-24T13:16:21.950066Z",
          "iopub.status.idle": "2022-11-24T13:16:21.970043Z",
          "shell.execute_reply.started": "2022-11-24T13:16:21.950018Z",
          "shell.execute_reply": "2022-11-24T13:16:21.969067Z"
        },
        "trusted": true,
        "colab": {
          "base_uri": "https://localhost:8080/",
          "height": 237
        },
        "id": "y-n0vdSKztbJ",
        "outputId": "999670f1-e215-466e-8ebf-734d79228e7c"
      },
      "execution_count": 5,
      "outputs": [
        {
          "output_type": "execute_result",
          "data": {
            "text/plain": [
              "             Survived  Pclass  \\\n",
              "PassengerId                     \n",
              "1                   0       3   \n",
              "2                   1       1   \n",
              "3                   1       3   \n",
              "4                   1       1   \n",
              "5                   0       3   \n",
              "\n",
              "                                                          Name     Sex   Age  \\\n",
              "PassengerId                                                                    \n",
              "1                                      Braund, Mr. Owen Harris    male  22.0   \n",
              "2            Cumings, Mrs. John Bradley (Florence Briggs Th...  female  38.0   \n",
              "3                                       Heikkinen, Miss. Laina  female  26.0   \n",
              "4                 Futrelle, Mrs. Jacques Heath (Lily May Peel)  female  35.0   \n",
              "5                                     Allen, Mr. William Henry    male  35.0   \n",
              "\n",
              "             SibSp  Parch            Ticket     Fare Cabin Embarked  \n",
              "PassengerId                                                          \n",
              "1                1      0         A/5 21171   7.2500   NaN        S  \n",
              "2                1      0          PC 17599  71.2833   C85        C  \n",
              "3                0      0  STON/O2. 3101282   7.9250   NaN        S  \n",
              "4                1      0            113803  53.1000  C123        S  \n",
              "5                0      0            373450   8.0500   NaN        S  "
            ],
            "text/html": [
              "\n",
              "  <div id=\"df-d990d8c8-8f6d-4f2f-95d4-f11ff3ffb9bb\">\n",
              "    <div class=\"colab-df-container\">\n",
              "      <div>\n",
              "<style scoped>\n",
              "    .dataframe tbody tr th:only-of-type {\n",
              "        vertical-align: middle;\n",
              "    }\n",
              "\n",
              "    .dataframe tbody tr th {\n",
              "        vertical-align: top;\n",
              "    }\n",
              "\n",
              "    .dataframe thead th {\n",
              "        text-align: right;\n",
              "    }\n",
              "</style>\n",
              "<table border=\"1\" class=\"dataframe\">\n",
              "  <thead>\n",
              "    <tr style=\"text-align: right;\">\n",
              "      <th></th>\n",
              "      <th>Survived</th>\n",
              "      <th>Pclass</th>\n",
              "      <th>Name</th>\n",
              "      <th>Sex</th>\n",
              "      <th>Age</th>\n",
              "      <th>SibSp</th>\n",
              "      <th>Parch</th>\n",
              "      <th>Ticket</th>\n",
              "      <th>Fare</th>\n",
              "      <th>Cabin</th>\n",
              "      <th>Embarked</th>\n",
              "    </tr>\n",
              "    <tr>\n",
              "      <th>PassengerId</th>\n",
              "      <th></th>\n",
              "      <th></th>\n",
              "      <th></th>\n",
              "      <th></th>\n",
              "      <th></th>\n",
              "      <th></th>\n",
              "      <th></th>\n",
              "      <th></th>\n",
              "      <th></th>\n",
              "      <th></th>\n",
              "      <th></th>\n",
              "    </tr>\n",
              "  </thead>\n",
              "  <tbody>\n",
              "    <tr>\n",
              "      <th>1</th>\n",
              "      <td>0</td>\n",
              "      <td>3</td>\n",
              "      <td>Braund, Mr. Owen Harris</td>\n",
              "      <td>male</td>\n",
              "      <td>22.0</td>\n",
              "      <td>1</td>\n",
              "      <td>0</td>\n",
              "      <td>A/5 21171</td>\n",
              "      <td>7.2500</td>\n",
              "      <td>NaN</td>\n",
              "      <td>S</td>\n",
              "    </tr>\n",
              "    <tr>\n",
              "      <th>2</th>\n",
              "      <td>1</td>\n",
              "      <td>1</td>\n",
              "      <td>Cumings, Mrs. John Bradley (Florence Briggs Th...</td>\n",
              "      <td>female</td>\n",
              "      <td>38.0</td>\n",
              "      <td>1</td>\n",
              "      <td>0</td>\n",
              "      <td>PC 17599</td>\n",
              "      <td>71.2833</td>\n",
              "      <td>C85</td>\n",
              "      <td>C</td>\n",
              "    </tr>\n",
              "    <tr>\n",
              "      <th>3</th>\n",
              "      <td>1</td>\n",
              "      <td>3</td>\n",
              "      <td>Heikkinen, Miss. Laina</td>\n",
              "      <td>female</td>\n",
              "      <td>26.0</td>\n",
              "      <td>0</td>\n",
              "      <td>0</td>\n",
              "      <td>STON/O2. 3101282</td>\n",
              "      <td>7.9250</td>\n",
              "      <td>NaN</td>\n",
              "      <td>S</td>\n",
              "    </tr>\n",
              "    <tr>\n",
              "      <th>4</th>\n",
              "      <td>1</td>\n",
              "      <td>1</td>\n",
              "      <td>Futrelle, Mrs. Jacques Heath (Lily May Peel)</td>\n",
              "      <td>female</td>\n",
              "      <td>35.0</td>\n",
              "      <td>1</td>\n",
              "      <td>0</td>\n",
              "      <td>113803</td>\n",
              "      <td>53.1000</td>\n",
              "      <td>C123</td>\n",
              "      <td>S</td>\n",
              "    </tr>\n",
              "    <tr>\n",
              "      <th>5</th>\n",
              "      <td>0</td>\n",
              "      <td>3</td>\n",
              "      <td>Allen, Mr. William Henry</td>\n",
              "      <td>male</td>\n",
              "      <td>35.0</td>\n",
              "      <td>0</td>\n",
              "      <td>0</td>\n",
              "      <td>373450</td>\n",
              "      <td>8.0500</td>\n",
              "      <td>NaN</td>\n",
              "      <td>S</td>\n",
              "    </tr>\n",
              "  </tbody>\n",
              "</table>\n",
              "</div>\n",
              "      <button class=\"colab-df-convert\" onclick=\"convertToInteractive('df-d990d8c8-8f6d-4f2f-95d4-f11ff3ffb9bb')\"\n",
              "              title=\"Convert this dataframe to an interactive table.\"\n",
              "              style=\"display:none;\">\n",
              "        \n",
              "  <svg xmlns=\"http://www.w3.org/2000/svg\" height=\"24px\"viewBox=\"0 0 24 24\"\n",
              "       width=\"24px\">\n",
              "    <path d=\"M0 0h24v24H0V0z\" fill=\"none\"/>\n",
              "    <path d=\"M18.56 5.44l.94 2.06.94-2.06 2.06-.94-2.06-.94-.94-2.06-.94 2.06-2.06.94zm-11 1L8.5 8.5l.94-2.06 2.06-.94-2.06-.94L8.5 2.5l-.94 2.06-2.06.94zm10 10l.94 2.06.94-2.06 2.06-.94-2.06-.94-.94-2.06-.94 2.06-2.06.94z\"/><path d=\"M17.41 7.96l-1.37-1.37c-.4-.4-.92-.59-1.43-.59-.52 0-1.04.2-1.43.59L10.3 9.45l-7.72 7.72c-.78.78-.78 2.05 0 2.83L4 21.41c.39.39.9.59 1.41.59.51 0 1.02-.2 1.41-.59l7.78-7.78 2.81-2.81c.8-.78.8-2.07 0-2.86zM5.41 20L4 18.59l7.72-7.72 1.47 1.35L5.41 20z\"/>\n",
              "  </svg>\n",
              "      </button>\n",
              "      \n",
              "  <style>\n",
              "    .colab-df-container {\n",
              "      display:flex;\n",
              "      flex-wrap:wrap;\n",
              "      gap: 12px;\n",
              "    }\n",
              "\n",
              "    .colab-df-convert {\n",
              "      background-color: #E8F0FE;\n",
              "      border: none;\n",
              "      border-radius: 50%;\n",
              "      cursor: pointer;\n",
              "      display: none;\n",
              "      fill: #1967D2;\n",
              "      height: 32px;\n",
              "      padding: 0 0 0 0;\n",
              "      width: 32px;\n",
              "    }\n",
              "\n",
              "    .colab-df-convert:hover {\n",
              "      background-color: #E2EBFA;\n",
              "      box-shadow: 0px 1px 2px rgba(60, 64, 67, 0.3), 0px 1px 3px 1px rgba(60, 64, 67, 0.15);\n",
              "      fill: #174EA6;\n",
              "    }\n",
              "\n",
              "    [theme=dark] .colab-df-convert {\n",
              "      background-color: #3B4455;\n",
              "      fill: #D2E3FC;\n",
              "    }\n",
              "\n",
              "    [theme=dark] .colab-df-convert:hover {\n",
              "      background-color: #434B5C;\n",
              "      box-shadow: 0px 1px 3px 1px rgba(0, 0, 0, 0.15);\n",
              "      filter: drop-shadow(0px 1px 2px rgba(0, 0, 0, 0.3));\n",
              "      fill: #FFFFFF;\n",
              "    }\n",
              "  </style>\n",
              "\n",
              "      <script>\n",
              "        const buttonEl =\n",
              "          document.querySelector('#df-d990d8c8-8f6d-4f2f-95d4-f11ff3ffb9bb button.colab-df-convert');\n",
              "        buttonEl.style.display =\n",
              "          google.colab.kernel.accessAllowed ? 'block' : 'none';\n",
              "\n",
              "        async function convertToInteractive(key) {\n",
              "          const element = document.querySelector('#df-d990d8c8-8f6d-4f2f-95d4-f11ff3ffb9bb');\n",
              "          const dataTable =\n",
              "            await google.colab.kernel.invokeFunction('convertToInteractive',\n",
              "                                                     [key], {});\n",
              "          if (!dataTable) return;\n",
              "\n",
              "          const docLinkHtml = 'Like what you see? Visit the ' +\n",
              "            '<a target=\"_blank\" href=https://colab.research.google.com/notebooks/data_table.ipynb>data table notebook</a>'\n",
              "            + ' to learn more about interactive tables.';\n",
              "          element.innerHTML = '';\n",
              "          dataTable['output_type'] = 'display_data';\n",
              "          await google.colab.output.renderOutput(dataTable, element);\n",
              "          const docLink = document.createElement('div');\n",
              "          docLink.innerHTML = docLinkHtml;\n",
              "          element.appendChild(docLink);\n",
              "        }\n",
              "      </script>\n",
              "    </div>\n",
              "  </div>\n",
              "  "
            ]
          },
          "metadata": {},
          "execution_count": 5
        }
      ]
    },
    {
      "cell_type": "code",
      "source": [
        "training.info()"
      ],
      "metadata": {
        "execution": {
          "iopub.status.busy": "2022-11-24T13:16:21.971797Z",
          "iopub.execute_input": "2022-11-24T13:16:21.972415Z",
          "iopub.status.idle": "2022-11-24T13:16:21.988931Z",
          "shell.execute_reply.started": "2022-11-24T13:16:21.972363Z",
          "shell.execute_reply": "2022-11-24T13:16:21.987425Z"
        },
        "trusted": true,
        "colab": {
          "base_uri": "https://localhost:8080/",
          "height": 0
        },
        "id": "FiC98G0EztbK",
        "outputId": "cde68a2a-4312-4235-df4d-1e49195c4380"
      },
      "execution_count": 6,
      "outputs": [
        {
          "output_type": "stream",
          "name": "stdout",
          "text": [
            "<class 'pandas.core.frame.DataFrame'>\n",
            "Int64Index: 891 entries, 1 to 891\n",
            "Data columns (total 11 columns):\n",
            " #   Column    Non-Null Count  Dtype  \n",
            "---  ------    --------------  -----  \n",
            " 0   Survived  891 non-null    int64  \n",
            " 1   Pclass    891 non-null    int64  \n",
            " 2   Name      891 non-null    object \n",
            " 3   Sex       891 non-null    object \n",
            " 4   Age       714 non-null    float64\n",
            " 5   SibSp     891 non-null    int64  \n",
            " 6   Parch     891 non-null    int64  \n",
            " 7   Ticket    891 non-null    object \n",
            " 8   Fare      891 non-null    float64\n",
            " 9   Cabin     204 non-null    object \n",
            " 10  Embarked  889 non-null    object \n",
            "dtypes: float64(2), int64(4), object(5)\n",
            "memory usage: 83.5+ KB\n"
          ]
        }
      ]
    },
    {
      "cell_type": "markdown",
      "source": [
        "# Drop Useless Columns"
      ],
      "metadata": {
        "id": "Tu_Wkp6zztbL"
      }
    },
    {
      "cell_type": "markdown",
      "source": [
        "kategorikan age(approved)"
      ],
      "metadata": {
        "id": "akzHGg1LztbL"
      }
    },
    {
      "cell_type": "code",
      "source": [
        "training = training.drop(columns=['Ticket','Cabin'])\n",
        "#Drop Ticket sama cabin"
      ],
      "metadata": {
        "execution": {
          "iopub.status.busy": "2022-11-24T13:16:21.991224Z",
          "iopub.execute_input": "2022-11-24T13:16:21.991781Z",
          "iopub.status.idle": "2022-11-24T13:16:21.997955Z",
          "shell.execute_reply.started": "2022-11-24T13:16:21.991727Z",
          "shell.execute_reply": "2022-11-24T13:16:21.996752Z"
        },
        "trusted": true,
        "id": "up1TO3sEztbM"
      },
      "execution_count": 7,
      "outputs": []
    },
    {
      "cell_type": "code",
      "source": [
        "#Fungsi Untuk detect Null Values\n",
        "total = training.isnull().sum().sort_values(ascending=False)\n",
        "percent = (training.isnull().sum()/training.isnull().count()).sort_values(ascending=False)\n",
        "missing_data = pd.concat([total, percent], axis=1, keys=['Total', 'Percent'])\n",
        "missing_data.head(20)"
      ],
      "metadata": {
        "execution": {
          "iopub.status.busy": "2022-11-24T13:16:21.999765Z",
          "iopub.execute_input": "2022-11-24T13:16:22.000420Z",
          "iopub.status.idle": "2022-11-24T13:16:22.029300Z",
          "shell.execute_reply.started": "2022-11-24T13:16:22.000371Z",
          "shell.execute_reply": "2022-11-24T13:16:22.028579Z"
        },
        "trusted": true,
        "colab": {
          "base_uri": "https://localhost:8080/",
          "height": 331
        },
        "id": "Bj273k1eztbN",
        "outputId": "dfe07209-b454-4eb8-eaa1-2939ebda1e52"
      },
      "execution_count": 8,
      "outputs": [
        {
          "output_type": "execute_result",
          "data": {
            "text/plain": [
              "          Total   Percent\n",
              "Age         177  0.198653\n",
              "Embarked      2  0.002245\n",
              "Survived      0  0.000000\n",
              "Pclass        0  0.000000\n",
              "Name          0  0.000000\n",
              "Sex           0  0.000000\n",
              "SibSp         0  0.000000\n",
              "Parch         0  0.000000\n",
              "Fare          0  0.000000"
            ],
            "text/html": [
              "\n",
              "  <div id=\"df-bb4bb810-426a-4c45-9247-a796df4269e4\">\n",
              "    <div class=\"colab-df-container\">\n",
              "      <div>\n",
              "<style scoped>\n",
              "    .dataframe tbody tr th:only-of-type {\n",
              "        vertical-align: middle;\n",
              "    }\n",
              "\n",
              "    .dataframe tbody tr th {\n",
              "        vertical-align: top;\n",
              "    }\n",
              "\n",
              "    .dataframe thead th {\n",
              "        text-align: right;\n",
              "    }\n",
              "</style>\n",
              "<table border=\"1\" class=\"dataframe\">\n",
              "  <thead>\n",
              "    <tr style=\"text-align: right;\">\n",
              "      <th></th>\n",
              "      <th>Total</th>\n",
              "      <th>Percent</th>\n",
              "    </tr>\n",
              "  </thead>\n",
              "  <tbody>\n",
              "    <tr>\n",
              "      <th>Age</th>\n",
              "      <td>177</td>\n",
              "      <td>0.198653</td>\n",
              "    </tr>\n",
              "    <tr>\n",
              "      <th>Embarked</th>\n",
              "      <td>2</td>\n",
              "      <td>0.002245</td>\n",
              "    </tr>\n",
              "    <tr>\n",
              "      <th>Survived</th>\n",
              "      <td>0</td>\n",
              "      <td>0.000000</td>\n",
              "    </tr>\n",
              "    <tr>\n",
              "      <th>Pclass</th>\n",
              "      <td>0</td>\n",
              "      <td>0.000000</td>\n",
              "    </tr>\n",
              "    <tr>\n",
              "      <th>Name</th>\n",
              "      <td>0</td>\n",
              "      <td>0.000000</td>\n",
              "    </tr>\n",
              "    <tr>\n",
              "      <th>Sex</th>\n",
              "      <td>0</td>\n",
              "      <td>0.000000</td>\n",
              "    </tr>\n",
              "    <tr>\n",
              "      <th>SibSp</th>\n",
              "      <td>0</td>\n",
              "      <td>0.000000</td>\n",
              "    </tr>\n",
              "    <tr>\n",
              "      <th>Parch</th>\n",
              "      <td>0</td>\n",
              "      <td>0.000000</td>\n",
              "    </tr>\n",
              "    <tr>\n",
              "      <th>Fare</th>\n",
              "      <td>0</td>\n",
              "      <td>0.000000</td>\n",
              "    </tr>\n",
              "  </tbody>\n",
              "</table>\n",
              "</div>\n",
              "      <button class=\"colab-df-convert\" onclick=\"convertToInteractive('df-bb4bb810-426a-4c45-9247-a796df4269e4')\"\n",
              "              title=\"Convert this dataframe to an interactive table.\"\n",
              "              style=\"display:none;\">\n",
              "        \n",
              "  <svg xmlns=\"http://www.w3.org/2000/svg\" height=\"24px\"viewBox=\"0 0 24 24\"\n",
              "       width=\"24px\">\n",
              "    <path d=\"M0 0h24v24H0V0z\" fill=\"none\"/>\n",
              "    <path d=\"M18.56 5.44l.94 2.06.94-2.06 2.06-.94-2.06-.94-.94-2.06-.94 2.06-2.06.94zm-11 1L8.5 8.5l.94-2.06 2.06-.94-2.06-.94L8.5 2.5l-.94 2.06-2.06.94zm10 10l.94 2.06.94-2.06 2.06-.94-2.06-.94-.94-2.06-.94 2.06-2.06.94z\"/><path d=\"M17.41 7.96l-1.37-1.37c-.4-.4-.92-.59-1.43-.59-.52 0-1.04.2-1.43.59L10.3 9.45l-7.72 7.72c-.78.78-.78 2.05 0 2.83L4 21.41c.39.39.9.59 1.41.59.51 0 1.02-.2 1.41-.59l7.78-7.78 2.81-2.81c.8-.78.8-2.07 0-2.86zM5.41 20L4 18.59l7.72-7.72 1.47 1.35L5.41 20z\"/>\n",
              "  </svg>\n",
              "      </button>\n",
              "      \n",
              "  <style>\n",
              "    .colab-df-container {\n",
              "      display:flex;\n",
              "      flex-wrap:wrap;\n",
              "      gap: 12px;\n",
              "    }\n",
              "\n",
              "    .colab-df-convert {\n",
              "      background-color: #E8F0FE;\n",
              "      border: none;\n",
              "      border-radius: 50%;\n",
              "      cursor: pointer;\n",
              "      display: none;\n",
              "      fill: #1967D2;\n",
              "      height: 32px;\n",
              "      padding: 0 0 0 0;\n",
              "      width: 32px;\n",
              "    }\n",
              "\n",
              "    .colab-df-convert:hover {\n",
              "      background-color: #E2EBFA;\n",
              "      box-shadow: 0px 1px 2px rgba(60, 64, 67, 0.3), 0px 1px 3px 1px rgba(60, 64, 67, 0.15);\n",
              "      fill: #174EA6;\n",
              "    }\n",
              "\n",
              "    [theme=dark] .colab-df-convert {\n",
              "      background-color: #3B4455;\n",
              "      fill: #D2E3FC;\n",
              "    }\n",
              "\n",
              "    [theme=dark] .colab-df-convert:hover {\n",
              "      background-color: #434B5C;\n",
              "      box-shadow: 0px 1px 3px 1px rgba(0, 0, 0, 0.15);\n",
              "      filter: drop-shadow(0px 1px 2px rgba(0, 0, 0, 0.3));\n",
              "      fill: #FFFFFF;\n",
              "    }\n",
              "  </style>\n",
              "\n",
              "      <script>\n",
              "        const buttonEl =\n",
              "          document.querySelector('#df-bb4bb810-426a-4c45-9247-a796df4269e4 button.colab-df-convert');\n",
              "        buttonEl.style.display =\n",
              "          google.colab.kernel.accessAllowed ? 'block' : 'none';\n",
              "\n",
              "        async function convertToInteractive(key) {\n",
              "          const element = document.querySelector('#df-bb4bb810-426a-4c45-9247-a796df4269e4');\n",
              "          const dataTable =\n",
              "            await google.colab.kernel.invokeFunction('convertToInteractive',\n",
              "                                                     [key], {});\n",
              "          if (!dataTable) return;\n",
              "\n",
              "          const docLinkHtml = 'Like what you see? Visit the ' +\n",
              "            '<a target=\"_blank\" href=https://colab.research.google.com/notebooks/data_table.ipynb>data table notebook</a>'\n",
              "            + ' to learn more about interactive tables.';\n",
              "          element.innerHTML = '';\n",
              "          dataTable['output_type'] = 'display_data';\n",
              "          await google.colab.output.renderOutput(dataTable, element);\n",
              "          const docLink = document.createElement('div');\n",
              "          docLink.innerHTML = docLinkHtml;\n",
              "          element.appendChild(docLink);\n",
              "        }\n",
              "      </script>\n",
              "    </div>\n",
              "  </div>\n",
              "  "
            ]
          },
          "metadata": {},
          "execution_count": 8
        }
      ]
    },
    {
      "cell_type": "markdown",
      "source": [
        "# Feature Engineering"
      ],
      "metadata": {
        "id": "6pP9_0iXztbO"
      }
    },
    {
      "cell_type": "markdown",
      "source": [
        "**Kolom Age**"
      ],
      "metadata": {
        "id": "o4nIagPeztbO"
      }
    },
    {
      "cell_type": "code",
      "source": [
        "\n",
        "AGE=training['Age']\n",
        "AGE = AGE.dropna()\n",
        "\n",
        "AGE = AGE.astype('float')\n",
        "\n",
        "mean_value=AGE.mean()\n",
        "training['Age'].fillna(value=mean_value, inplace=True)\n",
        "\n",
        "training[\"Age\"] = pd.cut(training[\"Age\"],[0, 5, 12, 18, 45, 120], labels = [\"balita\",\"anak-anak\",\"remaja\",\"dewasa\",\"lansia\"])\n"
      ],
      "metadata": {
        "execution": {
          "iopub.status.busy": "2022-11-24T13:16:22.030441Z",
          "iopub.execute_input": "2022-11-24T13:16:22.031242Z",
          "iopub.status.idle": "2022-11-24T13:16:22.042004Z",
          "shell.execute_reply.started": "2022-11-24T13:16:22.031205Z",
          "shell.execute_reply": "2022-11-24T13:16:22.040922Z"
        },
        "trusted": true,
        "id": "J-FHM-HoztbP"
      },
      "execution_count": 9,
      "outputs": []
    },
    {
      "cell_type": "markdown",
      "source": [
        "**Kolom Name Tranformation To Title**\n"
      ],
      "metadata": {
        "id": "iKtFrTJDztbQ"
      }
    },
    {
      "cell_type": "markdown",
      "source": [
        "ICA"
      ],
      "metadata": {
        "id": "EyTvOOblztbQ"
      }
    },
    {
      "cell_type": "code",
      "source": [
        "training.head()"
      ],
      "metadata": {
        "execution": {
          "iopub.status.busy": "2022-11-24T13:16:22.043427Z",
          "iopub.execute_input": "2022-11-24T13:16:22.043894Z",
          "iopub.status.idle": "2022-11-24T13:16:22.064360Z",
          "shell.execute_reply.started": "2022-11-24T13:16:22.043845Z",
          "shell.execute_reply": "2022-11-24T13:16:22.063303Z"
        },
        "trusted": true,
        "colab": {
          "base_uri": "https://localhost:8080/",
          "height": 237
        },
        "id": "zzxLZ6bYztbQ",
        "outputId": "be9306c3-c81e-4839-9ec1-cb03f18f1ee7"
      },
      "execution_count": 10,
      "outputs": [
        {
          "output_type": "execute_result",
          "data": {
            "text/plain": [
              "             Survived  Pclass  \\\n",
              "PassengerId                     \n",
              "1                   0       3   \n",
              "2                   1       1   \n",
              "3                   1       3   \n",
              "4                   1       1   \n",
              "5                   0       3   \n",
              "\n",
              "                                                          Name     Sex  \\\n",
              "PassengerId                                                              \n",
              "1                                      Braund, Mr. Owen Harris    male   \n",
              "2            Cumings, Mrs. John Bradley (Florence Briggs Th...  female   \n",
              "3                                       Heikkinen, Miss. Laina  female   \n",
              "4                 Futrelle, Mrs. Jacques Heath (Lily May Peel)  female   \n",
              "5                                     Allen, Mr. William Henry    male   \n",
              "\n",
              "                Age  SibSp  Parch     Fare Embarked  \n",
              "PassengerId                                          \n",
              "1            dewasa      1      0   7.2500        S  \n",
              "2            dewasa      1      0  71.2833        C  \n",
              "3            dewasa      0      0   7.9250        S  \n",
              "4            dewasa      1      0  53.1000        S  \n",
              "5            dewasa      0      0   8.0500        S  "
            ],
            "text/html": [
              "\n",
              "  <div id=\"df-af30f32c-49d6-4a16-9d8a-74c136665bdb\">\n",
              "    <div class=\"colab-df-container\">\n",
              "      <div>\n",
              "<style scoped>\n",
              "    .dataframe tbody tr th:only-of-type {\n",
              "        vertical-align: middle;\n",
              "    }\n",
              "\n",
              "    .dataframe tbody tr th {\n",
              "        vertical-align: top;\n",
              "    }\n",
              "\n",
              "    .dataframe thead th {\n",
              "        text-align: right;\n",
              "    }\n",
              "</style>\n",
              "<table border=\"1\" class=\"dataframe\">\n",
              "  <thead>\n",
              "    <tr style=\"text-align: right;\">\n",
              "      <th></th>\n",
              "      <th>Survived</th>\n",
              "      <th>Pclass</th>\n",
              "      <th>Name</th>\n",
              "      <th>Sex</th>\n",
              "      <th>Age</th>\n",
              "      <th>SibSp</th>\n",
              "      <th>Parch</th>\n",
              "      <th>Fare</th>\n",
              "      <th>Embarked</th>\n",
              "    </tr>\n",
              "    <tr>\n",
              "      <th>PassengerId</th>\n",
              "      <th></th>\n",
              "      <th></th>\n",
              "      <th></th>\n",
              "      <th></th>\n",
              "      <th></th>\n",
              "      <th></th>\n",
              "      <th></th>\n",
              "      <th></th>\n",
              "      <th></th>\n",
              "    </tr>\n",
              "  </thead>\n",
              "  <tbody>\n",
              "    <tr>\n",
              "      <th>1</th>\n",
              "      <td>0</td>\n",
              "      <td>3</td>\n",
              "      <td>Braund, Mr. Owen Harris</td>\n",
              "      <td>male</td>\n",
              "      <td>dewasa</td>\n",
              "      <td>1</td>\n",
              "      <td>0</td>\n",
              "      <td>7.2500</td>\n",
              "      <td>S</td>\n",
              "    </tr>\n",
              "    <tr>\n",
              "      <th>2</th>\n",
              "      <td>1</td>\n",
              "      <td>1</td>\n",
              "      <td>Cumings, Mrs. John Bradley (Florence Briggs Th...</td>\n",
              "      <td>female</td>\n",
              "      <td>dewasa</td>\n",
              "      <td>1</td>\n",
              "      <td>0</td>\n",
              "      <td>71.2833</td>\n",
              "      <td>C</td>\n",
              "    </tr>\n",
              "    <tr>\n",
              "      <th>3</th>\n",
              "      <td>1</td>\n",
              "      <td>3</td>\n",
              "      <td>Heikkinen, Miss. Laina</td>\n",
              "      <td>female</td>\n",
              "      <td>dewasa</td>\n",
              "      <td>0</td>\n",
              "      <td>0</td>\n",
              "      <td>7.9250</td>\n",
              "      <td>S</td>\n",
              "    </tr>\n",
              "    <tr>\n",
              "      <th>4</th>\n",
              "      <td>1</td>\n",
              "      <td>1</td>\n",
              "      <td>Futrelle, Mrs. Jacques Heath (Lily May Peel)</td>\n",
              "      <td>female</td>\n",
              "      <td>dewasa</td>\n",
              "      <td>1</td>\n",
              "      <td>0</td>\n",
              "      <td>53.1000</td>\n",
              "      <td>S</td>\n",
              "    </tr>\n",
              "    <tr>\n",
              "      <th>5</th>\n",
              "      <td>0</td>\n",
              "      <td>3</td>\n",
              "      <td>Allen, Mr. William Henry</td>\n",
              "      <td>male</td>\n",
              "      <td>dewasa</td>\n",
              "      <td>0</td>\n",
              "      <td>0</td>\n",
              "      <td>8.0500</td>\n",
              "      <td>S</td>\n",
              "    </tr>\n",
              "  </tbody>\n",
              "</table>\n",
              "</div>\n",
              "      <button class=\"colab-df-convert\" onclick=\"convertToInteractive('df-af30f32c-49d6-4a16-9d8a-74c136665bdb')\"\n",
              "              title=\"Convert this dataframe to an interactive table.\"\n",
              "              style=\"display:none;\">\n",
              "        \n",
              "  <svg xmlns=\"http://www.w3.org/2000/svg\" height=\"24px\"viewBox=\"0 0 24 24\"\n",
              "       width=\"24px\">\n",
              "    <path d=\"M0 0h24v24H0V0z\" fill=\"none\"/>\n",
              "    <path d=\"M18.56 5.44l.94 2.06.94-2.06 2.06-.94-2.06-.94-.94-2.06-.94 2.06-2.06.94zm-11 1L8.5 8.5l.94-2.06 2.06-.94-2.06-.94L8.5 2.5l-.94 2.06-2.06.94zm10 10l.94 2.06.94-2.06 2.06-.94-2.06-.94-.94-2.06-.94 2.06-2.06.94z\"/><path d=\"M17.41 7.96l-1.37-1.37c-.4-.4-.92-.59-1.43-.59-.52 0-1.04.2-1.43.59L10.3 9.45l-7.72 7.72c-.78.78-.78 2.05 0 2.83L4 21.41c.39.39.9.59 1.41.59.51 0 1.02-.2 1.41-.59l7.78-7.78 2.81-2.81c.8-.78.8-2.07 0-2.86zM5.41 20L4 18.59l7.72-7.72 1.47 1.35L5.41 20z\"/>\n",
              "  </svg>\n",
              "      </button>\n",
              "      \n",
              "  <style>\n",
              "    .colab-df-container {\n",
              "      display:flex;\n",
              "      flex-wrap:wrap;\n",
              "      gap: 12px;\n",
              "    }\n",
              "\n",
              "    .colab-df-convert {\n",
              "      background-color: #E8F0FE;\n",
              "      border: none;\n",
              "      border-radius: 50%;\n",
              "      cursor: pointer;\n",
              "      display: none;\n",
              "      fill: #1967D2;\n",
              "      height: 32px;\n",
              "      padding: 0 0 0 0;\n",
              "      width: 32px;\n",
              "    }\n",
              "\n",
              "    .colab-df-convert:hover {\n",
              "      background-color: #E2EBFA;\n",
              "      box-shadow: 0px 1px 2px rgba(60, 64, 67, 0.3), 0px 1px 3px 1px rgba(60, 64, 67, 0.15);\n",
              "      fill: #174EA6;\n",
              "    }\n",
              "\n",
              "    [theme=dark] .colab-df-convert {\n",
              "      background-color: #3B4455;\n",
              "      fill: #D2E3FC;\n",
              "    }\n",
              "\n",
              "    [theme=dark] .colab-df-convert:hover {\n",
              "      background-color: #434B5C;\n",
              "      box-shadow: 0px 1px 3px 1px rgba(0, 0, 0, 0.15);\n",
              "      filter: drop-shadow(0px 1px 2px rgba(0, 0, 0, 0.3));\n",
              "      fill: #FFFFFF;\n",
              "    }\n",
              "  </style>\n",
              "\n",
              "      <script>\n",
              "        const buttonEl =\n",
              "          document.querySelector('#df-af30f32c-49d6-4a16-9d8a-74c136665bdb button.colab-df-convert');\n",
              "        buttonEl.style.display =\n",
              "          google.colab.kernel.accessAllowed ? 'block' : 'none';\n",
              "\n",
              "        async function convertToInteractive(key) {\n",
              "          const element = document.querySelector('#df-af30f32c-49d6-4a16-9d8a-74c136665bdb');\n",
              "          const dataTable =\n",
              "            await google.colab.kernel.invokeFunction('convertToInteractive',\n",
              "                                                     [key], {});\n",
              "          if (!dataTable) return;\n",
              "\n",
              "          const docLinkHtml = 'Like what you see? Visit the ' +\n",
              "            '<a target=\"_blank\" href=https://colab.research.google.com/notebooks/data_table.ipynb>data table notebook</a>'\n",
              "            + ' to learn more about interactive tables.';\n",
              "          element.innerHTML = '';\n",
              "          dataTable['output_type'] = 'display_data';\n",
              "          await google.colab.output.renderOutput(dataTable, element);\n",
              "          const docLink = document.createElement('div');\n",
              "          docLink.innerHTML = docLinkHtml;\n",
              "          element.appendChild(docLink);\n",
              "        }\n",
              "      </script>\n",
              "    </div>\n",
              "  </div>\n",
              "  "
            ]
          },
          "metadata": {},
          "execution_count": 10
        }
      ]
    },
    {
      "cell_type": "code",
      "source": [
        "training[\"title\"]=training.Name.apply(lambda x: (x.split(\", \")[1]).split(\".\")[0])\n",
        "\n",
        "training.drop(columns=\"Name\", inplace=True)\n"
      ],
      "metadata": {
        "execution": {
          "iopub.status.busy": "2022-11-24T13:16:22.065644Z",
          "iopub.execute_input": "2022-11-24T13:16:22.066422Z",
          "iopub.status.idle": "2022-11-24T13:16:22.075838Z",
          "shell.execute_reply.started": "2022-11-24T13:16:22.066385Z",
          "shell.execute_reply": "2022-11-24T13:16:22.074725Z"
        },
        "trusted": true,
        "id": "6x-R5EByztbR"
      },
      "execution_count": 11,
      "outputs": []
    },
    {
      "cell_type": "code",
      "source": [
        "common=['Mr', 'Mrs', 'Miss', 'Master']\n",
        "training.loc[~training[\"title\"].isin(common), \"title\"] = \"Others\""
      ],
      "metadata": {
        "execution": {
          "iopub.status.busy": "2022-11-24T13:16:22.079846Z",
          "iopub.execute_input": "2022-11-24T13:16:22.080136Z",
          "iopub.status.idle": "2022-11-24T13:16:22.090858Z",
          "shell.execute_reply.started": "2022-11-24T13:16:22.080104Z",
          "shell.execute_reply": "2022-11-24T13:16:22.089530Z"
        },
        "trusted": true,
        "id": "d7-WvZbOztbS"
      },
      "execution_count": 12,
      "outputs": []
    },
    {
      "cell_type": "code",
      "source": [
        "training[\"title\"].value_counts()"
      ],
      "metadata": {
        "execution": {
          "iopub.status.busy": "2022-11-24T13:16:22.092369Z",
          "iopub.execute_input": "2022-11-24T13:16:22.092736Z",
          "iopub.status.idle": "2022-11-24T13:16:22.107546Z",
          "shell.execute_reply.started": "2022-11-24T13:16:22.092697Z",
          "shell.execute_reply": "2022-11-24T13:16:22.106229Z"
        },
        "trusted": true,
        "colab": {
          "base_uri": "https://localhost:8080/",
          "height": 0
        },
        "id": "2ExcbjloztbS",
        "outputId": "a26a8943-0565-4b40-dbab-44c448b8c6d8"
      },
      "execution_count": 13,
      "outputs": [
        {
          "output_type": "execute_result",
          "data": {
            "text/plain": [
              "Mr        517\n",
              "Miss      182\n",
              "Mrs       125\n",
              "Master     40\n",
              "Others     27\n",
              "Name: title, dtype: int64"
            ]
          },
          "metadata": {},
          "execution_count": 13
        }
      ]
    },
    {
      "cell_type": "markdown",
      "source": [
        "**Kolom Embarked**"
      ],
      "metadata": {
        "id": "TeFCiUkwztbT"
      }
    },
    {
      "cell_type": "code",
      "source": [
        "training[\"Embarked\"].value_counts()"
      ],
      "metadata": {
        "execution": {
          "iopub.status.busy": "2022-11-24T13:16:22.108982Z",
          "iopub.execute_input": "2022-11-24T13:16:22.110086Z",
          "iopub.status.idle": "2022-11-24T13:16:22.122982Z",
          "shell.execute_reply.started": "2022-11-24T13:16:22.110040Z",
          "shell.execute_reply": "2022-11-24T13:16:22.122001Z"
        },
        "trusted": true,
        "colab": {
          "base_uri": "https://localhost:8080/",
          "height": 0
        },
        "id": "tdmBUPp_ztbT",
        "outputId": "40ef5bd7-3fac-495e-f9dc-970ac8748139"
      },
      "execution_count": 14,
      "outputs": [
        {
          "output_type": "execute_result",
          "data": {
            "text/plain": [
              "S    644\n",
              "C    168\n",
              "Q     77\n",
              "Name: Embarked, dtype: int64"
            ]
          },
          "metadata": {},
          "execution_count": 14
        }
      ]
    },
    {
      "cell_type": "code",
      "source": [
        "training[\"Embarked\"].value_counts()\n",
        "training['Embarked'].fillna('S', inplace=True)"
      ],
      "metadata": {
        "execution": {
          "iopub.status.busy": "2022-11-24T13:16:22.124351Z",
          "iopub.execute_input": "2022-11-24T13:16:22.125886Z",
          "iopub.status.idle": "2022-11-24T13:16:22.135706Z",
          "shell.execute_reply.started": "2022-11-24T13:16:22.125848Z",
          "shell.execute_reply": "2022-11-24T13:16:22.134909Z"
        },
        "trusted": true,
        "id": "LscAo3G1ztbU"
      },
      "execution_count": 15,
      "outputs": []
    },
    {
      "cell_type": "code",
      "source": [
        "#Fungsi Untuk detect Null Values\n",
        "total = training.isnull().sum().sort_values(ascending=False)\n",
        "percent = (training.isnull().sum()/training.isnull().count()).sort_values(ascending=False)\n",
        "missing_data = pd.concat([total, percent], axis=1, keys=['Total', 'Percent'])\n",
        "missing_data.head(20)"
      ],
      "metadata": {
        "execution": {
          "iopub.status.busy": "2022-11-24T13:16:22.137072Z",
          "iopub.execute_input": "2022-11-24T13:16:22.137974Z",
          "iopub.status.idle": "2022-11-24T13:16:22.164802Z",
          "shell.execute_reply.started": "2022-11-24T13:16:22.137921Z",
          "shell.execute_reply": "2022-11-24T13:16:22.163762Z"
        },
        "trusted": true,
        "colab": {
          "base_uri": "https://localhost:8080/",
          "height": 331
        },
        "id": "cslGNlS-ztbU",
        "outputId": "d73b8877-6f00-443f-e46b-bdf28a1cc4fb"
      },
      "execution_count": 16,
      "outputs": [
        {
          "output_type": "execute_result",
          "data": {
            "text/plain": [
              "          Total  Percent\n",
              "Survived      0      0.0\n",
              "Pclass        0      0.0\n",
              "Sex           0      0.0\n",
              "Age           0      0.0\n",
              "SibSp         0      0.0\n",
              "Parch         0      0.0\n",
              "Fare          0      0.0\n",
              "Embarked      0      0.0\n",
              "title         0      0.0"
            ],
            "text/html": [
              "\n",
              "  <div id=\"df-8a3f369d-e50a-43ca-b023-c01415ae5a74\">\n",
              "    <div class=\"colab-df-container\">\n",
              "      <div>\n",
              "<style scoped>\n",
              "    .dataframe tbody tr th:only-of-type {\n",
              "        vertical-align: middle;\n",
              "    }\n",
              "\n",
              "    .dataframe tbody tr th {\n",
              "        vertical-align: top;\n",
              "    }\n",
              "\n",
              "    .dataframe thead th {\n",
              "        text-align: right;\n",
              "    }\n",
              "</style>\n",
              "<table border=\"1\" class=\"dataframe\">\n",
              "  <thead>\n",
              "    <tr style=\"text-align: right;\">\n",
              "      <th></th>\n",
              "      <th>Total</th>\n",
              "      <th>Percent</th>\n",
              "    </tr>\n",
              "  </thead>\n",
              "  <tbody>\n",
              "    <tr>\n",
              "      <th>Survived</th>\n",
              "      <td>0</td>\n",
              "      <td>0.0</td>\n",
              "    </tr>\n",
              "    <tr>\n",
              "      <th>Pclass</th>\n",
              "      <td>0</td>\n",
              "      <td>0.0</td>\n",
              "    </tr>\n",
              "    <tr>\n",
              "      <th>Sex</th>\n",
              "      <td>0</td>\n",
              "      <td>0.0</td>\n",
              "    </tr>\n",
              "    <tr>\n",
              "      <th>Age</th>\n",
              "      <td>0</td>\n",
              "      <td>0.0</td>\n",
              "    </tr>\n",
              "    <tr>\n",
              "      <th>SibSp</th>\n",
              "      <td>0</td>\n",
              "      <td>0.0</td>\n",
              "    </tr>\n",
              "    <tr>\n",
              "      <th>Parch</th>\n",
              "      <td>0</td>\n",
              "      <td>0.0</td>\n",
              "    </tr>\n",
              "    <tr>\n",
              "      <th>Fare</th>\n",
              "      <td>0</td>\n",
              "      <td>0.0</td>\n",
              "    </tr>\n",
              "    <tr>\n",
              "      <th>Embarked</th>\n",
              "      <td>0</td>\n",
              "      <td>0.0</td>\n",
              "    </tr>\n",
              "    <tr>\n",
              "      <th>title</th>\n",
              "      <td>0</td>\n",
              "      <td>0.0</td>\n",
              "    </tr>\n",
              "  </tbody>\n",
              "</table>\n",
              "</div>\n",
              "      <button class=\"colab-df-convert\" onclick=\"convertToInteractive('df-8a3f369d-e50a-43ca-b023-c01415ae5a74')\"\n",
              "              title=\"Convert this dataframe to an interactive table.\"\n",
              "              style=\"display:none;\">\n",
              "        \n",
              "  <svg xmlns=\"http://www.w3.org/2000/svg\" height=\"24px\"viewBox=\"0 0 24 24\"\n",
              "       width=\"24px\">\n",
              "    <path d=\"M0 0h24v24H0V0z\" fill=\"none\"/>\n",
              "    <path d=\"M18.56 5.44l.94 2.06.94-2.06 2.06-.94-2.06-.94-.94-2.06-.94 2.06-2.06.94zm-11 1L8.5 8.5l.94-2.06 2.06-.94-2.06-.94L8.5 2.5l-.94 2.06-2.06.94zm10 10l.94 2.06.94-2.06 2.06-.94-2.06-.94-.94-2.06-.94 2.06-2.06.94z\"/><path d=\"M17.41 7.96l-1.37-1.37c-.4-.4-.92-.59-1.43-.59-.52 0-1.04.2-1.43.59L10.3 9.45l-7.72 7.72c-.78.78-.78 2.05 0 2.83L4 21.41c.39.39.9.59 1.41.59.51 0 1.02-.2 1.41-.59l7.78-7.78 2.81-2.81c.8-.78.8-2.07 0-2.86zM5.41 20L4 18.59l7.72-7.72 1.47 1.35L5.41 20z\"/>\n",
              "  </svg>\n",
              "      </button>\n",
              "      \n",
              "  <style>\n",
              "    .colab-df-container {\n",
              "      display:flex;\n",
              "      flex-wrap:wrap;\n",
              "      gap: 12px;\n",
              "    }\n",
              "\n",
              "    .colab-df-convert {\n",
              "      background-color: #E8F0FE;\n",
              "      border: none;\n",
              "      border-radius: 50%;\n",
              "      cursor: pointer;\n",
              "      display: none;\n",
              "      fill: #1967D2;\n",
              "      height: 32px;\n",
              "      padding: 0 0 0 0;\n",
              "      width: 32px;\n",
              "    }\n",
              "\n",
              "    .colab-df-convert:hover {\n",
              "      background-color: #E2EBFA;\n",
              "      box-shadow: 0px 1px 2px rgba(60, 64, 67, 0.3), 0px 1px 3px 1px rgba(60, 64, 67, 0.15);\n",
              "      fill: #174EA6;\n",
              "    }\n",
              "\n",
              "    [theme=dark] .colab-df-convert {\n",
              "      background-color: #3B4455;\n",
              "      fill: #D2E3FC;\n",
              "    }\n",
              "\n",
              "    [theme=dark] .colab-df-convert:hover {\n",
              "      background-color: #434B5C;\n",
              "      box-shadow: 0px 1px 3px 1px rgba(0, 0, 0, 0.15);\n",
              "      filter: drop-shadow(0px 1px 2px rgba(0, 0, 0, 0.3));\n",
              "      fill: #FFFFFF;\n",
              "    }\n",
              "  </style>\n",
              "\n",
              "      <script>\n",
              "        const buttonEl =\n",
              "          document.querySelector('#df-8a3f369d-e50a-43ca-b023-c01415ae5a74 button.colab-df-convert');\n",
              "        buttonEl.style.display =\n",
              "          google.colab.kernel.accessAllowed ? 'block' : 'none';\n",
              "\n",
              "        async function convertToInteractive(key) {\n",
              "          const element = document.querySelector('#df-8a3f369d-e50a-43ca-b023-c01415ae5a74');\n",
              "          const dataTable =\n",
              "            await google.colab.kernel.invokeFunction('convertToInteractive',\n",
              "                                                     [key], {});\n",
              "          if (!dataTable) return;\n",
              "\n",
              "          const docLinkHtml = 'Like what you see? Visit the ' +\n",
              "            '<a target=\"_blank\" href=https://colab.research.google.com/notebooks/data_table.ipynb>data table notebook</a>'\n",
              "            + ' to learn more about interactive tables.';\n",
              "          element.innerHTML = '';\n",
              "          dataTable['output_type'] = 'display_data';\n",
              "          await google.colab.output.renderOutput(dataTable, element);\n",
              "          const docLink = document.createElement('div');\n",
              "          docLink.innerHTML = docLinkHtml;\n",
              "          element.appendChild(docLink);\n",
              "        }\n",
              "      </script>\n",
              "    </div>\n",
              "  </div>\n",
              "  "
            ]
          },
          "metadata": {},
          "execution_count": 16
        }
      ]
    },
    {
      "cell_type": "markdown",
      "source": [
        "# Data Preprocessing"
      ],
      "metadata": {
        "id": "jB74s3pwztbW"
      }
    },
    {
      "cell_type": "markdown",
      "source": [
        "FERDA"
      ],
      "metadata": {
        "id": "iI4SxzweztbW"
      }
    },
    {
      "cell_type": "code",
      "source": [
        "X = training.drop(columns=['Survived'])\n",
        "y = training['Survived']\n"
      ],
      "metadata": {
        "execution": {
          "iopub.status.busy": "2022-11-24T13:16:22.165812Z",
          "iopub.execute_input": "2022-11-24T13:16:22.166042Z",
          "iopub.status.idle": "2022-11-24T13:16:22.172839Z",
          "shell.execute_reply.started": "2022-11-24T13:16:22.166014Z",
          "shell.execute_reply": "2022-11-24T13:16:22.171479Z"
        },
        "trusted": true,
        "id": "oqoztVF5ztbX"
      },
      "execution_count": 17,
      "outputs": []
    },
    {
      "cell_type": "code",
      "source": [
        "# from sklearn.pipeline import Pipeline\n",
        "# from sklearn.impute import SimpleImputer\n",
        "from sklearn.preprocessing import MinMaxScaler,OrdinalEncoder"
      ],
      "metadata": {
        "execution": {
          "iopub.status.busy": "2022-11-24T13:16:22.174353Z",
          "iopub.execute_input": "2022-11-24T13:16:22.174607Z",
          "iopub.status.idle": "2022-11-24T13:16:22.187150Z",
          "shell.execute_reply.started": "2022-11-24T13:16:22.174578Z",
          "shell.execute_reply": "2022-11-24T13:16:22.185963Z"
        },
        "trusted": true,
        "id": "lv4P087pztbX"
      },
      "execution_count": 18,
      "outputs": []
    },
    {
      "cell_type": "code",
      "source": [
        "X = pd.get_dummies(X,columns=['Age', 'Embarked', 'title', 'Pclass'])"
      ],
      "metadata": {
        "execution": {
          "iopub.status.busy": "2022-11-24T13:16:22.188638Z",
          "iopub.execute_input": "2022-11-24T13:16:22.189555Z",
          "iopub.status.idle": "2022-11-24T13:16:22.207512Z",
          "shell.execute_reply.started": "2022-11-24T13:16:22.189515Z",
          "shell.execute_reply": "2022-11-24T13:16:22.206728Z"
        },
        "trusted": true,
        "id": "viUJ7uyFztbX"
      },
      "execution_count": 19,
      "outputs": []
    },
    {
      "cell_type": "code",
      "source": [
        "X.info()"
      ],
      "metadata": {
        "execution": {
          "iopub.status.busy": "2022-11-24T13:16:22.208893Z",
          "iopub.execute_input": "2022-11-24T13:16:22.209743Z",
          "iopub.status.idle": "2022-11-24T13:16:22.226622Z",
          "shell.execute_reply.started": "2022-11-24T13:16:22.209697Z",
          "shell.execute_reply": "2022-11-24T13:16:22.225741Z"
        },
        "trusted": true,
        "colab": {
          "base_uri": "https://localhost:8080/",
          "height": 0
        },
        "id": "43ZGrxbUztbY",
        "outputId": "bbfcceca-55c0-4aa4-fb1e-d1cd9003799d"
      },
      "execution_count": 20,
      "outputs": [
        {
          "output_type": "stream",
          "name": "stdout",
          "text": [
            "<class 'pandas.core.frame.DataFrame'>\n",
            "Int64Index: 891 entries, 1 to 891\n",
            "Data columns (total 20 columns):\n",
            " #   Column         Non-Null Count  Dtype  \n",
            "---  ------         --------------  -----  \n",
            " 0   Sex            891 non-null    object \n",
            " 1   SibSp          891 non-null    int64  \n",
            " 2   Parch          891 non-null    int64  \n",
            " 3   Fare           891 non-null    float64\n",
            " 4   Age_balita     891 non-null    uint8  \n",
            " 5   Age_anak-anak  891 non-null    uint8  \n",
            " 6   Age_remaja     891 non-null    uint8  \n",
            " 7   Age_dewasa     891 non-null    uint8  \n",
            " 8   Age_lansia     891 non-null    uint8  \n",
            " 9   Embarked_C     891 non-null    uint8  \n",
            " 10  Embarked_Q     891 non-null    uint8  \n",
            " 11  Embarked_S     891 non-null    uint8  \n",
            " 12  title_Master   891 non-null    uint8  \n",
            " 13  title_Miss     891 non-null    uint8  \n",
            " 14  title_Mr       891 non-null    uint8  \n",
            " 15  title_Mrs      891 non-null    uint8  \n",
            " 16  title_Others   891 non-null    uint8  \n",
            " 17  Pclass_1       891 non-null    uint8  \n",
            " 18  Pclass_2       891 non-null    uint8  \n",
            " 19  Pclass_3       891 non-null    uint8  \n",
            "dtypes: float64(1), int64(2), object(1), uint8(16)\n",
            "memory usage: 48.7+ KB\n"
          ]
        }
      ]
    },
    {
      "cell_type": "code",
      "source": [
        "X[\"Sex\"] = X[\"Sex\"].astype(\"category\")\n",
        "X[\"Sex\"] = X[\"Sex\"].cat.codes\n"
      ],
      "metadata": {
        "execution": {
          "iopub.status.busy": "2022-11-24T13:16:22.227738Z",
          "iopub.execute_input": "2022-11-24T13:16:22.228628Z",
          "iopub.status.idle": "2022-11-24T13:16:22.236234Z",
          "shell.execute_reply.started": "2022-11-24T13:16:22.228590Z",
          "shell.execute_reply": "2022-11-24T13:16:22.235114Z"
        },
        "trusted": true,
        "id": "-RYhzrWtztbZ"
      },
      "execution_count": 21,
      "outputs": []
    },
    {
      "cell_type": "code",
      "source": [
        "from sklearn.preprocessing import minmax_scale\n",
        "X['Fare'] = minmax_scale(X['Fare'])"
      ],
      "metadata": {
        "execution": {
          "iopub.status.busy": "2022-11-24T13:16:22.237558Z",
          "iopub.execute_input": "2022-11-24T13:16:22.238345Z",
          "iopub.status.idle": "2022-11-24T13:16:22.248004Z",
          "shell.execute_reply.started": "2022-11-24T13:16:22.238300Z",
          "shell.execute_reply": "2022-11-24T13:16:22.246936Z"
        },
        "trusted": true,
        "id": "ZjAbrJLpztbZ"
      },
      "execution_count": 22,
      "outputs": []
    },
    {
      "cell_type": "code",
      "source": [
        "X.head()\n"
      ],
      "metadata": {
        "execution": {
          "iopub.status.busy": "2022-11-24T13:16:22.249318Z",
          "iopub.execute_input": "2022-11-24T13:16:22.249578Z",
          "iopub.status.idle": "2022-11-24T13:16:22.275837Z",
          "shell.execute_reply.started": "2022-11-24T13:16:22.249549Z",
          "shell.execute_reply": "2022-11-24T13:16:22.274898Z"
        },
        "trusted": true,
        "colab": {
          "base_uri": "https://localhost:8080/",
          "height": 319
        },
        "id": "By9zhxfnztba",
        "outputId": "0e28d4b3-a81f-4f3c-980e-c25c88c21beb"
      },
      "execution_count": 23,
      "outputs": [
        {
          "output_type": "execute_result",
          "data": {
            "text/plain": [
              "             Sex  SibSp  Parch      Fare  Age_balita  Age_anak-anak  \\\n",
              "PassengerId                                                           \n",
              "1              1      1      0  0.014151           0              0   \n",
              "2              0      1      0  0.139136           0              0   \n",
              "3              0      0      0  0.015469           0              0   \n",
              "4              0      1      0  0.103644           0              0   \n",
              "5              1      0      0  0.015713           0              0   \n",
              "\n",
              "             Age_remaja  Age_dewasa  Age_lansia  Embarked_C  Embarked_Q  \\\n",
              "PassengerId                                                               \n",
              "1                     0           1           0           0           0   \n",
              "2                     0           1           0           1           0   \n",
              "3                     0           1           0           0           0   \n",
              "4                     0           1           0           0           0   \n",
              "5                     0           1           0           0           0   \n",
              "\n",
              "             Embarked_S  title_Master  title_Miss  title_Mr  title_Mrs  \\\n",
              "PassengerId                                                              \n",
              "1                     1             0           0         1          0   \n",
              "2                     0             0           0         0          1   \n",
              "3                     1             0           1         0          0   \n",
              "4                     1             0           0         0          1   \n",
              "5                     1             0           0         1          0   \n",
              "\n",
              "             title_Others  Pclass_1  Pclass_2  Pclass_3  \n",
              "PassengerId                                              \n",
              "1                       0         0         0         1  \n",
              "2                       0         1         0         0  \n",
              "3                       0         0         0         1  \n",
              "4                       0         1         0         0  \n",
              "5                       0         0         0         1  "
            ],
            "text/html": [
              "\n",
              "  <div id=\"df-be9e8b5f-cb9f-4c86-a1e8-f15f9ed4adc3\">\n",
              "    <div class=\"colab-df-container\">\n",
              "      <div>\n",
              "<style scoped>\n",
              "    .dataframe tbody tr th:only-of-type {\n",
              "        vertical-align: middle;\n",
              "    }\n",
              "\n",
              "    .dataframe tbody tr th {\n",
              "        vertical-align: top;\n",
              "    }\n",
              "\n",
              "    .dataframe thead th {\n",
              "        text-align: right;\n",
              "    }\n",
              "</style>\n",
              "<table border=\"1\" class=\"dataframe\">\n",
              "  <thead>\n",
              "    <tr style=\"text-align: right;\">\n",
              "      <th></th>\n",
              "      <th>Sex</th>\n",
              "      <th>SibSp</th>\n",
              "      <th>Parch</th>\n",
              "      <th>Fare</th>\n",
              "      <th>Age_balita</th>\n",
              "      <th>Age_anak-anak</th>\n",
              "      <th>Age_remaja</th>\n",
              "      <th>Age_dewasa</th>\n",
              "      <th>Age_lansia</th>\n",
              "      <th>Embarked_C</th>\n",
              "      <th>Embarked_Q</th>\n",
              "      <th>Embarked_S</th>\n",
              "      <th>title_Master</th>\n",
              "      <th>title_Miss</th>\n",
              "      <th>title_Mr</th>\n",
              "      <th>title_Mrs</th>\n",
              "      <th>title_Others</th>\n",
              "      <th>Pclass_1</th>\n",
              "      <th>Pclass_2</th>\n",
              "      <th>Pclass_3</th>\n",
              "    </tr>\n",
              "    <tr>\n",
              "      <th>PassengerId</th>\n",
              "      <th></th>\n",
              "      <th></th>\n",
              "      <th></th>\n",
              "      <th></th>\n",
              "      <th></th>\n",
              "      <th></th>\n",
              "      <th></th>\n",
              "      <th></th>\n",
              "      <th></th>\n",
              "      <th></th>\n",
              "      <th></th>\n",
              "      <th></th>\n",
              "      <th></th>\n",
              "      <th></th>\n",
              "      <th></th>\n",
              "      <th></th>\n",
              "      <th></th>\n",
              "      <th></th>\n",
              "      <th></th>\n",
              "      <th></th>\n",
              "    </tr>\n",
              "  </thead>\n",
              "  <tbody>\n",
              "    <tr>\n",
              "      <th>1</th>\n",
              "      <td>1</td>\n",
              "      <td>1</td>\n",
              "      <td>0</td>\n",
              "      <td>0.014151</td>\n",
              "      <td>0</td>\n",
              "      <td>0</td>\n",
              "      <td>0</td>\n",
              "      <td>1</td>\n",
              "      <td>0</td>\n",
              "      <td>0</td>\n",
              "      <td>0</td>\n",
              "      <td>1</td>\n",
              "      <td>0</td>\n",
              "      <td>0</td>\n",
              "      <td>1</td>\n",
              "      <td>0</td>\n",
              "      <td>0</td>\n",
              "      <td>0</td>\n",
              "      <td>0</td>\n",
              "      <td>1</td>\n",
              "    </tr>\n",
              "    <tr>\n",
              "      <th>2</th>\n",
              "      <td>0</td>\n",
              "      <td>1</td>\n",
              "      <td>0</td>\n",
              "      <td>0.139136</td>\n",
              "      <td>0</td>\n",
              "      <td>0</td>\n",
              "      <td>0</td>\n",
              "      <td>1</td>\n",
              "      <td>0</td>\n",
              "      <td>1</td>\n",
              "      <td>0</td>\n",
              "      <td>0</td>\n",
              "      <td>0</td>\n",
              "      <td>0</td>\n",
              "      <td>0</td>\n",
              "      <td>1</td>\n",
              "      <td>0</td>\n",
              "      <td>1</td>\n",
              "      <td>0</td>\n",
              "      <td>0</td>\n",
              "    </tr>\n",
              "    <tr>\n",
              "      <th>3</th>\n",
              "      <td>0</td>\n",
              "      <td>0</td>\n",
              "      <td>0</td>\n",
              "      <td>0.015469</td>\n",
              "      <td>0</td>\n",
              "      <td>0</td>\n",
              "      <td>0</td>\n",
              "      <td>1</td>\n",
              "      <td>0</td>\n",
              "      <td>0</td>\n",
              "      <td>0</td>\n",
              "      <td>1</td>\n",
              "      <td>0</td>\n",
              "      <td>1</td>\n",
              "      <td>0</td>\n",
              "      <td>0</td>\n",
              "      <td>0</td>\n",
              "      <td>0</td>\n",
              "      <td>0</td>\n",
              "      <td>1</td>\n",
              "    </tr>\n",
              "    <tr>\n",
              "      <th>4</th>\n",
              "      <td>0</td>\n",
              "      <td>1</td>\n",
              "      <td>0</td>\n",
              "      <td>0.103644</td>\n",
              "      <td>0</td>\n",
              "      <td>0</td>\n",
              "      <td>0</td>\n",
              "      <td>1</td>\n",
              "      <td>0</td>\n",
              "      <td>0</td>\n",
              "      <td>0</td>\n",
              "      <td>1</td>\n",
              "      <td>0</td>\n",
              "      <td>0</td>\n",
              "      <td>0</td>\n",
              "      <td>1</td>\n",
              "      <td>0</td>\n",
              "      <td>1</td>\n",
              "      <td>0</td>\n",
              "      <td>0</td>\n",
              "    </tr>\n",
              "    <tr>\n",
              "      <th>5</th>\n",
              "      <td>1</td>\n",
              "      <td>0</td>\n",
              "      <td>0</td>\n",
              "      <td>0.015713</td>\n",
              "      <td>0</td>\n",
              "      <td>0</td>\n",
              "      <td>0</td>\n",
              "      <td>1</td>\n",
              "      <td>0</td>\n",
              "      <td>0</td>\n",
              "      <td>0</td>\n",
              "      <td>1</td>\n",
              "      <td>0</td>\n",
              "      <td>0</td>\n",
              "      <td>1</td>\n",
              "      <td>0</td>\n",
              "      <td>0</td>\n",
              "      <td>0</td>\n",
              "      <td>0</td>\n",
              "      <td>1</td>\n",
              "    </tr>\n",
              "  </tbody>\n",
              "</table>\n",
              "</div>\n",
              "      <button class=\"colab-df-convert\" onclick=\"convertToInteractive('df-be9e8b5f-cb9f-4c86-a1e8-f15f9ed4adc3')\"\n",
              "              title=\"Convert this dataframe to an interactive table.\"\n",
              "              style=\"display:none;\">\n",
              "        \n",
              "  <svg xmlns=\"http://www.w3.org/2000/svg\" height=\"24px\"viewBox=\"0 0 24 24\"\n",
              "       width=\"24px\">\n",
              "    <path d=\"M0 0h24v24H0V0z\" fill=\"none\"/>\n",
              "    <path d=\"M18.56 5.44l.94 2.06.94-2.06 2.06-.94-2.06-.94-.94-2.06-.94 2.06-2.06.94zm-11 1L8.5 8.5l.94-2.06 2.06-.94-2.06-.94L8.5 2.5l-.94 2.06-2.06.94zm10 10l.94 2.06.94-2.06 2.06-.94-2.06-.94-.94-2.06-.94 2.06-2.06.94z\"/><path d=\"M17.41 7.96l-1.37-1.37c-.4-.4-.92-.59-1.43-.59-.52 0-1.04.2-1.43.59L10.3 9.45l-7.72 7.72c-.78.78-.78 2.05 0 2.83L4 21.41c.39.39.9.59 1.41.59.51 0 1.02-.2 1.41-.59l7.78-7.78 2.81-2.81c.8-.78.8-2.07 0-2.86zM5.41 20L4 18.59l7.72-7.72 1.47 1.35L5.41 20z\"/>\n",
              "  </svg>\n",
              "      </button>\n",
              "      \n",
              "  <style>\n",
              "    .colab-df-container {\n",
              "      display:flex;\n",
              "      flex-wrap:wrap;\n",
              "      gap: 12px;\n",
              "    }\n",
              "\n",
              "    .colab-df-convert {\n",
              "      background-color: #E8F0FE;\n",
              "      border: none;\n",
              "      border-radius: 50%;\n",
              "      cursor: pointer;\n",
              "      display: none;\n",
              "      fill: #1967D2;\n",
              "      height: 32px;\n",
              "      padding: 0 0 0 0;\n",
              "      width: 32px;\n",
              "    }\n",
              "\n",
              "    .colab-df-convert:hover {\n",
              "      background-color: #E2EBFA;\n",
              "      box-shadow: 0px 1px 2px rgba(60, 64, 67, 0.3), 0px 1px 3px 1px rgba(60, 64, 67, 0.15);\n",
              "      fill: #174EA6;\n",
              "    }\n",
              "\n",
              "    [theme=dark] .colab-df-convert {\n",
              "      background-color: #3B4455;\n",
              "      fill: #D2E3FC;\n",
              "    }\n",
              "\n",
              "    [theme=dark] .colab-df-convert:hover {\n",
              "      background-color: #434B5C;\n",
              "      box-shadow: 0px 1px 3px 1px rgba(0, 0, 0, 0.15);\n",
              "      filter: drop-shadow(0px 1px 2px rgba(0, 0, 0, 0.3));\n",
              "      fill: #FFFFFF;\n",
              "    }\n",
              "  </style>\n",
              "\n",
              "      <script>\n",
              "        const buttonEl =\n",
              "          document.querySelector('#df-be9e8b5f-cb9f-4c86-a1e8-f15f9ed4adc3 button.colab-df-convert');\n",
              "        buttonEl.style.display =\n",
              "          google.colab.kernel.accessAllowed ? 'block' : 'none';\n",
              "\n",
              "        async function convertToInteractive(key) {\n",
              "          const element = document.querySelector('#df-be9e8b5f-cb9f-4c86-a1e8-f15f9ed4adc3');\n",
              "          const dataTable =\n",
              "            await google.colab.kernel.invokeFunction('convertToInteractive',\n",
              "                                                     [key], {});\n",
              "          if (!dataTable) return;\n",
              "\n",
              "          const docLinkHtml = 'Like what you see? Visit the ' +\n",
              "            '<a target=\"_blank\" href=https://colab.research.google.com/notebooks/data_table.ipynb>data table notebook</a>'\n",
              "            + ' to learn more about interactive tables.';\n",
              "          element.innerHTML = '';\n",
              "          dataTable['output_type'] = 'display_data';\n",
              "          await google.colab.output.renderOutput(dataTable, element);\n",
              "          const docLink = document.createElement('div');\n",
              "          docLink.innerHTML = docLinkHtml;\n",
              "          element.appendChild(docLink);\n",
              "        }\n",
              "      </script>\n",
              "    </div>\n",
              "  </div>\n",
              "  "
            ]
          },
          "metadata": {},
          "execution_count": 23
        }
      ]
    },
    {
      "cell_type": "markdown",
      "source": [
        "# **Model**"
      ],
      "metadata": {
        "id": "wW_2tn8nztba"
      }
    },
    {
      "cell_type": "markdown",
      "source": [
        "![image.png](data:image/png;base64,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)"
      ],
      "metadata": {
        "id": "W7gbAQG7ztbb"
      }
    },
    {
      "cell_type": "code",
      "source": [
        "from sklearn.neighbors import KNeighborsClassifier\n",
        "from sklearn.model_selection import cross_val_score"
      ],
      "metadata": {
        "execution": {
          "iopub.status.busy": "2022-11-24T13:16:22.289957Z",
          "iopub.execute_input": "2022-11-24T13:16:22.290237Z",
          "iopub.status.idle": "2022-11-24T13:16:22.301569Z",
          "shell.execute_reply.started": "2022-11-24T13:16:22.290205Z",
          "shell.execute_reply": "2022-11-24T13:16:22.300773Z"
        },
        "trusted": true,
        "id": "wpzdXD5xztbb"
      },
      "execution_count": 24,
      "outputs": []
    },
    {
      "cell_type": "code",
      "source": [
        "knn = KNeighborsClassifier(n_neighbors=7)\n",
        "cross_val_score(knn,X,y,cv=5)"
      ],
      "metadata": {
        "execution": {
          "iopub.status.busy": "2022-11-24T13:16:22.304884Z",
          "iopub.execute_input": "2022-11-24T13:16:22.305309Z",
          "iopub.status.idle": "2022-11-24T13:16:22.435228Z",
          "shell.execute_reply.started": "2022-11-24T13:16:22.305263Z",
          "shell.execute_reply": "2022-11-24T13:16:22.434174Z"
        },
        "trusted": true,
        "colab": {
          "base_uri": "https://localhost:8080/",
          "height": 0
        },
        "id": "7ArKv5nYztbc",
        "outputId": "482229ab-c4cb-4248-a9c0-19109928631b"
      },
      "execution_count": 25,
      "outputs": [
        {
          "output_type": "execute_result",
          "data": {
            "text/plain": [
              "array([0.81005587, 0.76404494, 0.86516854, 0.83146067, 0.81460674])"
            ]
          },
          "metadata": {},
          "execution_count": 25
        }
      ]
    },
    {
      "cell_type": "code",
      "source": [
        "cross_val_score(knn,X,y,cv=5).mean()"
      ],
      "metadata": {
        "execution": {
          "iopub.status.busy": "2022-11-24T13:16:22.437005Z",
          "iopub.execute_input": "2022-11-24T13:16:22.437747Z",
          "iopub.status.idle": "2022-11-24T13:16:22.563719Z",
          "shell.execute_reply.started": "2022-11-24T13:16:22.437697Z",
          "shell.execute_reply": "2022-11-24T13:16:22.562623Z"
        },
        "trusted": true,
        "colab": {
          "base_uri": "https://localhost:8080/",
          "height": 0
        },
        "id": "8AmJZ3Vaztbc",
        "outputId": "3aaa8f4a-63c5-43e9-f0ae-3043a1f8419d"
      },
      "execution_count": 26,
      "outputs": [
        {
          "output_type": "execute_result",
          "data": {
            "text/plain": [
              "0.8170673529596384"
            ]
          },
          "metadata": {},
          "execution_count": 26
        }
      ]
    },
    {
      "cell_type": "markdown",
      "source": [
        "# ACCURACY SCORING"
      ],
      "metadata": {
        "id": "JDaXY1QWztbc"
      }
    },
    {
      "cell_type": "code",
      "source": [
        "X_train, X_test, y_train, y_test = train_test_split(X,y,test_size=0.2, stratify=y, random_state=42)\n",
        "X_train.shape, X_test.shape, y_train.shape, y_test.shape"
      ],
      "metadata": {
        "execution": {
          "iopub.status.busy": "2022-11-24T13:16:22.565348Z",
          "iopub.execute_input": "2022-11-24T13:16:22.566030Z",
          "iopub.status.idle": "2022-11-24T13:16:22.580723Z",
          "shell.execute_reply.started": "2022-11-24T13:16:22.565987Z",
          "shell.execute_reply": "2022-11-24T13:16:22.579411Z"
        },
        "trusted": true,
        "colab": {
          "base_uri": "https://localhost:8080/",
          "height": 0
        },
        "id": "nUX9IuWZztbd",
        "outputId": "f4f96dea-afe0-4506-d34b-cfa9a4451452"
      },
      "execution_count": 27,
      "outputs": [
        {
          "output_type": "execute_result",
          "data": {
            "text/plain": [
              "((712, 20), (179, 20), (712,), (179,))"
            ]
          },
          "metadata": {},
          "execution_count": 27
        }
      ]
    },
    {
      "cell_type": "code",
      "source": [
        "knn = KNeighborsClassifier(n_neighbors=5)\n",
        "knn.fit(X_train,y_train)"
      ],
      "metadata": {
        "execution": {
          "iopub.status.busy": "2022-11-24T13:16:22.582542Z",
          "iopub.execute_input": "2022-11-24T13:16:22.583181Z",
          "iopub.status.idle": "2022-11-24T13:16:22.596525Z",
          "shell.execute_reply.started": "2022-11-24T13:16:22.583134Z",
          "shell.execute_reply": "2022-11-24T13:16:22.595335Z"
        },
        "trusted": true,
        "colab": {
          "base_uri": "https://localhost:8080/",
          "height": 0
        },
        "id": "8Aq1KxDNztbd",
        "outputId": "8fa58d5c-65a4-4458-cb60-22868d4e8525"
      },
      "execution_count": 28,
      "outputs": [
        {
          "output_type": "execute_result",
          "data": {
            "text/plain": [
              "KNeighborsClassifier()"
            ]
          },
          "metadata": {},
          "execution_count": 28
        }
      ]
    },
    {
      "cell_type": "code",
      "source": [
        "knn.score(X_train,y_train),knn.score(X_test,y_test)"
      ],
      "metadata": {
        "execution": {
          "iopub.status.busy": "2022-11-24T13:16:22.598103Z",
          "iopub.execute_input": "2022-11-24T13:16:22.599125Z",
          "iopub.status.idle": "2022-11-24T13:16:22.682162Z",
          "shell.execute_reply.started": "2022-11-24T13:16:22.599076Z",
          "shell.execute_reply": "2022-11-24T13:16:22.681010Z"
        },
        "trusted": true,
        "colab": {
          "base_uri": "https://localhost:8080/",
          "height": 0
        },
        "id": "xZrYO1hcztbd",
        "outputId": "5bea23f1-5380-456f-f84f-dcce491b01b7"
      },
      "execution_count": 29,
      "outputs": [
        {
          "output_type": "execute_result",
          "data": {
            "text/plain": [
              "(0.8581460674157303, 0.7932960893854749)"
            ]
          },
          "metadata": {},
          "execution_count": 29
        }
      ]
    },
    {
      "cell_type": "code",
      "source": [
        "y_predicted = knn.predict(X_test)"
      ],
      "metadata": {
        "execution": {
          "iopub.status.busy": "2022-11-24T13:16:22.683708Z",
          "iopub.execute_input": "2022-11-24T13:16:22.685015Z",
          "iopub.status.idle": "2022-11-24T13:16:22.708419Z",
          "shell.execute_reply.started": "2022-11-24T13:16:22.684964Z",
          "shell.execute_reply": "2022-11-24T13:16:22.707349Z"
        },
        "trusted": true,
        "id": "aQnhzhLSztbd"
      },
      "execution_count": 30,
      "outputs": []
    },
    {
      "cell_type": "code",
      "source": [
        "from sklearn import metrics\n",
        "\n",
        "confusion_matrix = metrics.confusion_matrix(y_predicted,y_test)\n",
        "\n",
        "cm_display = metrics.ConfusionMatrixDisplay(confusion_matrix = confusion_matrix, display_labels = [False, True])\n",
        "\n",
        "cm_display.plot()\n",
        "plt.show()"
      ],
      "metadata": {
        "id": "mtP4c8tCztbe",
        "colab": {
          "base_uri": "https://localhost:8080/",
          "height": 279
        },
        "outputId": "b6184249-f6f7-4e2f-a649-c17ab7c6c49e"
      },
      "execution_count": 31,
      "outputs": [
        {
          "output_type": "display_data",
          "data": {
            "text/plain": [
              "<Figure size 432x288 with 2 Axes>"
            ],
            "image/png": "[encoded data removed]"
          },
          "metadata": {
            "needs_background": "light"
          }
        }
      ]
    }
  ]
}